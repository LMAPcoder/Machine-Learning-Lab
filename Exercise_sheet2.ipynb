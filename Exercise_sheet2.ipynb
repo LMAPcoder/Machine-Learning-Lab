{
  "nbformat": 4,
  "nbformat_minor": 0,
  "metadata": {
    "colab": {
      "name": "Exercise_sheet2.ipynb",
      "provenance": [],
      "authorship_tag": "ABX9TyPjHjpOtnKniBShIO733JJC",
      "include_colab_link": true
    },
    "kernelspec": {
      "name": "python3",
      "display_name": "Python 3"
    },
    "language_info": {
      "name": "python"
    }
  },
  "cells": [
    {
      "cell_type": "markdown",
      "metadata": {
        "id": "view-in-github",
        "colab_type": "text"
      },
      "source": [
        "<a href=\"https://colab.research.google.com/github/LMAPcoder/Machine-Learning-Lab/blob/main/Exercise_sheet2.ipynb\" target=\"_parent\"><img src=\"https://colab.research.google.com/assets/colab-badge.svg\" alt=\"Open In Colab\"/></a>"
      ]
    },
    {
      "cell_type": "markdown",
      "metadata": {
        "id": "tLjLVEW9xkdc"
      },
      "source": [
        "# **Lab Programming Machine Learning**\n",
        "\n"
      ]
    },
    {
      "cell_type": "markdown",
      "metadata": {
        "id": "nu90dHW9xyxM"
      },
      "source": [
        "## Exercise Sheet 2"
      ]
    },
    {
      "cell_type": "markdown",
      "metadata": {
        "id": "uPIj5hVTx0N_"
      },
      "source": [
        "### Exercise 1: Exploratory Analysis on Real-World Data using Pandas and Matplotlib"
      ]
    },
    {
      "cell_type": "markdown",
      "metadata": {
        "id": "9GUNZooVyJtV"
      },
      "source": [
        "#### Part A: Interesting stats"
      ]
    },
    {
      "cell_type": "code",
      "metadata": {
        "id": "rLOrVaW5Rz8D",
        "colab": {
          "base_uri": "https://localhost:8080/"
        },
        "outputId": "6770d770-e58c-4d6d-e471-f8fb46a624ea"
      },
      "source": [
        "#Uploading the file from Google drive\n",
        "store_id = '1taD4T_wYGhR_Q4pwkzC-DQxrMQxUjBlF'\n",
        "train_id = '1g0K5Lf3wXOh1gE_0C7XGKh8Kn-XYaG-T'\n",
        "!wget --no-check-certificate 'https://docs.google.com/uc?export=download&id={store_id}' -O store.csv\n",
        "!wget --no-check-certificate 'https://docs.google.com/uc?export=download&id={train_id}' -O train.csv\n",
        "\n",
        "#Uploading the file from Google drive\n",
        "# from google.colab import files\n",
        "# uploaded = files.upload()"
      ],
      "execution_count": null,
      "outputs": [
        {
          "output_type": "stream",
          "name": "stdout",
          "text": [
            "--2021-11-22 14:22:51--  https://docs.google.com/uc?export=download&id=1taD4T_wYGhR_Q4pwkzC-DQxrMQxUjBlF\n",
            "Resolving docs.google.com (docs.google.com)... 142.251.8.138, 142.251.8.139, 142.251.8.113, ...\n",
            "Connecting to docs.google.com (docs.google.com)|142.251.8.138|:443... connected.\n",
            "HTTP request sent, awaiting response... 302 Moved Temporarily\n",
            "Location: https://doc-10-ao-docs.googleusercontent.com/docs/securesc/ha0ro937gcuc7l7deffksulhg5h7mbp1/8bvlbcthuukkaa1p05oc8po1s2p2v78a/1637590950000/14760575472933726065/*/1taD4T_wYGhR_Q4pwkzC-DQxrMQxUjBlF?e=download [following]\n",
            "Warning: wildcards not supported in HTTP.\n",
            "--2021-11-22 14:22:51--  https://doc-10-ao-docs.googleusercontent.com/docs/securesc/ha0ro937gcuc7l7deffksulhg5h7mbp1/8bvlbcthuukkaa1p05oc8po1s2p2v78a/1637590950000/14760575472933726065/*/1taD4T_wYGhR_Q4pwkzC-DQxrMQxUjBlF?e=download\n",
            "Resolving doc-10-ao-docs.googleusercontent.com (doc-10-ao-docs.googleusercontent.com)... 142.251.8.132, 2404:6800:4008:c15::84\n",
            "Connecting to doc-10-ao-docs.googleusercontent.com (doc-10-ao-docs.googleusercontent.com)|142.251.8.132|:443... connected.\n",
            "HTTP request sent, awaiting response... 200 OK\n",
            "Length: 45010 (44K) [text/csv]\n",
            "Saving to: ‘store.csv’\n",
            "\n",
            "store.csv           100%[===================>]  43.96K  --.-KB/s    in 0s      \n",
            "\n",
            "2021-11-22 14:22:52 (111 MB/s) - ‘store.csv’ saved [45010/45010]\n",
            "\n",
            "--2021-11-22 14:22:52--  https://docs.google.com/uc?export=download&id=1g0K5Lf3wXOh1gE_0C7XGKh8Kn-XYaG-T\n",
            "Resolving docs.google.com (docs.google.com)... 142.251.8.100, 142.251.8.138, 142.251.8.139, ...\n",
            "Connecting to docs.google.com (docs.google.com)|142.251.8.100|:443... connected.\n",
            "HTTP request sent, awaiting response... 302 Moved Temporarily\n",
            "Location: https://doc-0s-ao-docs.googleusercontent.com/docs/securesc/ha0ro937gcuc7l7deffksulhg5h7mbp1/ps1fi71tu0kv267lv5vfpcdr4oc958d1/1637590950000/14760575472933726065/*/1g0K5Lf3wXOh1gE_0C7XGKh8Kn-XYaG-T?e=download [following]\n",
            "Warning: wildcards not supported in HTTP.\n",
            "--2021-11-22 14:22:54--  https://doc-0s-ao-docs.googleusercontent.com/docs/securesc/ha0ro937gcuc7l7deffksulhg5h7mbp1/ps1fi71tu0kv267lv5vfpcdr4oc958d1/1637590950000/14760575472933726065/*/1g0K5Lf3wXOh1gE_0C7XGKh8Kn-XYaG-T?e=download\n",
            "Resolving doc-0s-ao-docs.googleusercontent.com (doc-0s-ao-docs.googleusercontent.com)... 142.251.8.132, 2404:6800:4008:c15::84\n",
            "Connecting to doc-0s-ao-docs.googleusercontent.com (doc-0s-ao-docs.googleusercontent.com)|142.251.8.132|:443... connected.\n",
            "HTTP request sent, awaiting response... 200 OK\n",
            "Length: 38057952 (36M) [text/csv]\n",
            "Saving to: ‘train.csv’\n",
            "\n",
            "train.csv           100%[===================>]  36.29M   163MB/s    in 0.2s    \n",
            "\n",
            "2021-11-22 14:22:54 (163 MB/s) - ‘train.csv’ saved [38057952/38057952]\n",
            "\n"
          ]
        }
      ]
    },
    {
      "cell_type": "code",
      "metadata": {
        "id": "oGfoqSUIy5Ui"
      },
      "source": [
        "import pandas as pd\n",
        "pd.options.mode.chained_assignment = None\n",
        "import numpy as np\n",
        "import matplotlib.pyplot as plt"
      ],
      "execution_count": null,
      "outputs": []
    },
    {
      "cell_type": "code",
      "metadata": {
        "id": "myQh0sXy4AW6",
        "colab": {
          "base_uri": "https://localhost:8080/"
        },
        "outputId": "e0a19f48-42c9-4df4-fb0f-366e3eb6466d"
      },
      "source": [
        "store = pd.read_csv('store.csv')\n",
        "train = pd.read_csv('train.csv')"
      ],
      "execution_count": null,
      "outputs": [
        {
          "output_type": "stream",
          "name": "stderr",
          "text": [
            "/usr/local/lib/python3.7/dist-packages/IPython/core/interactiveshell.py:2718: DtypeWarning: Columns (7) have mixed types.Specify dtype option on import or set low_memory=False.\n",
            "  interactivity=interactivity, compiler=compiler, result=result)\n"
          ]
        }
      ]
    },
    {
      "cell_type": "code",
      "metadata": {
        "colab": {
          "base_uri": "https://localhost:8080/",
          "height": 206
        },
        "id": "Wf2WI_zPS8gh",
        "outputId": "58fa0901-beb8-41b0-d92f-bed7646db348"
      },
      "source": [
        "train.head() #For info purpose"
      ],
      "execution_count": null,
      "outputs": [
        {
          "output_type": "execute_result",
          "data": {
            "text/html": [
              "<div>\n",
              "<style scoped>\n",
              "    .dataframe tbody tr th:only-of-type {\n",
              "        vertical-align: middle;\n",
              "    }\n",
              "\n",
              "    .dataframe tbody tr th {\n",
              "        vertical-align: top;\n",
              "    }\n",
              "\n",
              "    .dataframe thead th {\n",
              "        text-align: right;\n",
              "    }\n",
              "</style>\n",
              "<table border=\"1\" class=\"dataframe\">\n",
              "  <thead>\n",
              "    <tr style=\"text-align: right;\">\n",
              "      <th></th>\n",
              "      <th>Store</th>\n",
              "      <th>DayOfWeek</th>\n",
              "      <th>Date</th>\n",
              "      <th>Sales</th>\n",
              "      <th>Customers</th>\n",
              "      <th>Open</th>\n",
              "      <th>Promo</th>\n",
              "      <th>StateHoliday</th>\n",
              "      <th>SchoolHoliday</th>\n",
              "    </tr>\n",
              "  </thead>\n",
              "  <tbody>\n",
              "    <tr>\n",
              "      <th>0</th>\n",
              "      <td>1</td>\n",
              "      <td>5</td>\n",
              "      <td>2015-07-31</td>\n",
              "      <td>5263</td>\n",
              "      <td>555</td>\n",
              "      <td>1</td>\n",
              "      <td>1</td>\n",
              "      <td>0</td>\n",
              "      <td>1</td>\n",
              "    </tr>\n",
              "    <tr>\n",
              "      <th>1</th>\n",
              "      <td>2</td>\n",
              "      <td>5</td>\n",
              "      <td>2015-07-31</td>\n",
              "      <td>6064</td>\n",
              "      <td>625</td>\n",
              "      <td>1</td>\n",
              "      <td>1</td>\n",
              "      <td>0</td>\n",
              "      <td>1</td>\n",
              "    </tr>\n",
              "    <tr>\n",
              "      <th>2</th>\n",
              "      <td>3</td>\n",
              "      <td>5</td>\n",
              "      <td>2015-07-31</td>\n",
              "      <td>8314</td>\n",
              "      <td>821</td>\n",
              "      <td>1</td>\n",
              "      <td>1</td>\n",
              "      <td>0</td>\n",
              "      <td>1</td>\n",
              "    </tr>\n",
              "    <tr>\n",
              "      <th>3</th>\n",
              "      <td>4</td>\n",
              "      <td>5</td>\n",
              "      <td>2015-07-31</td>\n",
              "      <td>13995</td>\n",
              "      <td>1498</td>\n",
              "      <td>1</td>\n",
              "      <td>1</td>\n",
              "      <td>0</td>\n",
              "      <td>1</td>\n",
              "    </tr>\n",
              "    <tr>\n",
              "      <th>4</th>\n",
              "      <td>5</td>\n",
              "      <td>5</td>\n",
              "      <td>2015-07-31</td>\n",
              "      <td>4822</td>\n",
              "      <td>559</td>\n",
              "      <td>1</td>\n",
              "      <td>1</td>\n",
              "      <td>0</td>\n",
              "      <td>1</td>\n",
              "    </tr>\n",
              "  </tbody>\n",
              "</table>\n",
              "</div>"
            ],
            "text/plain": [
              "   Store  DayOfWeek        Date  Sales  ...  Open  Promo  StateHoliday SchoolHoliday\n",
              "0      1          5  2015-07-31   5263  ...     1      1             0             1\n",
              "1      2          5  2015-07-31   6064  ...     1      1             0             1\n",
              "2      3          5  2015-07-31   8314  ...     1      1             0             1\n",
              "3      4          5  2015-07-31  13995  ...     1      1             0             1\n",
              "4      5          5  2015-07-31   4822  ...     1      1             0             1\n",
              "\n",
              "[5 rows x 9 columns]"
            ]
          },
          "metadata": {},
          "execution_count": 16
        }
      ]
    },
    {
      "cell_type": "code",
      "metadata": {
        "colab": {
          "base_uri": "https://localhost:8080/"
        },
        "id": "yMHlLVjfaGMQ",
        "outputId": "c8ae114d-2a25-4150-cf0e-c98d1ef5ad3f"
      },
      "source": [
        "train.info() #For info purpose"
      ],
      "execution_count": null,
      "outputs": [
        {
          "output_type": "stream",
          "name": "stdout",
          "text": [
            "<class 'pandas.core.frame.DataFrame'>\n",
            "RangeIndex: 1017209 entries, 0 to 1017208\n",
            "Data columns (total 9 columns):\n",
            " #   Column         Non-Null Count    Dtype \n",
            "---  ------         --------------    ----- \n",
            " 0   Store          1017209 non-null  int64 \n",
            " 1   DayOfWeek      1017209 non-null  int64 \n",
            " 2   Date           1017209 non-null  object\n",
            " 3   Sales          1017209 non-null  int64 \n",
            " 4   Customers      1017209 non-null  int64 \n",
            " 5   Open           1017209 non-null  int64 \n",
            " 6   Promo          1017209 non-null  int64 \n",
            " 7   StateHoliday   1017209 non-null  object\n",
            " 8   SchoolHoliday  1017209 non-null  int64 \n",
            "dtypes: int64(7), object(2)\n",
            "memory usage: 69.8+ MB\n"
          ]
        }
      ]
    },
    {
      "cell_type": "code",
      "metadata": {
        "colab": {
          "base_uri": "https://localhost:8080/",
          "height": 226
        },
        "id": "cxa6hj5mTcll",
        "outputId": "97d7f049-ac64-4756-e5e8-1503a3712e3c"
      },
      "source": [
        "store.head() #For info purpose"
      ],
      "execution_count": null,
      "outputs": [
        {
          "output_type": "execute_result",
          "data": {
            "text/html": [
              "<div>\n",
              "<style scoped>\n",
              "    .dataframe tbody tr th:only-of-type {\n",
              "        vertical-align: middle;\n",
              "    }\n",
              "\n",
              "    .dataframe tbody tr th {\n",
              "        vertical-align: top;\n",
              "    }\n",
              "\n",
              "    .dataframe thead th {\n",
              "        text-align: right;\n",
              "    }\n",
              "</style>\n",
              "<table border=\"1\" class=\"dataframe\">\n",
              "  <thead>\n",
              "    <tr style=\"text-align: right;\">\n",
              "      <th></th>\n",
              "      <th>Store</th>\n",
              "      <th>StoreType</th>\n",
              "      <th>Assortment</th>\n",
              "      <th>CompetitionDistance</th>\n",
              "      <th>CompetitionOpenSinceMonth</th>\n",
              "      <th>CompetitionOpenSinceYear</th>\n",
              "      <th>Promo2</th>\n",
              "      <th>Promo2SinceWeek</th>\n",
              "      <th>Promo2SinceYear</th>\n",
              "      <th>PromoInterval</th>\n",
              "    </tr>\n",
              "  </thead>\n",
              "  <tbody>\n",
              "    <tr>\n",
              "      <th>0</th>\n",
              "      <td>1</td>\n",
              "      <td>c</td>\n",
              "      <td>a</td>\n",
              "      <td>1270.0</td>\n",
              "      <td>9.0</td>\n",
              "      <td>2008.0</td>\n",
              "      <td>0</td>\n",
              "      <td>NaN</td>\n",
              "      <td>NaN</td>\n",
              "      <td>NaN</td>\n",
              "    </tr>\n",
              "    <tr>\n",
              "      <th>1</th>\n",
              "      <td>2</td>\n",
              "      <td>a</td>\n",
              "      <td>a</td>\n",
              "      <td>570.0</td>\n",
              "      <td>11.0</td>\n",
              "      <td>2007.0</td>\n",
              "      <td>1</td>\n",
              "      <td>13.0</td>\n",
              "      <td>2010.0</td>\n",
              "      <td>Jan,Apr,Jul,Oct</td>\n",
              "    </tr>\n",
              "    <tr>\n",
              "      <th>2</th>\n",
              "      <td>3</td>\n",
              "      <td>a</td>\n",
              "      <td>a</td>\n",
              "      <td>14130.0</td>\n",
              "      <td>12.0</td>\n",
              "      <td>2006.0</td>\n",
              "      <td>1</td>\n",
              "      <td>14.0</td>\n",
              "      <td>2011.0</td>\n",
              "      <td>Jan,Apr,Jul,Oct</td>\n",
              "    </tr>\n",
              "    <tr>\n",
              "      <th>3</th>\n",
              "      <td>4</td>\n",
              "      <td>c</td>\n",
              "      <td>c</td>\n",
              "      <td>620.0</td>\n",
              "      <td>9.0</td>\n",
              "      <td>2009.0</td>\n",
              "      <td>0</td>\n",
              "      <td>NaN</td>\n",
              "      <td>NaN</td>\n",
              "      <td>NaN</td>\n",
              "    </tr>\n",
              "    <tr>\n",
              "      <th>4</th>\n",
              "      <td>5</td>\n",
              "      <td>a</td>\n",
              "      <td>a</td>\n",
              "      <td>29910.0</td>\n",
              "      <td>4.0</td>\n",
              "      <td>2015.0</td>\n",
              "      <td>0</td>\n",
              "      <td>NaN</td>\n",
              "      <td>NaN</td>\n",
              "      <td>NaN</td>\n",
              "    </tr>\n",
              "  </tbody>\n",
              "</table>\n",
              "</div>"
            ],
            "text/plain": [
              "   Store StoreType  ... Promo2SinceYear    PromoInterval\n",
              "0      1         c  ...             NaN              NaN\n",
              "1      2         a  ...          2010.0  Jan,Apr,Jul,Oct\n",
              "2      3         a  ...          2011.0  Jan,Apr,Jul,Oct\n",
              "3      4         c  ...             NaN              NaN\n",
              "4      5         a  ...             NaN              NaN\n",
              "\n",
              "[5 rows x 10 columns]"
            ]
          },
          "metadata": {},
          "execution_count": 57
        }
      ]
    },
    {
      "cell_type": "code",
      "metadata": {
        "colab": {
          "base_uri": "https://localhost:8080/"
        },
        "id": "zRbhPzc8aOHf",
        "outputId": "c0febb96-d5d1-45a1-d5a3-7f3da973df08"
      },
      "source": [
        "store.info() #For info purpose"
      ],
      "execution_count": null,
      "outputs": [
        {
          "output_type": "stream",
          "name": "stdout",
          "text": [
            "<class 'pandas.core.frame.DataFrame'>\n",
            "RangeIndex: 1115 entries, 0 to 1114\n",
            "Data columns (total 10 columns):\n",
            " #   Column                     Non-Null Count  Dtype  \n",
            "---  ------                     --------------  -----  \n",
            " 0   Store                      1115 non-null   int64  \n",
            " 1   StoreType                  1115 non-null   object \n",
            " 2   Assortment                 1115 non-null   object \n",
            " 3   CompetitionDistance        1112 non-null   float64\n",
            " 4   CompetitionOpenSinceMonth  761 non-null    float64\n",
            " 5   CompetitionOpenSinceYear   761 non-null    float64\n",
            " 6   Promo2                     1115 non-null   int64  \n",
            " 7   Promo2SinceWeek            571 non-null    float64\n",
            " 8   Promo2SinceYear            571 non-null    float64\n",
            " 9   PromoInterval              571 non-null    object \n",
            "dtypes: float64(5), int64(2), object(3)\n",
            "memory usage: 87.2+ KB\n"
          ]
        }
      ]
    },
    {
      "cell_type": "markdown",
      "metadata": {
        "id": "6lnG9gr2ydnb"
      },
      "source": [
        "##### Store with the maximum sale recorded"
      ]
    },
    {
      "cell_type": "code",
      "metadata": {
        "colab": {
          "base_uri": "https://localhost:8080/"
        },
        "id": "qlJ_1-JexdJL",
        "outputId": "7d8da016-cc53-4d98-ed48-14e043fea1a6"
      },
      "source": [
        "maxsales_i = train['Sales'].idxmax() #index of the row with the max amount in the column Sales\n",
        "train.iloc[maxsales_i].loc[['Store','Date','Sales']]"
      ],
      "execution_count": null,
      "outputs": [
        {
          "output_type": "execute_result",
          "data": {
            "text/plain": [
              "Store           909\n",
              "Date     2015-06-22\n",
              "Sales         41551\n",
              "Name: 44393, dtype: object"
            ]
          },
          "metadata": {},
          "execution_count": 55
        }
      ]
    },
    {
      "cell_type": "markdown",
      "metadata": {
        "id": "LWCo-cgsTrKt"
      },
      "source": [
        "##### Store(s) that has/ve the least possible and maximum possible competition distance(s)."
      ]
    },
    {
      "cell_type": "code",
      "metadata": {
        "colab": {
          "base_uri": "https://localhost:8080/"
        },
        "id": "Jf7c-sWuWAzI",
        "outputId": "e33e5dea-5314-4bf5-ace9-65a8e4038b50"
      },
      "source": [
        "print('Store/s with maximum possible competition distance:',store.loc[store['CompetitionDistance']==store['CompetitionDistance'].max(),'Store'],sep='\\n')\n",
        "print('Store/s with least possible competition distance:',store.loc[store['CompetitionDistance']==store['CompetitionDistance'].min(),'Store'],sep='\\n')"
      ],
      "execution_count": null,
      "outputs": [
        {
          "output_type": "stream",
          "name": "stdout",
          "text": [
            "Store/s with maximum possible competition distance:\n",
            "452    453\n",
            "Name: Store, dtype: int64\n",
            "Store/s with least possible competition distance:\n",
            "515    516\n",
            "Name: Store, dtype: int64\n"
          ]
        }
      ]
    },
    {
      "cell_type": "markdown",
      "metadata": {
        "id": "xnDZZGusekex"
      },
      "source": [
        "##### Maximum timeline a store has ran a \"Promo\"\n",
        "\n",
        "*Since the task was not clear enough I considered the running of a promo as the period of time a store has had activated a promo2 "
      ]
    },
    {
      "cell_type": "code",
      "metadata": {
        "colab": {
          "base_uri": "https://localhost:8080/"
        },
        "id": "Wj67Zbwylkc6",
        "outputId": "6c475b73-fd24-45e1-baad-e5b43f9248d8"
      },
      "source": [
        "stores_w_promo = store[['Store','Promo2SinceWeek','Promo2SinceYear']].dropna()\n",
        "stores_w_promo_miny = stores_w_promo.loc[stores_w_promo['Promo2SinceYear']==stores_w_promo['Promo2SinceYear'].min()]\n",
        "stores_w_promo_miny_minw = stores_w_promo_miny.loc[stores_w_promo_miny['Promo2SinceWeek']==stores_w_promo_miny['Promo2SinceWeek'].min()]\n",
        "print('List of stores with the earliest Promo2 activation date:',stores_w_promo_miny_minw,sep='\\n')"
      ],
      "execution_count": null,
      "outputs": [
        {
          "output_type": "stream",
          "name": "stdout",
          "text": [
            "List of stores with the earliest Promo2 activation date:\n",
            "     Store  Promo2SinceWeek  Promo2SinceYear\n",
            "157    158             31.0           2009.0\n",
            "276    277             31.0           2009.0\n",
            "369    370             31.0           2009.0\n",
            "611    612             31.0           2009.0\n",
            "636    637             31.0           2009.0\n",
            "807    808             31.0           2009.0\n",
            "959    960             31.0           2009.0\n"
          ]
        }
      ]
    },
    {
      "cell_type": "code",
      "metadata": {
        "colab": {
          "base_uri": "https://localhost:8080/"
        },
        "id": "9N_wBc6OfcFB",
        "outputId": "1920bc67-2de3-413c-f7a0-32f0b1ea28af"
      },
      "source": [
        "#Here we get the difference in days between the last day in the train dataset and the earliest date a store has had a Promo2 activated\n",
        "Promo2SinceYear = stores_w_promo_miny_minw['Promo2SinceYear'].astype(int).astype(str)\n",
        "Promo2SinceWeek = stores_w_promo_miny_minw['Promo2SinceWeek'].astype(int).astype(str)\n",
        "stores_w_promo_miny_minw['year-week'] = Promo2SinceYear.str.cat(Promo2SinceWeek,sep =\"-\") + '-1' #We assume Monday is the first day of the week\n",
        "stores_w_promo_miny_minw['year-week'] = pd.to_datetime(stores_w_promo_miny_minw['year-week'],format='%Y-%W-%w')\n",
        "train_last_day = pd.to_datetime(train.Date).max() #Last day in the train dataset\n",
        "stores_w_promo_miny_minw['timeline'] = train_last_day - stores_w_promo_miny_minw['year-week']\n",
        "print(stores_w_promo_miny_minw)\n"
      ],
      "execution_count": null,
      "outputs": [
        {
          "output_type": "stream",
          "name": "stdout",
          "text": [
            "     Store  Promo2SinceWeek  Promo2SinceYear  year-week  timeline\n",
            "157    158             31.0           2009.0 2009-08-03 2188 days\n",
            "276    277             31.0           2009.0 2009-08-03 2188 days\n",
            "369    370             31.0           2009.0 2009-08-03 2188 days\n",
            "611    612             31.0           2009.0 2009-08-03 2188 days\n",
            "636    637             31.0           2009.0 2009-08-03 2188 days\n",
            "807    808             31.0           2009.0 2009-08-03 2188 days\n",
            "959    960             31.0           2009.0 2009-08-03 2188 days\n"
          ]
        }
      ]
    },
    {
      "cell_type": "markdown",
      "metadata": {
        "id": "9ie_857xdQ6K"
      },
      "source": [
        "##### Difference in the mean of sales (across all stores) when offering a Promo and not"
      ]
    },
    {
      "cell_type": "code",
      "metadata": {
        "colab": {
          "base_uri": "https://localhost:8080/"
        },
        "id": "J7HfVvt8dTtM",
        "outputId": "c960f990-a69a-4908-97f4-cf9df5615899"
      },
      "source": [
        "mu_p = train.loc[train['Promo']==1,'Sales'].mean()\n",
        "mu_wp =train.loc[train['Promo']==0,'Sales'].mean()\n",
        "print('Difference in the mean of sales is:',mu_p-mu_wp)"
      ],
      "execution_count": null,
      "outputs": [
        {
          "output_type": "stream",
          "name": "stdout",
          "text": [
            "Difference in the mean of sales is: 3585.1012408091174\n"
          ]
        }
      ]
    },
    {
      "cell_type": "markdown",
      "metadata": {
        "id": "F1kbNT4vybB1"
      },
      "source": [
        "##### Anomalies in the data"
      ]
    },
    {
      "cell_type": "code",
      "metadata": {
        "colab": {
          "base_uri": "https://localhost:8080/"
        },
        "id": "Pe3NChrNyfOD",
        "outputId": "e42a83f2-7071-4967-8fa3-caddc2ee5abe"
      },
      "source": [
        "closed_stores_wsales = train.loc[(train.Open==0) & (train.Sales>0),['Store','Open','Sales']]\n",
        "print('List of closed stores with sales',closed_stores_wsales,sep='\\n')\n",
        "open_stores_wnsales = train.loc[(train.Open==1) & (train.Sales==0),['Store','Open','Sales']]\n",
        "print('List of open stores with no sales',open_stores_wnsales,sep='\\n')"
      ],
      "execution_count": null,
      "outputs": [
        {
          "output_type": "stream",
          "name": "stdout",
          "text": [
            "List of closed stores with sales\n",
            "Empty DataFrame\n",
            "Columns: [Store, Open, Sales]\n",
            "Index: []\n",
            "List of open stores with no sales\n",
            "        Store  Open  Sales\n",
            "86825     971     1      0\n",
            "142278    674     1      0\n",
            "196938    699     1      0\n",
            "322053    708     1      0\n",
            "330176    357     1      0\n",
            "340348    227     1      0\n",
            "340860    835     1      0\n",
            "341795    835     1      0\n",
            "346232    548     1      0\n",
            "346734     28     1      0\n",
            "347669     28     1      0\n",
            "348604     28     1      0\n",
            "386065    102     1      0\n",
            "386173    238     1      0\n",
            "386227    303     1      0\n",
            "386304    387     1      0\n",
            "387652    882     1      0\n",
            "387656    887     1      0\n",
            "397285    102     1      0\n",
            "406384    925     1      0\n",
            "407532     57     1      0\n",
            "437311   1017     1      0\n",
            "438426   1017     1      0\n",
            "477534   1100     1      0\n",
            "478649   1100     1      0\n",
            "506085    661     1      0\n",
            "512964    850     1      0\n",
            "525365    986     1      0\n",
            "531396    327     1      0\n",
            "561199     25     1      0\n",
            "562314     25     1      0\n",
            "582982    623     1      0\n",
            "584097    623     1      0\n",
            "591147    983     1      0\n",
            "592262    983     1      0\n",
            "744697    663     1      0\n",
            "750000    391     1      0\n",
            "772836    927     1      0\n",
            "805283   1039     1      0\n",
            "806398   1039     1      0\n",
            "817174    665     1      0\n",
            "818289    665     1      0\n",
            "843969    700     1      0\n",
            "872940    681     1      0\n",
            "874853    364     1      0\n",
            "875968    364     1      0\n",
            "885113    589     1      0\n",
            "889932    948     1      0\n",
            "933937    353     1      0\n",
            "975098    259     1      0\n",
            "982983    339     1      0\n",
            "984098    339     1      0\n",
            "990681    232     1      0\n",
            "999016    762     1      0\n"
          ]
        }
      ]
    },
    {
      "cell_type": "markdown",
      "metadata": {
        "id": "v8XYERtgk0O0"
      },
      "source": [
        "##### Store type with more Sales"
      ]
    },
    {
      "cell_type": "code",
      "metadata": {
        "id": "GX2SwK8Nm0gP",
        "colab": {
          "base_uri": "https://localhost:8080/"
        },
        "outputId": "ace7bbfa-5ecc-4fae-8701-7e7fabefb5a2"
      },
      "source": [
        "merge = train[['Store','Sales']].merge(store[['Store','StoreType']],on='Store')\n",
        "print('The store type with more sales is:',pd.pivot_table(merge,index='StoreType',values='Sales',aggfunc=np.sum).nlargest(1,'Sales'),sep='\\n')"
      ],
      "execution_count": null,
      "outputs": [
        {
          "output_type": "stream",
          "name": "stdout",
          "text": [
            "The store type with more sales is:\n",
            "                Sales\n",
            "StoreType            \n",
            "a          3165334859\n"
          ]
        }
      ]
    },
    {
      "cell_type": "markdown",
      "metadata": {
        "id": "vGIbS8Q3XazA"
      },
      "source": [
        "####Part B: Plotting"
      ]
    },
    {
      "cell_type": "markdown",
      "metadata": {
        "id": "Q_rsifYdX1b1"
      },
      "source": [
        "##### Mean of sales by months"
      ]
    },
    {
      "cell_type": "code",
      "metadata": {
        "colab": {
          "base_uri": "https://localhost:8080/",
          "height": 309
        },
        "id": "yB9S-2-aZ4mH",
        "outputId": "deb689cc-4531-4379-db4f-27d3daa232ae"
      },
      "source": [
        "train.Date = pd.to_datetime(train.Date)\n",
        "train[['Sales','Date']].groupby(pd.Grouper(key='Date', freq='M')).mean().plot(xlabel='Months')"
      ],
      "execution_count": null,
      "outputs": [
        {
          "output_type": "execute_result",
          "data": {
            "text/plain": [
              "<matplotlib.axes._subplots.AxesSubplot at 0x7f5cb2a8d610>"
            ]
          },
          "metadata": {},
          "execution_count": 41
        },
        {
          "output_type": "display_data",
          "data": {
            "image/png": "[encoded data removed]",
            "text/plain": [
              "<Figure size 432x288 with 1 Axes>"
            ]
          },
          "metadata": {
            "needs_background": "light"
          }
        }
      ]
    },
    {
      "cell_type": "markdown",
      "metadata": {
        "id": "TWuxMIUfeGFi"
      },
      "source": [
        "##### Mean of sales by day"
      ]
    },
    {
      "cell_type": "code",
      "metadata": {
        "colab": {
          "base_uri": "https://localhost:8080/",
          "height": 170
        },
        "id": "wwUbrCi4eKdp",
        "outputId": "47b01d8b-3be7-46aa-cd3b-f6a195b25c3b"
      },
      "source": [
        "train[['Sales','Date']].groupby(pd.Grouper(key='Date', freq='D')).mean().plot(xlabel='Days')"
      ],
      "execution_count": null,
      "outputs": [
        {
          "output_type": "error",
          "ename": "NameError",
          "evalue": "ignored",
          "traceback": [
            "\u001b[0;31m---------------------------------------------------------------------------\u001b[0m",
            "\u001b[0;31mNameError\u001b[0m                                 Traceback (most recent call last)",
            "\u001b[0;32m<ipython-input-1-bacc1fe95c38>\u001b[0m in \u001b[0;36m<module>\u001b[0;34m()\u001b[0m\n\u001b[0;32m----> 1\u001b[0;31m \u001b[0mtrain\u001b[0m\u001b[0;34m[\u001b[0m\u001b[0;34m[\u001b[0m\u001b[0;34m'Sales'\u001b[0m\u001b[0;34m,\u001b[0m\u001b[0;34m'Date'\u001b[0m\u001b[0;34m]\u001b[0m\u001b[0;34m]\u001b[0m\u001b[0;34m.\u001b[0m\u001b[0mgroupby\u001b[0m\u001b[0;34m(\u001b[0m\u001b[0mpd\u001b[0m\u001b[0;34m.\u001b[0m\u001b[0mGrouper\u001b[0m\u001b[0;34m(\u001b[0m\u001b[0mkey\u001b[0m\u001b[0;34m=\u001b[0m\u001b[0;34m'Date'\u001b[0m\u001b[0;34m,\u001b[0m \u001b[0mfreq\u001b[0m\u001b[0;34m=\u001b[0m\u001b[0;34m'D'\u001b[0m\u001b[0;34m)\u001b[0m\u001b[0;34m)\u001b[0m\u001b[0;34m.\u001b[0m\u001b[0mmean\u001b[0m\u001b[0;34m(\u001b[0m\u001b[0;34m)\u001b[0m\u001b[0;34m.\u001b[0m\u001b[0mplot\u001b[0m\u001b[0;34m(\u001b[0m\u001b[0mxlabel\u001b[0m\u001b[0;34m=\u001b[0m\u001b[0;34m'Days'\u001b[0m\u001b[0;34m)\u001b[0m\u001b[0;34m\u001b[0m\u001b[0;34m\u001b[0m\u001b[0m\n\u001b[0m",
            "\u001b[0;31mNameError\u001b[0m: name 'train' is not defined"
          ]
        }
      ]
    },
    {
      "cell_type": "markdown",
      "metadata": {
        "id": "aPVgI3mSeyC7"
      },
      "source": [
        "##### Cumulative sales for the first store id and for the first year"
      ]
    },
    {
      "cell_type": "code",
      "metadata": {
        "colab": {
          "base_uri": "https://localhost:8080/",
          "height": 319
        },
        "id": "yYLnsWf1fAUH",
        "outputId": "19759dab-acc8-4120-9089-5d253b7993b3"
      },
      "source": [
        "# train.Date = pd.to_datetime(train.Date)\n",
        "sales_store1_year1 = train.loc[(train.Store==1) & (pd.DatetimeIndex(train.Date).year == pd.DatetimeIndex(train.Date).year.min()),['Sales','Date']]\n",
        "sales_store1_year1.sort_values(by='Date').set_index('Date').cumsum().plot()"
      ],
      "execution_count": null,
      "outputs": [
        {
          "output_type": "execute_result",
          "data": {
            "text/plain": [
              "<matplotlib.axes._subplots.AxesSubplot at 0x7f5cb1d76150>"
            ]
          },
          "metadata": {},
          "execution_count": 44
        },
        {
          "output_type": "display_data",
          "data": {
            "image/png": "[encoded data removed]",
            "text/plain": [
              "<Figure size 432x288 with 1 Axes>"
            ]
          },
          "metadata": {
            "needs_background": "light"
          }
        }
      ]
    },
    {
      "cell_type": "markdown",
      "metadata": {
        "id": "p7TI4MAq0g9J"
      },
      "source": [
        "##### Customers(x-axis) vs. sales(y-axis)"
      ]
    },
    {
      "cell_type": "code",
      "metadata": {
        "colab": {
          "base_uri": "https://localhost:8080/",
          "height": 296
        },
        "id": "KbvHNs0G0m6n",
        "outputId": "1cc4c997-58fe-485c-a1af-84eb7cd35dea"
      },
      "source": [
        "train.plot(x='Customers',y='Sales',style='.')"
      ],
      "execution_count": null,
      "outputs": [
        {
          "output_type": "execute_result",
          "data": {
            "text/plain": [
              "<matplotlib.axes._subplots.AxesSubplot at 0x7fa8ddc8f750>"
            ]
          },
          "metadata": {},
          "execution_count": 173
        },
        {
          "output_type": "display_data",
          "data": {
            "image/png": "[encoded data removed]",
            "text/plain": [
              "<Figure size 432x288 with 1 Axes>"
            ]
          },
          "metadata": {
            "needs_background": "light"
          }
        }
      ]
    },
    {
      "cell_type": "markdown",
      "metadata": {
        "id": "SJrU0kUW3uIf"
      },
      "source": [
        "##### Competitiondistance(x-axis) vs. sales(y-axis)"
      ]
    },
    {
      "cell_type": "code",
      "metadata": {
        "colab": {
          "base_uri": "https://localhost:8080/",
          "height": 314
        },
        "id": "aEh1Te093yrP",
        "outputId": "bcec2fdb-a6c2-4234-b61c-fb5f2be118ae"
      },
      "source": [
        "merge = train[['Store','Sales']].merge(store[['Store','CompetitionDistance']],on='Store')\n",
        "store_sales_distance = merge.groupby('Store').agg({'Sales':'mean','CompetitionDistance':'mean'})\n",
        "store_sales_distance.plot(x='CompetitionDistance',y='Sales',style='.')"
      ],
      "execution_count": null,
      "outputs": [
        {
          "output_type": "execute_result",
          "data": {
            "text/plain": [
              "<matplotlib.axes._subplots.AxesSubplot at 0x7fb42fa97810>"
            ]
          },
          "metadata": {},
          "execution_count": 12
        },
        {
          "output_type": "display_data",
          "data": {
            "text/plain": [
              "<Figure size 720x432 with 0 Axes>"
            ]
          },
          "metadata": {}
        },
        {
          "output_type": "display_data",
          "data": {
            "image/png": "[encoded data removed]",
            "text/plain": [
              "<Figure size 432x288 with 1 Axes>"
            ]
          },
          "metadata": {
            "needs_background": "light"
          }
        }
      ]
    },
    {
      "cell_type": "markdown",
      "metadata": {
        "id": "HTg5vXCAVcA8"
      },
      "source": [
        "##### Pearson correlations between all features"
      ]
    },
    {
      "cell_type": "code",
      "metadata": {
        "colab": {
          "base_uri": "https://localhost:8080/",
          "height": 471
        },
        "id": "l5Yhkw4CVgxY",
        "outputId": "a15dd985-f96d-40ef-8e15-53a27388f0ab"
      },
      "source": [
        "merge = train.merge(store,on='Store')\n",
        "merge.corr(method='pearson') #Person's correlation is sensitive only to linear relation ship between variables"
      ],
      "execution_count": null,
      "outputs": [
        {
          "output_type": "execute_result",
          "data": {
            "text/html": [
              "<div>\n",
              "<style scoped>\n",
              "    .dataframe tbody tr th:only-of-type {\n",
              "        vertical-align: middle;\n",
              "    }\n",
              "\n",
              "    .dataframe tbody tr th {\n",
              "        vertical-align: top;\n",
              "    }\n",
              "\n",
              "    .dataframe thead th {\n",
              "        text-align: right;\n",
              "    }\n",
              "</style>\n",
              "<table border=\"1\" class=\"dataframe\">\n",
              "  <thead>\n",
              "    <tr style=\"text-align: right;\">\n",
              "      <th></th>\n",
              "      <th>Store</th>\n",
              "      <th>DayOfWeek</th>\n",
              "      <th>Sales</th>\n",
              "      <th>Customers</th>\n",
              "      <th>Open</th>\n",
              "      <th>Promo</th>\n",
              "      <th>SchoolHoliday</th>\n",
              "      <th>CompetitionDistance</th>\n",
              "      <th>CompetitionOpenSinceMonth</th>\n",
              "      <th>CompetitionOpenSinceYear</th>\n",
              "      <th>Promo2</th>\n",
              "      <th>Promo2SinceWeek</th>\n",
              "      <th>Promo2SinceYear</th>\n",
              "    </tr>\n",
              "  </thead>\n",
              "  <tbody>\n",
              "    <tr>\n",
              "      <th>Store</th>\n",
              "      <td>1.000000</td>\n",
              "      <td>-0.000008</td>\n",
              "      <td>0.005126</td>\n",
              "      <td>0.024325</td>\n",
              "      <td>-0.000047</td>\n",
              "      <td>0.000058</td>\n",
              "      <td>0.000641</td>\n",
              "      <td>-0.026413</td>\n",
              "      <td>-0.050746</td>\n",
              "      <td>-0.004592</td>\n",
              "      <td>0.008488</td>\n",
              "      <td>0.009865</td>\n",
              "      <td>0.038928</td>\n",
              "    </tr>\n",
              "    <tr>\n",
              "      <th>DayOfWeek</th>\n",
              "      <td>-0.000008</td>\n",
              "      <td>1.000000</td>\n",
              "      <td>-0.462125</td>\n",
              "      <td>-0.386445</td>\n",
              "      <td>-0.528963</td>\n",
              "      <td>-0.392925</td>\n",
              "      <td>-0.205388</td>\n",
              "      <td>-0.000025</td>\n",
              "      <td>0.000006</td>\n",
              "      <td>-0.000025</td>\n",
              "      <td>0.000168</td>\n",
              "      <td>0.000174</td>\n",
              "      <td>0.000049</td>\n",
              "    </tr>\n",
              "    <tr>\n",
              "      <th>Sales</th>\n",
              "      <td>0.005126</td>\n",
              "      <td>-0.462125</td>\n",
              "      <td>1.000000</td>\n",
              "      <td>0.894711</td>\n",
              "      <td>0.678472</td>\n",
              "      <td>0.452345</td>\n",
              "      <td>0.085124</td>\n",
              "      <td>-0.019229</td>\n",
              "      <td>-0.028257</td>\n",
              "      <td>0.012659</td>\n",
              "      <td>-0.091040</td>\n",
              "      <td>0.059558</td>\n",
              "      <td>-0.021127</td>\n",
              "    </tr>\n",
              "    <tr>\n",
              "      <th>Customers</th>\n",
              "      <td>0.024325</td>\n",
              "      <td>-0.386445</td>\n",
              "      <td>0.894711</td>\n",
              "      <td>1.000000</td>\n",
              "      <td>0.616768</td>\n",
              "      <td>0.316169</td>\n",
              "      <td>0.071568</td>\n",
              "      <td>-0.102861</td>\n",
              "      <td>-0.030954</td>\n",
              "      <td>0.008931</td>\n",
              "      <td>-0.150159</td>\n",
              "      <td>0.040531</td>\n",
              "      <td>0.028974</td>\n",
              "    </tr>\n",
              "    <tr>\n",
              "      <th>Open</th>\n",
              "      <td>-0.000047</td>\n",
              "      <td>-0.528963</td>\n",
              "      <td>0.678472</td>\n",
              "      <td>0.616768</td>\n",
              "      <td>1.000000</td>\n",
              "      <td>0.295042</td>\n",
              "      <td>0.086171</td>\n",
              "      <td>0.007992</td>\n",
              "      <td>0.001384</td>\n",
              "      <td>0.002771</td>\n",
              "      <td>-0.008309</td>\n",
              "      <td>-0.002430</td>\n",
              "      <td>0.001637</td>\n",
              "    </tr>\n",
              "    <tr>\n",
              "      <th>Promo</th>\n",
              "      <td>0.000058</td>\n",
              "      <td>-0.392925</td>\n",
              "      <td>0.452345</td>\n",
              "      <td>0.316169</td>\n",
              "      <td>0.295042</td>\n",
              "      <td>1.000000</td>\n",
              "      <td>0.067483</td>\n",
              "      <td>0.000138</td>\n",
              "      <td>-0.000023</td>\n",
              "      <td>0.000152</td>\n",
              "      <td>-0.000983</td>\n",
              "      <td>-0.001008</td>\n",
              "      <td>-0.000283</td>\n",
              "    </tr>\n",
              "    <tr>\n",
              "      <th>SchoolHoliday</th>\n",
              "      <td>0.000641</td>\n",
              "      <td>-0.205388</td>\n",
              "      <td>0.085124</td>\n",
              "      <td>0.071568</td>\n",
              "      <td>0.086171</td>\n",
              "      <td>0.067483</td>\n",
              "      <td>1.000000</td>\n",
              "      <td>-0.003689</td>\n",
              "      <td>-0.000526</td>\n",
              "      <td>0.001520</td>\n",
              "      <td>-0.006909</td>\n",
              "      <td>-0.003133</td>\n",
              "      <td>-0.003682</td>\n",
              "    </tr>\n",
              "    <tr>\n",
              "      <th>CompetitionDistance</th>\n",
              "      <td>-0.026413</td>\n",
              "      <td>-0.000025</td>\n",
              "      <td>-0.019229</td>\n",
              "      <td>-0.102861</td>\n",
              "      <td>0.007992</td>\n",
              "      <td>0.000138</td>\n",
              "      <td>-0.003689</td>\n",
              "      <td>1.000000</td>\n",
              "      <td>-0.061624</td>\n",
              "      <td>0.025397</td>\n",
              "      <td>-0.139886</td>\n",
              "      <td>-0.054384</td>\n",
              "      <td>-0.109695</td>\n",
              "    </tr>\n",
              "    <tr>\n",
              "      <th>CompetitionOpenSinceMonth</th>\n",
              "      <td>-0.050746</td>\n",
              "      <td>0.000006</td>\n",
              "      <td>-0.028257</td>\n",
              "      <td>-0.030954</td>\n",
              "      <td>0.001384</td>\n",
              "      <td>-0.000023</td>\n",
              "      <td>-0.000526</td>\n",
              "      <td>-0.061624</td>\n",
              "      <td>1.000000</td>\n",
              "      <td>-0.060594</td>\n",
              "      <td>-0.009383</td>\n",
              "      <td>-0.036251</td>\n",
              "      <td>0.050326</td>\n",
              "    </tr>\n",
              "    <tr>\n",
              "      <th>CompetitionOpenSinceYear</th>\n",
              "      <td>-0.004592</td>\n",
              "      <td>-0.000025</td>\n",
              "      <td>0.012659</td>\n",
              "      <td>0.008931</td>\n",
              "      <td>0.002771</td>\n",
              "      <td>0.000152</td>\n",
              "      <td>0.001520</td>\n",
              "      <td>0.025397</td>\n",
              "      <td>-0.060594</td>\n",
              "      <td>1.000000</td>\n",
              "      <td>-0.077336</td>\n",
              "      <td>-0.079784</td>\n",
              "      <td>0.012155</td>\n",
              "    </tr>\n",
              "    <tr>\n",
              "      <th>Promo2</th>\n",
              "      <td>0.008488</td>\n",
              "      <td>0.000168</td>\n",
              "      <td>-0.091040</td>\n",
              "      <td>-0.150159</td>\n",
              "      <td>-0.008309</td>\n",
              "      <td>-0.000983</td>\n",
              "      <td>-0.006909</td>\n",
              "      <td>-0.139886</td>\n",
              "      <td>-0.009383</td>\n",
              "      <td>-0.077336</td>\n",
              "      <td>1.000000</td>\n",
              "      <td>NaN</td>\n",
              "      <td>NaN</td>\n",
              "    </tr>\n",
              "    <tr>\n",
              "      <th>Promo2SinceWeek</th>\n",
              "      <td>0.009865</td>\n",
              "      <td>0.000174</td>\n",
              "      <td>0.059558</td>\n",
              "      <td>0.040531</td>\n",
              "      <td>-0.002430</td>\n",
              "      <td>-0.001008</td>\n",
              "      <td>-0.003133</td>\n",
              "      <td>-0.054384</td>\n",
              "      <td>-0.036251</td>\n",
              "      <td>-0.079784</td>\n",
              "      <td>NaN</td>\n",
              "      <td>1.000000</td>\n",
              "      <td>-0.244155</td>\n",
              "    </tr>\n",
              "    <tr>\n",
              "      <th>Promo2SinceYear</th>\n",
              "      <td>0.038928</td>\n",
              "      <td>0.000049</td>\n",
              "      <td>-0.021127</td>\n",
              "      <td>0.028974</td>\n",
              "      <td>0.001637</td>\n",
              "      <td>-0.000283</td>\n",
              "      <td>-0.003682</td>\n",
              "      <td>-0.109695</td>\n",
              "      <td>0.050326</td>\n",
              "      <td>0.012155</td>\n",
              "      <td>NaN</td>\n",
              "      <td>-0.244155</td>\n",
              "      <td>1.000000</td>\n",
              "    </tr>\n",
              "  </tbody>\n",
              "</table>\n",
              "</div>"
            ],
            "text/plain": [
              "                              Store  ...  Promo2SinceYear\n",
              "Store                      1.000000  ...         0.038928\n",
              "DayOfWeek                 -0.000008  ...         0.000049\n",
              "Sales                      0.005126  ...        -0.021127\n",
              "Customers                  0.024325  ...         0.028974\n",
              "Open                      -0.000047  ...         0.001637\n",
              "Promo                      0.000058  ...        -0.000283\n",
              "SchoolHoliday              0.000641  ...        -0.003682\n",
              "CompetitionDistance       -0.026413  ...        -0.109695\n",
              "CompetitionOpenSinceMonth -0.050746  ...         0.050326\n",
              "CompetitionOpenSinceYear  -0.004592  ...         0.012155\n",
              "Promo2                     0.008488  ...              NaN\n",
              "Promo2SinceWeek            0.009865  ...        -0.244155\n",
              "Promo2SinceYear            0.038928  ...         1.000000\n",
              "\n",
              "[13 rows x 13 columns]"
            ]
          },
          "metadata": {},
          "execution_count": 5
        }
      ]
    },
    {
      "cell_type": "markdown",
      "metadata": {
        "id": "kTS5sO-EWd9i"
      },
      "source": [
        "##### Boxplots of Sales of 10 first stores"
      ]
    },
    {
      "cell_type": "code",
      "metadata": {
        "colab": {
          "base_uri": "https://localhost:8080/",
          "height": 319
        },
        "id": "gYz-dS55WvMf",
        "outputId": "15727efb-7bca-4a95-d155-e0bd584897a7"
      },
      "source": [
        "ten_stores = train.loc[train.Store < 11,['Store','Sales']]\n",
        "ten_stores.boxplot(column='Sales',by='Store')"
      ],
      "execution_count": null,
      "outputs": [
        {
          "output_type": "execute_result",
          "data": {
            "text/plain": [
              "<matplotlib.axes._subplots.AxesSubplot at 0x7f6d54e67090>"
            ]
          },
          "metadata": {},
          "execution_count": 11
        },
        {
          "output_type": "display_data",
          "data": {
            "image/png": "[encoded data removed]",
            "text/plain": [
              "<Figure size 432x288 with 1 Axes>"
            ]
          },
          "metadata": {
            "needs_background": "light"
          }
        }
      ]
    },
    {
      "cell_type": "markdown",
      "metadata": {
        "id": "rueu-pzLaVvb"
      },
      "source": [
        "From the above plot, which store has the highest median sales? Answer = **Store number 4**"
      ]
    },
    {
      "cell_type": "markdown",
      "metadata": {
        "id": "11VoWMpTaysL"
      },
      "source": [
        "### Exercise 2: Linear Regression"
      ]
    },
    {
      "cell_type": "markdown",
      "metadata": {
        "id": "3bHUo6wRbxE8"
      },
      "source": [
        "#### Part A: Implementing Gaussian Elimination"
      ]
    },
    {
      "cell_type": "code",
      "metadata": {
        "id": "gVu3oa8bCYpi"
      },
      "source": [
        "import numpy as np\n",
        "import matplotlib.pyplot as plt"
      ],
      "execution_count": null,
      "outputs": []
    },
    {
      "cell_type": "markdown",
      "metadata": {
        "id": "vyAbln0QdYNs"
      },
      "source": [
        "Multiple Linear Regression (MLR)\n",
        "\\begin{align}\n",
        "y_i=\\beta_0 + \\sum_{j=1}^M \\beta_j x_{ij} + \\epsilon_i\n",
        "\\end{align}\n",
        "Where M is the number of independent variables\n",
        "\n",
        "With M=10\n",
        "\\begin{align}\n",
        "y_i=\\beta_0 + \\beta_1 x_{i1} + \\beta_2 x_{i2} + \\cdots + \\beta_{10} x_{i10} + \\epsilon_i\n",
        "\\end{align}\n",
        "As a matrix with N=100 samples\n",
        "\\begin{gather}\n",
        "\\begin{pmatrix}\n",
        "y_1 \\\\\n",
        "y_2 \\\\\n",
        "\\vdots \\\\\n",
        "y_{100}\n",
        "\\end{pmatrix}\n",
        "=\n",
        "\\begin{pmatrix}\n",
        "1 & x_{1,1} & x_{1,2} & \\cdots & x_{1,10} \\\\\n",
        "1 & x_{2,1} & x_{2,2} & \\cdots & x_{2,10} \\\\\n",
        "\\vdots & \\vdots & \\vdots & \\cdots & \\vdots \\\\\n",
        "1 & x_{100,1} & x_{100,2} & \\cdots & x_{100,10}\n",
        "\\end{pmatrix}\n",
        "\\begin{pmatrix}\n",
        "\\beta_0 \\\\\n",
        "\\beta_1 \\\\\n",
        "\\vdots \\\\\n",
        "\\beta_{10}\n",
        "\\end{pmatrix}\n",
        "+\n",
        "\\begin{pmatrix}\n",
        "\\epsilon_1 \\\\\n",
        "\\epsilon_2 \\\\\n",
        "\\vdots \\\\\n",
        "\\epsilon_{100}\n",
        "\\end{pmatrix}\n",
        "\\end{gather}\n",
        "Matritial representation\n",
        "\\begin{align}\n",
        "Y=X\\beta + \\epsilon\n",
        "\\end{align}\n",
        "\\begin{align}\n",
        "\\hat Y = X \\beta\n",
        "\\end{align}\n",
        "\\begin{align}\n",
        "\\underbrace{X^TX}_{A} \\beta = \\underbrace{X^T Y}_{b}\n",
        "\\end{align}"
      ]
    },
    {
      "cell_type": "markdown",
      "metadata": {
        "id": "cF80xWh0gngM"
      },
      "source": [
        "Generating a input variables X and Y"
      ]
    },
    {
      "cell_type": "code",
      "metadata": {
        "id": "dMl34APNgm9t"
      },
      "source": [
        "I = np.random.normal(loc=2, scale=0.01, size=(100,10))\n",
        "X = np.concatenate((np.ones((100,1)),I),axis=1)\n",
        "Y = np.random.uniform(size=(100,1))"
      ],
      "execution_count": null,
      "outputs": []
    },
    {
      "cell_type": "code",
      "metadata": {
        "id": "IKYhscrk4MWf"
      },
      "source": [
        "A = np.matmul(X.transpose(),X)\n",
        "b = np.matmul(X.transpose(),Y)"
      ],
      "execution_count": null,
      "outputs": []
    },
    {
      "cell_type": "markdown",
      "metadata": {
        "id": "Cu1QVBrAkgWw"
      },
      "source": [
        "Gauss elimination algorithm"
      ]
    },
    {
      "cell_type": "code",
      "metadata": {
        "colab": {
          "base_uri": "https://localhost:8080/"
        },
        "id": "FP_7T8LbpXUf",
        "outputId": "3b64da85-db79-4c08-8078-af925f512dc1"
      },
      "source": [
        "#Using method developed by myself in lab sheet1\n",
        "def invt(mtx):\n",
        "  n = mtx.shape[0]\n",
        "  mtx_I = np.identity(n,dtype=float)\n",
        "  for d in range(n):\n",
        "    #row/dig\n",
        "    dig = mtx[d,d]\n",
        "    for j in range(n):\n",
        "      mtx[d,j] = mtx[d,j]/dig\n",
        "      mtx_I[d,j] = mtx_I[d,j]/dig\n",
        "    for i in range(n):\n",
        "      if i != d:\n",
        "        #row-mul*row(dig)\n",
        "        mult = mtx[i,d]\n",
        "        for j in range(n):\n",
        "          mtx[i,j] = mtx[i,j]-mult*mtx[d,j]\n",
        "          mtx_I[i,j]= mtx_I[i,j]-mult*mtx_I[d,j]\n",
        "  return mtx_I\n",
        "\n",
        "β = np.matmul(invt(A.copy()),b)\n",
        "print(β)"
      ],
      "execution_count": null,
      "outputs": [
        {
          "output_type": "stream",
          "name": "stdout",
          "text": [
            "[[-8.55128386]\n",
            " [ 2.78125642]\n",
            " [ 2.93085587]\n",
            " [-2.98722721]\n",
            " [-1.04831541]\n",
            " [ 1.40197565]\n",
            " [-1.84008775]\n",
            " [ 6.69169001]\n",
            " [ 1.24800668]\n",
            " [-2.4868151 ]\n",
            " [-2.16879971]]\n"
          ]
        }
      ]
    },
    {
      "cell_type": "markdown",
      "metadata": {
        "id": "eKjqCXanCws2"
      },
      "source": [
        "Calculus of predicted Yp"
      ]
    },
    {
      "cell_type": "code",
      "metadata": {
        "id": "pslbiBnoCkl5",
        "colab": {
          "base_uri": "https://localhost:8080/"
        },
        "outputId": "5b591cf6-fa25-4157-9556-6523d67cd1fc"
      },
      "source": [
        "Yp = np.matmul(X,β)\n",
        "print(Yp.flatten())"
      ],
      "execution_count": null,
      "outputs": [
        {
          "output_type": "stream",
          "name": "stdout",
          "text": [
            "[0.46162782 0.46515638 0.37640017 0.58090649 0.51907559 0.51374872\n",
            " 0.37111638 0.47008103 0.49356979 0.51157911 0.40250335 0.43953231\n",
            " 0.54810642 0.59052733 0.55049876 0.68629743 0.6176703  0.31470255\n",
            " 0.39315386 0.45394271 0.64895589 0.5849012  0.39895508 0.4693631\n",
            " 0.59930472 0.45312404 0.54539055 0.35290188 0.66088799 0.47183049\n",
            " 0.50793919 0.43758498 0.59631927 0.44508733 0.52210059 0.46073378\n",
            " 0.46309725 0.36052174 0.48612981 0.62875764 0.67943436 0.42041627\n",
            " 0.51713697 0.4253306  0.48067155 0.52040981 0.59972916 0.61729818\n",
            " 0.37741789 0.45079348 0.32727293 0.46772683 0.58670733 0.5869598\n",
            " 0.42775387 0.42561307 0.5031202  0.65278289 0.46661124 0.58540393\n",
            " 0.40627952 0.59233048 0.45754106 0.49396281 0.49846207 0.40635766\n",
            " 0.6609925  0.54096557 0.52089246 0.34119018 0.49343673 0.50422406\n",
            " 0.55883378 0.50821531 0.47510258 0.58579764 0.48668129 0.63153382\n",
            " 0.57234758 0.56002954 0.5542137  0.47337154 0.59732179 0.496284\n",
            " 0.62317415 0.50803688 0.45310115 0.53873887 0.62671658 0.61253688\n",
            " 0.38091591 0.46590543 0.46320855 0.53810922 0.5314831  0.61782836\n",
            " 0.3704456  0.3972469  0.42725415 0.45493203]\n"
          ]
        }
      ]
    },
    {
      "cell_type": "markdown",
      "metadata": {
        "id": "gsdDekuGDWcB"
      },
      "source": [
        "Plot Y and Yp"
      ]
    },
    {
      "cell_type": "code",
      "metadata": {
        "colab": {
          "base_uri": "https://localhost:8080/",
          "height": 313
        },
        "id": "T8S2wj4iDP4_",
        "outputId": "fda50d37-3b9c-4f41-e514-2225ccb8c001"
      },
      "source": [
        "plt.scatter(range(100),Y)\n",
        "plt.title(\"Y and Yp\")\n",
        "plt.xlabel(\"ith\")\n",
        "plt.ylabel(\"y\")\n",
        "plt.scatter(range(100),Yp)"
      ],
      "execution_count": null,
      "outputs": [
        {
          "output_type": "execute_result",
          "data": {
            "text/plain": [
              "<matplotlib.collections.PathCollection at 0x7f491ebac690>"
            ]
          },
          "metadata": {},
          "execution_count": 29
        },
        {
          "output_type": "display_data",
          "data": {
            "image/png": "[encoded data removed]",
            "text/plain": [
              "<Figure size 432x288 with 1 Axes>"
            ]
          },
          "metadata": {
            "needs_background": "light"
          }
        }
      ]
    },
    {
      "cell_type": "markdown",
      "metadata": {
        "id": "noqtumPGGdS0"
      },
      "source": [
        "Using numpy.linalg.lstsq"
      ]
    },
    {
      "cell_type": "code",
      "metadata": {
        "colab": {
          "base_uri": "https://localhost:8080/",
          "height": 313
        },
        "id": "2-l4GKsFFrvX",
        "outputId": "6a7a9cdb-e8ac-4dd0-c17d-a1c28fed9772"
      },
      "source": [
        "β_nll = np.linalg.lstsq(A,b,rcond=None)[0]\n",
        "Yp_nll = np.matmul(X,β_nll)\n",
        "plt.scatter(range(100),Y)\n",
        "plt.title(\"Y and Yp\")\n",
        "plt.xlabel(\"ith\")\n",
        "plt.ylabel(\"y\")\n",
        "plt.scatter(range(100),Yp_nll)"
      ],
      "execution_count": null,
      "outputs": [
        {
          "output_type": "execute_result",
          "data": {
            "text/plain": [
              "<matplotlib.collections.PathCollection at 0x7f491eaa5510>"
            ]
          },
          "metadata": {},
          "execution_count": 33
        },
        {
          "output_type": "display_data",
          "data": {
            "image/png": "[encoded data removed]",
            "text/plain": [
              "<Figure size 432x288 with 1 Axes>"
            ]
          },
          "metadata": {
            "needs_background": "light"
          }
        }
      ]
    },
    {
      "cell_type": "markdown",
      "metadata": {
        "id": "9vqEf6OfWFE9"
      },
      "source": [
        "#### Part B: Multiple Linear (Auto)Regression"
      ]
    },
    {
      "cell_type": "markdown",
      "metadata": {
        "id": "eCcbNpvvpzqv"
      },
      "source": [
        "Multivariate Multiple Regression\n",
        "\\begin{gather}\n",
        "\\begin{pmatrix}\n",
        "y_{1,1} & y_{1,2} & \\cdots & y_{1,42}\\\\\n",
        "y_{2,1} & y_{2,2} & \\cdots & y_{2,42} \\\\\n",
        "\\vdots & \\vdots & \\cdots & \\vdots \\\\\n",
        "y_{800,1} & y_{800,2} & \\cdots & y_{800,42}\n",
        "\\end{pmatrix}\n",
        "=\n",
        "\\begin{pmatrix}\n",
        "1 & x_{1,1} & x_{1,2} & \\cdots & x_{1,900} \\\\\n",
        "1 & x_{2,1} & x_{2,2} & \\cdots & x_{2,900} \\\\\n",
        "\\vdots & \\vdots & \\vdots & \\cdots & \\vdots \\\\\n",
        "1 & x_{800,1} & x_{800,2} & \\cdots & x_{800,900}\n",
        "\\end{pmatrix}\n",
        "\\begin{pmatrix}\n",
        "\\beta_{0,1} & \\beta_{0,2} & \\cdots & \\beta_{0,42}\\\\\n",
        "\\beta_{1,1} & \\beta_{1,2} & \\cdots & \\beta_{1,42} \\\\\n",
        "\\vdots & \\vdots & \\cdots & \\vdots \\\\\n",
        "\\beta_{900,1} & \\beta_{900,2} & \\cdots & \\beta_{900,42}\n",
        "\\end{pmatrix}\n",
        "+\n",
        "\\boldsymbol{\\epsilon}\n",
        "\\end{gather}"
      ]
    },
    {
      "cell_type": "code",
      "metadata": {
        "colab": {
          "base_uri": "https://localhost:8080/"
        },
        "id": "1wKYR3w9Npyt",
        "outputId": "65c9a58b-4422-4927-870f-4678df845166"
      },
      "source": [
        "#Removing stores with less than 942 records (days)\n",
        "train_recordxstore = train[['Store','Date']].groupby('Store').count()\n",
        "stores_942d = train_recordxstore.loc[train_recordxstore.Date == 942]\n",
        "train_942d = train.join(stores_942d,on='Store',how='right',rsuffix='_')[['Store','Date','Sales']]\n",
        "train_942d_arr = train_942d.pivot(index=\"Store\", columns='Date', values='Sales').to_numpy(na_value=0)\n",
        "#Slicing the matrix\n",
        "X_train_ = train_942d_arr[:800,:900]\n",
        "Y_train = train_942d_arr[:800,900:]\n",
        "X_test_ = train_942d_arr[800:,:900]\n",
        "Y_test = train_942d_arr[800:,900:]\n",
        "#Adding the bias\n",
        "X_train = np.concatenate((np.ones((X_train_.shape[0],1)),X_train_),axis=1)\n",
        "X_test = np.concatenate((np.ones((X_test_.shape[0],1)),X_test_),axis=1)\n",
        "print(X_train.shape)\n",
        "print(Y_train.shape)\n",
        "print(X_test.shape)\n",
        "print(Y_test.shape)"
      ],
      "execution_count": null,
      "outputs": [
        {
          "output_type": "stream",
          "name": "stdout",
          "text": [
            "(800, 901)\n",
            "(800, 42)\n",
            "(134, 901)\n",
            "(134, 42)\n"
          ]
        }
      ]
    },
    {
      "cell_type": "markdown",
      "metadata": {
        "id": "THeP3zQZYt77"
      },
      "source": [
        "Normal Equations\n",
        "\\begin{equation}\n",
        "\\hat\\beta = {(\\underbrace{X^TX}_{A})}^{-1} \\underbrace{X^T Y}_{b}\n",
        "\\end{equation}"
      ]
    },
    {
      "cell_type": "code",
      "metadata": {
        "id": "lrolRkD2iC2u",
        "colab": {
          "base_uri": "https://localhost:8080/"
        },
        "outputId": "7e49aa11-0f38-4eb6-f509-42f521433f29"
      },
      "source": [
        "A = np.matmul(X_train.transpose(),X_train)\n",
        "b = np.matmul(X_train.transpose(),Y_train)\n",
        "print(A.shape)\n",
        "print(b.shape)"
      ],
      "execution_count": null,
      "outputs": [
        {
          "output_type": "stream",
          "name": "stdout",
          "text": [
            "(901, 901)\n",
            "(901, 42)\n"
          ]
        }
      ]
    },
    {
      "cell_type": "code",
      "metadata": {
        "colab": {
          "base_uri": "https://localhost:8080/"
        },
        "id": "J7To_qKdxso6",
        "outputId": "70254c5e-90b2-441b-b902-133baed0e329"
      },
      "source": [
        "from numpy.linalg import inv\n",
        "beta = np.matmul(inv(A),b)\n",
        "print(beta.shape)\n",
        "print(beta)"
      ],
      "execution_count": null,
      "outputs": [
        {
          "output_type": "stream",
          "name": "stdout",
          "text": [
            "(901, 42)\n",
            "[[-8.48426945e+03 -6.73620736e+03 -9.98139144e+03 ... -1.41893365e+04\n",
            "  -1.32238618e+04 -1.49939546e+04]\n",
            " [-3.24364375e+04 -3.68168750e+04 -3.82263750e+04 ... -4.68355938e+04\n",
            "  -4.75254062e+04 -5.35603125e+04]\n",
            " [-8.85232630e+00 -1.03310117e+01 -9.84691092e+00 ... -1.11135304e+01\n",
            "  -1.12099223e+01 -1.33828701e+01]\n",
            " ...\n",
            " [-2.40211411e-01 -4.08817868e-10  7.30315403e-02 ...  2.87205468e-01\n",
            "   1.22761199e-01 -4.58099422e-01]\n",
            " [ 6.44862066e-02  6.81757228e-09 -2.37147845e-01 ...  7.60699505e-02\n",
            "   6.75380908e-01  7.23832845e-02]\n",
            " [ 1.91323640e-01 -1.77533366e-09  2.90875787e-01 ... -4.30810309e-01\n",
            "   1.77651176e-01  5.39095737e-01]]\n"
          ]
        }
      ]
    },
    {
      "cell_type": "code",
      "metadata": {
        "id": "ZH7XzQhKq5xu"
      },
      "source": [
        "#Proof of inversion of A\n",
        "D = np.diagonal(A @ inv(A))\n",
        "print(D.astype(int))\n",
        "#*Since D is not an array of ones, the inversion is performed properly. The matrix A could be ill-conditioned."
      ],
      "execution_count": null,
      "outputs": []
    },
    {
      "cell_type": "markdown",
      "metadata": {
        "id": "otzIA9KMbtxI"
      },
      "source": [
        "Predicted ouputs\n",
        "\\begin{align}\n",
        "\\hat Y = X\\beta\n",
        "\\end{align}"
      ]
    },
    {
      "cell_type": "code",
      "metadata": {
        "colab": {
          "base_uri": "https://localhost:8080/"
        },
        "id": "IxzaOpyzbeAj",
        "outputId": "a42a1d6a-70dd-4b9a-fa80-b11e2b58e9ee"
      },
      "source": [
        "Y_train_pred = np.matmul(X_train,beta)\n",
        "Y_test_pred = np.matmul(X_test,beta)\n",
        "print(Y_train_pred.shape)\n",
        "print(Y_test_pred.shape)\n"
      ],
      "execution_count": null,
      "outputs": [
        {
          "output_type": "stream",
          "name": "stdout",
          "text": [
            "(800, 42)\n",
            "(134, 42)\n"
          ]
        }
      ]
    },
    {
      "cell_type": "markdown",
      "metadata": {
        "id": "vVAxiqskcN1g"
      },
      "source": [
        "RMSE and MAE by aggregating the errors for all 42 days.\n",
        "\\begin{equation}\n",
        "RMSE = \\sqrt{\\frac{\\sum_{i=1}^N (y_i-\\hat y_i)^2}{N}}\n",
        "\\end{equation}\n",
        "\\begin{equation}\n",
        "MAE = \\frac{\\sum_{i=1}^N |y_i-\\hat y_i|}{N}\n",
        "\\end{equation}"
      ]
    },
    {
      "cell_type": "code",
      "metadata": {
        "id": "NaSat2tBtgxr"
      },
      "source": [
        "#Function to calculate RMSE of a matrix\n",
        "def RMSE(Y_true,Y_pred):\n",
        "  N = Y_true.shape[0]\n",
        "  L = Y_true.shape[1]\n",
        "  RMSE = np.empty(L)\n",
        "  for j in range(L):\n",
        "    sq = 0\n",
        "    for i in range(N):\n",
        "      sq = sq + (Y_true[i,j]-Y_pred[i,j])**2\n",
        "    RMSE[j] = (sq/N)**(1/2)\n",
        "  return RMSE"
      ],
      "execution_count": null,
      "outputs": []
    },
    {
      "cell_type": "code",
      "metadata": {
        "id": "vxkkfX26_g8x"
      },
      "source": [
        "RMSE_train = RMSE(Y_train_pred,Y_train)\n",
        "print('Daily RMSE of training output:',RMSE_train,sep='\\n')\n",
        "print('Overall average RMSE of training output:',RMSE_train.mean(),sep='\\n')"
      ],
      "execution_count": null,
      "outputs": []
    },
    {
      "cell_type": "code",
      "metadata": {
        "colab": {
          "base_uri": "https://localhost:8080/"
        },
        "id": "0QoudSeCFmwd",
        "outputId": "2c2b7cbd-cbea-4a0e-a4f4-74ad8430d287"
      },
      "source": [
        "RMSE_test = RMSE(Y_test_pred,Y_test)\n",
        "print('Daily RMSE of testing output:',RMSE_test,sep='\\n')\n",
        "print('Overall average RMSE of testing output:',RMSE_test.mean(),sep='\\n')"
      ],
      "execution_count": null,
      "outputs": [
        {
          "output_type": "stream",
          "name": "stdout",
          "text": [
            "Daily RMSE of testing output:\n",
            "[1.36738075e+08 2.05766341e+08 1.66786221e+08 1.55825659e+08\n",
            " 1.53652343e+08 1.53739981e+08 1.66807778e+08 1.43234896e+08\n",
            " 2.11769425e+08 2.13563666e+08 2.18184648e+08 2.05128803e+08\n",
            " 2.01384213e+08 2.04951589e+08 1.46689672e+08 2.15408158e+08\n",
            " 1.79344982e+08 1.61592178e+08 1.68199724e+08 1.65589194e+08\n",
            " 1.72159436e+08 1.45420238e+08 2.21422796e+08 2.06705454e+08\n",
            " 1.96721955e+08 1.91227295e+08 1.88419262e+08 1.92722125e+08\n",
            " 1.52420996e+08 2.29067571e+08 1.71846269e+08 1.59069623e+08\n",
            " 1.57640496e+08 1.60282735e+08 1.66342673e+08 1.38323736e+08\n",
            " 2.21759717e+08 2.04545237e+08 1.89263908e+08 1.83921821e+08\n",
            " 1.89463194e+08 2.15437960e+08]\n",
            "Overall average RMSE of testing output:\n",
            "181631953.35621664\n"
          ]
        }
      ]
    },
    {
      "cell_type": "code",
      "metadata": {
        "id": "y1TYgLAkKnG-"
      },
      "source": [
        "#Function to calculate MAE of a matrix\n",
        "def MAE(Y_true,Y_pred):\n",
        "  N = Y_true.shape[0]\n",
        "  L = Y_true.shape[1]\n",
        "  MAE = np.empty(L)\n",
        "  for j in range(L):\n",
        "    ab = 0\n",
        "    for i in range(N):\n",
        "      ab = ab + abs(Y_true[i,j]-Y_pred[i,j])\n",
        "    MAE[j] = ab/N\n",
        "  return MAE"
      ],
      "execution_count": null,
      "outputs": []
    },
    {
      "cell_type": "code",
      "metadata": {
        "id": "cdCAHKTwK-Q5"
      },
      "source": [
        "MAE_train = MAE(Y_train_pred,Y_train)\n",
        "print('Daily MAE of training output:',MAE_train,sep='\\n')\n",
        "print('Overall average MAE of training output:',MAE_train.mean(),sep='\\n')"
      ],
      "execution_count": null,
      "outputs": []
    },
    {
      "cell_type": "code",
      "metadata": {
        "colab": {
          "base_uri": "https://localhost:8080/"
        },
        "id": "PvBBJtRuLX3W",
        "outputId": "a79acd0a-1754-4b1d-c3f9-09addd7dae1a"
      },
      "source": [
        "MAE_test = MAE(Y_test_pred,Y_test)\n",
        "print('Daily MAE of testing output:',MAE_test,sep='\\n')\n",
        "print('Overall average MAE of testing output:',MAE_test.mean(),sep='\\n')"
      ],
      "execution_count": null,
      "outputs": [
        {
          "output_type": "stream",
          "name": "stdout",
          "text": [
            "Daily MAE of testing output:\n",
            "[19409144.17998911 30323962.93307509 23832228.46427133 22214978.27118934\n",
            " 21901254.82690484 21870143.44241852 23767574.63747559 20395019.14746459\n",
            " 31243854.84612876 30087508.65338796 30761324.69420186 29185173.89539505\n",
            " 28736416.32504795 29288786.39782197 21066071.68978449 31811895.67791464\n",
            " 25700318.22032491 23141735.77234106 24052778.98401928 23644955.01391876\n",
            " 24587992.78804294 20766346.23815168 32712601.48102493 29320305.17110473\n",
            " 27930452.88147526 27185846.26216351 26829873.44518572 27558363.60245719\n",
            " 21881492.61209679 33956544.19548743 24670956.92152048 22815437.75152314\n",
            " 22641893.46642383 23064134.86305602 23851037.46279978 19909219.08068212\n",
            " 32819459.89812243 29176169.92847637 27011934.3004659  26317266.93454431\n",
            " 27043348.39878079 30683202.14779146]\n",
            "Overall average MAE of testing output:\n",
            "26075452.52153457\n"
          ]
        }
      ]
    },
    {
      "cell_type": "markdown",
      "metadata": {
        "id": "IZ5PtuYQhWIX"
      },
      "source": [
        "Repeating last sale value per store"
      ]
    },
    {
      "cell_type": "code",
      "metadata": {
        "colab": {
          "base_uri": "https://localhost:8080/"
        },
        "id": "VnCD00tLhYo8",
        "outputId": "9c672e33-ee33-4935-d1e8-657357f768da"
      },
      "source": [
        "Y_test_pred_lvalue = np.tile(X_test_[:,-1],(42,1)).transpose()\n",
        "print(Y_test_pred_lvalue.shape)\n",
        "print('Overall average RMSE of testing output using last sale value:',RMSE(Y_test_pred_lvalue,Y_test).mean(),sep='\\n')\n",
        "print('Overall average MAE of testing output using last sale value:',MAE(Y_test_pred_lvalue,Y_test).mean(),sep='\\n')"
      ],
      "execution_count": null,
      "outputs": [
        {
          "output_type": "stream",
          "name": "stdout",
          "text": [
            "(134, 42)\n",
            "Overall average RMSE of testing output using last sale value:\n",
            "2827.743356034661\n",
            "Overall average MAE of testing output using last sale value:\n",
            "2518.8113006396584\n"
          ]
        }
      ]
    },
    {
      "cell_type": "markdown",
      "metadata": {
        "id": "HwSPFM3MqoMJ"
      },
      "source": [
        "Repeating mean sale value per store"
      ]
    },
    {
      "cell_type": "code",
      "metadata": {
        "colab": {
          "base_uri": "https://localhost:8080/"
        },
        "id": "zJQDxoiXqxQb",
        "outputId": "aa12167e-75ba-490f-b074-81480760fac1"
      },
      "source": [
        "Y_test_pred_mvalue = np.tile(np.mean(X_test_,axis=1),(42,1)).transpose()\n",
        "print(Y_test_pred_mvalue.shape)\n",
        "print('Overall average RMSE of testing output using mean sale value:',RMSE(Y_test_pred_mvalue,Y_test).mean(),sep='\\n')\n",
        "print('Overall average MAE of testing output using mean sale value:',MAE(Y_test_pred_mvalue,Y_test).mean(),sep='\\n')"
      ],
      "execution_count": null,
      "outputs": [
        {
          "output_type": "stream",
          "name": "stdout",
          "text": [
            "(134, 42)\n",
            "Overall average RMSE of testing output using mean sale value:\n",
            "2512.8475254732907\n",
            "Overall average MAE of testing output using mean sale value:\n",
            "2221.3705405512123\n"
          ]
        }
      ]
    },
    {
      "cell_type": "markdown",
      "metadata": {
        "id": "Xri61bXTscAv"
      },
      "source": [
        "Repeating mean value per store per weekday"
      ]
    },
    {
      "cell_type": "code",
      "metadata": {
        "colab": {
          "base_uri": "https://localhost:8080/"
        },
        "id": "B7Xwelfrsett",
        "outputId": "80b99c23-e140-4173-d73f-269c875ca360"
      },
      "source": [
        "Yweek = np.empty((0,134))\n",
        "\n",
        "for d in range(7):\n",
        "  Yday = np.mean(X_test_[:,d::7],axis=1)\n",
        "  Yweek = np.append(Yweek, np.array([Yday]), axis=0)\n",
        "print(Yweek.shape)\n",
        "Y_test_pred_dxwvalue = np.tile(Yweek,(6,1)).transpose()\n",
        "Y_test_pred_dxwvalue = np.roll(Y_test_pred_dxwvalue,-4,axis=1) #Here I roll the matrix so that it starts the same day of the week as Ytest\n",
        "print(Y_test_pred_dxwvalue.shape)\n",
        "print('Overall average RMSE of testing output using mean sale value per weekday:',RMSE(Y_test_pred_dxwvalue,Y_test).mean(),sep='\\n')\n",
        "print('Overall average MAE of testing output using mean sale value per weekday:',MAE(Y_test_pred_dxwvalue,Y_test).mean(),sep='\\n')"
      ],
      "execution_count": null,
      "outputs": [
        {
          "output_type": "stream",
          "name": "stdout",
          "text": [
            "(7, 134)\n",
            "(134, 42)\n",
            "Overall average RMSE of testing output using mean sale value per weekday:\n",
            "1395.1131736923976\n",
            "Overall average MAE of testing output using mean sale value per weekday:\n",
            "1123.1476701443983\n"
          ]
        }
      ]
    },
    {
      "cell_type": "markdown",
      "metadata": {
        "id": "8Nf835viNj4B"
      },
      "source": [
        "Reason why not Linear Regression is a good choice for this task.\n",
        "\n",
        "A linear regression model is not a good choice for this task because a times series forecasting problem like this does not fit well its assumptions. Below we can find each of the assumptions of the model and why or why not times series forecasting fit them well:\n",
        "*   Linearity: the relationship between x and y is linear. The problem does not fit this assumption well because there are other factors that can affect the level of sales rather than the specific day in consideration and are not taken into account. For example, business cycles, new regulations, etc.\n",
        "*   Independence: observations y should be independent of each other. The problem does not fit this assumption well because the sales of a day could affect the sales of the next one. For example, a day without promo after a day with promo, a weekend day after a weekday, etc.\n",
        "*   Distribution: for each independent variable x, the dependent variable y is identically distributed. Moreover, it should be normally distributed. The problem does not fit this assumption well because there are short-term factors that can affect the sales and therefore outliers can appear easily. For example, factors such as the weather, movements of the competition, etc.\n",
        "\n"
      ]
    }
  ]
}