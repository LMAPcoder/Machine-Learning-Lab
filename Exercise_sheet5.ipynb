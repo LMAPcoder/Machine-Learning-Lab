{
  "nbformat": 4,
  "nbformat_minor": 0,
  "metadata": {
    "colab": {
      "name": "Exercise_sheet5.ipynb",
      "provenance": [],
      "authorship_tag": "ABX9TyMIiRsivbFGbfksl10lwv6M",
      "include_colab_link": true
    },
    "kernelspec": {
      "name": "python3",
      "display_name": "Python 3"
    },
    "language_info": {
      "name": "python"
    }
  },
  "cells": [
    {
      "cell_type": "markdown",
      "metadata": {
        "id": "view-in-github",
        "colab_type": "text"
      },
      "source": [
        "<a href=\"https://colab.research.google.com/github/LMAPcoder/Machine-Learning-Lab/blob/main/Exercise_sheet5.ipynb\" target=\"_parent\"><img src=\"https://colab.research.google.com/assets/colab-badge.svg\" alt=\"Open In Colab\"/></a>"
      ]
    },
    {
      "cell_type": "markdown",
      "metadata": {
        "id": "nUeyyNuYt6YZ"
      },
      "source": [
        "# **Lab Programming Machine Learning**"
      ]
    },
    {
      "cell_type": "markdown",
      "metadata": {
        "id": "f6qn4TUtt9iY"
      },
      "source": [
        "## Exercise Sheet 5"
      ]
    },
    {
      "cell_type": "markdown",
      "metadata": {
        "id": "NPyggR6BuAbE"
      },
      "source": [
        "### Exercise 1: Backward search for variable selection"
      ]
    },
    {
      "cell_type": "code",
      "metadata": {
        "id": "5ZOOhXa7twfe"
      },
      "source": [
        "#Required libraries\n",
        "import pandas as pd\n",
        "import numpy as np\n",
        "import matplotlib.pyplot as plt"
      ],
      "execution_count": null,
      "outputs": []
    },
    {
      "cell_type": "code",
      "metadata": {
        "id": "TknAazIV1ZEX"
      },
      "source": [
        "#Uploading the file from Google drive\n",
        "!wget --no-check-certificate 'https://docs.google.com/uc?export=download&id=1rI6ITV769Yekyy8Lj7k0BECI5UExd_LS' -O bank.csv"
      ],
      "execution_count": null,
      "outputs": []
    },
    {
      "cell_type": "code",
      "metadata": {
        "id": "NjtfooqC1zzu"
      },
      "source": [
        "bank = pd.read_csv('bank.csv',sep=';')"
      ],
      "execution_count": null,
      "outputs": []
    },
    {
      "cell_type": "markdown",
      "metadata": {
        "id": "Hh_eZ2JM6QqW"
      },
      "source": [
        "Exploration of the data"
      ]
    },
    {
      "cell_type": "code",
      "metadata": {
        "colab": {
          "base_uri": "https://localhost:8080/",
          "height": 243
        },
        "id": "RIK9K1O122NX",
        "outputId": "3207d2ba-49c3-4914-a06f-2044f8660e67"
      },
      "source": [
        "bank.tail()"
      ],
      "execution_count": null,
      "outputs": [
        {
          "output_type": "execute_result",
          "data": {
            "text/html": [
              "<div>\n",
              "<style scoped>\n",
              "    .dataframe tbody tr th:only-of-type {\n",
              "        vertical-align: middle;\n",
              "    }\n",
              "\n",
              "    .dataframe tbody tr th {\n",
              "        vertical-align: top;\n",
              "    }\n",
              "\n",
              "    .dataframe thead th {\n",
              "        text-align: right;\n",
              "    }\n",
              "</style>\n",
              "<table border=\"1\" class=\"dataframe\">\n",
              "  <thead>\n",
              "    <tr style=\"text-align: right;\">\n",
              "      <th></th>\n",
              "      <th>age</th>\n",
              "      <th>job</th>\n",
              "      <th>marital</th>\n",
              "      <th>education</th>\n",
              "      <th>default</th>\n",
              "      <th>balance</th>\n",
              "      <th>housing</th>\n",
              "      <th>loan</th>\n",
              "      <th>contact</th>\n",
              "      <th>day</th>\n",
              "      <th>month</th>\n",
              "      <th>duration</th>\n",
              "      <th>campaign</th>\n",
              "      <th>pdays</th>\n",
              "      <th>previous</th>\n",
              "      <th>poutcome</th>\n",
              "      <th>y</th>\n",
              "    </tr>\n",
              "  </thead>\n",
              "  <tbody>\n",
              "    <tr>\n",
              "      <th>4516</th>\n",
              "      <td>33</td>\n",
              "      <td>services</td>\n",
              "      <td>married</td>\n",
              "      <td>secondary</td>\n",
              "      <td>no</td>\n",
              "      <td>-333</td>\n",
              "      <td>yes</td>\n",
              "      <td>no</td>\n",
              "      <td>cellular</td>\n",
              "      <td>30</td>\n",
              "      <td>jul</td>\n",
              "      <td>329</td>\n",
              "      <td>5</td>\n",
              "      <td>-1</td>\n",
              "      <td>0</td>\n",
              "      <td>unknown</td>\n",
              "      <td>no</td>\n",
              "    </tr>\n",
              "    <tr>\n",
              "      <th>4517</th>\n",
              "      <td>57</td>\n",
              "      <td>self-employed</td>\n",
              "      <td>married</td>\n",
              "      <td>tertiary</td>\n",
              "      <td>yes</td>\n",
              "      <td>-3313</td>\n",
              "      <td>yes</td>\n",
              "      <td>yes</td>\n",
              "      <td>unknown</td>\n",
              "      <td>9</td>\n",
              "      <td>may</td>\n",
              "      <td>153</td>\n",
              "      <td>1</td>\n",
              "      <td>-1</td>\n",
              "      <td>0</td>\n",
              "      <td>unknown</td>\n",
              "      <td>no</td>\n",
              "    </tr>\n",
              "    <tr>\n",
              "      <th>4518</th>\n",
              "      <td>57</td>\n",
              "      <td>technician</td>\n",
              "      <td>married</td>\n",
              "      <td>secondary</td>\n",
              "      <td>no</td>\n",
              "      <td>295</td>\n",
              "      <td>no</td>\n",
              "      <td>no</td>\n",
              "      <td>cellular</td>\n",
              "      <td>19</td>\n",
              "      <td>aug</td>\n",
              "      <td>151</td>\n",
              "      <td>11</td>\n",
              "      <td>-1</td>\n",
              "      <td>0</td>\n",
              "      <td>unknown</td>\n",
              "      <td>no</td>\n",
              "    </tr>\n",
              "    <tr>\n",
              "      <th>4519</th>\n",
              "      <td>28</td>\n",
              "      <td>blue-collar</td>\n",
              "      <td>married</td>\n",
              "      <td>secondary</td>\n",
              "      <td>no</td>\n",
              "      <td>1137</td>\n",
              "      <td>no</td>\n",
              "      <td>no</td>\n",
              "      <td>cellular</td>\n",
              "      <td>6</td>\n",
              "      <td>feb</td>\n",
              "      <td>129</td>\n",
              "      <td>4</td>\n",
              "      <td>211</td>\n",
              "      <td>3</td>\n",
              "      <td>other</td>\n",
              "      <td>no</td>\n",
              "    </tr>\n",
              "    <tr>\n",
              "      <th>4520</th>\n",
              "      <td>44</td>\n",
              "      <td>entrepreneur</td>\n",
              "      <td>single</td>\n",
              "      <td>tertiary</td>\n",
              "      <td>no</td>\n",
              "      <td>1136</td>\n",
              "      <td>yes</td>\n",
              "      <td>yes</td>\n",
              "      <td>cellular</td>\n",
              "      <td>3</td>\n",
              "      <td>apr</td>\n",
              "      <td>345</td>\n",
              "      <td>2</td>\n",
              "      <td>249</td>\n",
              "      <td>7</td>\n",
              "      <td>other</td>\n",
              "      <td>no</td>\n",
              "    </tr>\n",
              "  </tbody>\n",
              "</table>\n",
              "</div>"
            ],
            "text/plain": [
              "      age            job  marital  education  ... pdays  previous poutcome   y\n",
              "4516   33       services  married  secondary  ...    -1         0  unknown  no\n",
              "4517   57  self-employed  married   tertiary  ...    -1         0  unknown  no\n",
              "4518   57     technician  married  secondary  ...    -1         0  unknown  no\n",
              "4519   28    blue-collar  married  secondary  ...   211         3    other  no\n",
              "4520   44   entrepreneur   single   tertiary  ...   249         7    other  no\n",
              "\n",
              "[5 rows x 17 columns]"
            ]
          },
          "metadata": {},
          "execution_count": 56
        }
      ]
    },
    {
      "cell_type": "code",
      "metadata": {
        "colab": {
          "base_uri": "https://localhost:8080/"
        },
        "id": "sUfUtlfr5g1M",
        "outputId": "4f9102c9-06d7-4654-e975-d75b30863f9c"
      },
      "source": [
        "bank.info()"
      ],
      "execution_count": null,
      "outputs": [
        {
          "output_type": "stream",
          "name": "stdout",
          "text": [
            "<class 'pandas.core.frame.DataFrame'>\n",
            "RangeIndex: 4521 entries, 0 to 4520\n",
            "Data columns (total 17 columns):\n",
            " #   Column     Non-Null Count  Dtype \n",
            "---  ------     --------------  ----- \n",
            " 0   age        4521 non-null   int64 \n",
            " 1   job        4521 non-null   object\n",
            " 2   marital    4521 non-null   object\n",
            " 3   education  4521 non-null   object\n",
            " 4   default    4521 non-null   object\n",
            " 5   balance    4521 non-null   int64 \n",
            " 6   housing    4521 non-null   object\n",
            " 7   loan       4521 non-null   object\n",
            " 8   contact    4521 non-null   object\n",
            " 9   day        4521 non-null   int64 \n",
            " 10  month      4521 non-null   object\n",
            " 11  duration   4521 non-null   int64 \n",
            " 12  campaign   4521 non-null   int64 \n",
            " 13  pdays      4521 non-null   int64 \n",
            " 14  previous   4521 non-null   int64 \n",
            " 15  poutcome   4521 non-null   object\n",
            " 16  y          4521 non-null   object\n",
            "dtypes: int64(7), object(10)\n",
            "memory usage: 600.6+ KB\n"
          ]
        }
      ]
    },
    {
      "cell_type": "code",
      "metadata": {
        "colab": {
          "base_uri": "https://localhost:8080/"
        },
        "id": "g4VoAa7_6A7g",
        "outputId": "e6ad9920-e3cf-41ae-d7d2-087166e10198"
      },
      "source": [
        "bank['y'].value_counts()"
      ],
      "execution_count": null,
      "outputs": [
        {
          "output_type": "execute_result",
          "data": {
            "text/plain": [
              "no     4000\n",
              "yes     521\n",
              "Name: y, dtype: int64"
            ]
          },
          "metadata": {},
          "execution_count": 58
        }
      ]
    },
    {
      "cell_type": "markdown",
      "metadata": {
        "id": "Z1f5JsfqEvCR"
      },
      "source": [
        "Normalization of the data"
      ]
    },
    {
      "cell_type": "markdown",
      "metadata": {
        "id": "TkAOGlIfO4kC"
      },
      "source": [
        "Normalization is required when features have different ranges. For example, in this data set the numeric features age, balance, duration, etc. have differente scales. The large attributes can intrinsically influence more the result of our training algorithm due to their larger value.\n",
        "\n",
        "There are several methods to normalize the data. Some of them are:\n",
        "\n",
        "\n",
        "*   Scaling to a range: converts floating-point feature values from their natural range into a standard range—usually 0 and 1.\n",
        "*   Clipping: caps all feature values above (or below) a certain value to fixed value\n",
        "*   Log scaling: computes the log of your values to compress a wide range to a narrow range\n",
        "*   Z-score: represents the number of standard deviations away from the mean.\n",
        "\n",
        "In this lab, we will use Z-score.\n"
      ]
    },
    {
      "cell_type": "code",
      "metadata": {
        "id": "dvDxDdbuarg_"
      },
      "source": [
        "def normalizer(df):\n",
        "  df_n = pd.DataFrame(columns=df.columns,index=df.index)\n",
        "  for c in df.columns:\n",
        "    if pd.api.types.is_numeric_dtype(df[c].dtype):\n",
        "      mu = df[c].mean()\n",
        "      sigma = df[c].std()\n",
        "      df_n[c] = df[c].astype(float)\n",
        "      for i in range(len(df[c])):\n",
        "        df_n.at[i,c] = (df.at[i,c] - mu)/sigma\n",
        "    else:\n",
        "      df_n[c] = df[c]\n",
        "  return df_n"
      ],
      "execution_count": null,
      "outputs": []
    },
    {
      "cell_type": "code",
      "metadata": {
        "colab": {
          "base_uri": "https://localhost:8080/",
          "height": 226
        },
        "id": "R-GLqRtSbqCq",
        "outputId": "11ef61c4-51d0-4871-d638-2ec18e84db36"
      },
      "source": [
        "bank_normalized = normalizer(bank)\n",
        "bank_normalized.head()"
      ],
      "execution_count": null,
      "outputs": [
        {
          "output_type": "execute_result",
          "data": {
            "text/html": [
              "<div>\n",
              "<style scoped>\n",
              "    .dataframe tbody tr th:only-of-type {\n",
              "        vertical-align: middle;\n",
              "    }\n",
              "\n",
              "    .dataframe tbody tr th {\n",
              "        vertical-align: top;\n",
              "    }\n",
              "\n",
              "    .dataframe thead th {\n",
              "        text-align: right;\n",
              "    }\n",
              "</style>\n",
              "<table border=\"1\" class=\"dataframe\">\n",
              "  <thead>\n",
              "    <tr style=\"text-align: right;\">\n",
              "      <th></th>\n",
              "      <th>age</th>\n",
              "      <th>job</th>\n",
              "      <th>marital</th>\n",
              "      <th>education</th>\n",
              "      <th>default</th>\n",
              "      <th>balance</th>\n",
              "      <th>housing</th>\n",
              "      <th>loan</th>\n",
              "      <th>contact</th>\n",
              "      <th>day</th>\n",
              "      <th>month</th>\n",
              "      <th>duration</th>\n",
              "      <th>campaign</th>\n",
              "      <th>pdays</th>\n",
              "      <th>previous</th>\n",
              "      <th>poutcome</th>\n",
              "      <th>y</th>\n",
              "    </tr>\n",
              "  </thead>\n",
              "  <tbody>\n",
              "    <tr>\n",
              "      <th>0</th>\n",
              "      <td>-1.056153</td>\n",
              "      <td>unemployed</td>\n",
              "      <td>married</td>\n",
              "      <td>primary</td>\n",
              "      <td>no</td>\n",
              "      <td>0.121058</td>\n",
              "      <td>no</td>\n",
              "      <td>no</td>\n",
              "      <td>cellular</td>\n",
              "      <td>0.374011</td>\n",
              "      <td>oct</td>\n",
              "      <td>-0.711782</td>\n",
              "      <td>-0.576766</td>\n",
              "      <td>-0.407173</td>\n",
              "      <td>-0.320377</td>\n",
              "      <td>unknown</td>\n",
              "      <td>no</td>\n",
              "    </tr>\n",
              "    <tr>\n",
              "      <th>1</th>\n",
              "      <td>-0.772497</td>\n",
              "      <td>services</td>\n",
              "      <td>married</td>\n",
              "      <td>secondary</td>\n",
              "      <td>no</td>\n",
              "      <td>1.118521</td>\n",
              "      <td>yes</td>\n",
              "      <td>yes</td>\n",
              "      <td>cellular</td>\n",
              "      <td>-0.595961</td>\n",
              "      <td>may</td>\n",
              "      <td>-0.169175</td>\n",
              "      <td>-0.576766</td>\n",
              "      <td>2.988713</td>\n",
              "      <td>2.041508</td>\n",
              "      <td>failure</td>\n",
              "      <td>no</td>\n",
              "    </tr>\n",
              "    <tr>\n",
              "      <th>2</th>\n",
              "      <td>-0.583394</td>\n",
              "      <td>management</td>\n",
              "      <td>single</td>\n",
              "      <td>tertiary</td>\n",
              "      <td>no</td>\n",
              "      <td>-0.024142</td>\n",
              "      <td>yes</td>\n",
              "      <td>no</td>\n",
              "      <td>cellular</td>\n",
              "      <td>0.010271</td>\n",
              "      <td>apr</td>\n",
              "      <td>-0.303865</td>\n",
              "      <td>-0.576766</td>\n",
              "      <td>2.898822</td>\n",
              "      <td>0.270094</td>\n",
              "      <td>failure</td>\n",
              "      <td>no</td>\n",
              "    </tr>\n",
              "    <tr>\n",
              "      <th>3</th>\n",
              "      <td>-1.056153</td>\n",
              "      <td>management</td>\n",
              "      <td>married</td>\n",
              "      <td>tertiary</td>\n",
              "      <td>no</td>\n",
              "      <td>0.017724</td>\n",
              "      <td>yes</td>\n",
              "      <td>yes</td>\n",
              "      <td>unknown</td>\n",
              "      <td>-1.565932</td>\n",
              "      <td>jun</td>\n",
              "      <td>-0.249989</td>\n",
              "      <td>0.387925</td>\n",
              "      <td>-0.407173</td>\n",
              "      <td>-0.320377</td>\n",
              "      <td>unknown</td>\n",
              "      <td>no</td>\n",
              "    </tr>\n",
              "    <tr>\n",
              "      <th>4</th>\n",
              "      <td>1.685850</td>\n",
              "      <td>blue-collar</td>\n",
              "      <td>married</td>\n",
              "      <td>secondary</td>\n",
              "      <td>no</td>\n",
              "      <td>-0.472701</td>\n",
              "      <td>yes</td>\n",
              "      <td>no</td>\n",
              "      <td>unknown</td>\n",
              "      <td>-1.323439</td>\n",
              "      <td>may</td>\n",
              "      <td>-0.146086</td>\n",
              "      <td>-0.576766</td>\n",
              "      <td>-0.407173</td>\n",
              "      <td>-0.320377</td>\n",
              "      <td>unknown</td>\n",
              "      <td>no</td>\n",
              "    </tr>\n",
              "  </tbody>\n",
              "</table>\n",
              "</div>"
            ],
            "text/plain": [
              "        age          job  marital  education  ...     pdays  previous poutcome   y\n",
              "0 -1.056153   unemployed  married    primary  ... -0.407173 -0.320377  unknown  no\n",
              "1 -0.772497     services  married  secondary  ...  2.988713  2.041508  failure  no\n",
              "2 -0.583394   management   single   tertiary  ...  2.898822  0.270094  failure  no\n",
              "3 -1.056153   management  married   tertiary  ... -0.407173 -0.320377  unknown  no\n",
              "4  1.685850  blue-collar  married  secondary  ... -0.407173 -0.320377  unknown  no\n",
              "\n",
              "[5 rows x 17 columns]"
            ]
          },
          "metadata": {},
          "execution_count": 60
        }
      ]
    },
    {
      "cell_type": "markdown",
      "metadata": {
        "id": "bd6SmKmj5mzF"
      },
      "source": [
        "Convertion of non-numeric values"
      ]
    },
    {
      "cell_type": "code",
      "metadata": {
        "id": "JANOGaVZ5lVY"
      },
      "source": [
        "bank_normalized['y'] = bank_normalized['y'].astype('category').cat.codes"
      ],
      "execution_count": null,
      "outputs": []
    },
    {
      "cell_type": "code",
      "metadata": {
        "id": "eoQDjhQYCur2"
      },
      "source": [
        "bank_dumm = pd.get_dummies(bank_normalized)"
      ],
      "execution_count": null,
      "outputs": []
    },
    {
      "cell_type": "markdown",
      "metadata": {
        "id": "ipkdQ7hUDmh2"
      },
      "source": [
        "Drop out the rows with missing values or NA"
      ]
    },
    {
      "cell_type": "code",
      "metadata": {
        "colab": {
          "base_uri": "https://localhost:8080/"
        },
        "id": "QJxkzcSuDs4r",
        "outputId": "b3e278ec-fefc-4a5a-ca9c-bbaf7d736f95"
      },
      "source": [
        "bank_dumm.info()"
      ],
      "execution_count": null,
      "outputs": [
        {
          "output_type": "stream",
          "name": "stdout",
          "text": [
            "<class 'pandas.core.frame.DataFrame'>\n",
            "RangeIndex: 4521 entries, 0 to 4520\n",
            "Data columns (total 52 columns):\n",
            " #   Column               Non-Null Count  Dtype  \n",
            "---  ------               --------------  -----  \n",
            " 0   age                  4521 non-null   float64\n",
            " 1   balance              4521 non-null   float64\n",
            " 2   day                  4521 non-null   float64\n",
            " 3   duration             4521 non-null   float64\n",
            " 4   campaign             4521 non-null   float64\n",
            " 5   pdays                4521 non-null   float64\n",
            " 6   previous             4521 non-null   float64\n",
            " 7   y                    4521 non-null   int8   \n",
            " 8   job_admin.           4521 non-null   uint8  \n",
            " 9   job_blue-collar      4521 non-null   uint8  \n",
            " 10  job_entrepreneur     4521 non-null   uint8  \n",
            " 11  job_housemaid        4521 non-null   uint8  \n",
            " 12  job_management       4521 non-null   uint8  \n",
            " 13  job_retired          4521 non-null   uint8  \n",
            " 14  job_self-employed    4521 non-null   uint8  \n",
            " 15  job_services         4521 non-null   uint8  \n",
            " 16  job_student          4521 non-null   uint8  \n",
            " 17  job_technician       4521 non-null   uint8  \n",
            " 18  job_unemployed       4521 non-null   uint8  \n",
            " 19  job_unknown          4521 non-null   uint8  \n",
            " 20  marital_divorced     4521 non-null   uint8  \n",
            " 21  marital_married      4521 non-null   uint8  \n",
            " 22  marital_single       4521 non-null   uint8  \n",
            " 23  education_primary    4521 non-null   uint8  \n",
            " 24  education_secondary  4521 non-null   uint8  \n",
            " 25  education_tertiary   4521 non-null   uint8  \n",
            " 26  education_unknown    4521 non-null   uint8  \n",
            " 27  default_no           4521 non-null   uint8  \n",
            " 28  default_yes          4521 non-null   uint8  \n",
            " 29  housing_no           4521 non-null   uint8  \n",
            " 30  housing_yes          4521 non-null   uint8  \n",
            " 31  loan_no              4521 non-null   uint8  \n",
            " 32  loan_yes             4521 non-null   uint8  \n",
            " 33  contact_cellular     4521 non-null   uint8  \n",
            " 34  contact_telephone    4521 non-null   uint8  \n",
            " 35  contact_unknown      4521 non-null   uint8  \n",
            " 36  month_apr            4521 non-null   uint8  \n",
            " 37  month_aug            4521 non-null   uint8  \n",
            " 38  month_dec            4521 non-null   uint8  \n",
            " 39  month_feb            4521 non-null   uint8  \n",
            " 40  month_jan            4521 non-null   uint8  \n",
            " 41  month_jul            4521 non-null   uint8  \n",
            " 42  month_jun            4521 non-null   uint8  \n",
            " 43  month_mar            4521 non-null   uint8  \n",
            " 44  month_may            4521 non-null   uint8  \n",
            " 45  month_nov            4521 non-null   uint8  \n",
            " 46  month_oct            4521 non-null   uint8  \n",
            " 47  month_sep            4521 non-null   uint8  \n",
            " 48  poutcome_failure     4521 non-null   uint8  \n",
            " 49  poutcome_other       4521 non-null   uint8  \n",
            " 50  poutcome_success     4521 non-null   uint8  \n",
            " 51  poutcome_unknown     4521 non-null   uint8  \n",
            "dtypes: float64(7), int8(1), uint8(44)\n",
            "memory usage: 446.0 KB\n"
          ]
        }
      ]
    },
    {
      "cell_type": "markdown",
      "metadata": {
        "id": "RpijVFDSED5r"
      },
      "source": [
        "There are no missing values or NA"
      ]
    },
    {
      "cell_type": "markdown",
      "metadata": {
        "id": "gT_cR6t5EG9l"
      },
      "source": [
        "Split of the data set"
      ]
    },
    {
      "cell_type": "code",
      "metadata": {
        "colab": {
          "base_uri": "https://localhost:8080/"
        },
        "id": "Vb0_NfGEEKIY",
        "outputId": "923dc240-f3ad-4471-ffdd-71cdf42b91a2"
      },
      "source": [
        "np.random.seed(3116) #to set the pseudo ramdom number generator\n",
        "ratio = 0.8 #percentage of the data used for training the model\n",
        "N, M = bank_dumm.shape\n",
        "   #to assure a uniform distribution of the instances in both the training and the data sets\n",
        "split = int(N*ratio)\n",
        "data_train = bank_dumm.iloc[ridx[:split]]\n",
        "data_test = bank_dumm.iloc[ridx[split:]]\n",
        "\n",
        "print(data_train['y'].value_counts())\n",
        "print(data_test['y'].value_counts())\n",
        "\n",
        "output = 'y'\n",
        "X_train = data_train.drop(output,axis=1).to_numpy()\n",
        "y_train = data_train[output].to_numpy().reshape(-1,1)\n",
        "X_test = data_test.drop(output,axis=1).to_numpy()\n",
        "y_test = data_test[output].to_numpy().reshape(-1,1)\n",
        "print(X_train.shape)\n",
        "print(X_test.shape)"
      ],
      "execution_count": null,
      "outputs": [
        {
          "output_type": "stream",
          "name": "stdout",
          "text": [
            "0    3196\n",
            "1     420\n",
            "Name: y, dtype: int64\n",
            "0    804\n",
            "1    101\n",
            "Name: y, dtype: int64\n",
            "(3616, 51)\n",
            "(905, 51)\n"
          ]
        }
      ]
    },
    {
      "cell_type": "markdown",
      "source": [
        "Logistic regression\n",
        "\n",
        "Logistic regression is a method to solve binary classification problems thorugh linear regression.\n",
        "\n",
        "Predicted output:\n",
        "\\begin{align}\n",
        "p(y=1|\\mathbf{x},\\boldsymbol{\\theta}) = \\sigma (x^T \\theta) = \\frac{e^{x^T \\theta}}{1+e^{x^T \\theta}}\n",
        "\\end{align}\n",
        "L2-Regularized objective function:\n",
        "\\begin{align}\n",
        "L_{cll}(\\theta) = \\log \\prod_{n=1}^{N} p(y_n|x_n,\\theta) - \\lambda ||\\theta||_2^2 = \\sum y log(p)+(1-y)log(1-p) - \\lambda ||\\theta||_2^2\n",
        "\\end{align}\n",
        "Gradient\n",
        "\\begin{align}\n",
        "\\nabla L_{cll} (\\theta) = \\sum_{n=1}^{N} x_n (y_n - \\frac{e^{x_n^T \\theta}}{1+e^{x_n^T \\theta}}) - 2 \\lambda \\theta = X^T (y-p) - 2 \\lambda \\theta\n",
        "\\end{align}\n",
        "Iterative step\n",
        "\n",
        "$\\text{For k=1,2,...,K }$\n",
        "\n",
        ">$\\text{For c=1,2,...,C }$\n",
        "\n",
        ">>$\\theta^{(k,c)} = \\theta^{(k,c-1)} + \\alpha \\nabla L_{cll}(\\theta^{(k,c-1)})$\n"
      ],
      "metadata": {
        "id": "rpc8Zy4SlSyI"
      }
    },
    {
      "cell_type": "code",
      "source": [
        "#Gradient ascent function\n",
        "def GAoptimizer(X_tr,y_tr,bz,lr,lamda,k_max,stepcontroller):\n",
        "  N, M = X_tr.shape\n",
        "  theta = np.zeros((M,1)) #initial theta\n",
        "  Logl = np.zeros(k_max)\n",
        "  for k in range(k_max):\n",
        "    for c in range(int(np.ceil(N/bz))):\n",
        "      g = gradient(X_tr[bz*(c-1):bz*c],y_tr[bz*(c-1):bz*c],theta,lamda) #gradient\n",
        "      sd =  g #search direction\n",
        "      theta += lr * sd\n",
        "\n",
        "      if stepcontroller == 'bd':\n",
        "        lr = Bd(lr,X_tr,y_tr,theta,lamda)\n",
        "      elif stepcontroller == 'bt':\n",
        "        lr = Bt(lr,X_tr,y_tr,theta,lamda)\n",
        "\n",
        "    Logl[k] = Lcll(X_tr,y_tr,theta,lamda)\n",
        "  return theta,Logl"
      ],
      "metadata": {
        "id": "wo7hMhSZlWUF"
      },
      "execution_count": null,
      "outputs": []
    },
    {
      "cell_type": "code",
      "source": [
        "#Auxiliry funtions\n",
        "#Probability p(y=1) calculator\n",
        "p = lambda X,theta: (1/(1+np.exp(-X@theta))).reshape(-1,1)\n",
        "# p = lambda X,theta: (np.exp(X@theta)/(1+np.exp(X@theta))).reshape(-1,1)\n",
        "#Conditional likelihood calculator\n",
        "Lcll = lambda X,y,theta,lamda: np.sum(y*np.log(p(X,theta))+(1-y)*np.log(1-p(X,theta))) - lamda * np.sum(theta**2)\n",
        "#Gradient calculator\n",
        "gradient = lambda X,y,theta,lamda: X.T@(y-p(X,theta)) - 2*lamda*theta\n",
        "#AIC\n",
        "AIC = lambda logl,theta: -2*logl+2*len(theta)\n",
        "#Classification Accuracy value\n",
        "ca = lambda X,y,theta: 1 - np.mean(abs(y-np.rint(p(X,theta))))"
      ],
      "metadata": {
        "id": "1zGSteLUrqMi"
      },
      "execution_count": null,
      "outputs": []
    },
    {
      "cell_type": "code",
      "source": [
        "#Step controllers\n",
        "\n",
        "#Bolddriver step controller\n",
        "def Bd(lr,X,y,theta,lamda):\n",
        "  g = gradient(X,y,theta,lamda)\n",
        "  L = Lcll(X,y,theta,lamda)\n",
        "  lr = lr * 1.01\n",
        "  i = 0\n",
        "  while L > Lcll(X,y,theta + lr * g,lamda):\n",
        "    lr = lr * 0.5\n",
        "    i += 1\n",
        "    if i > 100:\n",
        "      break\n",
        "  return lr\n",
        "\n",
        "#Backtracking step controller\n",
        "def Bt(lr,X,y,theta,lamda):\n",
        "  lr = 0.01\n",
        "  g = gradient(X,y,theta,lamda)\n",
        "  L = Lcll(X,y,theta,lamda)\n",
        "  while Lcll(X,y,theta + lr * g,lamda) < L + 0.7 * lr * (g**2).sum():\n",
        "    lr = lr * 0.5\n",
        "  return lr"
      ],
      "metadata": {
        "id": "z5OjrYUAuPSk"
      },
      "execution_count": null,
      "outputs": []
    },
    {
      "cell_type": "markdown",
      "source": [
        "Trained model with all the features"
      ],
      "metadata": {
        "id": "FFHHw6b8Wt0W"
      }
    },
    {
      "cell_type": "code",
      "source": [
        "bz = 50 #bathsize\n",
        "lr = 0.01 #learning rate\n",
        "lamda = 0 #regularization rate\n",
        "k_max = 50 #max number of ephocs\n",
        "\n",
        "result_1 = GAoptimizer(X_train,y_train,bz,lr,lamda,k_max,'w')\n",
        "Logls_train_1 = result_1[1]\n",
        "\n",
        "#Graph of loglikelihood on training data\n",
        "plt.title(\"loglikelihood on training data\")\n",
        "plt.xlabel(\"Epochs\")\n",
        "plt.ylabel(\"loglikelihood\")\n",
        "xlist = range(len(Logls_train_1))\n",
        "ylist = Logls_train_1\n",
        "plt.plot(xlist,ylist)\n",
        "plt.show()"
      ],
      "metadata": {
        "colab": {
          "base_uri": "https://localhost:8080/",
          "height": 295
        },
        "id": "z7NFCs0Uzv7Q",
        "outputId": "0ad9de70-3547-4d47-8e31-dedbec44a5c5"
      },
      "execution_count": null,
      "outputs": [
        {
          "output_type": "display_data",
          "data": {
            "image/png": "[encoded data removed]",
            "text/plain": [
              "<Figure size 432x288 with 1 Axes>"
            ]
          },
          "metadata": {
            "needs_background": "light"
          }
        }
      ]
    },
    {
      "cell_type": "markdown",
      "source": [
        "Backward selection"
      ],
      "metadata": {
        "id": "akZbSNT6W7r1"
      }
    },
    {
      "cell_type": "code",
      "source": [
        "#Backward search\n",
        "def backward_search(Xt,Yt,bz,lr,k_max):\n",
        "  Cused = np.arange(Xt.shape[1])\n",
        "  improvement = True\n",
        "  while(improvement):\n",
        "    gain_best = 0\n",
        "    for c in Cused:\n",
        "      Vused = Xt[:,Cused]\n",
        "      Vused_wv = Xt[:,np.delete(Cused,np.where(Cused == c),axis=0)]\n",
        "\n",
        "      #Model without v\n",
        "      beta_wv = GAoptimizer(Vused_wv,Yt,bz,lr,0,k_max,'w')[0]\n",
        "      logl_wv = Lcll(Vused_wv,Yt,beta_wv,0)\n",
        "\n",
        "      #Model with v\n",
        "      beta = GAoptimizer(Vused,Yt,bz,lr,0,k_max,'w')[0]\n",
        "      logl = Lcll(Vused,Yt,beta,0)\n",
        "\n",
        "      gain = AIC(logl,beta) - AIC(logl_wv,beta_wv)  #the sign before the expression is because we are minimizing the loss function\n",
        "\n",
        "      if gain > gain_best:\n",
        "        gain_best = gain\n",
        "        c_best = c\n",
        "      \n",
        "    improvement = (gain_best > 0)\n",
        "    if improvement:\n",
        "      Cused = np.delete(Cused,np.where(Cused == c_best),axis=0)\n",
        "\n",
        "  return Cused"
      ],
      "metadata": {
        "id": "PODm1Cd6kj4O"
      },
      "execution_count": null,
      "outputs": []
    },
    {
      "cell_type": "code",
      "source": [
        "bz = 50 #bathsize\n",
        "lr = 0.01 #learning rate\n",
        "lamda = 0 #regularization rate\n",
        "k_max = 50 #max number of ephocs\n",
        "selected_features_i = backward_search(X_train,y_train,bz,lr,k_max)\n",
        "print('Indices of selected features',selected_features_i,sep='\\n')"
      ],
      "metadata": {
        "colab": {
          "base_uri": "https://localhost:8080/"
        },
        "id": "e9qvhA2ufyHc",
        "outputId": "9c2624f8-d2f5-4b0c-99b5-c1edd951f11e"
      },
      "execution_count": null,
      "outputs": [
        {
          "output_type": "stream",
          "name": "stdout",
          "text": [
            "[ 3  4 12 20 22 24 29 31 34 39 40 41 42 43 44 45 47 48 49 50]\n"
          ]
        }
      ]
    },
    {
      "cell_type": "markdown",
      "source": [
        "Trained model with selected features from backward algorithm"
      ],
      "metadata": {
        "id": "q-YSnmdzXCI9"
      }
    },
    {
      "cell_type": "code",
      "source": [
        "X_train_bs = X_train[:,selected_features_i] #train data on selected features\n",
        "bz = 50 #bathsize\n",
        "lr = 0.01 #learning rate\n",
        "lamda = 0 #regularization rate\n",
        "k_max = 50 #max number of ephocs\n",
        "\n",
        "result_2 = GAoptimizer(X_train_bs,y_train,bz,lr,lamda,k_max,'w')\n",
        "theta_2 = result_2[0]\n",
        "Logls_train_2 = result_2[1]\n",
        "\n",
        "#Graph of loglikelihood on training data\n",
        "plt.title(\"loglikelihood on training data on selected features\")\n",
        "plt.xlabel(\"Epochs\")\n",
        "plt.ylabel(\"loglikelihood\")\n",
        "xlist = range(len(Logls_train_2))\n",
        "ylist = Logls_train_2\n",
        "plt.plot(xlist,ylist)\n",
        "plt.show()"
      ],
      "metadata": {
        "colab": {
          "base_uri": "https://localhost:8080/",
          "height": 295
        },
        "id": "E5aRmE7bjYSo",
        "outputId": "17eaeb9a-ca9f-4c0d-98dc-564ae8abc1c0"
      },
      "execution_count": null,
      "outputs": [
        {
          "output_type": "display_data",
          "data": {
            "image/png": "[encoded data removed]",
            "text/plain": [
              "<Figure size 432x288 with 1 Axes>"
            ]
          },
          "metadata": {
            "needs_background": "light"
          }
        }
      ]
    },
    {
      "cell_type": "markdown",
      "source": [
        "Error on test set"
      ],
      "metadata": {
        "id": "lu1UaAZAlWT2"
      }
    },
    {
      "cell_type": "code",
      "source": [
        "X_test_bs = X_test[:,selected_features_i]  #test data with selected features\n",
        "lamda = 0\n",
        "llog_test = Lcll(X_test_bs,y_test,theta_2,lamda)\n",
        "ca_test = ca(X_test_bs,y_test,theta_2)\n",
        "print('Loglikelihood on test data',llog_test)\n",
        "print('Classification accuracy on test data',ca_test)"
      ],
      "metadata": {
        "colab": {
          "base_uri": "https://localhost:8080/"
        },
        "id": "Drhy6a4JlZXU",
        "outputId": "f855ee20-1d1d-448c-d08c-1c55c04fc32e"
      },
      "execution_count": null,
      "outputs": [
        {
          "output_type": "stream",
          "name": "stdout",
          "text": [
            "Loglikelihood on test data -235.53886888872927\n",
            "Classification accuracy on test data 0.9005524861878453\n"
          ]
        }
      ]
    },
    {
      "cell_type": "markdown",
      "source": [
        "Loglikeihood on test data turned out to being lower that on training data. Is that possible?"
      ],
      "metadata": {
        "id": "tmMpFXhqpaaR"
      }
    },
    {
      "cell_type": "markdown",
      "source": [
        "### Exercise 2: Regularization for Logistic Regression"
      ],
      "metadata": {
        "id": "Iq3DiqBXdaLp"
      }
    },
    {
      "cell_type": "markdown",
      "source": [
        "Hyperparameter tuning is the is the problem of choosing a set of optimal hyperparameters for a learning algorithm"
      ],
      "metadata": {
        "id": "m2noWva0fYxK"
      }
    },
    {
      "cell_type": "markdown",
      "source": [
        "Grid of hyperparameters"
      ],
      "metadata": {
        "id": "lbqYVlMAm8AM"
      }
    },
    {
      "cell_type": "code",
      "source": [
        "lrs = 10.0 ** np.arange(-1,-5,-1) #set of learning rates\n",
        "lamdas = 10.0 ** np.arange(-2,-6,-1) #set of regulatization rates\n",
        "grid = np.array(np.meshgrid(lrs,lamdas)).T.reshape(-1,2)\n",
        "np.random.shuffle(grid)\n",
        "print('Samples of the grid:',grid[:5],sep='\\n')"
      ],
      "metadata": {
        "colab": {
          "base_uri": "https://localhost:8080/"
        },
        "id": "901v3NDjm7Sv",
        "outputId": "bd2960d9-797b-4e52-9774-9d6949da7cbc"
      },
      "execution_count": null,
      "outputs": [
        {
          "output_type": "stream",
          "name": "stdout",
          "text": [
            "Samples of the grid\n",
            "[[1.e-03 1.e-04]\n",
            " [1.e-02 1.e-02]\n",
            " [1.e-03 1.e-05]\n",
            " [1.e-01 1.e-02]\n",
            " [1.e-01 1.e-03]]\n"
          ]
        }
      ]
    },
    {
      "cell_type": "markdown",
      "source": [
        "k-fold cross-validation protocol for grid search"
      ],
      "metadata": {
        "id": "q9UkDIrhrku7"
      }
    },
    {
      "cell_type": "code",
      "source": [
        "#Auxiliary functions\n",
        "\n",
        "#Data splitter\n",
        "def crossval_split(X,y,K,k):\n",
        "  N = X.shape[0]\n",
        "  sup = int(N*(k+1)/K)\n",
        "  inf = int(N*k/K)\n",
        "  X_val = X[inf:sup] #validation data is taken from training data\n",
        "  y_val = y[inf:sup]\n",
        "  X_train = np.concatenate((X[:inf],X[sup:]))\n",
        "  y_train = np.concatenate((y[:inf],y[sup:]))\n",
        "  return X_train, y_train, X_val, y_val\n",
        "\n",
        "#Average erros calculator\n",
        "def crossval_loss(X,y,K,bz,lr,lamda,k_max):\n",
        "  llog = np.zeros(K)\n",
        "  CAcc = np.zeros(K)\n",
        "  for k in range(K):\n",
        "    X_tr, y_tr, X_val, y_val = crossval_split(X,y,K,k)\n",
        "    theta = GAoptimizer(X_tr,y_tr,bz,lr,lamda,k_max,'w')[0]\n",
        "    llog[k] = Lcll(X_val,y_val,theta,lamda)\n",
        "    CAcc[k] = ca(X_val,y_val,theta)\n",
        "  return llog,CAcc\n",
        "\n",
        "#Hyperparameter selector (grid search)\n",
        "def hp_tuning(grid,X,y,K,bz,k_max):\n",
        "  hps = []\n",
        "  for hp in grid:\n",
        "    cv_loss = crossval_loss(X,y,K,bz,lr,lamda,k_max)\n",
        "    cv_llog = cv_loss[0].mean()\n",
        "    cv_ca = cv_loss[1].mean()\n",
        "    hps.append([hp[0],hp[1],cv_llog,cv_ca])\n",
        "  return np.array(hps),cv_loss[0],cv_loss[1]"
      ],
      "metadata": {
        "id": "9dfSAL08gsif"
      },
      "execution_count": null,
      "outputs": []
    },
    {
      "cell_type": "code",
      "source": [
        "K = 5 #number of folds for cross-validation\n",
        "bz = 50 #bathsize\n",
        "k_max = 10 #max number of epochs\n",
        "\n",
        "tunning_result = hp_tuning(grid,X_train_bs,y_train,K,bz,k_max)\n",
        "\n",
        "hps = tunning_result[0] #Tested Hyperparameters\n",
        "best_hps = max(hps, key=lambda hp: hp[2]) #Selected hyperparameters based on lower loglikehood on VALIDATION DATA\n",
        "\n",
        "best_alpha = best_hps[0]\n",
        "best_lamda = best_hps[1]\n",
        "print('Hyperparameter selected using grid search:')\n",
        "print('Best alpha:',best_alpha)\n",
        "print('Best lamda:',best_lamda)"
      ],
      "metadata": {
        "colab": {
          "base_uri": "https://localhost:8080/"
        },
        "id": "RIZpdX25xf0-",
        "outputId": "c6b1c943-e797-439f-8484-4e7c0814cdbe"
      },
      "execution_count": null,
      "outputs": [
        {
          "output_type": "stream",
          "name": "stdout",
          "text": [
            "Hyperparameter selected using grid search:\n",
            "Best alpha: 0.001\n",
            "Best lamda: 0.0001\n"
          ]
        }
      ]
    },
    {
      "cell_type": "markdown",
      "source": [
        "Plot of classification accuracy vs (alpha,lamda)"
      ],
      "metadata": {
        "id": "LIs95fy1sNR4"
      }
    },
    {
      "cell_type": "code",
      "source": [
        "#Slicing of the results obtained from hyperparameter tunning\n",
        "xs = hps[:,0] #alphas\n",
        "ys = hps[:,1] #lamdas\n",
        "zs = hps[:,3] #classification accuracy on validation set\n",
        "fig = plt.figure(figsize=(10,10))\n",
        "ax = plt.axes(projection='3d') #Add an axes to the current figure and make it the current axes\n",
        "ax.set_title(\"Classification accuracy vs (alpha,lamda)\")\n",
        "ax.set_xlabel(\"Learning rate\")\n",
        "ax.set_ylabel(\"Regularization rate\")\n",
        "ax.set_zlabel(\"Classification accuracy\")\n",
        "ax.plot(xs,ys,zs)\n",
        "plt.show()\n"
      ],
      "metadata": {
        "colab": {
          "base_uri": "https://localhost:8080/",
          "height": 575
        },
        "id": "I0wDjsEuesdl",
        "outputId": "6309a4da-0ea0-4232-dcbe-4cf442d039cf"
      },
      "execution_count": null,
      "outputs": [
        {
          "output_type": "display_data",
          "data": {
            "image/png": "[encoded data removed]",
            "text/plain": [
              "<Figure size 720x720 with 1 Axes>"
            ]
          },
          "metadata": {
            "needs_background": "light"
          }
        }
      ]
    },
    {
      "cell_type": "markdown",
      "source": [
        "Retraining of the model with found hyperparameters"
      ],
      "metadata": {
        "id": "ssnrF8yxTY3Z"
      }
    },
    {
      "cell_type": "code",
      "source": [
        "#Hyperparameters\n",
        "bz = 50 #bathsize\n",
        "lr = best_alpha #learning rate\n",
        "lamda = best_lamda #regularization rate\n",
        "k_max = 100 #max number of epochs\n",
        "\n",
        "#Model training\n",
        "result_3 = GAoptimizer(X_train_bs,y_train,bz,lr,lamda,k_max,'w')\n",
        "theta_3 = result_3[0]\n",
        "Logls_train_3 = result_3[1]\n",
        "\n",
        "#Graph of loglikelihood on training data with the best hyperparameters found on grid search\n",
        "plt.title(\"loglikelihood on training data on selected features\")\n",
        "plt.xlabel(\"Epochs\")\n",
        "plt.ylabel(\"loglikelihood\")\n",
        "xlist = range(len(Logls_train_3))\n",
        "ylist = Logls_train_3\n",
        "plt.plot(xlist,ylist)\n",
        "plt.show()"
      ],
      "metadata": {
        "colab": {
          "base_uri": "https://localhost:8080/",
          "height": 295
        },
        "id": "5su8YxPf_nRU",
        "outputId": "d0b5bc2a-b79b-4186-a24f-448394888b5e"
      },
      "execution_count": null,
      "outputs": [
        {
          "output_type": "display_data",
          "data": {
            "image/png": "[encoded data removed]",
            "text/plain": [
              "<Figure size 432x288 with 1 Axes>"
            ]
          },
          "metadata": {
            "needs_background": "light"
          }
        }
      ]
    },
    {
      "cell_type": "markdown",
      "source": [
        "Error on test data"
      ],
      "metadata": {
        "id": "SWxkcHFCis7r"
      }
    },
    {
      "cell_type": "code",
      "source": [
        "lamda = best_lamda\n",
        "llog_test = Lcll(X_test_bs,y_test,theta_3,lamda)\n",
        "ca_test = ca(X_test_bs,y_test,theta_3)\n",
        "print('Loglikelihood on test data',llog_test)\n",
        "print('Classification accuracy on test data',ca_test)"
      ],
      "metadata": {
        "colab": {
          "base_uri": "https://localhost:8080/"
        },
        "id": "IxCtXDXUiuqA",
        "outputId": "484501b7-3d4f-437e-8998-32e97e07c826"
      },
      "execution_count": null,
      "outputs": [
        {
          "output_type": "stream",
          "name": "stdout",
          "text": [
            "Loglikelihood on test data -236.22515508541085\n",
            "Classification accuracy on test data 0.901657458563536\n"
          ]
        }
      ]
    },
    {
      "cell_type": "markdown",
      "source": [
        "Plot of Validation Accuracy and Log-likelihood metrics per k − fold iteration"
      ],
      "metadata": {
        "id": "XVxzG2g03f-H"
      }
    },
    {
      "cell_type": "code",
      "source": [
        "llog = tunning_result[1]\n",
        "CAcc = tunning_result[2]\n",
        "\n",
        "fig, (ax1,ax2) = plt.subplots(nrows=1,ncols=2)\n",
        "#plot error vs i\n",
        "ax1.set_title(\"Loglikelihood vs k-fold\")\n",
        "ax1.set_xlabel(\"k-fold\")\n",
        "ax1.set_ylabel(\"Loglikelihood on validation data\")\n",
        "xlist_1 = range(len(llog))\n",
        "ylist_1 = llog\n",
        "ax1.plot(xlist_1,ylist_1)\n",
        "\n",
        "#plot logloss on test vs i\n",
        "ax2.set_title(\"Accuracy vs k-fold\")\n",
        "ax2.set_xlabel(\"k-fold\")\n",
        "ax2.set_ylabel(\"Accuracy on validation data\")\n",
        "xlist_2 = range(len(CAcc))\n",
        "ylist_2 = CAcc\n",
        "ax2.plot(xlist_2,ylist_2)\n",
        "\n",
        "fig.set_figheight(6)\n",
        "fig.set_figwidth(12)\n",
        "\n",
        "plt.tight_layout(pad=4)\n",
        "plt.show()"
      ],
      "metadata": {
        "colab": {
          "base_uri": "https://localhost:8080/",
          "height": 383
        },
        "id": "9BLh9wfH4OAr",
        "outputId": "e98d5585-4784-4571-d2e6-47abbc70f2e8"
      },
      "execution_count": null,
      "outputs": [
        {
          "output_type": "display_data",
          "data": {
            "image/png": "[encoded data removed]",
            "text/plain": [
              "<Figure size 864x432 with 2 Axes>"
            ]
          },
          "metadata": {
            "needs_background": "light"
          }
        }
      ]
    },
    {
      "cell_type": "markdown",
      "source": [
        "### Exercise 3: Implementing Hyperband for Logistic Regression"
      ],
      "metadata": {
        "id": "M35niS5fqEsY"
      }
    },
    {
      "cell_type": "markdown",
      "source": [
        "Resplit of the data"
      ],
      "metadata": {
        "id": "QDDgdb6-ddZx"
      }
    },
    {
      "cell_type": "code",
      "source": [
        "np.random.seed(3116) #to set the pseudo ramdom number generator\n",
        "\n",
        "N, M = bank_dumm.shape\n",
        "ridx = np.random.permutation(N) #to assure a uniform distribution of the instances in both the training and the data sets\n",
        "\n",
        "ratio1 = 0.7 #percentage of the data used for training the model\n",
        "ratio2 = 0.15 #percentage of the data used for validation\n",
        "split1 = int(N*ratio1)\n",
        "split2 = int(N*(ratio1+ratio2))\n",
        "data_Train = bank_dumm.iloc[ridx[:split1]]\n",
        "data_Valid = bank_dumm.iloc[ridx[split1:split2]]\n",
        "data_Test = bank_dumm.iloc[ridx[split2:]]\n",
        "\n",
        "print(data_Train['y'].value_counts())\n",
        "print(data_Valid['y'].value_counts())\n",
        "print(data_Test['y'].value_counts())\n",
        "\n",
        "output = 'y'\n",
        "X_Train = data_Train.drop(output,axis=1).to_numpy()\n",
        "y_Train = data_Train[output].to_numpy().reshape(-1,1)\n",
        "X_Valid = data_Valid.drop(output,axis=1).to_numpy()\n",
        "y_Valid = data_Valid[output].to_numpy().reshape(-1,1)\n",
        "X_Test = data_Test.drop(output,axis=1).to_numpy()\n",
        "y_Test = data_Test[output].to_numpy().reshape(-1,1)\n",
        "\n",
        "print(X_Train.shape)\n",
        "print(X_Valid.shape)\n",
        "print(X_Test.shape)"
      ],
      "metadata": {
        "colab": {
          "base_uri": "https://localhost:8080/"
        },
        "id": "T8WrxVeKdfmB",
        "outputId": "f98f5baf-9295-42cf-e530-736e1421e956"
      },
      "execution_count": null,
      "outputs": [
        {
          "output_type": "stream",
          "name": "stdout",
          "text": [
            "0    2796\n",
            "1     368\n",
            "Name: y, dtype: int64\n",
            "0    600\n",
            "1     78\n",
            "Name: y, dtype: int64\n",
            "0    604\n",
            "1     75\n",
            "Name: y, dtype: int64\n",
            "(3164, 51)\n",
            "(678, 51)\n",
            "(679, 51)\n"
          ]
        }
      ]
    },
    {
      "cell_type": "markdown",
      "source": [
        "Hyperparameter grid"
      ],
      "metadata": {
        "id": "h2EHpEqqC5uQ"
      }
    },
    {
      "cell_type": "code",
      "source": [
        "#Hyperparameter grid\n",
        "np.random.seed(3116)\n",
        "lrs = 10.0 ** np.arange(-2,-6,-1) #learning rates\n",
        "lamdas = 10.0 ** np.arange(-2,-7,-1) #regularization rates\n",
        "bzs = np.arange(10,50,10) #bath-sizes\n",
        "szcs = np.array(['bd','bt','w']) #step controller algorithms. Reference: bd(bolddriver), bt(backtracking), w(without stepcontroller)\n",
        "grid = np.array(np.meshgrid(bzs,lrs,lamdas,szcs),dtype='O').T.reshape(-1,4) #grid of hyperparameters\n",
        "np.random.shuffle(grid)\n",
        "print('Number of configurations',len(grid))\n",
        "print('Samples of the grid:',grid[:5],sep='\\n')"
      ],
      "metadata": {
        "colab": {
          "base_uri": "https://localhost:8080/"
        },
        "id": "008EyX9Z9POl",
        "outputId": "0818afb6-cc67-4424-e4fb-51b99338e9f5"
      },
      "execution_count": null,
      "outputs": [
        {
          "output_type": "stream",
          "name": "stdout",
          "text": [
            "Number of configurations 240\n",
            "Samples of the grid:\n",
            "[[10 0.01 0.01 'bt']\n",
            " [30 0.001 0.001 'w']\n",
            " [20 0.0001 0.01 'bt']\n",
            " [10 1e-05 0.001 'bt']\n",
            " [30 0.001 0.01 'bt']]\n"
          ]
        }
      ]
    },
    {
      "cell_type": "markdown",
      "source": [
        "Hyperband algorithm"
      ],
      "metadata": {
        "id": "qCFhY67wC-sq"
      }
    },
    {
      "cell_type": "code",
      "source": [
        "#HYPERBAND function\n",
        "def hyperband(X_tr,y_tr,X_val,y_val,grid,R,eta):\n",
        "  s_max = int(np.floor(np.log(R)/np.log(eta)))\n",
        "  B = (s_max+1)*R\n",
        "  hps_s = []\n",
        "  for s in range(s_max,0,-1):\n",
        "    n = int(np.ceil(B/R*(eta**s/(s+1))))\n",
        "    r = R/(eta**s)\n",
        "    #Successivehalving (bracket)\n",
        "    T = get_hyperparameter_configuration(grid,n)\n",
        "    for i in range(s):\n",
        "      n_i = np.floor(n/(eta**i))\n",
        "      r_i = r*eta**i\n",
        "      L = run_then_return_val_loss(X_tr,y_tr,X_val,y_val,T,r_i)\n",
        "      T = top_k(L,int(np.floor(n_i/eta)))\n",
        "    hps_s.append(T[0])\n",
        "  return max(hps_s, key=lambda hp: hp[-1])"
      ],
      "metadata": {
        "id": "Vpm3C0icskhW"
      },
      "execution_count": null,
      "outputs": []
    },
    {
      "cell_type": "code",
      "source": [
        "#Auxiliary functions\n",
        "#Hyperparameters selector\n",
        "def get_hyperparameter_configuration(grid,n):\n",
        "  np.random.seed(3116)\n",
        "  return grid[np.random.randint(grid.shape[0], size=n), :]\n",
        "#Loglikelihood calculator\n",
        "def run_then_return_val_loss(X_tr,y_tr,X_val,y_val,T,r_i):\n",
        "  L = []\n",
        "  k_max = int(np.floor(r_i))\n",
        "  for hps in T:\n",
        "    theta = GAoptimizer(X_tr,y_tr,hps[0],hps[1],hps[2],k_max,hps[3])[0]\n",
        "    Llog = Lcll(X_val,y_val,theta,hps[2])\n",
        "    L.append([hps[0],hps[1],hps[2],hps[3],Llog])\n",
        "  return L\n",
        "#Top k selector\n",
        "def top_k(L,k): \n",
        "  L.sort(reverse=True, key=lambda l: l[4])\n",
        "  return L[:k]"
      ],
      "metadata": {
        "id": "xcVqWu2F8YtF"
      },
      "execution_count": null,
      "outputs": []
    },
    {
      "cell_type": "code",
      "source": [
        "R = 100 #maximum amount of epochs that can be allocated to a single configuration\n",
        "eta = 3 #proportion of configurations discarded in each bracket\n",
        "best_hps = hyperband(X_Train,y_Train,X_Valid,y_Valid,grid,R,eta)\n",
        "print('Selected hyperparameters by Hyperband:',best_hps[:4],sep='\\n')"
      ],
      "metadata": {
        "colab": {
          "base_uri": "https://localhost:8080/"
        },
        "id": "H8Ou5j_89yxk",
        "outputId": "aace693e-f985-49c3-8b6e-dd001956dab3"
      },
      "execution_count": null,
      "outputs": [
        {
          "output_type": "stream",
          "name": "stdout",
          "text": [
            "Selected hyperparameters by Hyperband:\n",
            "[30, 0.01, 1e-05, 'w']\n"
          ]
        }
      ]
    },
    {
      "cell_type": "code",
      "source": [
        "bz = best_hps[0] #selected bathsize\n",
        "lr = best_hps[1] #selected learning rate\n",
        "lamda = best_hps[2] #selected regularization rate\n",
        "stepController = best_hps[3] #selected regularization rate\n",
        "k_max = 50 #max number of epochs\n",
        "\n",
        "#Model training\n",
        "result_4 = GAoptimizer(np.concatenate((X_Train,X_Valid)),np.concatenate((y_Train,y_Valid)),bz,lr,lamda,k_max,stepController)\n",
        "theta_4 = result_4[0]\n",
        "Logls_train_4 = result_4[1]\n",
        "\n",
        "#Graph of loglikelihood on training data with the best hyperparameters found on grid search\n",
        "plt.title(\"loglikelihood on training data\")\n",
        "plt.xlabel(\"Epochs\")\n",
        "plt.ylabel(\"loglikelihood\")\n",
        "xlist = range(len(Logls_train_4))\n",
        "ylist = Logls_train_4\n",
        "plt.plot(xlist,ylist)\n",
        "plt.show()"
      ],
      "metadata": {
        "colab": {
          "base_uri": "https://localhost:8080/",
          "height": 295
        },
        "id": "Qjcmltm62BRy",
        "outputId": "72e7db7a-fe6c-4146-e989-56e3f88679df"
      },
      "execution_count": null,
      "outputs": [
        {
          "output_type": "display_data",
          "data": {
            "image/png": "[encoded data removed]",
            "text/plain": [
              "<Figure size 432x288 with 1 Axes>"
            ]
          },
          "metadata": {
            "needs_background": "light"
          }
        }
      ]
    },
    {
      "cell_type": "markdown",
      "source": [
        "Error on test data"
      ],
      "metadata": {
        "id": "NrWQKbGKGYHp"
      }
    },
    {
      "cell_type": "code",
      "source": [
        "lamda = best_hps[2]\n",
        "llog_test = Lcll(X_Test,y_Test,theta_4,lamda)\n",
        "ca_test = ca(X_Test,y_Test,theta_4)\n",
        "print('Loglikelihood on test data',llog_test)\n",
        "print('Classification accuracy on test data',ca_test)"
      ],
      "metadata": {
        "colab": {
          "base_uri": "https://localhost:8080/"
        },
        "id": "fLiZ0lG_FxLX",
        "outputId": "1ccd5853-c4c6-41ee-f98e-371bac818d2c"
      },
      "execution_count": null,
      "outputs": [
        {
          "output_type": "stream",
          "name": "stdout",
          "text": [
            "Loglikelihood on test data -179.71031921955048\n",
            "Classification accuracy on test data 0.8998527245949927\n"
          ]
        }
      ]
    },
    {
      "cell_type": "markdown",
      "source": [
        "Loglikehood on test data with hyperband selected hyperparameters is lower than loglikehood on test data with hand selected hyperparameters. However, the classification accuracy is almost the same."
      ],
      "metadata": {
        "id": "LETLR0p6M9lw"
      }
    }
  ]
}