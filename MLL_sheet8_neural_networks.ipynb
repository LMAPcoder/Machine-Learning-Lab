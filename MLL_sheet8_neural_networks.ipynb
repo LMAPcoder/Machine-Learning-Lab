{
  "nbformat": 4,
  "nbformat_minor": 0,
  "metadata": {
    "colab": {
      "name": "Exercise_sheet8.ipynb",
      "provenance": [],
      "authorship_tag": "ABX9TyNnX1lRfSmgm1l44cEHifpb",
      "include_colab_link": true
    },
    "kernelspec": {
      "name": "python3",
      "display_name": "Python 3"
    },
    "language_info": {
      "name": "python"
    },
    "accelerator": "GPU"
  },
  "cells": [
    {
      "cell_type": "markdown",
      "metadata": {
        "id": "view-in-github",
        "colab_type": "text"
      },
      "source": [
        "<a href=\"https://colab.research.google.com/github/LMAPcoder/Machine-Learning-Lab/blob/main/Exercise_sheet8.ipynb\" target=\"_parent\"><img src=\"https://colab.research.google.com/assets/colab-badge.svg\" alt=\"Open In Colab\"/></a>"
      ]
    },
    {
      "cell_type": "markdown",
      "source": [
        "#**Lab Programming Machine Learning**"
      ],
      "metadata": {
        "id": "q6eBG1CzMkK4"
      }
    },
    {
      "cell_type": "markdown",
      "source": [
        "## Exercise Sheet 8"
      ],
      "metadata": {
        "id": "3jnrIsRRMoNy"
      }
    },
    {
      "cell_type": "markdown",
      "source": [
        "### Exercise 1: Optical Character Recognition via Neural Networks"
      ],
      "metadata": {
        "id": "Jg5laUglM38-"
      }
    },
    {
      "cell_type": "markdown",
      "source": [
        "Problem: develop a Neural Network model that can classify human-written digits into either of the first 10"
      ],
      "metadata": {
        "id": "uWe8d22QN1ne"
      }
    },
    {
      "cell_type": "code",
      "execution_count": null,
      "metadata": {
        "id": "wksSHQC5MTEi"
      },
      "outputs": [],
      "source": [
        "#Required libraries\n",
        "import pandas as pd\n",
        "import numpy as np\n",
        "import matplotlib.pyplot as plt\n",
        "from sklearn import datasets\n",
        "from sklearn import model_selection\n",
        "from sklearn import neural_network"
      ]
    },
    {
      "cell_type": "markdown",
      "source": [
        "Loading the MNIST digits dataset\n",
        "\n",
        "MNIST is a dataset of hand-written digits. Skilearn provide a copy with 8x8 images"
      ],
      "metadata": {
        "id": "QqXnPXFGdla5"
      }
    },
    {
      "cell_type": "code",
      "source": [
        "X,y = datasets.load_digits(return_X_y=True)"
      ],
      "metadata": {
        "id": "W48Hlm-fVICX"
      },
      "execution_count": null,
      "outputs": []
    },
    {
      "cell_type": "code",
      "source": [
        "fig, ax = plt.subplots(nrows=5, ncols=5, figsize=(8,10))\n",
        "for i in range(5):\n",
        "  for j in range(5):\n",
        "    idx = np.random.randint(X.shape[0])\n",
        "    ax[i,j].set_title(f'Label: {y[idx]}')\n",
        "    ax[i,j].imshow(X[idx].reshape(8,8), cmap='gray_r')\n",
        "    ax[i,j].axes.yaxis.set_visible(False)\n",
        "    ax[i,j].axes.xaxis.set_visible(False)"
      ],
      "metadata": {
        "colab": {
          "base_uri": "https://localhost:8080/",
          "height": 577
        },
        "id": "sRao-XcKpRKF",
        "outputId": "8c3347a5-01ac-4399-bd04-e548e55b9e03"
      },
      "execution_count": null,
      "outputs": [
        {
          "output_type": "display_data",
          "data": {
            "image/png": "[encoded data removed]",
            "text/plain": [
              "<Figure size 576x720 with 25 Axes>"
            ]
          },
          "metadata": {
            "needs_background": "light"
          }
        }
      ]
    },
    {
      "cell_type": "markdown",
      "source": [
        "Splitting of the data into train and test sets"
      ],
      "metadata": {
        "id": "HnGrETrVdzw1"
      }
    },
    {
      "cell_type": "code",
      "source": [
        "X_train, X_test, y_train, y_test = model_selection.train_test_split(X,y,test_size=0.2,shuffle=True)"
      ],
      "metadata": {
        "id": "isIFfrNvbBsx"
      },
      "execution_count": null,
      "outputs": []
    },
    {
      "cell_type": "markdown",
      "source": [
        "Defining a hyperparameter grid for MLPClassifier\n",
        "\n"
      ],
      "metadata": {
        "id": "ciUzg893dgjU"
      }
    },
    {
      "cell_type": "code",
      "source": [
        "grid = {\n",
        "    'hidden_layer_sizes': [(50,),(50,20)], #(k1,k2,...,kn) where ki is the number of nodes per hidden layer. The lengh of the tuple is the number hidden layers (D) \n",
        "    'activation': ['logistic', 'relu'], #Activation function\n",
        "    'alpha': [0.01,0.0001], #L2 regularization rate\n",
        "    #'batch_size': [5,10],\n",
        "    #'learning_rate_init': [0.1,0.01], #Initial learning rate\n",
        "    'momentum': [0.2,0.5,0.8]\n",
        "}"
      ],
      "metadata": {
        "id": "rUOl-DfgeD7C"
      },
      "execution_count": null,
      "outputs": []
    },
    {
      "cell_type": "markdown",
      "source": [
        "Random Search"
      ],
      "metadata": {
        "id": "d3ibVH_EeCVn"
      }
    },
    {
      "cell_type": "code",
      "source": [
        "%%time\n",
        "clf = neural_network.MLPClassifier(\n",
        "    learning_rate='constant', #Learning rate type\n",
        "    max_iter=500, #Maximum number of ephocs\n",
        "    validation_fraction=0.2,\n",
        "    shuffle=False\n",
        "    )\n",
        "\n",
        "GS = model_selection.RandomizedSearchCV(\n",
        "    estimator=clf, #model\n",
        "    param_distributions=grid, #dictionary with hyperparameters\n",
        "    n_iter=5, #number of parameter settings that are sampled\n",
        "    cv=5, #K-fold cross validation\n",
        "    return_train_score=True #training score\n",
        ")\n",
        "\n",
        "GS.fit(X_train, y_train) "
      ],
      "metadata": {
        "colab": {
          "base_uri": "https://localhost:8080/"
        },
        "id": "z8vfzSGbcgqw",
        "outputId": "d7f74017-6497-4637-9c97-5c60749abc1d"
      },
      "execution_count": null,
      "outputs": [
        {
          "output_type": "stream",
          "name": "stdout",
          "text": [
            "CPU times: user 43.8 s, sys: 31.2 s, total: 1min 15s\n",
            "Wall time: 38.4 s\n"
          ]
        }
      ]
    },
    {
      "cell_type": "markdown",
      "source": [
        "Accuracy on test data"
      ],
      "metadata": {
        "id": "oFfulLckeSxz"
      }
    },
    {
      "cell_type": "code",
      "source": [
        "#Classification Accuracy value\n",
        "accuracy = lambda y1,y2: (y1 == y2).mean()"
      ],
      "metadata": {
        "id": "I5BH76fSHkx8"
      },
      "execution_count": null,
      "outputs": []
    },
    {
      "cell_type": "code",
      "source": [
        "GS.best_estimator_"
      ],
      "metadata": {
        "colab": {
          "base_uri": "https://localhost:8080/"
        },
        "id": "GxfITsB5HDTp",
        "outputId": "9bc5a25e-4d3f-400b-8586-b6dc6b96d69f"
      },
      "execution_count": null,
      "outputs": [
        {
          "output_type": "execute_result",
          "data": {
            "text/plain": [
              "MLPClassifier(activation='logistic', hidden_layer_sizes=(50,), max_iter=500,\n",
              "              momentum=0.8, shuffle=False, validation_fraction=0.2)"
            ]
          },
          "metadata": {},
          "execution_count": 15
        }
      ]
    },
    {
      "cell_type": "code",
      "source": [
        "GS.best_estimator_\n",
        "y_test_pred = GS.best_estimator_.predict(X_test)"
      ],
      "metadata": {
        "id": "IYwZJJVyeVD7"
      },
      "execution_count": null,
      "outputs": []
    },
    {
      "cell_type": "code",
      "source": [
        "accuracy(y_test,y_test_pred)"
      ],
      "metadata": {
        "colab": {
          "base_uri": "https://localhost:8080/"
        },
        "id": "UPqfbIgKHqxD",
        "outputId": "8c266e99-99b8-44b1-c4cb-31a425c625d4"
      },
      "execution_count": null,
      "outputs": [
        {
          "output_type": "execute_result",
          "data": {
            "text/plain": [
              "0.9777777777777777"
            ]
          },
          "metadata": {},
          "execution_count": 17
        }
      ]
    },
    {
      "cell_type": "markdown",
      "source": [
        "### Exercise 2: End-to-End Self-Driving via Convolutional Neural Networks"
      ],
      "metadata": {
        "id": "uBHyR9WkNRMq"
      }
    },
    {
      "cell_type": "code",
      "source": [
        "#Required libraries\n",
        "import pandas as pd\n",
        "import numpy as np\n",
        "import zipfile as zpf\n",
        "import os"
      ],
      "metadata": {
        "id": "IdIEAbkx-dgi"
      },
      "execution_count": null,
      "outputs": []
    },
    {
      "cell_type": "markdown",
      "source": [
        "Loading the data from Kaggle"
      ],
      "metadata": {
        "id": "3z31_BzrhAHx"
      }
    },
    {
      "cell_type": "code",
      "source": [
        "#Adding Kaggle credential into Kaggle directory\n",
        "!mkdir ~/.kaggle\n",
        "!echo '{\"username\":\"leomap\",\"key\":\"7eab106b53509e204b3efd3235b4cca1\"}' > ~/.kaggle/kaggle.json\n",
        "!chmod 600 ~/.kaggle/kaggle.json  # set permissions"
      ],
      "metadata": {
        "id": "6VwOtpm-0ldF"
      },
      "execution_count": null,
      "outputs": []
    },
    {
      "cell_type": "code",
      "source": [
        "%%time\n",
        "#Download dataset from Kaggle\n",
        "!kaggle datasets download -d 'asrsaiteja/car-steering-angle-prediction'"
      ],
      "metadata": {
        "colab": {
          "base_uri": "https://localhost:8080/"
        },
        "id": "oR3KnKOhz-sX",
        "outputId": "20f0fd4f-0080-4b4f-86a1-4f64f57d3dff"
      },
      "execution_count": null,
      "outputs": [
        {
          "output_type": "stream",
          "name": "stdout",
          "text": [
            "Downloading car-steering-angle-prediction.zip to /content\n",
            " 99% 2.15G/2.17G [00:38<00:00, 54.1MB/s]\n",
            "100% 2.17G/2.17G [00:38<00:00, 59.7MB/s]\n",
            "CPU times: user 393 ms, sys: 69 ms, total: 462 ms\n",
            "Wall time: 40.3 s\n"
          ]
        }
      ]
    },
    {
      "cell_type": "code",
      "source": [
        "%%time\n",
        "#Unzipping files\n",
        "zip_file = zpf.ZipFile('car-steering-angle-prediction.zip')\n",
        "zip_file.extractall(path='/content', pwd=None)\n",
        "zip_file.close()"
      ],
      "metadata": {
        "id": "zVqEejUb_KLj",
        "colab": {
          "base_uri": "https://localhost:8080/"
        },
        "outputId": "062cf0d7-4744-4f00-d4f0-7c618959ba22"
      },
      "execution_count": null,
      "outputs": [
        {
          "output_type": "stream",
          "name": "stdout",
          "text": [
            "CPU times: user 14.6 s, sys: 4.58 s, total: 19.2 s\n",
            "Wall time: 34.7 s\n"
          ]
        }
      ]
    },
    {
      "cell_type": "markdown",
      "source": [
        "Exploring the data"
      ],
      "metadata": {
        "id": "J_M0cqLGBahX"
      }
    },
    {
      "cell_type": "code",
      "source": [
        "files_path = '/content/driving_dataset/'\n",
        "files_list = os.listdir(files_path)\n",
        "\n",
        "print('Number of files',len(files_list))\n",
        "print('Files example:',files_list[:3])"
      ],
      "metadata": {
        "id": "rpKk44vObD1N",
        "colab": {
          "base_uri": "https://localhost:8080/"
        },
        "outputId": "11c2d0cf-affe-4434-caec-e1b63338b0f8"
      },
      "execution_count": null,
      "outputs": [
        {
          "output_type": "stream",
          "name": "stdout",
          "text": [
            "Number of files 45569\n",
            "Files example: ['5586.jpg', '33043.jpg', '38432.jpg']\n"
          ]
        }
      ]
    },
    {
      "cell_type": "code",
      "source": [
        "from IPython.display import Image, display\n",
        "display(Image(filename=f'{files_path}/24.jpg'))\n",
        "\n",
        "# from PIL import Image\n",
        "# im = Image.open(f'{files_path}/31973.jpg')\n",
        "# im.show()"
      ],
      "metadata": {
        "id": "7CeiJcMgghAu",
        "colab": {
          "base_uri": "https://localhost:8080/",
          "height": 273
        },
        "outputId": "4d52deca-6916-4465-a275-fb17324b1072"
      },
      "execution_count": null,
      "outputs": [
        {
          "output_type": "display_data",
          "data": {
            "image/jpeg": "[encoded data removed]",
            "text/plain": [
              "<IPython.core.display.Image object>"
            ]
          },
          "metadata": {}
        }
      ]
    },
    {
      "cell_type": "code",
      "source": [
        "angles = pd.read_csv(filepath_or_buffer=f'{files_path}/angles.txt',sep=' ',header=None)\n",
        "print(len(angles))\n",
        "angles.head()"
      ],
      "metadata": {
        "colab": {
          "base_uri": "https://localhost:8080/",
          "height": 224
        },
        "id": "gMOJrTLuBsFH",
        "outputId": "5de9625a-ffb4-4d80-a4f5-d4391a93151b"
      },
      "execution_count": null,
      "outputs": [
        {
          "output_type": "stream",
          "name": "stdout",
          "text": [
            "45406\n"
          ]
        },
        {
          "output_type": "execute_result",
          "data": {
            "text/html": [
              "\n",
              "  <div id=\"df-37f92ed1-24a2-4f3c-acc5-4065f636256a\">\n",
              "    <div class=\"colab-df-container\">\n",
              "      <div>\n",
              "<style scoped>\n",
              "    .dataframe tbody tr th:only-of-type {\n",
              "        vertical-align: middle;\n",
              "    }\n",
              "\n",
              "    .dataframe tbody tr th {\n",
              "        vertical-align: top;\n",
              "    }\n",
              "\n",
              "    .dataframe thead th {\n",
              "        text-align: right;\n",
              "    }\n",
              "</style>\n",
              "<table border=\"1\" class=\"dataframe\">\n",
              "  <thead>\n",
              "    <tr style=\"text-align: right;\">\n",
              "      <th></th>\n",
              "      <th>0</th>\n",
              "      <th>1</th>\n",
              "    </tr>\n",
              "  </thead>\n",
              "  <tbody>\n",
              "    <tr>\n",
              "      <th>0</th>\n",
              "      <td>0.jpg</td>\n",
              "      <td>0.0</td>\n",
              "    </tr>\n",
              "    <tr>\n",
              "      <th>1</th>\n",
              "      <td>1.jpg</td>\n",
              "      <td>0.0</td>\n",
              "    </tr>\n",
              "    <tr>\n",
              "      <th>2</th>\n",
              "      <td>2.jpg</td>\n",
              "      <td>0.0</td>\n",
              "    </tr>\n",
              "    <tr>\n",
              "      <th>3</th>\n",
              "      <td>3.jpg</td>\n",
              "      <td>0.0</td>\n",
              "    </tr>\n",
              "    <tr>\n",
              "      <th>4</th>\n",
              "      <td>4.jpg</td>\n",
              "      <td>0.0</td>\n",
              "    </tr>\n",
              "  </tbody>\n",
              "</table>\n",
              "</div>\n",
              "      <button class=\"colab-df-convert\" onclick=\"convertToInteractive('df-37f92ed1-24a2-4f3c-acc5-4065f636256a')\"\n",
              "              title=\"Convert this dataframe to an interactive table.\"\n",
              "              style=\"display:none;\">\n",
              "        \n",
              "  <svg xmlns=\"http://www.w3.org/2000/svg\" height=\"24px\"viewBox=\"0 0 24 24\"\n",
              "       width=\"24px\">\n",
              "    <path d=\"M0 0h24v24H0V0z\" fill=\"none\"/>\n",
              "    <path d=\"M18.56 5.44l.94 2.06.94-2.06 2.06-.94-2.06-.94-.94-2.06-.94 2.06-2.06.94zm-11 1L8.5 8.5l.94-2.06 2.06-.94-2.06-.94L8.5 2.5l-.94 2.06-2.06.94zm10 10l.94 2.06.94-2.06 2.06-.94-2.06-.94-.94-2.06-.94 2.06-2.06.94z\"/><path d=\"M17.41 7.96l-1.37-1.37c-.4-.4-.92-.59-1.43-.59-.52 0-1.04.2-1.43.59L10.3 9.45l-7.72 7.72c-.78.78-.78 2.05 0 2.83L4 21.41c.39.39.9.59 1.41.59.51 0 1.02-.2 1.41-.59l7.78-7.78 2.81-2.81c.8-.78.8-2.07 0-2.86zM5.41 20L4 18.59l7.72-7.72 1.47 1.35L5.41 20z\"/>\n",
              "  </svg>\n",
              "      </button>\n",
              "      \n",
              "  <style>\n",
              "    .colab-df-container {\n",
              "      display:flex;\n",
              "      flex-wrap:wrap;\n",
              "      gap: 12px;\n",
              "    }\n",
              "\n",
              "    .colab-df-convert {\n",
              "      background-color: #E8F0FE;\n",
              "      border: none;\n",
              "      border-radius: 50%;\n",
              "      cursor: pointer;\n",
              "      display: none;\n",
              "      fill: #1967D2;\n",
              "      height: 32px;\n",
              "      padding: 0 0 0 0;\n",
              "      width: 32px;\n",
              "    }\n",
              "\n",
              "    .colab-df-convert:hover {\n",
              "      background-color: #E2EBFA;\n",
              "      box-shadow: 0px 1px 2px rgba(60, 64, 67, 0.3), 0px 1px 3px 1px rgba(60, 64, 67, 0.15);\n",
              "      fill: #174EA6;\n",
              "    }\n",
              "\n",
              "    [theme=dark] .colab-df-convert {\n",
              "      background-color: #3B4455;\n",
              "      fill: #D2E3FC;\n",
              "    }\n",
              "\n",
              "    [theme=dark] .colab-df-convert:hover {\n",
              "      background-color: #434B5C;\n",
              "      box-shadow: 0px 1px 3px 1px rgba(0, 0, 0, 0.15);\n",
              "      filter: drop-shadow(0px 1px 2px rgba(0, 0, 0, 0.3));\n",
              "      fill: #FFFFFF;\n",
              "    }\n",
              "  </style>\n",
              "\n",
              "      <script>\n",
              "        const buttonEl =\n",
              "          document.querySelector('#df-37f92ed1-24a2-4f3c-acc5-4065f636256a button.colab-df-convert');\n",
              "        buttonEl.style.display =\n",
              "          google.colab.kernel.accessAllowed ? 'block' : 'none';\n",
              "\n",
              "        async function convertToInteractive(key) {\n",
              "          const element = document.querySelector('#df-37f92ed1-24a2-4f3c-acc5-4065f636256a');\n",
              "          const dataTable =\n",
              "            await google.colab.kernel.invokeFunction('convertToInteractive',\n",
              "                                                     [key], {});\n",
              "          if (!dataTable) return;\n",
              "\n",
              "          const docLinkHtml = 'Like what you see? Visit the ' +\n",
              "            '<a target=\"_blank\" href=https://colab.research.google.com/notebooks/data_table.ipynb>data table notebook</a>'\n",
              "            + ' to learn more about interactive tables.';\n",
              "          element.innerHTML = '';\n",
              "          dataTable['output_type'] = 'display_data';\n",
              "          await google.colab.output.renderOutput(dataTable, element);\n",
              "          const docLink = document.createElement('div');\n",
              "          docLink.innerHTML = docLinkHtml;\n",
              "          element.appendChild(docLink);\n",
              "        }\n",
              "      </script>\n",
              "    </div>\n",
              "  </div>\n",
              "  "
            ],
            "text/plain": [
              "       0    1\n",
              "0  0.jpg  0.0\n",
              "1  1.jpg  0.0\n",
              "2  2.jpg  0.0\n",
              "3  3.jpg  0.0\n",
              "4  4.jpg  0.0"
            ]
          },
          "metadata": {},
          "execution_count": 10
        }
      ]
    },
    {
      "cell_type": "markdown",
      "source": [
        "Creating the dataset"
      ],
      "metadata": {
        "id": "Dekkg4zmgzaD"
      }
    },
    {
      "cell_type": "code",
      "source": [
        "#Importing more librarie\n",
        "import torch\n",
        "import torch.nn as nn\n",
        "from torchvision.transforms import ToTensor, functional\n",
        "from torch.utils.data import DataLoader, Dataset, SubsetRandomSampler\n",
        "from PIL import Image"
      ],
      "metadata": {
        "id": "taJbiLrJV2g1"
      },
      "execution_count": null,
      "outputs": []
    },
    {
      "cell_type": "code",
      "source": [
        "#This callable class take the images from the directory and convert them into tensors within a dataset object\n",
        "class Dataset(Dataset): #Inherits from torch.utils.data.Dataset\n",
        "    def __init__(self,files_path):\n",
        "        #default directory where data is loaded\n",
        "        self.filepath = files_path\n",
        "        # self.filenames = os.listdir(self.filepath)\n",
        "\n",
        "    def __len__(self):\n",
        "        return len(angles)\n",
        "\n",
        "    def __getitem__(self, index): #map-style dataset\n",
        "        filename = angles.iloc[index,0]\n",
        "        #Resizing images to (32, 32)\n",
        "        #resized = cv2.resize(img, (32, 32), interpolation = cv2.INTER_AREA)\n",
        "        #torch.from_numpy(resized.transpose()).float(), torch.rand(1)\n",
        "        img = Image.open(self.filepath + filename)\n",
        "        img = functional.resize(img, size=[66,200])\n",
        "        return ToTensor()(img).float(),angles.iloc[index,1]\n",
        "        "
      ],
      "metadata": {
        "id": "hRVsL0IdWRO7"
      },
      "execution_count": null,
      "outputs": []
    },
    {
      "cell_type": "code",
      "source": [
        "files_path = '/content/driving_dataset/'\n",
        "dataset = Dataset(files_path)"
      ],
      "metadata": {
        "id": "PcPQdZujWtvk"
      },
      "execution_count": null,
      "outputs": []
    },
    {
      "cell_type": "code",
      "source": [
        "import matplotlib.pyplot as plt\n",
        "img, label = dataset[24]\n",
        "print(img.shape, label)\n",
        "plt.imshow(img.permute(1, 2, 0))"
      ],
      "metadata": {
        "colab": {
          "base_uri": "https://localhost:8080/",
          "height": 198
        },
        "id": "L4M39goKArdr",
        "outputId": "3196db21-18be-4b6b-8e62-a3f760831763"
      },
      "execution_count": null,
      "outputs": [
        {
          "output_type": "stream",
          "name": "stdout",
          "text": [
            "torch.Size([3, 66, 200]) 11.7\n"
          ]
        },
        {
          "output_type": "execute_result",
          "data": {
            "text/plain": [
              "<matplotlib.image.AxesImage at 0x7f7eb82c3ed0>"
            ]
          },
          "metadata": {},
          "execution_count": 61
        },
        {
          "output_type": "display_data",
          "data": {
            "image/png": "[encoded data removed]",
            "text/plain": [
              "<Figure size 432x288 with 1 Axes>"
            ]
          },
          "metadata": {
            "needs_background": "light"
          }
        }
      ]
    },
    {
      "cell_type": "markdown",
      "source": [
        "Splitting the dataset"
      ],
      "metadata": {
        "id": "HZqbnVrdglNB"
      }
    },
    {
      "cell_type": "code",
      "source": [
        "#This function generates random distributed indices and allocate them in three buckets: train, validation and test\n",
        "def split_indices(N,ratio_train,ratio_valid):\n",
        "    split_train = int(N*ratio_train)\n",
        "    split_valid = int(N*(ratio_train+ratio_valid))\n",
        "    indices = list(range(N))\n",
        "    np.random.seed(3116)\n",
        "    np.random.shuffle(indices)\n",
        "    return indices[0:split_train], indices[split_train:split_valid], indices[split_valid:]"
      ],
      "metadata": {
        "id": "lbbRtZkdgBrB"
      },
      "execution_count": null,
      "outputs": []
    },
    {
      "cell_type": "code",
      "source": [
        "N = len(dataset)\n",
        "ratio_train = 0.6\n",
        "ratio_valid = 0.18 #this ratio was selected in order to set aside 10.000 images \n",
        "train_indices, valid_indices, test_indices = split_indices(N,ratio_train,ratio_valid)\n",
        "print('test indices length:',len(test_indices))"
      ],
      "metadata": {
        "colab": {
          "base_uri": "https://localhost:8080/"
        },
        "id": "DV8zE_GGiVHT",
        "outputId": "ba11b6d0-e69a-45d1-9cc5-f70f9bb57f82"
      },
      "execution_count": null,
      "outputs": [
        {
          "output_type": "stream",
          "name": "stdout",
          "text": [
            "test indices length: 9990\n"
          ]
        }
      ]
    },
    {
      "cell_type": "code",
      "source": [
        "#splitting the data into batches\n",
        "batch_size = 60\n",
        "train_sampler = SubsetRandomSampler(train_indices)\n",
        "train_loader = DataLoader(dataset,\n",
        "                           batch_size,\n",
        "                           sampler = train_sampler)\n",
        "valid_sampler = SubsetRandomSampler(valid_indices)\n",
        "valid_loader = DataLoader(dataset, \n",
        "                           batch_size,\n",
        "                           sampler = valid_sampler)\n",
        "test_sampler = SubsetRandomSampler(test_indices)\n",
        "test_loader = DataLoader(dataset, \n",
        "                            batch_size,\n",
        "                            sampler = test_sampler)\n",
        "print(train_loader)"
      ],
      "metadata": {
        "colab": {
          "base_uri": "https://localhost:8080/"
        },
        "id": "nruQIjFzib47",
        "outputId": "2adfa4f1-d3c2-48b0-fcc7-19f874249aab"
      },
      "execution_count": null,
      "outputs": [
        {
          "output_type": "stream",
          "name": "stdout",
          "text": [
            "<torch.utils.data.dataloader.DataLoader object at 0x7f7ec11ba550>\n"
          ]
        }
      ]
    },
    {
      "cell_type": "code",
      "source": [
        "for i, sample_batched in enumerate(train_loader):\n",
        "  print('features',sample_batched[0].shape) #bach size (N), channels (C), height (H), width (W)\n",
        "  print('targets',sample_batched[1].shape) #batch size (N)\n",
        "  break"
      ],
      "metadata": {
        "colab": {
          "base_uri": "https://localhost:8080/"
        },
        "id": "gYVs9jVw0DW5",
        "outputId": "76e74abc-66a1-40cc-d4dd-686ad7b39e14"
      },
      "execution_count": null,
      "outputs": [
        {
          "output_type": "stream",
          "name": "stdout",
          "text": [
            "features torch.Size([60, 3, 66, 200])\n",
            "targets torch.Size([60])\n"
          ]
        }
      ]
    },
    {
      "cell_type": "markdown",
      "source": [
        "Defining the CNN model"
      ],
      "metadata": {
        "id": "UqNVZ6a1gpGG"
      }
    },
    {
      "cell_type": "code",
      "source": [
        "class ConvNet(nn.Module): #Inherits from torch.nn.Module\n",
        "    def __init__(self):\n",
        "        super(ConvNet, self).__init__() #equivalent to use super().__init__(self)?\n",
        "        \n",
        "        self.cnn_layers = nn.Sequential(\n",
        "            nn.LayerNorm([3,66,200]), #Normalization\n",
        "            #input channel, output channel (RGB=3) (number of filters), kernel size, stride, padding\n",
        "            nn.Conv2d(3, 24, 5, 2), #Convolutial feature map\n",
        "            nn.Conv2d(24, 36, 5, 2), \n",
        "            nn.Conv2d(36, 48, 5, 2),\n",
        "            nn.Conv2d(48, 64, 3),\n",
        "            nn.Conv2d(64, 64, 3),\n",
        "            nn.Flatten() #flatten the tensors within the batches\n",
        "        )\n",
        "         \n",
        "        self.linear_layers = nn.Sequential(\n",
        "            nn.Linear(1152,100), #input size, output size\n",
        "            nn.ELU(),\n",
        "            nn.Linear(100 ,50),\n",
        "            nn.ELU(),\n",
        "            nn.Linear(50 ,10),\n",
        "            nn.ELU(),\n",
        "            nn.Linear(10 ,1)\n",
        "        )\n",
        "        \n",
        "    def forward(self, x):\n",
        "        x = self.cnn_layers(x)\n",
        "        x = x.view(x.shape[0],-1) #return a copy\n",
        "        x = self.linear_layers(x)\n",
        "        x = x.view(len(x))\n",
        "        return x"
      ],
      "metadata": {
        "id": "pUjZF4-6ijLg"
      },
      "execution_count": null,
      "outputs": []
    },
    {
      "cell_type": "markdown",
      "source": [
        "Loading data and model on GPU\n",
        "\n",
        "Credits: Aakash Rao"
      ],
      "metadata": {
        "id": "wMZd9KtLSmH4"
      }
    },
    {
      "cell_type": "code",
      "source": [
        "def get_default_device():\n",
        "    \"\"\"Pick GPU if available, else CPU\"\"\"\n",
        "    if torch.cuda.is_available():\n",
        "        return torch.device('cuda')\n",
        "    else:\n",
        "        return torch.device('cpu')"
      ],
      "metadata": {
        "id": "y1V_oFsYu8o1"
      },
      "execution_count": null,
      "outputs": []
    },
    {
      "cell_type": "code",
      "source": [
        "device = get_default_device()\n",
        "device"
      ],
      "metadata": {
        "colab": {
          "base_uri": "https://localhost:8080/"
        },
        "id": "ribXqPt0UttF",
        "outputId": "d70fc924-9d61-4d86-f804-1c5f2e8c4f74"
      },
      "execution_count": null,
      "outputs": [
        {
          "output_type": "execute_result",
          "data": {
            "text/plain": [
              "device(type='cuda')"
            ]
          },
          "metadata": {},
          "execution_count": 24
        }
      ]
    },
    {
      "cell_type": "code",
      "source": [
        "def to_device(data, device):\n",
        "    \"\"\"Move tensor(s) to chosen device\"\"\"\n",
        "    if isinstance(data, (list,tuple)): #this condition allows us to work not only with simply tensors but with list of tensor\n",
        "        return [to_device(x, device) for x in data]\n",
        "    return data.to(device, non_blocking=True)"
      ],
      "metadata": {
        "id": "o3_jft2JSrZH"
      },
      "execution_count": null,
      "outputs": []
    },
    {
      "cell_type": "code",
      "source": [
        "class DeviceDataLoader():\n",
        "    \"\"\"Wrap a dataloader to move data to a device\"\"\"\n",
        "    def __init__(self, dl, device):\n",
        "        self.dl = dl\n",
        "        self.device = device\n",
        "        \n",
        "    def __iter__(self):\n",
        "        \"\"\"Yield a batch of data after moving it to device\"\"\"\n",
        "        for b in self.dl: \n",
        "            yield to_device(b, self.device) #yield retain the items\n",
        "\n",
        "    def __len__(self):\n",
        "        \"\"\"Number of batches\"\"\"\n",
        "        return len(self.dl)"
      ],
      "metadata": {
        "id": "UQfaRf9oGnrp"
      },
      "execution_count": null,
      "outputs": []
    },
    {
      "cell_type": "code",
      "source": [
        "#Loading data on GPU\n",
        "train_loader = DeviceDataLoader(train_loader, device)\n",
        "valid_loader = DeviceDataLoader(valid_loader, device)\n",
        "test_loader = DeviceDataLoader(test_loader, device)"
      ],
      "metadata": {
        "id": "Mu0_t4BYRp3j"
      },
      "execution_count": null,
      "outputs": []
    },
    {
      "cell_type": "markdown",
      "source": [
        "Inizializating model and training"
      ],
      "metadata": {
        "id": "LYPXPZGeSy9Q"
      }
    },
    {
      "cell_type": "code",
      "source": [
        "net = ConvNet()\n",
        "to_device(net,device) #loading model on GPU\n",
        "optimizer = torch.optim.Adam(net.parameters(), lr = 0.01)\n",
        "loss_fn = nn.MSELoss()"
      ],
      "metadata": {
        "id": "nQSyN7Q2inJX"
      },
      "execution_count": null,
      "outputs": []
    },
    {
      "cell_type": "code",
      "source": [
        "#Root Mean Square Error\n",
        "def RMSE(loader):\n",
        "  mse = 0\n",
        "  with torch.no_grad():\n",
        "    for xb,yb in loader:\n",
        "      preds = net(xb)\n",
        "      mse += loss_fn(preds,yb.float())\n",
        "  rmse = torch.sqrt(mse)\n",
        "  return rmse.item()"
      ],
      "metadata": {
        "id": "RCKRj_wOLkEK"
      },
      "execution_count": null,
      "outputs": []
    },
    {
      "cell_type": "code",
      "source": [
        "def fit(epochs, model, loss_fn, opt, train_loader):\n",
        "  for epoch in range(epochs):\n",
        "    model.train()\n",
        "    for idx,(xb,yb) in enumerate(train_loader):\n",
        "      opt.zero_grad() #to prevent accumulation\n",
        "      preds = model(xb)\n",
        "      loss = loss_fn(preds,yb.float())\n",
        "      # print('batch:',idx,'loss: ',loss.item())\n",
        "      loss.backward()\n",
        "      opt.step()\n",
        "    print('epoch:',epoch,'RMSE: ',RMSE(train_loader))"
      ],
      "metadata": {
        "id": "YKHZND2sCzq3"
      },
      "execution_count": null,
      "outputs": []
    },
    {
      "cell_type": "code",
      "source": [
        "%%time\n",
        "epochs = 5\n",
        "fit(epochs, net, loss_fn, optimizer, train_loader)"
      ],
      "metadata": {
        "colab": {
          "base_uri": "https://localhost:8080/"
        },
        "id": "J3DHDF7dDDaf",
        "outputId": "12263ca9-2dab-43fd-be2d-75bca8705d5a"
      },
      "execution_count": null,
      "outputs": [
        {
          "output_type": "stream",
          "name": "stdout",
          "text": [
            "epoch: 0 RMSE:  654.2206420898438\n",
            "epoch: 1 RMSE:  654.215087890625\n",
            "epoch: 2 RMSE:  654.3999633789062\n",
            "epoch: 3 RMSE:  654.334228515625\n",
            "epoch: 4 RMSE:  654.2410278320312\n",
            "CPU times: user 14min 28s, sys: 11.5 s, total: 14min 40s\n",
            "Wall time: 14min 37s\n"
          ]
        }
      ]
    },
    {
      "cell_type": "markdown",
      "source": [
        "Test accuracy"
      ],
      "metadata": {
        "id": "EJuOZdqEfrBi"
      }
    },
    {
      "cell_type": "code",
      "source": [
        "RMSE(test_loader)"
      ],
      "metadata": {
        "colab": {
          "base_uri": "https://localhost:8080/"
        },
        "id": "VVh_Dmimc0WY",
        "outputId": "1ca8b30d-8e36-4042-cd78-957a5327e760"
      },
      "execution_count": null,
      "outputs": [
        {
          "output_type": "execute_result",
          "data": {
            "text/plain": [
              "391.6792907714844"
            ]
          },
          "metadata": {},
          "execution_count": 47
        }
      ]
    }
  ]
}
