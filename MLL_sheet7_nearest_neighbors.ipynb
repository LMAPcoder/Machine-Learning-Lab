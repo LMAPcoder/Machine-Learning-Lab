{
  "cells": [
    {
      "cell_type": "markdown",
      "metadata": {
        "id": "view-in-github",
        "colab_type": "text"
      },
      "source": [
        "<a href=\"https://colab.research.google.com/github/LMAPcoder/Machine-Learning-Lab/blob/main/Exercise_sheet7.ipynb\" target=\"_parent\"><img src=\"https://colab.research.google.com/assets/colab-badge.svg\" alt=\"Open In Colab\"/></a>"
      ]
    },
    {
      "cell_type": "markdown",
      "metadata": {
        "id": "gN7i2LjXuIIE"
      },
      "source": [
        "#**Lab Programming Machine Learning**"
      ]
    },
    {
      "cell_type": "markdown",
      "metadata": {
        "id": "CVZbusF0vgAk"
      },
      "source": [
        "## Exercise Sheet 7"
      ]
    },
    {
      "cell_type": "markdown",
      "metadata": {
        "id": "QrV5tYw-Y-bZ"
      },
      "source": [
        "Introduction\n",
        "\n",
        "Time series data is a collection of observations obtained through repeated measurements over time.\n",
        "\n",
        "Time Series Classification is a problem where the overall goal is to identify a time series as coming from one of possibly many sources (classes), using labeled training data.\n",
        "\n",
        "The UCR Time Series Archive is a repository of time series datasets from various domains, commonly used for benchmarking time series algorithms.\n",
        "\n",
        "Each of the data sets comes in two parts, a TRAIN partition and a TEST partition. The first value in the row is the class label (an integer between 1 and the number of classes). The rest of the row are the data sample values."
      ]
    },
    {
      "cell_type": "markdown",
      "metadata": {
        "id": "rwFXUfR0vn8N"
      },
      "source": [
        "### Exercise 0: Dataset Preprocessing"
      ]
    },
    {
      "cell_type": "code",
      "execution_count": null,
      "metadata": {
        "id": "BUdktNNNQgi_"
      },
      "outputs": [],
      "source": [
        "import pandas as pd\n",
        "import zipfile as zpf\n",
        "import numpy as np\n",
        "import scipy.spatial as spatial"
      ]
    },
    {
      "cell_type": "code",
      "execution_count": null,
      "metadata": {
        "colab": {
          "base_uri": "https://localhost:8080/"
        },
        "id": "n35FtSE3t8Kp",
        "outputId": "a3584607-6393-4734-a014-1655d8ef45bf"
      },
      "outputs": [
        {
          "output_type": "stream",
          "name": "stdout",
          "text": [
            "--2022-01-01 14:45:50--  https://www.cs.ucr.edu/~eamonn/time_series_data_2018/UCRArchive_2018.zip\n",
            "Resolving www.cs.ucr.edu (www.cs.ucr.edu)... 169.235.30.15\n",
            "Connecting to www.cs.ucr.edu (www.cs.ucr.edu)|169.235.30.15|:443... connected.\n",
            "HTTP request sent, awaiting response... 200 OK\n",
            "Length: 316175400 (302M) [application/zip]\n",
            "Saving to: ‘UCRArchive_2018.zip’\n",
            "\n",
            "UCRArchive_2018.zip 100%[===================>] 301.53M  84.2MB/s    in 3.8s    \n",
            "\n",
            "2022-01-01 14:45:54 (78.4 MB/s) - ‘UCRArchive_2018.zip’ saved [316175400/316175400]\n",
            "\n"
          ]
        }
      ],
      "source": [
        "#Uploading the file\n",
        "!wget --no-check-certificate 'https://www.cs.ucr.edu/~eamonn/time_series_data_2018/UCRArchive_2018.zip' -O UCRArchive_2018.zip"
      ]
    },
    {
      "cell_type": "code",
      "execution_count": null,
      "metadata": {
        "colab": {
          "base_uri": "https://localhost:8080/"
        },
        "id": "5WwoQoCHzr4_",
        "outputId": "4b467cb5-0d68-4477-ff29-1e617d26a236"
      },
      "outputs": [
        {
          "output_type": "stream",
          "name": "stdout",
          "text": [
            "CPU times: user 8min 9s, sys: 1.98 s, total: 8min 11s\n",
            "Wall time: 8min 35s\n"
          ]
        }
      ],
      "source": [
        "%%time\n",
        "#Extration of datasets from UCRArchive_2018.zip\n",
        "zip_file = zpf.ZipFile('UCRArchive_2018.zip')\n",
        "dfs = {tsv_file.filename: pd.read_csv(zip_file.open(tsv_file.filename,pwd=b'someone'), sep='\\t', header=None) #b'string' transform string into bytes\n",
        "       for tsv_file in zip_file.infolist()\n",
        "       if tsv_file.filename.endswith('.tsv')}\n",
        "zip_file.close()"
      ]
    },
    {
      "cell_type": "code",
      "execution_count": null,
      "metadata": {
        "id": "sxie5MQL4miv"
      },
      "outputs": [],
      "source": [
        "#Creation of a dictionary with datasets names as keys and merged dataframes (TRAIN+TEST) as values\n",
        "dfns = {}\n",
        "for dfk in dfs.keys():\n",
        "  if dfk.find('Missing_value_and_variable_length_datasets_adjusted') > -1:\n",
        "    continue\n",
        "  dot_p = dfk.rfind('.')\n",
        "  uds_p = dfk.rfind('_')\n",
        "  slh_p = dfk.rfind('/')\n",
        "  dfn = dfk[slh_p+1:uds_p] #dataframe name\n",
        "  if dfn in dfns.keys(): #check if the dataframe name is already a key of the dictionary\n",
        "    dfns[dfn].append(dfk) #append a df path to the list\n",
        "  else:\n",
        "    dfns[dfn] = [dfk] #add a new key-value pair(key: df name, value: list[df path]\n",
        "dfs_merged = {}\n",
        "for dfn in dfns.keys():\n",
        "  dfs_merged[dfn] = pd.concat([dfs[dfns[dfn][0]],dfs[dfns[dfn][1]]],ignore_index=True) #concatenate the dataframes in dfs within the lists"
      ]
    },
    {
      "cell_type": "markdown",
      "metadata": {
        "id": "w5PLzR1SrA-g"
      },
      "source": [
        "Data sets. Small description"
      ]
    },
    {
      "cell_type": "code",
      "execution_count": null,
      "metadata": {
        "colab": {
          "base_uri": "https://localhost:8080/",
          "height": 441
        },
        "id": "gY2htmuB0Ox6",
        "outputId": "0d5ee945-0d5a-4992-a36d-f7a7cf30e6f9"
      },
      "outputs": [
        {
          "output_type": "stream",
          "name": "stdout",
          "text": [
            "Number of datasets 128\n"
          ]
        },
        {
          "output_type": "execute_result",
          "data": {
            "text/html": [
              "\n",
              "  <div id=\"df-05b5d54e-e289-4456-9007-b07afac0d7c2\">\n",
              "    <div class=\"colab-df-container\">\n",
              "      <div>\n",
              "<style scoped>\n",
              "    .dataframe tbody tr th:only-of-type {\n",
              "        vertical-align: middle;\n",
              "    }\n",
              "\n",
              "    .dataframe tbody tr th {\n",
              "        vertical-align: top;\n",
              "    }\n",
              "\n",
              "    .dataframe thead th {\n",
              "        text-align: right;\n",
              "    }\n",
              "</style>\n",
              "<table border=\"1\" class=\"dataframe\">\n",
              "  <thead>\n",
              "    <tr style=\"text-align: right;\">\n",
              "      <th></th>\n",
              "      <th>Times series length</th>\n",
              "      <th>Number of samples</th>\n",
              "      <th>Number of classes</th>\n",
              "      <th>Number of NaN</th>\n",
              "    </tr>\n",
              "  </thead>\n",
              "  <tbody>\n",
              "    <tr>\n",
              "      <th>ACSF1</th>\n",
              "      <td>1461</td>\n",
              "      <td>200</td>\n",
              "      <td>10</td>\n",
              "      <td>0</td>\n",
              "    </tr>\n",
              "    <tr>\n",
              "      <th>Adiac</th>\n",
              "      <td>177</td>\n",
              "      <td>781</td>\n",
              "      <td>37</td>\n",
              "      <td>0</td>\n",
              "    </tr>\n",
              "    <tr>\n",
              "      <th>AllGestureWiimoteX</th>\n",
              "      <td>501</td>\n",
              "      <td>1000</td>\n",
              "      <td>10</td>\n",
              "      <td>375263</td>\n",
              "    </tr>\n",
              "    <tr>\n",
              "      <th>AllGestureWiimoteY</th>\n",
              "      <td>501</td>\n",
              "      <td>1000</td>\n",
              "      <td>10</td>\n",
              "      <td>375263</td>\n",
              "    </tr>\n",
              "    <tr>\n",
              "      <th>AllGestureWiimoteZ</th>\n",
              "      <td>501</td>\n",
              "      <td>1000</td>\n",
              "      <td>10</td>\n",
              "      <td>375263</td>\n",
              "    </tr>\n",
              "    <tr>\n",
              "      <th>...</th>\n",
              "      <td>...</td>\n",
              "      <td>...</td>\n",
              "      <td>...</td>\n",
              "      <td>...</td>\n",
              "    </tr>\n",
              "    <tr>\n",
              "      <th>Wine</th>\n",
              "      <td>235</td>\n",
              "      <td>111</td>\n",
              "      <td>2</td>\n",
              "      <td>0</td>\n",
              "    </tr>\n",
              "    <tr>\n",
              "      <th>WordSynonyms</th>\n",
              "      <td>271</td>\n",
              "      <td>905</td>\n",
              "      <td>25</td>\n",
              "      <td>0</td>\n",
              "    </tr>\n",
              "    <tr>\n",
              "      <th>Worms</th>\n",
              "      <td>901</td>\n",
              "      <td>258</td>\n",
              "      <td>5</td>\n",
              "      <td>0</td>\n",
              "    </tr>\n",
              "    <tr>\n",
              "      <th>WormsTwoClass</th>\n",
              "      <td>901</td>\n",
              "      <td>258</td>\n",
              "      <td>2</td>\n",
              "      <td>0</td>\n",
              "    </tr>\n",
              "    <tr>\n",
              "      <th>Yoga</th>\n",
              "      <td>427</td>\n",
              "      <td>3300</td>\n",
              "      <td>2</td>\n",
              "      <td>0</td>\n",
              "    </tr>\n",
              "  </tbody>\n",
              "</table>\n",
              "<p>128 rows × 4 columns</p>\n",
              "</div>\n",
              "      <button class=\"colab-df-convert\" onclick=\"convertToInteractive('df-05b5d54e-e289-4456-9007-b07afac0d7c2')\"\n",
              "              title=\"Convert this dataframe to an interactive table.\"\n",
              "              style=\"display:none;\">\n",
              "        \n",
              "  <svg xmlns=\"http://www.w3.org/2000/svg\" height=\"24px\"viewBox=\"0 0 24 24\"\n",
              "       width=\"24px\">\n",
              "    <path d=\"M0 0h24v24H0V0z\" fill=\"none\"/>\n",
              "    <path d=\"M18.56 5.44l.94 2.06.94-2.06 2.06-.94-2.06-.94-.94-2.06-.94 2.06-2.06.94zm-11 1L8.5 8.5l.94-2.06 2.06-.94-2.06-.94L8.5 2.5l-.94 2.06-2.06.94zm10 10l.94 2.06.94-2.06 2.06-.94-2.06-.94-.94-2.06-.94 2.06-2.06.94z\"/><path d=\"M17.41 7.96l-1.37-1.37c-.4-.4-.92-.59-1.43-.59-.52 0-1.04.2-1.43.59L10.3 9.45l-7.72 7.72c-.78.78-.78 2.05 0 2.83L4 21.41c.39.39.9.59 1.41.59.51 0 1.02-.2 1.41-.59l7.78-7.78 2.81-2.81c.8-.78.8-2.07 0-2.86zM5.41 20L4 18.59l7.72-7.72 1.47 1.35L5.41 20z\"/>\n",
              "  </svg>\n",
              "      </button>\n",
              "      \n",
              "  <style>\n",
              "    .colab-df-container {\n",
              "      display:flex;\n",
              "      flex-wrap:wrap;\n",
              "      gap: 12px;\n",
              "    }\n",
              "\n",
              "    .colab-df-convert {\n",
              "      background-color: #E8F0FE;\n",
              "      border: none;\n",
              "      border-radius: 50%;\n",
              "      cursor: pointer;\n",
              "      display: none;\n",
              "      fill: #1967D2;\n",
              "      height: 32px;\n",
              "      padding: 0 0 0 0;\n",
              "      width: 32px;\n",
              "    }\n",
              "\n",
              "    .colab-df-convert:hover {\n",
              "      background-color: #E2EBFA;\n",
              "      box-shadow: 0px 1px 2px rgba(60, 64, 67, 0.3), 0px 1px 3px 1px rgba(60, 64, 67, 0.15);\n",
              "      fill: #174EA6;\n",
              "    }\n",
              "\n",
              "    [theme=dark] .colab-df-convert {\n",
              "      background-color: #3B4455;\n",
              "      fill: #D2E3FC;\n",
              "    }\n",
              "\n",
              "    [theme=dark] .colab-df-convert:hover {\n",
              "      background-color: #434B5C;\n",
              "      box-shadow: 0px 1px 3px 1px rgba(0, 0, 0, 0.15);\n",
              "      filter: drop-shadow(0px 1px 2px rgba(0, 0, 0, 0.3));\n",
              "      fill: #FFFFFF;\n",
              "    }\n",
              "  </style>\n",
              "\n",
              "      <script>\n",
              "        const buttonEl =\n",
              "          document.querySelector('#df-05b5d54e-e289-4456-9007-b07afac0d7c2 button.colab-df-convert');\n",
              "        buttonEl.style.display =\n",
              "          google.colab.kernel.accessAllowed ? 'block' : 'none';\n",
              "\n",
              "        async function convertToInteractive(key) {\n",
              "          const element = document.querySelector('#df-05b5d54e-e289-4456-9007-b07afac0d7c2');\n",
              "          const dataTable =\n",
              "            await google.colab.kernel.invokeFunction('convertToInteractive',\n",
              "                                                     [key], {});\n",
              "          if (!dataTable) return;\n",
              "\n",
              "          const docLinkHtml = 'Like what you see? Visit the ' +\n",
              "            '<a target=\"_blank\" href=https://colab.research.google.com/notebooks/data_table.ipynb>data table notebook</a>'\n",
              "            + ' to learn more about interactive tables.';\n",
              "          element.innerHTML = '';\n",
              "          dataTable['output_type'] = 'display_data';\n",
              "          await google.colab.output.renderOutput(dataTable, element);\n",
              "          const docLink = document.createElement('div');\n",
              "          docLink.innerHTML = docLinkHtml;\n",
              "          element.appendChild(docLink);\n",
              "        }\n",
              "      </script>\n",
              "    </div>\n",
              "  </div>\n",
              "  "
            ],
            "text/plain": [
              "                    Times series length  ...  Number of NaN\n",
              "ACSF1                              1461  ...              0\n",
              "Adiac                               177  ...              0\n",
              "AllGestureWiimoteX                  501  ...         375263\n",
              "AllGestureWiimoteY                  501  ...         375263\n",
              "AllGestureWiimoteZ                  501  ...         375263\n",
              "...                                 ...  ...            ...\n",
              "Wine                                235  ...              0\n",
              "WordSynonyms                        271  ...              0\n",
              "Worms                               901  ...              0\n",
              "WormsTwoClass                       901  ...              0\n",
              "Yoga                                427  ...              0\n",
              "\n",
              "[128 rows x 4 columns]"
            ]
          },
          "metadata": {},
          "execution_count": 12
        }
      ],
      "source": [
        "print('Number of datasets',len(dfs_merged))\n",
        "statis = pd.DataFrame(0,index=dfs_merged.keys(),columns=['Times series length','Number of samples','Number of classes','Number of NaN'])\n",
        "for dfk in dfs_merged.keys():\n",
        "  df = dfs_merged[dfk]\n",
        "  statis.at[dfk,'Times series length'] = len(df.columns-1)\n",
        "  statis.at[dfk,'Number of samples'] = len(df)\n",
        "  statis.at[dfk,'Number of classes'] = df[0].nunique()\n",
        "  statis.at[dfk,'Number of NaN'] = df.isna().values.sum()\n",
        "statis.sort_index()"
      ]
    },
    {
      "cell_type": "code",
      "source": [
        "statis.sort_values(by='Times series length',ascending=False).plot(kind='barh',figsize=(20,30),subplots=True,layout=(1,4),sharex=False,sharey=True)\n"
      ],
      "metadata": {
        "colab": {
          "base_uri": "https://localhost:8080/",
          "height": 1000
        },
        "id": "p4CfHml-LKuN",
        "outputId": "5501a5f3-10d4-47d4-aa62-581c9c0c9539"
      },
      "execution_count": null,
      "outputs": [
        {
          "output_type": "execute_result",
          "data": {
            "text/plain": [
              "array([[<matplotlib.axes._subplots.AxesSubplot object at 0x7fa906470450>,\n",
              "        <matplotlib.axes._subplots.AxesSubplot object at 0x7fa90643ca90>,\n",
              "        <matplotlib.axes._subplots.AxesSubplot object at 0x7fa9063ed290>,\n",
              "        <matplotlib.axes._subplots.AxesSubplot object at 0x7fa906404610>]],\n",
              "      dtype=object)"
            ]
          },
          "metadata": {},
          "execution_count": 35
        },
        {
          "output_type": "display_data",
          "data": {
            "image/png": "[encoded data removed]",
            "text/plain": [
              "<Figure size 1440x2160 with 4 Axes>"
            ]
          },
          "metadata": {
            "needs_background": "light"
          }
        }
      ]
    },
    {
      "cell_type": "markdown",
      "metadata": {
        "id": "sCwPt9eRG1WE"
      },
      "source": [
        "Splitting the data"
      ]
    },
    {
      "cell_type": "code",
      "execution_count": null,
      "metadata": {
        "id": "qqcuFiUptXfs"
      },
      "outputs": [],
      "source": [
        "# Input: dataframe, ratio of training data, ratio od validation data\n",
        "# Output: 2-3 dataframes split accordingly\n",
        "def data_partition(df,train_ratio,valid_ratio=None):\n",
        "  N, M = df.shape\n",
        "  df_sample = df.sample(frac=1,random_state=3116) #Return a random sample of items from an axis of object\n",
        "  split1 = int(N*train_ratio)\n",
        "  data_Train = df_sample[:split1]\n",
        "\n",
        "  if valid_ratio is None:\n",
        "    data_Test = df_sample[split1:]\n",
        "    return data_Train,data_Test\n",
        "  else:\n",
        "    split2 = int(N*(train_ratio+valid_ratio))\n",
        "    data_Valid = df_sample[split1:split2]\n",
        "    data_Test = df_sample[split2:]\n",
        "    return data_Train,data_Test,data_Valid"
      ]
    },
    {
      "cell_type": "code",
      "execution_count": null,
      "metadata": {
        "id": "zNnmktswW6Jt"
      },
      "outputs": [],
      "source": [
        "#Split of each dataframe into train, validation and test datasets. The dictionaries that hold the datasets portions are the values of the main dictionary\n",
        "dfs_resplit = {}\n",
        "for dfk in dfs_merged.keys():\n",
        "  resplit_data = data_partition(dfs_merged[dfk],0.7,0.15)\n",
        "  dfs_resplit[dfk] = {'TRAIN':resplit_data[0],'TEST':resplit_data[1],'VALID':resplit_data[2]}"
      ]
    },
    {
      "cell_type": "markdown",
      "metadata": {
        "id": "gIKPeWhambqx"
      },
      "source": [
        "Standarization of the datasets"
      ]
    },
    {
      "cell_type": "code",
      "execution_count": null,
      "metadata": {
        "id": "Ig0LsA-IoEXF"
      },
      "outputs": [],
      "source": [
        "#Standarization of each of the datasets. Separately\n",
        "dfs_stand = {}\n",
        "for dfn in dfs_resplit.keys():\n",
        "  dfps = {}\n",
        "  for dfp in dfs_resplit[dfn].keys():\n",
        "    df = dfs_resplit[dfn][dfp].drop(0,axis=1)\n",
        "    df = (df-df.mean())/df.std()\n",
        "    df[0] = dfs_resplit[dfn][dfp][0]\n",
        "    dfps[dfp] = df\n",
        "  dfs_stand[dfn] = dfps"
      ]
    },
    {
      "cell_type": "markdown",
      "metadata": {
        "id": "iBTT-huyXrdZ"
      },
      "source": [
        "### Exercise 1: Dataset Imputation with KNN"
      ]
    },
    {
      "cell_type": "markdown",
      "metadata": {
        "id": "JjIuVi7UYGAC"
      },
      "source": [
        "Imputation is the process of replacing missing data with substituted values. Although there are many methods that can be used, the k-nearest neighbor (KNN) algorithm has proven to be generally effective."
      ]
    },
    {
      "cell_type": "markdown",
      "metadata": {
        "id": "diOi6EsTtgbn"
      },
      "source": [
        "List the datasets having missing values"
      ]
    },
    {
      "cell_type": "code",
      "execution_count": null,
      "metadata": {
        "colab": {
          "base_uri": "https://localhost:8080/"
        },
        "id": "_gxt22gtX2Bv",
        "outputId": "b19d4476-9ca7-4fca-e590-f7f4559d2ed3"
      },
      "outputs": [
        {
          "output_type": "stream",
          "name": "stdout",
          "text": [
            "1 Name ShakeGestureWiimoteZ ; Time series length: 386 ; Number of samples: 100 ; Number of missing values: 21768\n",
            "2 Name AllGestureWiimoteZ ; Time series length: 501 ; Number of samples: 1000 ; Number of missing values: 375263\n",
            "3 Name PLAID ; Time series length: 1345 ; Number of samples: 1074 ; Number of missing values: 1094025\n",
            "4 Name PickupGestureWiimoteZ ; Time series length: 362 ; Number of samples: 100 ; Number of missing values: 21529\n",
            "5 Name MelbournePedestrian ; Time series length: 25 ; Number of samples: 3633 ; Number of missing values: 253\n",
            "6 Name DodgerLoopWeekend ; Time series length: 289 ; Number of samples: 158 ; Number of missing values: 337\n",
            "7 Name AllGestureWiimoteX ; Time series length: 501 ; Number of samples: 1000 ; Number of missing values: 375263\n",
            "8 Name DodgerLoopGame ; Time series length: 289 ; Number of samples: 158 ; Number of missing values: 337\n",
            "9 Name GesturePebbleZ1 ; Time series length: 456 ; Number of samples: 304 ; Number of missing values: 71655\n",
            "10 Name GestureMidAirD3 ; Time series length: 361 ; Number of samples: 338 ; Number of missing values: 65067\n",
            "11 Name GestureMidAirD2 ; Time series length: 361 ; Number of samples: 338 ; Number of missing values: 65067\n",
            "12 Name DodgerLoopDay ; Time series length: 289 ; Number of samples: 158 ; Number of missing values: 337\n",
            "13 Name AllGestureWiimoteY ; Time series length: 501 ; Number of samples: 1000 ; Number of missing values: 375263\n",
            "14 Name GesturePebbleZ2 ; Time series length: 456 ; Number of samples: 304 ; Number of missing values: 71655\n",
            "15 Name GestureMidAirD1 ; Time series length: 361 ; Number of samples: 338 ; Number of missing values: 65067\n"
          ]
        }
      ],
      "source": [
        "dfs_nan = {}\n",
        "i = 0\n",
        "for dfk in dfs_merged.keys():\n",
        "  p_na = dfs_merged[dfk].isnull().values.any() #presence of missing values\n",
        "  if p_na:\n",
        "    dfs_nan[dfk] = dfs_merged[dfk]\n",
        "    ts_length = len(dfs_merged[dfk].columns-1)\n",
        "    n_samples = len(dfs_merged[dfk])\n",
        "    n_na = dfs_merged[dfk].isnull().sum().sum()\n",
        "    i += 1\n",
        "    print(i,'Name',dfk,'; Time series length:',ts_length,'; Number of samples:',n_samples,'; Number of missing values:',n_na)"
      ]
    },
    {
      "cell_type": "markdown",
      "metadata": {
        "id": "5AzbPxnQam92"
      },
      "source": [
        "kNN imputation on datasets with missing values"
      ]
    },
    {
      "cell_type": "code",
      "execution_count": null,
      "metadata": {
        "id": "7xgoSfzBlqPG"
      },
      "outputs": [],
      "source": [
        "# Input: dataframe used as training dataset, instance (row), distance measure\n",
        "# Output: numpy array of distances between the instance and each of the samples of the dataframe\n",
        "def distance(df,instance,distype):\n",
        "  distances = list()\n",
        "  if distype == 'euclidean':\n",
        "    for index, row in df.iterrows():\n",
        "      d = (((instance-row)**2).sum())**(1/2)\n",
        "      distances.append([index,d])\n",
        "  else:\n",
        "    for index, row in df.iterrows():\n",
        "      d = spatial.distance.pdist([row,instance], metric=distype)[0]\n",
        "      distances.append([index,d])\n",
        "  return np.array(distances)\n",
        "\n",
        "# Input: dataframe used as training dataset, instance (row), number for neighbors to take, distance measure\n",
        "# Output: numpy array of size K with the indices of the k-nearest neighbors to the instance in the dataframe\n",
        "def knns_v1(df,instance,k,distype): #set of k nearest rows of the dataframe to the instance\n",
        "  D = distance(df,instance,distype)\n",
        "  C_idxs = D[np.argsort(D[:,1])][:,0][:k].astype(int) #sorted array in ascending order\n",
        "  return C_idxs"
      ]
    },
    {
      "cell_type": "code",
      "execution_count": null,
      "metadata": {
        "id": "p432MCh0YC9D"
      },
      "outputs": [],
      "source": [
        "# Input: dataframe used as training dataset, instance (row), distance measure\n",
        "# Output: numpy array of distances between the instance and each of the samples of the dataframe\n",
        "\n",
        "#This is a second version of the above algorithm that proved to be three times faster\n",
        "\n",
        "def knns_v2(df,instance,K,distype):\n",
        "  D = np.empty([K,2]) #initialization of distance array. It is a 2D array with indices and distances\n",
        "  i = 0\n",
        "  for index, row in df.iterrows():\n",
        "    d = spatial.distance.pdist([row,instance], metric=distype)[0]\n",
        "    if i <= K: #the first K distances are directly placed into the distance array\n",
        "      if i < K:\n",
        "        D[i] = [index,d]\n",
        "        i += 1\n",
        "        continue\n",
        "      else:\n",
        "        D = D[np.argsort(D[:,1])] #the first K distances are sorted\n",
        "        DK = D[K-1,1]\n",
        "        i += 1\n",
        "    if d < DK: #the new calculated distances are compared only to the last and bigger value of the distance array\n",
        "      D[K-1] = [index,d]\n",
        "      D = D[np.argsort(D[:,1])] #when a new distance is added, the array is sorted again\n",
        "      DK = D[K-1,1]\n",
        "  C_idxs = D[:,0].astype(int)\n",
        "  return C_idxs"
      ]
    },
    {
      "cell_type": "code",
      "execution_count": null,
      "metadata": {
        "id": "6pwV4V1yamtB"
      },
      "outputs": [],
      "source": [
        "# Input: dataframe with missing values, distance measure\n",
        "# Output: fixed dataframe with no missing values\n",
        "def KNNImputator(df,k,distype='euclidean'):\n",
        "  df_fixed = df.copy()\n",
        "  for c in df.columns: #iterate through columns\n",
        "    rs = df[df[c].isna()] #selecting the rows of dataframe with missing values in the column\n",
        "    if len(rs) == 0:\n",
        "      continue\n",
        "    for index, row in rs.iterrows():\n",
        "      na = row.isna() #boolean series identiying missing values within the row\n",
        "      cwona = [i for i in na.index if na[i] == False] #columns where the row has no missing values\n",
        "      #df[cwona] #sub dataframe with columns where the row has no missing values\n",
        "      sdf = df[cwona][np.invert(df[cwona + [c]].isna().any(axis=1))] #sub dataframe with columns and rows with no missing values\n",
        "      #row[cwona] #sub row with column with no missing values\n",
        "      C_idxs = knns_v2(sdf,row[cwona],k,distype) #indeces of the k-nearest instances\n",
        "      v = df.loc[C_idxs][c].sum()/k #predicted value for the missing value. Mean of the k-nearest instances\n",
        "      df_fixed.at[index,c] = v\n",
        "  return df_fixed"
      ]
    },
    {
      "cell_type": "markdown",
      "metadata": {
        "id": "fZB-etTrakm4"
      },
      "source": [
        "K-Nearest Neighbour classifier"
      ]
    },
    {
      "cell_type": "code",
      "execution_count": null,
      "metadata": {
        "id": "g7YmHaqybBm9"
      },
      "outputs": [],
      "source": [
        "# Input: dataframe used as training dataset (df1), dataframe whose class we need to predict (df2), distance measure\n",
        "# Output: dataframe with predicted class by k-nearest neighbors\n",
        "def KNNClassifier_v1(df1,df2,k,distype='euclidean'): #Brute force classifier\n",
        "  np.random.seed(3116)\n",
        "  y_pred = pd.Series(index=df2.index,dtype=float) #class vector\n",
        "  df1woc = df1.drop(0,axis=1) #class column is drop\n",
        "  df2woc = df2.drop(0,axis=1) #class column is drop\n",
        "  for index, row in df2woc.iterrows():\n",
        "    C_idxs = knns_v2(df1woc,row,k,distype) #array of indices of the K-nearest neighbors to the instance of df2 (row)\n",
        "    C = df1.loc[C_idxs]\n",
        "    y_pred.loc[index] = np.random.choice(C[0].mode()) #when the series of classes is multimodal, the selection is random\n",
        "  df2woc[0] = y_pred\n",
        "  return df2woc"
      ]
    },
    {
      "cell_type": "code",
      "execution_count": null,
      "metadata": {
        "id": "QSmwS3Hih258"
      },
      "outputs": [],
      "source": [
        "#Classification Accuracy value\n",
        "accuracy = lambda df1,df2: (df1[0] == df2[0]).mean()"
      ]
    },
    {
      "cell_type": "markdown",
      "metadata": {
        "id": "gBUoHRgMvVgO"
      },
      "source": [
        "Grid search\n",
        "\n",
        "Warning: for this task I only used three datasets (the smallest ones) with missing values because of the limited computational capacity I have. Moreover, for imputation I used the whole datasets that I then split to perform the classification."
      ]
    },
    {
      "cell_type": "code",
      "execution_count": null,
      "metadata": {
        "colab": {
          "base_uri": "https://localhost:8080/"
        },
        "id": "TvY8VAYSMUtw",
        "outputId": "a5b1b8f9-98f1-465d-b462-9be1a080c90a"
      },
      "outputs": [
        {
          "output_type": "stream",
          "name": "stdout",
          "text": [
            "CPU times: user 2min 28s, sys: 1.05 s, total: 2min 30s\n",
            "Wall time: 2min 39s\n"
          ]
        }
      ],
      "source": [
        "%%time\n",
        "K_imput = np.arange(1,5,1) #set of Ks (nearest-neighbors) used for imputation\n",
        "K_class = np.arange(1,5,1) #set of Ks (nearest-neighbors) used for classification\n",
        "datasets = ['DodgerLoopWeekend','DodgerLoopGame','DodgerLoopDay'] #datasets with missing values to use\n",
        "\n",
        "acc_grid = pd.DataFrame(0,index=K_imput,columns=K_class,dtype=float) #accuracy grid\n",
        "acc_grid.columns.name = 'K_i'\n",
        "acc_grid.index.name = 'K_c'\n",
        "\n",
        "dfs_nan_repaired = {}\n",
        "for k_i in K_imput:\n",
        "  \n",
        "  #Imputation loop\n",
        "  for dfk in datasets:\n",
        "    dfs_nan_repaired[dfk] = KNNImputator(dfs_nan[dfk],k_i)\n",
        "  \n",
        "  #Resplit loop\n",
        "  dfs_nan_resplit = {}\n",
        "  for dfk in datasets:\n",
        "    resplit_df = data_partition(dfs_nan_repaired[dfk],0.7,0.15)\n",
        "    dfs_nan_resplit[dfk] = {'TRAIN':resplit_df[0],'TEST':resplit_df[1],'VALID':resplit_df[2]}\n",
        "\n",
        "  #Classification loop\n",
        "  for k_c in K_class:\n",
        "    accuracies = list()\n",
        "    for dfk in datasets:\n",
        "      train_df = dfs_nan_resplit[dfk]['TRAIN']\n",
        "      valid_df = dfs_nan_resplit[dfk]['VALID']\n",
        "      pred_df = KNNClassifier_v1(train_df,valid_df,k_c)\n",
        "      accuracy_df = accuracy(valid_df,pred_df)\n",
        "      accuracies.append(accuracy_df)\n",
        "    acc_grid.at[k_i,k_c] = np.mean(accuracies)"
      ]
    },
    {
      "cell_type": "code",
      "source": [
        "acc_grid.style.background_gradient(cmap='Blues',axis=None)"
      ],
      "metadata": {
        "colab": {
          "base_uri": "https://localhost:8080/",
          "height": 206
        },
        "id": "_MwSi1yRCwDu",
        "outputId": "393ae598-6784-4575-fb8a-e9e60e773725"
      },
      "execution_count": null,
      "outputs": [
        {
          "output_type": "execute_result",
          "data": {
            "text/html": [
              "<style  type=\"text/css\" >\n",
              "#T_20dc5a72_6b1e_11ec_937c_0242ac1c0002row0_col0,#T_20dc5a72_6b1e_11ec_937c_0242ac1c0002row1_col0,#T_20dc5a72_6b1e_11ec_937c_0242ac1c0002row2_col0,#T_20dc5a72_6b1e_11ec_937c_0242ac1c0002row3_col0{\n",
              "            background-color:  #f7fbff;\n",
              "            color:  #000000;\n",
              "        }#T_20dc5a72_6b1e_11ec_937c_0242ac1c0002row0_col1,#T_20dc5a72_6b1e_11ec_937c_0242ac1c0002row1_col1,#T_20dc5a72_6b1e_11ec_937c_0242ac1c0002row2_col1,#T_20dc5a72_6b1e_11ec_937c_0242ac1c0002row3_col1{\n",
              "            background-color:  #deebf7;\n",
              "            color:  #000000;\n",
              "        }#T_20dc5a72_6b1e_11ec_937c_0242ac1c0002row0_col2,#T_20dc5a72_6b1e_11ec_937c_0242ac1c0002row1_col2,#T_20dc5a72_6b1e_11ec_937c_0242ac1c0002row2_col2,#T_20dc5a72_6b1e_11ec_937c_0242ac1c0002row3_col2{\n",
              "            background-color:  #9dcae1;\n",
              "            color:  #000000;\n",
              "        }#T_20dc5a72_6b1e_11ec_937c_0242ac1c0002row0_col3{\n",
              "            background-color:  #2070b4;\n",
              "            color:  #f1f1f1;\n",
              "        }#T_20dc5a72_6b1e_11ec_937c_0242ac1c0002row1_col3,#T_20dc5a72_6b1e_11ec_937c_0242ac1c0002row2_col3,#T_20dc5a72_6b1e_11ec_937c_0242ac1c0002row3_col3{\n",
              "            background-color:  #08306b;\n",
              "            color:  #f1f1f1;\n",
              "        }</style><table id=\"T_20dc5a72_6b1e_11ec_937c_0242ac1c0002\" class=\"dataframe\"><thead>    <tr>        <th class=\"index_name level0\" >K_i</th>        <th class=\"col_heading level0 col0\" >1</th>        <th class=\"col_heading level0 col1\" >2</th>        <th class=\"col_heading level0 col2\" >3</th>        <th class=\"col_heading level0 col3\" >4</th>    </tr>    <tr>        <th class=\"index_name level0\" >K_c</th>        <th class=\"blank\" ></th>        <th class=\"blank\" ></th>        <th class=\"blank\" ></th>        <th class=\"blank\" ></th>    </tr></thead><tbody>\n",
              "                <tr>\n",
              "                        <th id=\"T_20dc5a72_6b1e_11ec_937c_0242ac1c0002level0_row0\" class=\"row_heading level0 row0\" >1</th>\n",
              "                        <td id=\"T_20dc5a72_6b1e_11ec_937c_0242ac1c0002row0_col0\" class=\"data row0 col0\" >0.805556</td>\n",
              "                        <td id=\"T_20dc5a72_6b1e_11ec_937c_0242ac1c0002row0_col1\" class=\"data row0 col1\" >0.819444</td>\n",
              "                        <td id=\"T_20dc5a72_6b1e_11ec_937c_0242ac1c0002row0_col2\" class=\"data row0 col2\" >0.847222</td>\n",
              "                        <td id=\"T_20dc5a72_6b1e_11ec_937c_0242ac1c0002row0_col3\" class=\"data row0 col3\" >0.888889</td>\n",
              "            </tr>\n",
              "            <tr>\n",
              "                        <th id=\"T_20dc5a72_6b1e_11ec_937c_0242ac1c0002level0_row1\" class=\"row_heading level0 row1\" >2</th>\n",
              "                        <td id=\"T_20dc5a72_6b1e_11ec_937c_0242ac1c0002row1_col0\" class=\"data row1 col0\" >0.805556</td>\n",
              "                        <td id=\"T_20dc5a72_6b1e_11ec_937c_0242ac1c0002row1_col1\" class=\"data row1 col1\" >0.819444</td>\n",
              "                        <td id=\"T_20dc5a72_6b1e_11ec_937c_0242ac1c0002row1_col2\" class=\"data row1 col2\" >0.847222</td>\n",
              "                        <td id=\"T_20dc5a72_6b1e_11ec_937c_0242ac1c0002row1_col3\" class=\"data row1 col3\" >0.916667</td>\n",
              "            </tr>\n",
              "            <tr>\n",
              "                        <th id=\"T_20dc5a72_6b1e_11ec_937c_0242ac1c0002level0_row2\" class=\"row_heading level0 row2\" >3</th>\n",
              "                        <td id=\"T_20dc5a72_6b1e_11ec_937c_0242ac1c0002row2_col0\" class=\"data row2 col0\" >0.805556</td>\n",
              "                        <td id=\"T_20dc5a72_6b1e_11ec_937c_0242ac1c0002row2_col1\" class=\"data row2 col1\" >0.819444</td>\n",
              "                        <td id=\"T_20dc5a72_6b1e_11ec_937c_0242ac1c0002row2_col2\" class=\"data row2 col2\" >0.847222</td>\n",
              "                        <td id=\"T_20dc5a72_6b1e_11ec_937c_0242ac1c0002row2_col3\" class=\"data row2 col3\" >0.916667</td>\n",
              "            </tr>\n",
              "            <tr>\n",
              "                        <th id=\"T_20dc5a72_6b1e_11ec_937c_0242ac1c0002level0_row3\" class=\"row_heading level0 row3\" >4</th>\n",
              "                        <td id=\"T_20dc5a72_6b1e_11ec_937c_0242ac1c0002row3_col0\" class=\"data row3 col0\" >0.805556</td>\n",
              "                        <td id=\"T_20dc5a72_6b1e_11ec_937c_0242ac1c0002row3_col1\" class=\"data row3 col1\" >0.819444</td>\n",
              "                        <td id=\"T_20dc5a72_6b1e_11ec_937c_0242ac1c0002row3_col2\" class=\"data row3 col2\" >0.847222</td>\n",
              "                        <td id=\"T_20dc5a72_6b1e_11ec_937c_0242ac1c0002row3_col3\" class=\"data row3 col3\" >0.916667</td>\n",
              "            </tr>\n",
              "    </tbody></table>"
            ],
            "text/plain": [
              "<pandas.io.formats.style.Styler at 0x7fa9052cdad0>"
            ]
          },
          "metadata": {},
          "execution_count": 47
        }
      ]
    },
    {
      "cell_type": "markdown",
      "metadata": {
        "id": "PBgsBwYlx4E1"
      },
      "source": [
        "Test accuracy"
      ]
    },
    {
      "cell_type": "code",
      "execution_count": null,
      "metadata": {
        "colab": {
          "base_uri": "https://localhost:8080/"
        },
        "id": "-FiycdnEx6To",
        "outputId": "77aa9e7c-a279-4076-b2b7-c8acefa9ff8a"
      },
      "outputs": [
        {
          "output_type": "stream",
          "name": "stdout",
          "text": [
            "Dataset: DodgerLoopWeekend Test accuracy 1.0\n",
            "Dataset: DodgerLoopGame Test accuracy 0.9166666666666666\n",
            "Dataset: DodgerLoopDay Test accuracy 0.6666666666666666\n"
          ]
        }
      ],
      "source": [
        "#Computation of test accuracies on datasets using optimal found values of K\n",
        "k_i_max = acc_grid.max(axis=0).idxmax() #optimal K found for imputation\n",
        "k_c_max = acc_grid.max(axis=1).idxmax() #optmial K found for classification\n",
        "print('Optimal K for imputation:',k_i_max,'Optimal K for classification:',k_c_max)\n",
        "\n",
        "for dfk in datasets:\n",
        "  df_nan_repaired = KNNImputator(dfs_nan[dfk],k_i)\n",
        "  df_nan_resplit = data_partition(df_nan_repaired,0.7,0.15)\n",
        "  train_df = df_nan_resplit[0]\n",
        "  valid_df = df_nan_resplit[1]\n",
        "  test_df = df_nan_resplit[2]\n",
        "  tv_df = pd.concat([train_df,valid_df])\n",
        "  pred_df = KNNClassifier_v1(tv_df,test_df,k_c)\n",
        "  accuracy_df = accuracy(test_df,pred_df)\n",
        "  print('Dataset:',dfk,'Test accuracy',accuracy_df)"
      ]
    },
    {
      "cell_type": "markdown",
      "metadata": {
        "id": "D_hQ17ZUX2Nk"
      },
      "source": [
        "### Exercise 2: Time Series Classification with Various Distance Measures"
      ]
    },
    {
      "cell_type": "markdown",
      "source": [
        "Warning: for this task I only used a smaller number of datasets chosen randomly because of the limited computational capacity I have. Moreover, Mahalanobis, Yule and Kensenshannon distance measures were not used because they presented errors with my algorithm."
      ],
      "metadata": {
        "id": "73-QgToObvTt"
      }
    },
    {
      "cell_type": "code",
      "execution_count": null,
      "metadata": {
        "colab": {
          "base_uri": "https://localhost:8080/"
        },
        "id": "Rj4ewfruA4W_",
        "outputId": "a10885df-63f0-4e6a-dab8-7a6f289b1229"
      },
      "outputs": [
        {
          "output_type": "stream",
          "name": "stdout",
          "text": [
            "CPU times: user 36min 55s, sys: 14.3 s, total: 37min 10s\n",
            "Wall time: 37min 29s\n"
          ]
        }
      ],
      "source": [
        "%%time\n",
        "K = np.arange(1,6,1) #set of Ks (nearest-neighbors) used\n",
        "d_measures = ['braycurtis', 'canberra', 'chebyshev', 'cityblock', 'correlation',\\\n",
        "              'cosine', 'dice', 'euclidean', 'hamming', 'jaccard',\\\n",
        "              'kulsinski', 'matching', 'minkowski', 'rogerstanimoto',\\\n",
        "              'russellrao', 'seuclidean', 'sokalmichener', 'sokalsneath', 'sqeuclidean'] #set of distances used\n",
        "\n",
        "acc_grid = pd.DataFrame(0,index=d_measures,columns=K,dtype=float) #accuracy grid\n",
        "acc_grid.columns.name = 'K'\n",
        "acc_grid.index.name = 'd_measures'\n",
        "\n",
        "datasets = ['Beef','BeetleFly','HouseTwenty','Haptics','Chinatown','GunPoint','Adiac','Fish',\\\n",
        "            'ArrowHead','Lightning2','Plane','Fungi','Meat','FaceFour','ACSF1'] #set of datasets used\n",
        "\n",
        "for k in K:\n",
        "  for dm in d_measures:\n",
        "    accuracies = list()\n",
        "    for dfk  in datasets:\n",
        "      train_df = dfs_stand[dfk]['TRAIN']\n",
        "      valid_df = dfs_stand[dfk]['VALID']\n",
        "      pred_df = KNNClassifier_v1(train_df,valid_df,k,dm)\n",
        "      accuracy_df = accuracy(valid_df,pred_df)\n",
        "      accuracies.append(accuracy_df)\n",
        "    acc_grid.at[dm,k] = np.mean(accuracies)"
      ]
    },
    {
      "cell_type": "code",
      "source": [
        "acc_grid.style.background_gradient(cmap='Blues',axis=None)"
      ],
      "metadata": {
        "colab": {
          "base_uri": "https://localhost:8080/",
          "height": 677
        },
        "id": "rilh2Rj5CsqD",
        "outputId": "db253cdc-1798-4cb7-dd1d-39d7e8d62f3d"
      },
      "execution_count": null,
      "outputs": [
        {
          "output_type": "execute_result",
          "data": {
            "text/html": [
              "<style  type=\"text/css\" >\n",
              "#T_896c0a92_6b23_11ec_937c_0242ac1c0002row0_col0{\n",
              "            background-color:  #08306b;\n",
              "            color:  #f1f1f1;\n",
              "        }#T_896c0a92_6b23_11ec_937c_0242ac1c0002row0_col1{\n",
              "            background-color:  #084990;\n",
              "            color:  #f1f1f1;\n",
              "        }#T_896c0a92_6b23_11ec_937c_0242ac1c0002row0_col2,#T_896c0a92_6b23_11ec_937c_0242ac1c0002row1_col0{\n",
              "            background-color:  #084488;\n",
              "            color:  #f1f1f1;\n",
              "        }#T_896c0a92_6b23_11ec_937c_0242ac1c0002row0_col3,#T_896c0a92_6b23_11ec_937c_0242ac1c0002row5_col1{\n",
              "            background-color:  #0e59a2;\n",
              "            color:  #f1f1f1;\n",
              "        }#T_896c0a92_6b23_11ec_937c_0242ac1c0002row0_col4{\n",
              "            background-color:  #084f99;\n",
              "            color:  #f1f1f1;\n",
              "        }#T_896c0a92_6b23_11ec_937c_0242ac1c0002row1_col1,#T_896c0a92_6b23_11ec_937c_0242ac1c0002row7_col3,#T_896c0a92_6b23_11ec_937c_0242ac1c0002row12_col3,#T_896c0a92_6b23_11ec_937c_0242ac1c0002row18_col3{\n",
              "            background-color:  #0d57a1;\n",
              "            color:  #f1f1f1;\n",
              "        }#T_896c0a92_6b23_11ec_937c_0242ac1c0002row1_col2,#T_896c0a92_6b23_11ec_937c_0242ac1c0002row4_col2{\n",
              "            background-color:  #08468b;\n",
              "            color:  #f1f1f1;\n",
              "        }#T_896c0a92_6b23_11ec_937c_0242ac1c0002row1_col3{\n",
              "            background-color:  #084e98;\n",
              "            color:  #f1f1f1;\n",
              "        }#T_896c0a92_6b23_11ec_937c_0242ac1c0002row1_col4{\n",
              "            background-color:  #084c95;\n",
              "            color:  #f1f1f1;\n",
              "        }#T_896c0a92_6b23_11ec_937c_0242ac1c0002row2_col0{\n",
              "            background-color:  #1b69af;\n",
              "            color:  #f1f1f1;\n",
              "        }#T_896c0a92_6b23_11ec_937c_0242ac1c0002row2_col1{\n",
              "            background-color:  #2171b5;\n",
              "            color:  #f1f1f1;\n",
              "        }#T_896c0a92_6b23_11ec_937c_0242ac1c0002row2_col2{\n",
              "            background-color:  #2a7ab9;\n",
              "            color:  #000000;\n",
              "        }#T_896c0a92_6b23_11ec_937c_0242ac1c0002row2_col3{\n",
              "            background-color:  #2d7dbb;\n",
              "            color:  #000000;\n",
              "        }#T_896c0a92_6b23_11ec_937c_0242ac1c0002row2_col4{\n",
              "            background-color:  #2979b9;\n",
              "            color:  #000000;\n",
              "        }#T_896c0a92_6b23_11ec_937c_0242ac1c0002row3_col0,#T_896c0a92_6b23_11ec_937c_0242ac1c0002row3_col4{\n",
              "            background-color:  #08458a;\n",
              "            color:  #f1f1f1;\n",
              "        }#T_896c0a92_6b23_11ec_937c_0242ac1c0002row3_col1,#T_896c0a92_6b23_11ec_937c_0242ac1c0002row3_col3,#T_896c0a92_6b23_11ec_937c_0242ac1c0002row4_col1,#T_896c0a92_6b23_11ec_937c_0242ac1c0002row4_col4{\n",
              "            background-color:  #08509b;\n",
              "            color:  #f1f1f1;\n",
              "        }#T_896c0a92_6b23_11ec_937c_0242ac1c0002row3_col2,#T_896c0a92_6b23_11ec_937c_0242ac1c0002row5_col0{\n",
              "            background-color:  #083d7f;\n",
              "            color:  #f1f1f1;\n",
              "        }#T_896c0a92_6b23_11ec_937c_0242ac1c0002row4_col0{\n",
              "            background-color:  #083877;\n",
              "            color:  #f1f1f1;\n",
              "        }#T_896c0a92_6b23_11ec_937c_0242ac1c0002row4_col3,#T_896c0a92_6b23_11ec_937c_0242ac1c0002row5_col3{\n",
              "            background-color:  #0f5aa3;\n",
              "            color:  #f1f1f1;\n",
              "        }#T_896c0a92_6b23_11ec_937c_0242ac1c0002row5_col2{\n",
              "            background-color:  #084b93;\n",
              "            color:  #f1f1f1;\n",
              "        }#T_896c0a92_6b23_11ec_937c_0242ac1c0002row5_col4{\n",
              "            background-color:  #0b559f;\n",
              "            color:  #f1f1f1;\n",
              "        }#T_896c0a92_6b23_11ec_937c_0242ac1c0002row6_col0,#T_896c0a92_6b23_11ec_937c_0242ac1c0002row6_col1,#T_896c0a92_6b23_11ec_937c_0242ac1c0002row8_col0,#T_896c0a92_6b23_11ec_937c_0242ac1c0002row8_col1,#T_896c0a92_6b23_11ec_937c_0242ac1c0002row9_col0,#T_896c0a92_6b23_11ec_937c_0242ac1c0002row9_col1,#T_896c0a92_6b23_11ec_937c_0242ac1c0002row10_col0,#T_896c0a92_6b23_11ec_937c_0242ac1c0002row10_col1,#T_896c0a92_6b23_11ec_937c_0242ac1c0002row11_col0,#T_896c0a92_6b23_11ec_937c_0242ac1c0002row11_col1,#T_896c0a92_6b23_11ec_937c_0242ac1c0002row13_col0,#T_896c0a92_6b23_11ec_937c_0242ac1c0002row13_col1,#T_896c0a92_6b23_11ec_937c_0242ac1c0002row14_col0,#T_896c0a92_6b23_11ec_937c_0242ac1c0002row14_col1,#T_896c0a92_6b23_11ec_937c_0242ac1c0002row15_col0,#T_896c0a92_6b23_11ec_937c_0242ac1c0002row15_col1,#T_896c0a92_6b23_11ec_937c_0242ac1c0002row16_col0,#T_896c0a92_6b23_11ec_937c_0242ac1c0002row16_col1,#T_896c0a92_6b23_11ec_937c_0242ac1c0002row17_col0,#T_896c0a92_6b23_11ec_937c_0242ac1c0002row17_col1{\n",
              "            background-color:  #f7fbff;\n",
              "            color:  #000000;\n",
              "        }#T_896c0a92_6b23_11ec_937c_0242ac1c0002row6_col2,#T_896c0a92_6b23_11ec_937c_0242ac1c0002row8_col2,#T_896c0a92_6b23_11ec_937c_0242ac1c0002row9_col2,#T_896c0a92_6b23_11ec_937c_0242ac1c0002row10_col2,#T_896c0a92_6b23_11ec_937c_0242ac1c0002row11_col2,#T_896c0a92_6b23_11ec_937c_0242ac1c0002row13_col2,#T_896c0a92_6b23_11ec_937c_0242ac1c0002row14_col2,#T_896c0a92_6b23_11ec_937c_0242ac1c0002row15_col2,#T_896c0a92_6b23_11ec_937c_0242ac1c0002row16_col2,#T_896c0a92_6b23_11ec_937c_0242ac1c0002row17_col2{\n",
              "            background-color:  #f6faff;\n",
              "            color:  #000000;\n",
              "        }#T_896c0a92_6b23_11ec_937c_0242ac1c0002row6_col3,#T_896c0a92_6b23_11ec_937c_0242ac1c0002row8_col3,#T_896c0a92_6b23_11ec_937c_0242ac1c0002row9_col3,#T_896c0a92_6b23_11ec_937c_0242ac1c0002row10_col3,#T_896c0a92_6b23_11ec_937c_0242ac1c0002row11_col3,#T_896c0a92_6b23_11ec_937c_0242ac1c0002row13_col3,#T_896c0a92_6b23_11ec_937c_0242ac1c0002row14_col3,#T_896c0a92_6b23_11ec_937c_0242ac1c0002row15_col3,#T_896c0a92_6b23_11ec_937c_0242ac1c0002row16_col3,#T_896c0a92_6b23_11ec_937c_0242ac1c0002row17_col3{\n",
              "            background-color:  #ebf3fb;\n",
              "            color:  #000000;\n",
              "        }#T_896c0a92_6b23_11ec_937c_0242ac1c0002row6_col4,#T_896c0a92_6b23_11ec_937c_0242ac1c0002row8_col4,#T_896c0a92_6b23_11ec_937c_0242ac1c0002row9_col4,#T_896c0a92_6b23_11ec_937c_0242ac1c0002row10_col4,#T_896c0a92_6b23_11ec_937c_0242ac1c0002row11_col4,#T_896c0a92_6b23_11ec_937c_0242ac1c0002row13_col4,#T_896c0a92_6b23_11ec_937c_0242ac1c0002row14_col4,#T_896c0a92_6b23_11ec_937c_0242ac1c0002row15_col4,#T_896c0a92_6b23_11ec_937c_0242ac1c0002row16_col4,#T_896c0a92_6b23_11ec_937c_0242ac1c0002row17_col4{\n",
              "            background-color:  #eaf3fb;\n",
              "            color:  #000000;\n",
              "        }#T_896c0a92_6b23_11ec_937c_0242ac1c0002row7_col0,#T_896c0a92_6b23_11ec_937c_0242ac1c0002row12_col0,#T_896c0a92_6b23_11ec_937c_0242ac1c0002row18_col0{\n",
              "            background-color:  #083b7c;\n",
              "            color:  #f1f1f1;\n",
              "        }#T_896c0a92_6b23_11ec_937c_0242ac1c0002row7_col1,#T_896c0a92_6b23_11ec_937c_0242ac1c0002row7_col4,#T_896c0a92_6b23_11ec_937c_0242ac1c0002row12_col1,#T_896c0a92_6b23_11ec_937c_0242ac1c0002row12_col4,#T_896c0a92_6b23_11ec_937c_0242ac1c0002row18_col1,#T_896c0a92_6b23_11ec_937c_0242ac1c0002row18_col4{\n",
              "            background-color:  #0a539e;\n",
              "            color:  #f1f1f1;\n",
              "        }#T_896c0a92_6b23_11ec_937c_0242ac1c0002row7_col2,#T_896c0a92_6b23_11ec_937c_0242ac1c0002row12_col2,#T_896c0a92_6b23_11ec_937c_0242ac1c0002row18_col2{\n",
              "            background-color:  #083c7d;\n",
              "            color:  #f1f1f1;\n",
              "        }</style><table id=\"T_896c0a92_6b23_11ec_937c_0242ac1c0002\" class=\"dataframe\"><thead>    <tr>        <th class=\"index_name level0\" >K</th>        <th class=\"col_heading level0 col0\" >1</th>        <th class=\"col_heading level0 col1\" >2</th>        <th class=\"col_heading level0 col2\" >3</th>        <th class=\"col_heading level0 col3\" >4</th>        <th class=\"col_heading level0 col4\" >5</th>    </tr>    <tr>        <th class=\"index_name level0\" >d_measures</th>        <th class=\"blank\" ></th>        <th class=\"blank\" ></th>        <th class=\"blank\" ></th>        <th class=\"blank\" ></th>        <th class=\"blank\" ></th>    </tr></thead><tbody>\n",
              "                <tr>\n",
              "                        <th id=\"T_896c0a92_6b23_11ec_937c_0242ac1c0002level0_row0\" class=\"row_heading level0 row0\" >braycurtis</th>\n",
              "                        <td id=\"T_896c0a92_6b23_11ec_937c_0242ac1c0002row0_col0\" class=\"data row0 col0\" >0.830844</td>\n",
              "                        <td id=\"T_896c0a92_6b23_11ec_937c_0242ac1c0002row0_col1\" class=\"data row0 col1\" >0.775894</td>\n",
              "                        <td id=\"T_896c0a92_6b23_11ec_937c_0242ac1c0002row0_col2\" class=\"data row0 col2\" >0.787933</td>\n",
              "                        <td id=\"T_896c0a92_6b23_11ec_937c_0242ac1c0002row0_col3\" class=\"data row0 col3\" >0.739993</td>\n",
              "                        <td id=\"T_896c0a92_6b23_11ec_937c_0242ac1c0002row0_col4\" class=\"data row0 col4\" >0.763626</td>\n",
              "            </tr>\n",
              "            <tr>\n",
              "                        <th id=\"T_896c0a92_6b23_11ec_937c_0242ac1c0002level0_row1\" class=\"row_heading level0 row1\" >canberra</th>\n",
              "                        <td id=\"T_896c0a92_6b23_11ec_937c_0242ac1c0002row1_col0\" class=\"data row1 col0\" >0.787943</td>\n",
              "                        <td id=\"T_896c0a92_6b23_11ec_937c_0242ac1c0002row1_col1\" class=\"data row1 col1\" >0.744959</td>\n",
              "                        <td id=\"T_896c0a92_6b23_11ec_937c_0242ac1c0002row1_col2\" class=\"data row1 col2\" >0.783881</td>\n",
              "                        <td id=\"T_896c0a92_6b23_11ec_937c_0242ac1c0002row1_col3\" class=\"data row1 col3\" >0.764132</td>\n",
              "                        <td id=\"T_896c0a92_6b23_11ec_937c_0242ac1c0002row1_col4\" class=\"data row1 col4\" >0.769985</td>\n",
              "            </tr>\n",
              "            <tr>\n",
              "                        <th id=\"T_896c0a92_6b23_11ec_937c_0242ac1c0002level0_row2\" class=\"row_heading level0 row2\" >chebyshev</th>\n",
              "                        <td id=\"T_896c0a92_6b23_11ec_937c_0242ac1c0002row2_col0\" class=\"data row2 col0\" >0.704012</td>\n",
              "                        <td id=\"T_896c0a92_6b23_11ec_937c_0242ac1c0002row2_col1\" class=\"data row2 col1\" >0.687573</td>\n",
              "                        <td id=\"T_896c0a92_6b23_11ec_937c_0242ac1c0002row2_col2\" class=\"data row2 col2\" >0.669274</td>\n",
              "                        <td id=\"T_896c0a92_6b23_11ec_937c_0242ac1c0002row2_col3\" class=\"data row2 col3\" >0.662227</td>\n",
              "                        <td id=\"T_896c0a92_6b23_11ec_937c_0242ac1c0002row2_col4\" class=\"data row2 col4\" >0.670439</td>\n",
              "            </tr>\n",
              "            <tr>\n",
              "                        <th id=\"T_896c0a92_6b23_11ec_937c_0242ac1c0002level0_row3\" class=\"row_heading level0 row3\" >cityblock</th>\n",
              "                        <td id=\"T_896c0a92_6b23_11ec_937c_0242ac1c0002row3_col0\" class=\"data row3 col0\" >0.785129</td>\n",
              "                        <td id=\"T_896c0a92_6b23_11ec_937c_0242ac1c0002row3_col1\" class=\"data row3 col1\" >0.761007</td>\n",
              "                        <td id=\"T_896c0a92_6b23_11ec_937c_0242ac1c0002row3_col2\" class=\"data row3 col2\" >0.800445</td>\n",
              "                        <td id=\"T_896c0a92_6b23_11ec_937c_0242ac1c0002row3_col3\" class=\"data row3 col3\" >0.759582</td>\n",
              "                        <td id=\"T_896c0a92_6b23_11ec_937c_0242ac1c0002row3_col4\" class=\"data row3 col4\" >0.784473</td>\n",
              "            </tr>\n",
              "            <tr>\n",
              "                        <th id=\"T_896c0a92_6b23_11ec_937c_0242ac1c0002level0_row4\" class=\"row_heading level0 row4\" >correlation</th>\n",
              "                        <td id=\"T_896c0a92_6b23_11ec_937c_0242ac1c0002row4_col0\" class=\"data row4 col0\" >0.811358</td>\n",
              "                        <td id=\"T_896c0a92_6b23_11ec_937c_0242ac1c0002row4_col1\" class=\"data row4 col1\" >0.759384</td>\n",
              "                        <td id=\"T_896c0a92_6b23_11ec_937c_0242ac1c0002row4_col2\" class=\"data row4 col2\" >0.781777</td>\n",
              "                        <td id=\"T_896c0a92_6b23_11ec_937c_0242ac1c0002row4_col3\" class=\"data row4 col3\" >0.737458</td>\n",
              "                        <td id=\"T_896c0a92_6b23_11ec_937c_0242ac1c0002row4_col4\" class=\"data row4 col4\" >0.760206</td>\n",
              "            </tr>\n",
              "            <tr>\n",
              "                        <th id=\"T_896c0a92_6b23_11ec_937c_0242ac1c0002level0_row5\" class=\"row_heading level0 row5\" >cosine</th>\n",
              "                        <td id=\"T_896c0a92_6b23_11ec_937c_0242ac1c0002row5_col0\" class=\"data row5 col0\" >0.800918</td>\n",
              "                        <td id=\"T_896c0a92_6b23_11ec_937c_0242ac1c0002row5_col1\" class=\"data row5 col1\" >0.740248</td>\n",
              "                        <td id=\"T_896c0a92_6b23_11ec_937c_0242ac1c0002row5_col2\" class=\"data row5 col2\" >0.771379</td>\n",
              "                        <td id=\"T_896c0a92_6b23_11ec_937c_0242ac1c0002row5_col3\" class=\"data row5 col3\" >0.739171</td>\n",
              "                        <td id=\"T_896c0a92_6b23_11ec_937c_0242ac1c0002row5_col4\" class=\"data row5 col4\" >0.750021</td>\n",
              "            </tr>\n",
              "            <tr>\n",
              "                        <th id=\"T_896c0a92_6b23_11ec_937c_0242ac1c0002level0_row6\" class=\"row_heading level0 row6\" >dice</th>\n",
              "                        <td id=\"T_896c0a92_6b23_11ec_937c_0242ac1c0002row6_col0\" class=\"data row6 col0\" >0.258570</td>\n",
              "                        <td id=\"T_896c0a92_6b23_11ec_937c_0242ac1c0002row6_col1\" class=\"data row6 col1\" >0.259608</td>\n",
              "                        <td id=\"T_896c0a92_6b23_11ec_937c_0242ac1c0002row6_col2\" class=\"data row6 col2\" >0.263025</td>\n",
              "                        <td id=\"T_896c0a92_6b23_11ec_937c_0242ac1c0002row6_col3\" class=\"data row6 col3\" >0.294029</td>\n",
              "                        <td id=\"T_896c0a92_6b23_11ec_937c_0242ac1c0002row6_col4\" class=\"data row6 col4\" >0.295538</td>\n",
              "            </tr>\n",
              "            <tr>\n",
              "                        <th id=\"T_896c0a92_6b23_11ec_937c_0242ac1c0002level0_row7\" class=\"row_heading level0 row7\" >euclidean</th>\n",
              "                        <td id=\"T_896c0a92_6b23_11ec_937c_0242ac1c0002row7_col0\" class=\"data row7 col0\" >0.805038</td>\n",
              "                        <td id=\"T_896c0a92_6b23_11ec_937c_0242ac1c0002row7_col1\" class=\"data row7 col1\" >0.753697</td>\n",
              "                        <td id=\"T_896c0a92_6b23_11ec_937c_0242ac1c0002row7_col2\" class=\"data row7 col2\" >0.803823</td>\n",
              "                        <td id=\"T_896c0a92_6b23_11ec_937c_0242ac1c0002row7_col3\" class=\"data row7 col3\" >0.744614</td>\n",
              "                        <td id=\"T_896c0a92_6b23_11ec_937c_0242ac1c0002row7_col4\" class=\"data row7 col4\" >0.753580</td>\n",
              "            </tr>\n",
              "            <tr>\n",
              "                        <th id=\"T_896c0a92_6b23_11ec_937c_0242ac1c0002level0_row8\" class=\"row_heading level0 row8\" >hamming</th>\n",
              "                        <td id=\"T_896c0a92_6b23_11ec_937c_0242ac1c0002row8_col0\" class=\"data row8 col0\" >0.258570</td>\n",
              "                        <td id=\"T_896c0a92_6b23_11ec_937c_0242ac1c0002row8_col1\" class=\"data row8 col1\" >0.259608</td>\n",
              "                        <td id=\"T_896c0a92_6b23_11ec_937c_0242ac1c0002row8_col2\" class=\"data row8 col2\" >0.263025</td>\n",
              "                        <td id=\"T_896c0a92_6b23_11ec_937c_0242ac1c0002row8_col3\" class=\"data row8 col3\" >0.294029</td>\n",
              "                        <td id=\"T_896c0a92_6b23_11ec_937c_0242ac1c0002row8_col4\" class=\"data row8 col4\" >0.295538</td>\n",
              "            </tr>\n",
              "            <tr>\n",
              "                        <th id=\"T_896c0a92_6b23_11ec_937c_0242ac1c0002level0_row9\" class=\"row_heading level0 row9\" >jaccard</th>\n",
              "                        <td id=\"T_896c0a92_6b23_11ec_937c_0242ac1c0002row9_col0\" class=\"data row9 col0\" >0.258570</td>\n",
              "                        <td id=\"T_896c0a92_6b23_11ec_937c_0242ac1c0002row9_col1\" class=\"data row9 col1\" >0.259608</td>\n",
              "                        <td id=\"T_896c0a92_6b23_11ec_937c_0242ac1c0002row9_col2\" class=\"data row9 col2\" >0.263025</td>\n",
              "                        <td id=\"T_896c0a92_6b23_11ec_937c_0242ac1c0002row9_col3\" class=\"data row9 col3\" >0.294029</td>\n",
              "                        <td id=\"T_896c0a92_6b23_11ec_937c_0242ac1c0002row9_col4\" class=\"data row9 col4\" >0.295538</td>\n",
              "            </tr>\n",
              "            <tr>\n",
              "                        <th id=\"T_896c0a92_6b23_11ec_937c_0242ac1c0002level0_row10\" class=\"row_heading level0 row10\" >kulsinski</th>\n",
              "                        <td id=\"T_896c0a92_6b23_11ec_937c_0242ac1c0002row10_col0\" class=\"data row10 col0\" >0.258570</td>\n",
              "                        <td id=\"T_896c0a92_6b23_11ec_937c_0242ac1c0002row10_col1\" class=\"data row10 col1\" >0.259608</td>\n",
              "                        <td id=\"T_896c0a92_6b23_11ec_937c_0242ac1c0002row10_col2\" class=\"data row10 col2\" >0.263025</td>\n",
              "                        <td id=\"T_896c0a92_6b23_11ec_937c_0242ac1c0002row10_col3\" class=\"data row10 col3\" >0.294029</td>\n",
              "                        <td id=\"T_896c0a92_6b23_11ec_937c_0242ac1c0002row10_col4\" class=\"data row10 col4\" >0.295538</td>\n",
              "            </tr>\n",
              "            <tr>\n",
              "                        <th id=\"T_896c0a92_6b23_11ec_937c_0242ac1c0002level0_row11\" class=\"row_heading level0 row11\" >matching</th>\n",
              "                        <td id=\"T_896c0a92_6b23_11ec_937c_0242ac1c0002row11_col0\" class=\"data row11 col0\" >0.258570</td>\n",
              "                        <td id=\"T_896c0a92_6b23_11ec_937c_0242ac1c0002row11_col1\" class=\"data row11 col1\" >0.259608</td>\n",
              "                        <td id=\"T_896c0a92_6b23_11ec_937c_0242ac1c0002row11_col2\" class=\"data row11 col2\" >0.263025</td>\n",
              "                        <td id=\"T_896c0a92_6b23_11ec_937c_0242ac1c0002row11_col3\" class=\"data row11 col3\" >0.294029</td>\n",
              "                        <td id=\"T_896c0a92_6b23_11ec_937c_0242ac1c0002row11_col4\" class=\"data row11 col4\" >0.295538</td>\n",
              "            </tr>\n",
              "            <tr>\n",
              "                        <th id=\"T_896c0a92_6b23_11ec_937c_0242ac1c0002level0_row12\" class=\"row_heading level0 row12\" >minkowski</th>\n",
              "                        <td id=\"T_896c0a92_6b23_11ec_937c_0242ac1c0002row12_col0\" class=\"data row12 col0\" >0.805038</td>\n",
              "                        <td id=\"T_896c0a92_6b23_11ec_937c_0242ac1c0002row12_col1\" class=\"data row12 col1\" >0.753697</td>\n",
              "                        <td id=\"T_896c0a92_6b23_11ec_937c_0242ac1c0002row12_col2\" class=\"data row12 col2\" >0.803823</td>\n",
              "                        <td id=\"T_896c0a92_6b23_11ec_937c_0242ac1c0002row12_col3\" class=\"data row12 col3\" >0.744614</td>\n",
              "                        <td id=\"T_896c0a92_6b23_11ec_937c_0242ac1c0002row12_col4\" class=\"data row12 col4\" >0.753580</td>\n",
              "            </tr>\n",
              "            <tr>\n",
              "                        <th id=\"T_896c0a92_6b23_11ec_937c_0242ac1c0002level0_row13\" class=\"row_heading level0 row13\" >rogerstanimoto</th>\n",
              "                        <td id=\"T_896c0a92_6b23_11ec_937c_0242ac1c0002row13_col0\" class=\"data row13 col0\" >0.258570</td>\n",
              "                        <td id=\"T_896c0a92_6b23_11ec_937c_0242ac1c0002row13_col1\" class=\"data row13 col1\" >0.259608</td>\n",
              "                        <td id=\"T_896c0a92_6b23_11ec_937c_0242ac1c0002row13_col2\" class=\"data row13 col2\" >0.263025</td>\n",
              "                        <td id=\"T_896c0a92_6b23_11ec_937c_0242ac1c0002row13_col3\" class=\"data row13 col3\" >0.294029</td>\n",
              "                        <td id=\"T_896c0a92_6b23_11ec_937c_0242ac1c0002row13_col4\" class=\"data row13 col4\" >0.295538</td>\n",
              "            </tr>\n",
              "            <tr>\n",
              "                        <th id=\"T_896c0a92_6b23_11ec_937c_0242ac1c0002level0_row14\" class=\"row_heading level0 row14\" >russellrao</th>\n",
              "                        <td id=\"T_896c0a92_6b23_11ec_937c_0242ac1c0002row14_col0\" class=\"data row14 col0\" >0.258570</td>\n",
              "                        <td id=\"T_896c0a92_6b23_11ec_937c_0242ac1c0002row14_col1\" class=\"data row14 col1\" >0.259608</td>\n",
              "                        <td id=\"T_896c0a92_6b23_11ec_937c_0242ac1c0002row14_col2\" class=\"data row14 col2\" >0.263025</td>\n",
              "                        <td id=\"T_896c0a92_6b23_11ec_937c_0242ac1c0002row14_col3\" class=\"data row14 col3\" >0.294029</td>\n",
              "                        <td id=\"T_896c0a92_6b23_11ec_937c_0242ac1c0002row14_col4\" class=\"data row14 col4\" >0.295538</td>\n",
              "            </tr>\n",
              "            <tr>\n",
              "                        <th id=\"T_896c0a92_6b23_11ec_937c_0242ac1c0002level0_row15\" class=\"row_heading level0 row15\" >seuclidean</th>\n",
              "                        <td id=\"T_896c0a92_6b23_11ec_937c_0242ac1c0002row15_col0\" class=\"data row15 col0\" >0.258570</td>\n",
              "                        <td id=\"T_896c0a92_6b23_11ec_937c_0242ac1c0002row15_col1\" class=\"data row15 col1\" >0.259608</td>\n",
              "                        <td id=\"T_896c0a92_6b23_11ec_937c_0242ac1c0002row15_col2\" class=\"data row15 col2\" >0.263025</td>\n",
              "                        <td id=\"T_896c0a92_6b23_11ec_937c_0242ac1c0002row15_col3\" class=\"data row15 col3\" >0.294029</td>\n",
              "                        <td id=\"T_896c0a92_6b23_11ec_937c_0242ac1c0002row15_col4\" class=\"data row15 col4\" >0.295538</td>\n",
              "            </tr>\n",
              "            <tr>\n",
              "                        <th id=\"T_896c0a92_6b23_11ec_937c_0242ac1c0002level0_row16\" class=\"row_heading level0 row16\" >sokalmichener</th>\n",
              "                        <td id=\"T_896c0a92_6b23_11ec_937c_0242ac1c0002row16_col0\" class=\"data row16 col0\" >0.258570</td>\n",
              "                        <td id=\"T_896c0a92_6b23_11ec_937c_0242ac1c0002row16_col1\" class=\"data row16 col1\" >0.259608</td>\n",
              "                        <td id=\"T_896c0a92_6b23_11ec_937c_0242ac1c0002row16_col2\" class=\"data row16 col2\" >0.263025</td>\n",
              "                        <td id=\"T_896c0a92_6b23_11ec_937c_0242ac1c0002row16_col3\" class=\"data row16 col3\" >0.294029</td>\n",
              "                        <td id=\"T_896c0a92_6b23_11ec_937c_0242ac1c0002row16_col4\" class=\"data row16 col4\" >0.295538</td>\n",
              "            </tr>\n",
              "            <tr>\n",
              "                        <th id=\"T_896c0a92_6b23_11ec_937c_0242ac1c0002level0_row17\" class=\"row_heading level0 row17\" >sokalsneath</th>\n",
              "                        <td id=\"T_896c0a92_6b23_11ec_937c_0242ac1c0002row17_col0\" class=\"data row17 col0\" >0.258570</td>\n",
              "                        <td id=\"T_896c0a92_6b23_11ec_937c_0242ac1c0002row17_col1\" class=\"data row17 col1\" >0.259608</td>\n",
              "                        <td id=\"T_896c0a92_6b23_11ec_937c_0242ac1c0002row17_col2\" class=\"data row17 col2\" >0.263025</td>\n",
              "                        <td id=\"T_896c0a92_6b23_11ec_937c_0242ac1c0002row17_col3\" class=\"data row17 col3\" >0.294029</td>\n",
              "                        <td id=\"T_896c0a92_6b23_11ec_937c_0242ac1c0002row17_col4\" class=\"data row17 col4\" >0.295538</td>\n",
              "            </tr>\n",
              "            <tr>\n",
              "                        <th id=\"T_896c0a92_6b23_11ec_937c_0242ac1c0002level0_row18\" class=\"row_heading level0 row18\" >sqeuclidean</th>\n",
              "                        <td id=\"T_896c0a92_6b23_11ec_937c_0242ac1c0002row18_col0\" class=\"data row18 col0\" >0.805038</td>\n",
              "                        <td id=\"T_896c0a92_6b23_11ec_937c_0242ac1c0002row18_col1\" class=\"data row18 col1\" >0.753697</td>\n",
              "                        <td id=\"T_896c0a92_6b23_11ec_937c_0242ac1c0002row18_col2\" class=\"data row18 col2\" >0.803823</td>\n",
              "                        <td id=\"T_896c0a92_6b23_11ec_937c_0242ac1c0002row18_col3\" class=\"data row18 col3\" >0.744614</td>\n",
              "                        <td id=\"T_896c0a92_6b23_11ec_937c_0242ac1c0002row18_col4\" class=\"data row18 col4\" >0.753580</td>\n",
              "            </tr>\n",
              "    </tbody></table>"
            ],
            "text/plain": [
              "<pandas.io.formats.style.Styler at 0x7fa90635f750>"
            ]
          },
          "metadata": {},
          "execution_count": 52
        }
      ]
    },
    {
      "cell_type": "markdown",
      "metadata": {
        "id": "ZH6H0B_J_Zjf"
      },
      "source": [
        "Test accuracy"
      ]
    },
    {
      "cell_type": "code",
      "execution_count": null,
      "metadata": {
        "colab": {
          "base_uri": "https://localhost:8080/"
        },
        "id": "5yP4jlQw_Y18",
        "outputId": "7ea12401-3851-4072-ccf0-61e56eb58ad1"
      },
      "outputs": [
        {
          "output_type": "stream",
          "name": "stdout",
          "text": [
            "Optimal K: 1 Optimal distance measure: braycurtis\n",
            "Beef 0.4444444444444444\n",
            "BeetleFly 0.8333333333333334\n",
            "HouseTwenty 0.8333333333333334\n",
            "Haptics 0.4\n",
            "Chinatown 0.9818181818181818\n",
            "GunPoint 0.8333333333333334\n",
            "Adiac 0.6440677966101694\n",
            "Fish 0.8867924528301887\n",
            "ArrowHead 0.84375\n",
            "Lightning2 0.7894736842105263\n",
            "Plane 0.96875\n",
            "Fungi 0.967741935483871\n",
            "Meat 1.0\n",
            "FaceFour 1.0\n",
            "ACSF1 0.6\n"
          ]
        }
      ],
      "source": [
        "#Computation of test accuracies on datasets using optimal found values of K and distance measure\n",
        "K_max = acc_grid.max(axis=0).idxmax() #optimal K found\n",
        "dm_max = acc_grid.max(axis=1).idxmax() #optmial measure distance found\n",
        "print('Optimal K:',K_max,'Optimal distance measure:',dm_max)\n",
        "for dfk in datasets:\n",
        "  train_df = dfs_stand[dfk]['TRAIN']\n",
        "  valid_df = dfs_stand[dfk]['VALID']\n",
        "  test_df = dfs_stand[dfk]['TEST']\n",
        "  tv_df = pd.concat([train_df,valid_df])\n",
        "  pred_df = KNNClassifier_v1(tv_df,test_df,K_max,dm_max)\n",
        "  accuracy_df = accuracy(test_df,pred_df)\n",
        "  print(dfk,accuracy_df)"
      ]
    },
    {
      "cell_type": "markdown",
      "metadata": {
        "id": "qxmRkNF-X_QX"
      },
      "source": [
        "Ranking of all distance metrics according to the test accuracy"
      ]
    },
    {
      "cell_type": "code",
      "execution_count": null,
      "metadata": {
        "id": "IeC06yNSYGXT"
      },
      "outputs": [],
      "source": [
        "#Computation of test accuracies on datasets using optimal found value of K for each distance measure\n",
        "acc_dist = pd.Series(0,index=d_measures,dtype=float)\n",
        "for dm in d_measures:\n",
        "  accuracies = list()\n",
        "  for dfk in datasets:\n",
        "    train_df = dfs_stand[dfk]['TRAIN']\n",
        "    valid_df = dfs_stand[dfk]['VALID']\n",
        "    test_df = dfs_stand[dfk]['TEST']\n",
        "    tv_df = pd.concat([train_df,valid_df])\n",
        "    pred_df = KNNClassifier_v1(tv_df,test_df,K_max,dm)\n",
        "    accuracy_df = accuracy(test_df,pred_df)\n",
        "    accuracies.append(accuracy_df)\n",
        "  acc_dist[dm] = np.mean(accuracies)"
      ]
    },
    {
      "cell_type": "code",
      "execution_count": null,
      "metadata": {
        "colab": {
          "base_uri": "https://localhost:8080/",
          "height": 337
        },
        "id": "Jo-QLWZhZLto",
        "outputId": "56563247-4781-441e-80f7-747d4381a48d"
      },
      "outputs": [
        {
          "output_type": "execute_result",
          "data": {
            "text/plain": [
              "<matplotlib.axes._subplots.AxesSubplot at 0x7fa90882d750>"
            ]
          },
          "metadata": {},
          "execution_count": 59
        },
        {
          "output_type": "display_data",
          "data": {
            "image/png": "[encoded data removed]",
            "text/plain": [
              "<Figure size 576x360 with 1 Axes>"
            ]
          },
          "metadata": {
            "needs_background": "light"
          }
        }
      ],
      "source": [
        "acc_dist.sort_values(ascending=False).plot(kind='barh',figsize=(8,5))"
      ]
    },
    {
      "cell_type": "markdown",
      "metadata": {
        "id": "6E1oDP7hX8cg"
      },
      "source": [
        "### Exercise 3: Accelerating K-Nearest Neighbour Classifier"
      ]
    },
    {
      "cell_type": "markdown",
      "metadata": {
        "id": "ZktJ6zSjF-W7"
      },
      "source": [
        "Partial Distances/Lower Bounding\n",
        "\n",
        "For this task I used K=3 because, even though I am aware I cannot just extrapolate the conclusion, this value proved to be the best one when using euclidean distance for exercise 2."
      ]
    },
    {
      "cell_type": "code",
      "execution_count": null,
      "metadata": {
        "id": "EGdnbkdw8-wp"
      },
      "outputs": [],
      "source": [
        "# Input: dataframe used as training dataset, instance (row), number for neighbors to take\n",
        "# Output: numpy array of size K with the indices of the k-nearest neighbors to the instance in the dataframe\n",
        "#This third version of knns implement partial distances and lower bounding\n",
        "def knns_v3(df,instance,K): #set of k nearest rows of the dataframe to the instance\n",
        "\n",
        "  M = len(instance)\n",
        "  D = np.empty([K,2])\n",
        "  i = 0\n",
        "  for index, row in df.iterrows():\n",
        "    if i <= K: #the first K distances are directly placed into the distance array\n",
        "      d = ((instance-row)**2).sum()**(1/2) #euclidean distance\n",
        "      if i < K:\n",
        "        D[i] = [index,d]\n",
        "        i += 1\n",
        "        continue\n",
        "      else:\n",
        "        D = D[np.argsort(D[:,1])] #the first K distances are sorted\n",
        "        DK = D[K-1,1]\n",
        "        i += 1\n",
        "    \n",
        "    d = 0\n",
        "    m = 0\n",
        "    while m < M and d < DK**2:\n",
        "      d += (instance.iloc[m]-row.iloc[m])**2 #distance respect along the specific feature is added\n",
        "      m += 1\n",
        "    d = d**(1/2)\n",
        "    if d < DK: #the new calculated distances are compared only to the last and bigger value of the distance array\n",
        "      D[K-1] = [index,d]\n",
        "      D = D[np.argsort(D[:,1])] #when a new distance is added, the array is sorted again\n",
        "      DK = D[K-1,1]\n",
        "  C_idxs = D[:,0].astype(int)\n",
        "  return C_idxs"
      ]
    },
    {
      "cell_type": "code",
      "execution_count": null,
      "metadata": {
        "id": "8Dcw_bBXKOVq"
      },
      "outputs": [],
      "source": [
        "# Input: dataframe used as training dataset (df1), dataframe whose class we need to predict (df2), number for neighbors to take\n",
        "# Output: dataframe with predicted class by k-nearest neighbors\n",
        "def KNNClassifier_v2(df1,df2,k):\n",
        "  np.random.seed(3116)\n",
        "  y_pred = pd.Series(index=df2.index,dtype=float) #class vector\n",
        "  df1woc = df1.drop(0,axis=1)\n",
        "  df2woc = df2.drop(0,axis=1)\n",
        "  for index, row in df2woc.iterrows():\n",
        "    C_idxs = knns_v3(df1woc,row,k)\n",
        "    C = df1.loc[C_idxs]\n",
        "    y_pred.loc[index] = np.random.choice(C[0].mode())\n",
        "  df2woc[0] = y_pred\n",
        "  return df2woc"
      ]
    },
    {
      "cell_type": "code",
      "execution_count": null,
      "metadata": {
        "colab": {
          "base_uri": "https://localhost:8080/"
        },
        "id": "HXtC6fmxeGA8",
        "outputId": "234f2c30-7cac-4d71-90d3-425ec73b20d5"
      },
      "outputs": [
        {
          "output_type": "stream",
          "name": "stdout",
          "text": [
            "Name Crop ; Time series length: 47 ; Number of samples: 24000\n"
          ]
        }
      ],
      "source": [
        "#Dataset with largest number of samples\n",
        "l_n_samples = 0\n",
        "for dfk in dfs_merged.keys():\n",
        "  n_samples = len(dfs_merged[dfk])\n",
        "  if n_samples > l_n_samples:\n",
        "    l_dfk = dfk\n",
        "    l_n_samples = n_samples\n",
        "    ts_length = len(dfs_merged[dfk].columns-1)\n",
        "\n",
        "print('Name',l_dfk,'; Time series length:',ts_length,'; Number of samples:',l_n_samples)"
      ]
    },
    {
      "cell_type": "code",
      "execution_count": null,
      "metadata": {
        "id": "jncyq3YytBF4",
        "colab": {
          "base_uri": "https://localhost:8080/"
        },
        "outputId": "e4d4e331-b020-4483-8558-7612901a09f3"
      },
      "outputs": [
        {
          "output_type": "stream",
          "name": "stdout",
          "text": [
            "Accuracy 0.7483333333333333\n",
            "CPU times: user 2h 7min 27s, sys: 16.5 s, total: 2h 7min 44s\n",
            "Wall time: 2h 8min 21s\n"
          ]
        }
      ],
      "source": [
        "%%time\n",
        "#KNN Classification on Crop Times Series dataset\n",
        "crop_train = dfs_stand['Crop']['TRAIN']\n",
        "crop_valid = dfs_stand['Crop']['VALID']\n",
        "crop_valid_pred = KNNClassifier_v2(crop_train,crop_valid,3)\n",
        "accuracy_df = accuracy(crop_valid,crop_valid_pred)\n",
        "print('Accuracy',accuracy_df)"
      ]
    },
    {
      "cell_type": "markdown",
      "metadata": {
        "id": "_E-_7dDobbp0"
      },
      "source": [
        "Locality Sensitive Hashing\n",
        "\n",
        "LSH refers to a family of indexing techniques (known as LSH families) to hash data points into buckets so that data points near each other are located in the same buckets with high probability, while data points far from each other are likely to be in different buckets. This makes it possible to search efficiently for nearest neighbours amongst large collections of items.\n",
        "\n",
        "For this exercise, I used the hash function **Random Binary Projection**."
      ]
    },
    {
      "cell_type": "code",
      "execution_count": null,
      "metadata": {
        "id": "f_N-S-oCbgqD"
      },
      "outputs": [],
      "source": [
        "# Input: dataframe, length of the encoding (J)\n",
        "# Output: dataframe with the same index but hash codes as values\n",
        "def hash(df,J,seed=3116):\n",
        "  np.random.seed(seed)\n",
        "  X = df.to_numpy(copy=True)\n",
        "  N,M = df.shape\n",
        "  R = np.random.rand(M,J) #pool of normal vectors that represent a pool of hyperparameters\n",
        "  H = np.where(X@R > 0, 1, 0) #instances in X are encode based on their position respect to each of the hyperplanes.\n",
        "  Hashes = pd.DataFrame(0,index=df.index,columns=['hashes'])\n",
        "  for _ in range(N): #assigns a hash code to instance in the dataframe \n",
        "    Hashes.iloc[_] = ''.join(map(str,H[_]))\n",
        "  return Hashes\n",
        "\n",
        "# Input: dataframe, length of the encoding (J)\n",
        "# Output: dataframe with hash codes as index and the indices as values\n",
        "def hash_table(df,J,seed=3116):\n",
        "  Hashes = hash(df,J,seed)\n",
        "  Htable = {}\n",
        "  for index, row in Hashes.iterrows():\n",
        "    h = row.values[0] #hash key\n",
        "    if h in Htable.keys():\n",
        "      Htable[h] = Htable[h].append(pd.Index([index]))\n",
        "    else:\n",
        "      Htable[h] = pd.Index([index])\n",
        "  return Htable"
      ]
    },
    {
      "cell_type": "code",
      "execution_count": null,
      "metadata": {
        "id": "wvtiJPNR9v66"
      },
      "outputs": [],
      "source": [
        "# Input: dataframe used as training dataset (df1), dataframe whose class we need to predict (df2), number for neighbors to take (k)\n",
        "#        number of hyperplanes (J), number of pools of hyperplanes (L) use to define the sectors\n",
        "# Output: dataframe with predicted class by k-nearest neighbors with LSH\n",
        "def KNNClassifier_v3(df1,df2,k,J,L,distype='euclidean'):\n",
        "\n",
        "  df1woc = df1.drop(0,axis=1)\n",
        "  df2woc = df2.drop(0,axis=1)\n",
        "\n",
        "  #Sectorization of the instances\n",
        "  S = {} #dataframe with df2 index as index and df1 indices as values\n",
        "  #The indices correspond to instances of df1 in the same sector as instance of df2. These sector are overlapping.\n",
        "  for _ in range(L): #the training space is sectorized L times in order to increase the probability of adding all the close instances\n",
        "    seed = np.random.randint(100)\n",
        "    Htable = hash_table(df1woc,J,seed)\n",
        "    Hashes = hash(df2woc,J,seed)\n",
        "    for index, row in Hashes.iterrows():\n",
        "      hk = row.values[0]\n",
        "      if hk in Htable: #to check that the hash key exists in Htable\n",
        "        if index in S.keys():\n",
        "          S[index] = S[index].union(Htable[hk])\n",
        "        else:\n",
        "          S[index] = Htable[hk]\n",
        "  \n",
        "  y_pred = pd.Series(index=df2.index,dtype=float) #class vector\n",
        "  for index, row in df2woc.iterrows():\n",
        "    C_idxs = knns_v2(df1woc.loc[S[index]],row,k,distype) #the algorithm only calculate the distances of instances that in the same sector\n",
        "    #Since the size of the sector is smaller than the number of instances of df1, the algorithm is faster\n",
        "    C = df1.loc[C_idxs]\n",
        "    y_pred.loc[index] = np.random.choice(C[0].mode())\n",
        "  df2woc[0] = y_pred\n",
        "  return df2woc"
      ]
    },
    {
      "cell_type": "markdown",
      "source": [
        "For this task I used 10 hyperplanes to cut the instance space because with a larger number the hash codes of a few instances of validation data (maybe outliers) did not match any of the hash codes available when using the training data. Because in my implementation a hash code was created if it had at least one training instance. That is, hashes available <= 2^K. A further improvement could assign these instances to a sector ramdomly or based on another measure."
      ],
      "metadata": {
        "id": "Kcp-b41J4BFa"
      }
    },
    {
      "cell_type": "code",
      "execution_count": null,
      "metadata": {
        "id": "CDJ_HL9DJ3fb",
        "colab": {
          "base_uri": "https://localhost:8080/"
        },
        "outputId": "6992d01e-5d12-4d41-88a3-714a676689f5"
      },
      "outputs": [
        {
          "output_type": "stream",
          "name": "stdout",
          "text": [
            "Accuracy 0.7438888888888889\n",
            "CPU times: user 59min 19s, sys: 30 s, total: 59min 50s\n",
            "Wall time: 59min 20s\n"
          ]
        }
      ],
      "source": [
        "%%time\n",
        "#KNN Classification on Crop Times Series dataset using LHS\n",
        "crop_train = dfs_stand['Crop']['TRAIN']\n",
        "crop_valid = dfs_stand['Crop']['VALID']\n",
        "crop_valid_pred = KNNClassifier_v3(crop_train,crop_valid,3,10,5)\n",
        "accuracy_df = accuracy(crop_valid,crop_valid_pred)\n",
        "print('Accuracy',accuracy_df)"
      ]
    },
    {
      "cell_type": "markdown",
      "source": [
        "Conclusion: KNN with Local Sensitive Hash proved to be a faster tool when keeping the accuracy very close to the vanilla (and slower) KNN method. "
      ],
      "metadata": {
        "id": "4ljNy77z3NG6"
      }
    }
  ],
  "metadata": {
    "colab": {
      "collapsed_sections": [],
      "name": "Exercise_sheet7.ipynb",
      "provenance": [],
      "authorship_tag": "ABX9TyO/BjfTsqdBYzDrqDkCZ0cg",
      "include_colab_link": true
    },
    "kernelspec": {
      "display_name": "Python 3",
      "name": "python3"
    },
    "language_info": {
      "name": "python"
    }
  },
  "nbformat": 4,
  "nbformat_minor": 0
}
