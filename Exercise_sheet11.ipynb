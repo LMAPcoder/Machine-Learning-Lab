{
  "nbformat": 4,
  "nbformat_minor": 0,
  "metadata": {
    "colab": {
      "name": "Exercise_sheet11.ipynb",
      "provenance": [],
      "authorship_tag": "ABX9TyMO0+jD61m3ubUKHpvpzZNN",
      "include_colab_link": true
    },
    "kernelspec": {
      "name": "python3",
      "display_name": "Python 3"
    },
    "language_info": {
      "name": "python"
    }
  },
  "cells": [
    {
      "cell_type": "markdown",
      "metadata": {
        "id": "view-in-github",
        "colab_type": "text"
      },
      "source": [
        "<a href=\"https://colab.research.google.com/github/LMAPcoder/Machine-Learning-Lab/blob/main/Exercise_sheet11.ipynb\" target=\"_parent\"><img src=\"https://colab.research.google.com/assets/colab-badge.svg\" alt=\"Open In Colab\"/></a>"
      ]
    },
    {
      "cell_type": "markdown",
      "source": [
        "#**Lab Programming Machine Learning**"
      ],
      "metadata": {
        "id": "VMevHZclL4CE"
      }
    },
    {
      "cell_type": "markdown",
      "source": [
        "Name: Leonardo Antiqui\n",
        "\n",
        "Group 2 Monday"
      ],
      "metadata": {
        "id": "7znTSARqL6uw"
      }
    },
    {
      "cell_type": "markdown",
      "source": [
        "## Exercise Sheet 11"
      ],
      "metadata": {
        "id": "0Ob3K9arL9ae"
      }
    },
    {
      "cell_type": "markdown",
      "source": [
        "### Exercise 1: Preprocessing Text Data"
      ],
      "metadata": {
        "id": "vTu9yonSL_8d"
      }
    },
    {
      "cell_type": "markdown",
      "source": [
        "The 20 newsgroups dataset comprises around 18000 newsgroups posts on 20 topics"
      ],
      "metadata": {
        "id": "tFcBkf5QMccq"
      }
    },
    {
      "cell_type": "code",
      "execution_count": null,
      "metadata": {
        "id": "wHxHb2XULrG2",
        "colab": {
          "base_uri": "https://localhost:8080/"
        },
        "outputId": "4c434055-14e8-482f-d907-2333df0a47ab"
      },
      "outputs": [
        {
          "output_type": "stream",
          "name": "stdout",
          "text": [
            "[nltk_data] Downloading package stopwords to /root/nltk_data...\n",
            "[nltk_data]   Unzipping corpora/stopwords.zip.\n"
          ]
        }
      ],
      "source": [
        "import numpy as np\n",
        "import pandas as pd\n",
        "import re\n",
        "import nltk\n",
        "nltk.download('stopwords') #download stopwords\n",
        "from nltk.corpus import stopwords\n",
        "from nltk.stem import PorterStemmer\n",
        "from sklearn.datasets import fetch_20newsgroups"
      ]
    },
    {
      "cell_type": "code",
      "source": [
        "categories = ['comp.graphics', 'sci.med'] #Two categories > binary classification problem\n",
        "twenty_train = fetch_20newsgroups(subset='train', categories=categories, shuffle=True, random_state=3116)"
      ],
      "metadata": {
        "id": "dK0XvPimMz5I"
      },
      "execution_count": null,
      "outputs": []
    },
    {
      "cell_type": "markdown",
      "source": [
        "The returned dataset is a scikit-learn bunch: a simple holder object with fields that can be both accessed as python dict keys or object attributes"
      ],
      "metadata": {
        "id": "eF2HBVWc2iOl"
      }
    },
    {
      "cell_type": "code",
      "source": [
        "#Labels of the document sets available\n",
        "print('Target names:',twenty_train.target_names)"
      ],
      "metadata": {
        "colab": {
          "base_uri": "https://localhost:8080/"
        },
        "id": "Ihppa22F2q3z",
        "outputId": "d7d2c0a7-24db-4630-f448-9a2b672cf6ea"
      },
      "execution_count": null,
      "outputs": [
        {
          "output_type": "stream",
          "name": "stdout",
          "text": [
            "Target names: ['comp.graphics', 'sci.med']\n"
          ]
        }
      ]
    },
    {
      "cell_type": "code",
      "source": [
        "#Targets\n",
        "unique, counts = np.unique(twenty_train.target, return_counts=True)\n",
        "print('Classes:',dict(zip(unique, counts)))"
      ],
      "metadata": {
        "colab": {
          "base_uri": "https://localhost:8080/"
        },
        "id": "_axd--EQ4LGx",
        "outputId": "c0af5b19-af0b-4dec-ad1a-bccf7364474f"
      },
      "execution_count": null,
      "outputs": [
        {
          "output_type": "stream",
          "name": "stdout",
          "text": [
            "Classes: {0: 584, 1: 594}\n"
          ]
        }
      ]
    },
    {
      "cell_type": "code",
      "source": [
        "#Number of samples in the dataset\n",
        "print('Number of posts:',len(twenty_train.data))"
      ],
      "metadata": {
        "colab": {
          "base_uri": "https://localhost:8080/"
        },
        "id": "mTKuwFJ1AwbH",
        "outputId": "8aadff64-9ab7-4fb2-929c-7b5984ca9598"
      },
      "execution_count": null,
      "outputs": [
        {
          "output_type": "stream",
          "name": "stdout",
          "text": [
            "Number of posts: 1178\n"
          ]
        }
      ]
    },
    {
      "cell_type": "code",
      "source": [
        "#Three first lines of the first post\n",
        "print(\"\\n\".join(twenty_train.data[0].split(\"\\n\")[:10]))"
      ],
      "metadata": {
        "colab": {
          "base_uri": "https://localhost:8080/"
        },
        "id": "M1wLvLB72t2H",
        "outputId": "f6a8aeb4-73e0-4a66-f8e4-2e3e82412cf8"
      },
      "execution_count": null,
      "outputs": [
        {
          "output_type": "stream",
          "name": "stdout",
          "text": [
            "From: kaminski@netcom.com (Peter Kaminski)\n",
            "Subject: Re: Krillean Photography\n",
            "Lines: 101\n",
            "Organization: The Information Deli - via Netcom / San Jose, California\n",
            "\n",
            "[Newsgroups: m.h.a added, followups set to most appropriate groups.]\n",
            "\n",
            "In <1993Apr19.205615.1013@unlv.edu> todamhyp@charles.unlv.edu (Brian M.\n",
            "Huey) writes:\n",
            "\n"
          ]
        }
      ]
    },
    {
      "cell_type": "markdown",
      "source": [
        "Vectorizing the posts with bag of words technique"
      ],
      "metadata": {
        "id": "xHcu5XEN4waL"
      }
    },
    {
      "cell_type": "code",
      "source": [
        "twenty_train.data[0]"
      ],
      "metadata": {
        "colab": {
          "base_uri": "https://localhost:8080/",
          "height": 139
        },
        "id": "gFD4k6pUAP_3",
        "outputId": "d6126ad9-15ac-4b51-9705-9052d86e4eb9"
      },
      "execution_count": null,
      "outputs": [
        {
          "output_type": "execute_result",
          "data": {
            "application/vnd.google.colaboratory.intrinsic+json": {
              "type": "string"
            },
            "text/plain": [
              "'From: kaminski@netcom.com (Peter Kaminski)\\nSubject: Re: Krillean Photography\\nLines: 101\\nOrganization: The Information Deli - via Netcom / San Jose, California\\n\\n[Newsgroups: m.h.a added, followups set to most appropriate groups.]\\n\\nIn <1993Apr19.205615.1013@unlv.edu> todamhyp@charles.unlv.edu (Brian M.\\nHuey) writes:\\n\\n>I am looking for any information/supplies that will allow\\n>do-it-yourselfers to take Krillean Pictures.\\n\\n(It\\'s \"Kirlian\".  \"Krillean\" pictures are portraits of tiny shrimp. :)\\n\\n[...]\\n\\n>One might extrapolate here and say that this proves that every object\\n>within the universe (as we know it) has its own energy signature.\\n\\nI think it\\'s safe to say that anything that\\'s not at 0 degrees Kelvin\\nwill have its own \"energy signature\" -- the interesting questions are\\nwhat kind of energy, and what it signifies.\\n\\nI\\'d check places like Edmund Scientific (are they still in business?) --\\nor I wonder if you can find ex-Soviet Union equipment for sale somewhere\\nin the relcom.* hierarchy.\\n\\nSome expansion on Kirlian photography:\\n\\nFrom the credulous side: [Stanway, Andrew, _Alternative Medicine: A Guide\\nTo Natural Therapies_, ISBN 0-14-008561-0, New York: Viking Penguin, 1986,\\np211, p188.  A not-overly critical but still useful overview of 32\\nalternative health therapies.]\\n\\n  ...the Russian engineer Semyon Kirlian and his wife Valentina during the\\n  1950s.  Using alternating currents of high frequency to \\'illuminate\\'\\n  their subjects, they photographed them.  They found that if an object\\n  was a good conductor (such as a metal) the picture showed only its\\n  surface, while the pictures of poor conductors showed the inner\\n  structure of the object even if it were optically opaque.  They found\\n  too that these high frequency pictures could distinguish between dead\\n  and living objects.  Dead ones had a constant outline whilst living ones\\n  were subject to changes.  The object\\'s life activity was also visible in\\n  highly variable colour patterns.\\n\\n  High frequency photography has now been practised for twenty years in\\n  the Soviet Union but only a few people in the West have taken it up\\n  seriously.  Professor Douglas Dean in New York and Professor Philips at\\n  Washington University in St Louis have produced Kirlian photographs and\\n  others have been produced in Brazil, Austria and Germany.\\n\\n  Using Kirlian photography it is possible to show an aura around people\\'s\\n  fingers, notably around those of healers who are concentrating on\\n  healing someone.  Normally, blue and white rays emanate from the fingers\\n  but, when a subject becomes angry or excited, the aura turns red and\\n  spotty.  The Soviets are now using Kirlian photography to diagnose\\n  diseases which cannot be diagnosed by any other method.  They argue that\\n  in most illnesses there is a preclinical stage during which the person\\n  isn\\'t actually ill but is about to be.  They claim to be able to\\n  foretell a disease by photographing its preclinical phase.\\n\\n  But the most exciting phenomenon illustrated by Kirlian photography is\\n  the phantom effect.  During high frequency photography of a leaf from\\n  which a part had been cut, the photograph gave a complete picture of the\\n  leaf with the removed part showing up faintly.  This is extremely\\n  important because it backs up the experiences of psychics who can \\'see\\'\\n  the legs of amputees as if they were still there.  The important thing\\n  about the Kirlian phantoms though is that the electromagnetic pattern\\n  can\\'t possibly represent a secondary phenomenon -- or the field would\\n  vanish when the piece of leaf or leg vanished.  The energy grid\\n  contained in a living object must therefore be far more significant than\\n  the actual object itself.\\n\\n  [...]\\n\\n  Kirlian photography has shown how water mentally \\'charged\\' by a healer\\n  has a much richer energy field around it than ordinary water...\\n\\n\\nFrom the incredulous side: [MacRobert, Alan, \"Reality shopping; a\\nconsumer\\'s guide to new age hokum.\", _Whole Earth Review_, Autumn 1986,\\nvNON4 p4(11).  An excellent article providing common-sense guidelines for\\nevaluating paranormal claims, and some of the author\\'s favorite examples\\nof hokum.]\\n\\n  The crank usually works in isolation from everyone else in his field of\\n  study, making grand discoveries in his basement.  Many paranormal\\n  movements can be traced back to such people -- Kirlian photography, for\\n  instance.  If you pump high-voltage electricity into anything it will\\n  emit glowing sparks, common knowledge to electrical workers and\\n  hobbyists for a century.  It took a lone basement crank to declare that\\n  the sparks represent some sort of spiritual aura.  In fact, Kirlian\\n  photography was subjected to rigorous testing by physicists John O.\\n  Pehek, Harry J. Kyler, and David L. Faust, who reported their findings\\n  in the October 15, 1976, issue of Science.  Their conclusion: The\\n  variations observed in Kirlian photographs are due solely to moisture on\\n  the surface of the body and not to mysterious \"auras\" or even\\n  necessarily to changes in mood or mental state.  Nevertheless,\\n  television shows, magazines, and books (many by famous\\n  parapsychologists) continue to promote Kirlian photography as proof of\\n  the unknown.\\n\\n-- \\nPeter Kaminski\\nkaminski@netcom.com\\n'"
            ]
          },
          "metadata": {},
          "execution_count": 7
        }
      ]
    },
    {
      "cell_type": "code",
      "source": [
        "#Preprocessing\n",
        "def preprocessing_string(text):\n",
        "  text = re.sub(r'\\S*@\\S*\\s?', '', text)\n",
        "  text = text.replace('\\n',' ').replace('_',' ')\n",
        "  text = re.sub(r'[^\\w\\s]', ' ', text)\n",
        "  text = re.sub(r'\\s\\s+', ' ', text)\n",
        "  text = text.lower()\n",
        "  return text\n",
        "\n",
        "def nonStopwords(word_list):\n",
        "  word_list = [word for word in word_list if not word in stopwords.words('english')]\n",
        "  return word_list\n",
        "\n",
        "def preprocessing_list(word_list):\n",
        "  word_list = [word for word in word_list if len(word)>1]\n",
        "  word_list = [PorterStemmer().stem(word) for word in word_list]\n",
        "  return word_list\n",
        "\n",
        "def preprocessing(text):\n",
        "  text = preprocessing_string(text)\n",
        "  word_list = text.split(' ')\n",
        "  word_list = nonStopwords(word_list)\n",
        "  word_list = preprocessing_list(word_list)\n",
        "  return word_list"
      ],
      "metadata": {
        "id": "cwhEdiRU5Djh"
      },
      "execution_count": null,
      "outputs": []
    },
    {
      "cell_type": "code",
      "source": [
        "preprocessing(twenty_train.data[0])[:5]"
      ],
      "metadata": {
        "colab": {
          "base_uri": "https://localhost:8080/"
        },
        "id": "bE4YeXL4WjoS",
        "outputId": "a824f7d0-2a50-4226-8c03-490b2e6c69de"
      },
      "execution_count": null,
      "outputs": [
        {
          "output_type": "execute_result",
          "data": {
            "text/plain": [
              "['peter', 'kaminski', 'subject', 'krillean', 'photographi']"
            ]
          },
          "metadata": {},
          "execution_count": 9
        }
      ]
    },
    {
      "cell_type": "code",
      "source": [
        "def vocab_O(data):\n",
        "  vocab_O = {}\n",
        "  N_docs = len(data) #number of posts\n",
        "  for idx, post in enumerate(data):\n",
        "    word_list = preprocessing(post)\n",
        "    # N_words = len(word_list) #number of words in the post\n",
        "    for word in word_list:\n",
        "      if word in vocab_O.keys():\n",
        "        if vocab_O[word][idx] == 0:\n",
        "          vocab_O[word][idx] = word_list.count(word)\n",
        "      else:     \n",
        "        vocab_O[word] = np.zeros(N_docs)\n",
        "        vocab_O[word][idx] = word_list.count(word)\n",
        "  vocab = vocab_O.keys()\n",
        "  vector = np.array([np.array(vocab_O[word]) for word in vocab_O.keys()]).T\n",
        "  return vector,vocab"
      ],
      "metadata": {
        "id": "eg3JtT-F4Kqd"
      },
      "execution_count": null,
      "outputs": []
    },
    {
      "cell_type": "code",
      "source": [
        "%%time\n",
        "vector_O,vocab = vocab_O(twenty_train.data)"
      ],
      "metadata": {
        "colab": {
          "base_uri": "https://localhost:8080/"
        },
        "id": "xr8Umxrnal4n",
        "outputId": "5d2567e2-1c2d-4683-a878-55c34ea046ea"
      },
      "execution_count": null,
      "outputs": [
        {
          "output_type": "stream",
          "name": "stdout",
          "text": [
            "CPU times: user 43.3 s, sys: 4.07 s, total: 47.4 s\n",
            "Wall time: 50.6 s\n"
          ]
        }
      ]
    },
    {
      "cell_type": "code",
      "source": [
        "#Snip of the feature matrix with ocurrencies as values\n",
        "pd.DataFrame(data=vector_O, index=None, columns=vocab).iloc[:5,:10]"
      ],
      "metadata": {
        "colab": {
          "base_uri": "https://localhost:8080/",
          "height": 206
        },
        "id": "YBEqfKM4irsQ",
        "outputId": "fccdbb82-ace2-4e08-bf14-831ae1be9279"
      },
      "execution_count": null,
      "outputs": [
        {
          "output_type": "execute_result",
          "data": {
            "text/html": [
              "\n",
              "  <div id=\"df-b6da78fd-9d88-4124-8b6f-709a1463f7a1\">\n",
              "    <div class=\"colab-df-container\">\n",
              "      <div>\n",
              "<style scoped>\n",
              "    .dataframe tbody tr th:only-of-type {\n",
              "        vertical-align: middle;\n",
              "    }\n",
              "\n",
              "    .dataframe tbody tr th {\n",
              "        vertical-align: top;\n",
              "    }\n",
              "\n",
              "    .dataframe thead th {\n",
              "        text-align: right;\n",
              "    }\n",
              "</style>\n",
              "<table border=\"1\" class=\"dataframe\">\n",
              "  <thead>\n",
              "    <tr style=\"text-align: right;\">\n",
              "      <th></th>\n",
              "      <th>peter</th>\n",
              "      <th>kaminski</th>\n",
              "      <th>subject</th>\n",
              "      <th>krillean</th>\n",
              "      <th>photographi</th>\n",
              "      <th>line</th>\n",
              "      <th>101</th>\n",
              "      <th>organ</th>\n",
              "      <th>inform</th>\n",
              "      <th>deli</th>\n",
              "    </tr>\n",
              "  </thead>\n",
              "  <tbody>\n",
              "    <tr>\n",
              "      <th>0</th>\n",
              "      <td>2.0</td>\n",
              "      <td>2.0</td>\n",
              "      <td>5.0</td>\n",
              "      <td>3.0</td>\n",
              "      <td>11.0</td>\n",
              "      <td>1.0</td>\n",
              "      <td>1.0</td>\n",
              "      <td>1.0</td>\n",
              "      <td>2.0</td>\n",
              "      <td>1.0</td>\n",
              "    </tr>\n",
              "    <tr>\n",
              "      <th>1</th>\n",
              "      <td>0.0</td>\n",
              "      <td>0.0</td>\n",
              "      <td>1.0</td>\n",
              "      <td>0.0</td>\n",
              "      <td>0.0</td>\n",
              "      <td>1.0</td>\n",
              "      <td>0.0</td>\n",
              "      <td>1.0</td>\n",
              "      <td>0.0</td>\n",
              "      <td>0.0</td>\n",
              "    </tr>\n",
              "    <tr>\n",
              "      <th>2</th>\n",
              "      <td>0.0</td>\n",
              "      <td>0.0</td>\n",
              "      <td>1.0</td>\n",
              "      <td>0.0</td>\n",
              "      <td>0.0</td>\n",
              "      <td>1.0</td>\n",
              "      <td>0.0</td>\n",
              "      <td>1.0</td>\n",
              "      <td>0.0</td>\n",
              "      <td>0.0</td>\n",
              "    </tr>\n",
              "    <tr>\n",
              "      <th>3</th>\n",
              "      <td>0.0</td>\n",
              "      <td>0.0</td>\n",
              "      <td>1.0</td>\n",
              "      <td>0.0</td>\n",
              "      <td>0.0</td>\n",
              "      <td>2.0</td>\n",
              "      <td>0.0</td>\n",
              "      <td>1.0</td>\n",
              "      <td>1.0</td>\n",
              "      <td>0.0</td>\n",
              "    </tr>\n",
              "    <tr>\n",
              "      <th>4</th>\n",
              "      <td>1.0</td>\n",
              "      <td>0.0</td>\n",
              "      <td>1.0</td>\n",
              "      <td>0.0</td>\n",
              "      <td>0.0</td>\n",
              "      <td>1.0</td>\n",
              "      <td>0.0</td>\n",
              "      <td>2.0</td>\n",
              "      <td>0.0</td>\n",
              "      <td>0.0</td>\n",
              "    </tr>\n",
              "  </tbody>\n",
              "</table>\n",
              "</div>\n",
              "      <button class=\"colab-df-convert\" onclick=\"convertToInteractive('df-b6da78fd-9d88-4124-8b6f-709a1463f7a1')\"\n",
              "              title=\"Convert this dataframe to an interactive table.\"\n",
              "              style=\"display:none;\">\n",
              "        \n",
              "  <svg xmlns=\"http://www.w3.org/2000/svg\" height=\"24px\"viewBox=\"0 0 24 24\"\n",
              "       width=\"24px\">\n",
              "    <path d=\"M0 0h24v24H0V0z\" fill=\"none\"/>\n",
              "    <path d=\"M18.56 5.44l.94 2.06.94-2.06 2.06-.94-2.06-.94-.94-2.06-.94 2.06-2.06.94zm-11 1L8.5 8.5l.94-2.06 2.06-.94-2.06-.94L8.5 2.5l-.94 2.06-2.06.94zm10 10l.94 2.06.94-2.06 2.06-.94-2.06-.94-.94-2.06-.94 2.06-2.06.94z\"/><path d=\"M17.41 7.96l-1.37-1.37c-.4-.4-.92-.59-1.43-.59-.52 0-1.04.2-1.43.59L10.3 9.45l-7.72 7.72c-.78.78-.78 2.05 0 2.83L4 21.41c.39.39.9.59 1.41.59.51 0 1.02-.2 1.41-.59l7.78-7.78 2.81-2.81c.8-.78.8-2.07 0-2.86zM5.41 20L4 18.59l7.72-7.72 1.47 1.35L5.41 20z\"/>\n",
              "  </svg>\n",
              "      </button>\n",
              "      \n",
              "  <style>\n",
              "    .colab-df-container {\n",
              "      display:flex;\n",
              "      flex-wrap:wrap;\n",
              "      gap: 12px;\n",
              "    }\n",
              "\n",
              "    .colab-df-convert {\n",
              "      background-color: #E8F0FE;\n",
              "      border: none;\n",
              "      border-radius: 50%;\n",
              "      cursor: pointer;\n",
              "      display: none;\n",
              "      fill: #1967D2;\n",
              "      height: 32px;\n",
              "      padding: 0 0 0 0;\n",
              "      width: 32px;\n",
              "    }\n",
              "\n",
              "    .colab-df-convert:hover {\n",
              "      background-color: #E2EBFA;\n",
              "      box-shadow: 0px 1px 2px rgba(60, 64, 67, 0.3), 0px 1px 3px 1px rgba(60, 64, 67, 0.15);\n",
              "      fill: #174EA6;\n",
              "    }\n",
              "\n",
              "    [theme=dark] .colab-df-convert {\n",
              "      background-color: #3B4455;\n",
              "      fill: #D2E3FC;\n",
              "    }\n",
              "\n",
              "    [theme=dark] .colab-df-convert:hover {\n",
              "      background-color: #434B5C;\n",
              "      box-shadow: 0px 1px 3px 1px rgba(0, 0, 0, 0.15);\n",
              "      filter: drop-shadow(0px 1px 2px rgba(0, 0, 0, 0.3));\n",
              "      fill: #FFFFFF;\n",
              "    }\n",
              "  </style>\n",
              "\n",
              "      <script>\n",
              "        const buttonEl =\n",
              "          document.querySelector('#df-b6da78fd-9d88-4124-8b6f-709a1463f7a1 button.colab-df-convert');\n",
              "        buttonEl.style.display =\n",
              "          google.colab.kernel.accessAllowed ? 'block' : 'none';\n",
              "\n",
              "        async function convertToInteractive(key) {\n",
              "          const element = document.querySelector('#df-b6da78fd-9d88-4124-8b6f-709a1463f7a1');\n",
              "          const dataTable =\n",
              "            await google.colab.kernel.invokeFunction('convertToInteractive',\n",
              "                                                     [key], {});\n",
              "          if (!dataTable) return;\n",
              "\n",
              "          const docLinkHtml = 'Like what you see? Visit the ' +\n",
              "            '<a target=\"_blank\" href=https://colab.research.google.com/notebooks/data_table.ipynb>data table notebook</a>'\n",
              "            + ' to learn more about interactive tables.';\n",
              "          element.innerHTML = '';\n",
              "          dataTable['output_type'] = 'display_data';\n",
              "          await google.colab.output.renderOutput(dataTable, element);\n",
              "          const docLink = document.createElement('div');\n",
              "          docLink.innerHTML = docLinkHtml;\n",
              "          element.appendChild(docLink);\n",
              "        }\n",
              "      </script>\n",
              "    </div>\n",
              "  </div>\n",
              "  "
            ],
            "text/plain": [
              "   peter  kaminski  subject  krillean  ...  101  organ  inform  deli\n",
              "0    2.0       2.0      5.0       3.0  ...  1.0    1.0     2.0   1.0\n",
              "1    0.0       0.0      1.0       0.0  ...  0.0    1.0     0.0   0.0\n",
              "2    0.0       0.0      1.0       0.0  ...  0.0    1.0     0.0   0.0\n",
              "3    0.0       0.0      1.0       0.0  ...  0.0    1.0     1.0   0.0\n",
              "4    1.0       0.0      1.0       0.0  ...  0.0    2.0     0.0   0.0\n",
              "\n",
              "[5 rows x 10 columns]"
            ]
          },
          "metadata": {},
          "execution_count": 12
        }
      ]
    },
    {
      "cell_type": "code",
      "source": [
        "print('Feature matrix size:',vector_O.shape)"
      ],
      "metadata": {
        "colab": {
          "base_uri": "https://localhost:8080/"
        },
        "id": "HAR__O3qD7lZ",
        "outputId": "8e222d1e-ea9d-40e2-820e-856d9c81ee66"
      },
      "execution_count": null,
      "outputs": [
        {
          "output_type": "stream",
          "name": "stdout",
          "text": [
            "Feature matrix size: (1178, 16448)\n"
          ]
        }
      ]
    },
    {
      "cell_type": "markdown",
      "source": [
        "Term Frequency times Inverse Document Frequency (TF–IDF)"
      ],
      "metadata": {
        "id": "IhUZDM5HeBgR"
      }
    },
    {
      "cell_type": "markdown",
      "source": [
        "Term Frequency:\n",
        "\n",
        "$TF(t,d) = \\frac{\\text{count of d in t}}{\\text{number of words in d}}$\n",
        "\n",
        "Document Frequency: number of documents in which the word is present.\n",
        "\n",
        "$DF(t) = \\text{occurrence of t in N documents}$\n",
        "\n",
        "Inverse Document Frequency:\n",
        "\n",
        "$IDF(t) = \\log{\\frac{N}{DF+1}}$\n",
        "\n",
        "TF-IDF:\n",
        "\n",
        "$TF-IDF(t,d) = TF(t,d) \\times IDF(t)$"
      ],
      "metadata": {
        "id": "wkw21oxaAwd7"
      }
    },
    {
      "cell_type": "code",
      "source": [
        "def tf_idf(vector):\n",
        "  tf = vector/vector.sum(axis=1, keepdims=True)\n",
        "  df = np.count_nonzero(vector,axis=0)\n",
        "  idf = np.log(len(vector)/(df+1))\n",
        "  tf_idf = tf*idf\n",
        "  return tf, tf_idf"
      ],
      "metadata": {
        "id": "LggRcndO06rL"
      },
      "execution_count": null,
      "outputs": []
    },
    {
      "cell_type": "code",
      "source": [
        "vector_tf ,vector_tf_idf = tf_idf(vector_O)"
      ],
      "metadata": {
        "id": "beN776YX27Fo"
      },
      "execution_count": null,
      "outputs": []
    },
    {
      "cell_type": "code",
      "source": [
        "#Snip of the feature matrix with tf as values\n",
        "pd.DataFrame(data=vector_tf, index=None, columns=vocab).iloc[:5,:10]"
      ],
      "metadata": {
        "colab": {
          "base_uri": "https://localhost:8080/",
          "height": 206
        },
        "id": "Yh13P3V1XeCk",
        "outputId": "5cd3ff67-367f-438e-e429-d22dd2323d4e"
      },
      "execution_count": null,
      "outputs": [
        {
          "output_type": "execute_result",
          "data": {
            "text/html": [
              "\n",
              "  <div id=\"df-a47e4921-f859-4232-9f8a-46160db6dfee\">\n",
              "    <div class=\"colab-df-container\">\n",
              "      <div>\n",
              "<style scoped>\n",
              "    .dataframe tbody tr th:only-of-type {\n",
              "        vertical-align: middle;\n",
              "    }\n",
              "\n",
              "    .dataframe tbody tr th {\n",
              "        vertical-align: top;\n",
              "    }\n",
              "\n",
              "    .dataframe thead th {\n",
              "        text-align: right;\n",
              "    }\n",
              "</style>\n",
              "<table border=\"1\" class=\"dataframe\">\n",
              "  <thead>\n",
              "    <tr style=\"text-align: right;\">\n",
              "      <th></th>\n",
              "      <th>peter</th>\n",
              "      <th>kaminski</th>\n",
              "      <th>subject</th>\n",
              "      <th>krillean</th>\n",
              "      <th>photographi</th>\n",
              "      <th>line</th>\n",
              "      <th>101</th>\n",
              "      <th>organ</th>\n",
              "      <th>inform</th>\n",
              "      <th>deli</th>\n",
              "    </tr>\n",
              "  </thead>\n",
              "  <tbody>\n",
              "    <tr>\n",
              "      <th>0</th>\n",
              "      <td>0.004357</td>\n",
              "      <td>0.004357</td>\n",
              "      <td>0.010893</td>\n",
              "      <td>0.006536</td>\n",
              "      <td>0.023965</td>\n",
              "      <td>0.002179</td>\n",
              "      <td>0.002179</td>\n",
              "      <td>0.002179</td>\n",
              "      <td>0.004357</td>\n",
              "      <td>0.002179</td>\n",
              "    </tr>\n",
              "    <tr>\n",
              "      <th>1</th>\n",
              "      <td>0.000000</td>\n",
              "      <td>0.000000</td>\n",
              "      <td>0.013699</td>\n",
              "      <td>0.000000</td>\n",
              "      <td>0.000000</td>\n",
              "      <td>0.013699</td>\n",
              "      <td>0.000000</td>\n",
              "      <td>0.013699</td>\n",
              "      <td>0.000000</td>\n",
              "      <td>0.000000</td>\n",
              "    </tr>\n",
              "    <tr>\n",
              "      <th>2</th>\n",
              "      <td>0.000000</td>\n",
              "      <td>0.000000</td>\n",
              "      <td>0.002611</td>\n",
              "      <td>0.000000</td>\n",
              "      <td>0.000000</td>\n",
              "      <td>0.002611</td>\n",
              "      <td>0.000000</td>\n",
              "      <td>0.002611</td>\n",
              "      <td>0.000000</td>\n",
              "      <td>0.000000</td>\n",
              "    </tr>\n",
              "    <tr>\n",
              "      <th>3</th>\n",
              "      <td>0.000000</td>\n",
              "      <td>0.000000</td>\n",
              "      <td>0.005495</td>\n",
              "      <td>0.000000</td>\n",
              "      <td>0.000000</td>\n",
              "      <td>0.010989</td>\n",
              "      <td>0.000000</td>\n",
              "      <td>0.005495</td>\n",
              "      <td>0.005495</td>\n",
              "      <td>0.000000</td>\n",
              "    </tr>\n",
              "    <tr>\n",
              "      <th>4</th>\n",
              "      <td>0.017241</td>\n",
              "      <td>0.000000</td>\n",
              "      <td>0.017241</td>\n",
              "      <td>0.000000</td>\n",
              "      <td>0.000000</td>\n",
              "      <td>0.017241</td>\n",
              "      <td>0.000000</td>\n",
              "      <td>0.034483</td>\n",
              "      <td>0.000000</td>\n",
              "      <td>0.000000</td>\n",
              "    </tr>\n",
              "  </tbody>\n",
              "</table>\n",
              "</div>\n",
              "      <button class=\"colab-df-convert\" onclick=\"convertToInteractive('df-a47e4921-f859-4232-9f8a-46160db6dfee')\"\n",
              "              title=\"Convert this dataframe to an interactive table.\"\n",
              "              style=\"display:none;\">\n",
              "        \n",
              "  <svg xmlns=\"http://www.w3.org/2000/svg\" height=\"24px\"viewBox=\"0 0 24 24\"\n",
              "       width=\"24px\">\n",
              "    <path d=\"M0 0h24v24H0V0z\" fill=\"none\"/>\n",
              "    <path d=\"M18.56 5.44l.94 2.06.94-2.06 2.06-.94-2.06-.94-.94-2.06-.94 2.06-2.06.94zm-11 1L8.5 8.5l.94-2.06 2.06-.94-2.06-.94L8.5 2.5l-.94 2.06-2.06.94zm10 10l.94 2.06.94-2.06 2.06-.94-2.06-.94-.94-2.06-.94 2.06-2.06.94z\"/><path d=\"M17.41 7.96l-1.37-1.37c-.4-.4-.92-.59-1.43-.59-.52 0-1.04.2-1.43.59L10.3 9.45l-7.72 7.72c-.78.78-.78 2.05 0 2.83L4 21.41c.39.39.9.59 1.41.59.51 0 1.02-.2 1.41-.59l7.78-7.78 2.81-2.81c.8-.78.8-2.07 0-2.86zM5.41 20L4 18.59l7.72-7.72 1.47 1.35L5.41 20z\"/>\n",
              "  </svg>\n",
              "      </button>\n",
              "      \n",
              "  <style>\n",
              "    .colab-df-container {\n",
              "      display:flex;\n",
              "      flex-wrap:wrap;\n",
              "      gap: 12px;\n",
              "    }\n",
              "\n",
              "    .colab-df-convert {\n",
              "      background-color: #E8F0FE;\n",
              "      border: none;\n",
              "      border-radius: 50%;\n",
              "      cursor: pointer;\n",
              "      display: none;\n",
              "      fill: #1967D2;\n",
              "      height: 32px;\n",
              "      padding: 0 0 0 0;\n",
              "      width: 32px;\n",
              "    }\n",
              "\n",
              "    .colab-df-convert:hover {\n",
              "      background-color: #E2EBFA;\n",
              "      box-shadow: 0px 1px 2px rgba(60, 64, 67, 0.3), 0px 1px 3px 1px rgba(60, 64, 67, 0.15);\n",
              "      fill: #174EA6;\n",
              "    }\n",
              "\n",
              "    [theme=dark] .colab-df-convert {\n",
              "      background-color: #3B4455;\n",
              "      fill: #D2E3FC;\n",
              "    }\n",
              "\n",
              "    [theme=dark] .colab-df-convert:hover {\n",
              "      background-color: #434B5C;\n",
              "      box-shadow: 0px 1px 3px 1px rgba(0, 0, 0, 0.15);\n",
              "      filter: drop-shadow(0px 1px 2px rgba(0, 0, 0, 0.3));\n",
              "      fill: #FFFFFF;\n",
              "    }\n",
              "  </style>\n",
              "\n",
              "      <script>\n",
              "        const buttonEl =\n",
              "          document.querySelector('#df-a47e4921-f859-4232-9f8a-46160db6dfee button.colab-df-convert');\n",
              "        buttonEl.style.display =\n",
              "          google.colab.kernel.accessAllowed ? 'block' : 'none';\n",
              "\n",
              "        async function convertToInteractive(key) {\n",
              "          const element = document.querySelector('#df-a47e4921-f859-4232-9f8a-46160db6dfee');\n",
              "          const dataTable =\n",
              "            await google.colab.kernel.invokeFunction('convertToInteractive',\n",
              "                                                     [key], {});\n",
              "          if (!dataTable) return;\n",
              "\n",
              "          const docLinkHtml = 'Like what you see? Visit the ' +\n",
              "            '<a target=\"_blank\" href=https://colab.research.google.com/notebooks/data_table.ipynb>data table notebook</a>'\n",
              "            + ' to learn more about interactive tables.';\n",
              "          element.innerHTML = '';\n",
              "          dataTable['output_type'] = 'display_data';\n",
              "          await google.colab.output.renderOutput(dataTable, element);\n",
              "          const docLink = document.createElement('div');\n",
              "          docLink.innerHTML = docLinkHtml;\n",
              "          element.appendChild(docLink);\n",
              "        }\n",
              "      </script>\n",
              "    </div>\n",
              "  </div>\n",
              "  "
            ],
            "text/plain": [
              "      peter  kaminski   subject  ...     organ    inform      deli\n",
              "0  0.004357  0.004357  0.010893  ...  0.002179  0.004357  0.002179\n",
              "1  0.000000  0.000000  0.013699  ...  0.013699  0.000000  0.000000\n",
              "2  0.000000  0.000000  0.002611  ...  0.002611  0.000000  0.000000\n",
              "3  0.000000  0.000000  0.005495  ...  0.005495  0.005495  0.000000\n",
              "4  0.017241  0.000000  0.017241  ...  0.034483  0.000000  0.000000\n",
              "\n",
              "[5 rows x 10 columns]"
            ]
          },
          "metadata": {},
          "execution_count": 110
        }
      ]
    },
    {
      "cell_type": "code",
      "source": [
        "#Snip of the feature matrix with tf-idf as values\n",
        "pd.DataFrame(data=vector_tf_idf, index=None, columns=vocab).iloc[:5,:10]"
      ],
      "metadata": {
        "colab": {
          "base_uri": "https://localhost:8080/",
          "height": 206
        },
        "id": "de4kCFFBE1km",
        "outputId": "d35b2509-398b-4696-c121-33020e37c072"
      },
      "execution_count": null,
      "outputs": [
        {
          "output_type": "execute_result",
          "data": {
            "text/html": [
              "\n",
              "  <div id=\"df-4f2ccc41-8403-43e8-bce8-dda5548efac4\">\n",
              "    <div class=\"colab-df-container\">\n",
              "      <div>\n",
              "<style scoped>\n",
              "    .dataframe tbody tr th:only-of-type {\n",
              "        vertical-align: middle;\n",
              "    }\n",
              "\n",
              "    .dataframe tbody tr th {\n",
              "        vertical-align: top;\n",
              "    }\n",
              "\n",
              "    .dataframe thead th {\n",
              "        text-align: right;\n",
              "    }\n",
              "</style>\n",
              "<table border=\"1\" class=\"dataframe\">\n",
              "  <thead>\n",
              "    <tr style=\"text-align: right;\">\n",
              "      <th></th>\n",
              "      <th>peter</th>\n",
              "      <th>kaminski</th>\n",
              "      <th>subject</th>\n",
              "      <th>krillean</th>\n",
              "      <th>photographi</th>\n",
              "      <th>line</th>\n",
              "      <th>101</th>\n",
              "      <th>organ</th>\n",
              "      <th>inform</th>\n",
              "      <th>deli</th>\n",
              "    </tr>\n",
              "  </thead>\n",
              "  <tbody>\n",
              "    <tr>\n",
              "      <th>0</th>\n",
              "      <td>0.015993</td>\n",
              "      <td>0.0238</td>\n",
              "      <td>-0.000009</td>\n",
              "      <td>0.027702</td>\n",
              "      <td>0.100203</td>\n",
              "      <td>0.000013</td>\n",
              "      <td>0.010182</td>\n",
              "      <td>0.000066</td>\n",
              "      <td>0.007683</td>\n",
              "      <td>0.012386</td>\n",
              "    </tr>\n",
              "    <tr>\n",
              "      <th>1</th>\n",
              "      <td>0.000000</td>\n",
              "      <td>0.0000</td>\n",
              "      <td>-0.000012</td>\n",
              "      <td>0.000000</td>\n",
              "      <td>0.000000</td>\n",
              "      <td>0.000082</td>\n",
              "      <td>0.000000</td>\n",
              "      <td>0.000413</td>\n",
              "      <td>0.000000</td>\n",
              "      <td>0.000000</td>\n",
              "    </tr>\n",
              "    <tr>\n",
              "      <th>2</th>\n",
              "      <td>0.000000</td>\n",
              "      <td>0.0000</td>\n",
              "      <td>-0.000002</td>\n",
              "      <td>0.000000</td>\n",
              "      <td>0.000000</td>\n",
              "      <td>0.000016</td>\n",
              "      <td>0.000000</td>\n",
              "      <td>0.000079</td>\n",
              "      <td>0.000000</td>\n",
              "      <td>0.000000</td>\n",
              "    </tr>\n",
              "    <tr>\n",
              "      <th>3</th>\n",
              "      <td>0.000000</td>\n",
              "      <td>0.0000</td>\n",
              "      <td>-0.000005</td>\n",
              "      <td>0.000000</td>\n",
              "      <td>0.000000</td>\n",
              "      <td>0.000065</td>\n",
              "      <td>0.000000</td>\n",
              "      <td>0.000166</td>\n",
              "      <td>0.009688</td>\n",
              "      <td>0.000000</td>\n",
              "    </tr>\n",
              "    <tr>\n",
              "      <th>4</th>\n",
              "      <td>0.063282</td>\n",
              "      <td>0.0000</td>\n",
              "      <td>-0.000015</td>\n",
              "      <td>0.000000</td>\n",
              "      <td>0.000000</td>\n",
              "      <td>0.000103</td>\n",
              "      <td>0.000000</td>\n",
              "      <td>0.001040</td>\n",
              "      <td>0.000000</td>\n",
              "      <td>0.000000</td>\n",
              "    </tr>\n",
              "  </tbody>\n",
              "</table>\n",
              "</div>\n",
              "      <button class=\"colab-df-convert\" onclick=\"convertToInteractive('df-4f2ccc41-8403-43e8-bce8-dda5548efac4')\"\n",
              "              title=\"Convert this dataframe to an interactive table.\"\n",
              "              style=\"display:none;\">\n",
              "        \n",
              "  <svg xmlns=\"http://www.w3.org/2000/svg\" height=\"24px\"viewBox=\"0 0 24 24\"\n",
              "       width=\"24px\">\n",
              "    <path d=\"M0 0h24v24H0V0z\" fill=\"none\"/>\n",
              "    <path d=\"M18.56 5.44l.94 2.06.94-2.06 2.06-.94-2.06-.94-.94-2.06-.94 2.06-2.06.94zm-11 1L8.5 8.5l.94-2.06 2.06-.94-2.06-.94L8.5 2.5l-.94 2.06-2.06.94zm10 10l.94 2.06.94-2.06 2.06-.94-2.06-.94-.94-2.06-.94 2.06-2.06.94z\"/><path d=\"M17.41 7.96l-1.37-1.37c-.4-.4-.92-.59-1.43-.59-.52 0-1.04.2-1.43.59L10.3 9.45l-7.72 7.72c-.78.78-.78 2.05 0 2.83L4 21.41c.39.39.9.59 1.41.59.51 0 1.02-.2 1.41-.59l7.78-7.78 2.81-2.81c.8-.78.8-2.07 0-2.86zM5.41 20L4 18.59l7.72-7.72 1.47 1.35L5.41 20z\"/>\n",
              "  </svg>\n",
              "      </button>\n",
              "      \n",
              "  <style>\n",
              "    .colab-df-container {\n",
              "      display:flex;\n",
              "      flex-wrap:wrap;\n",
              "      gap: 12px;\n",
              "    }\n",
              "\n",
              "    .colab-df-convert {\n",
              "      background-color: #E8F0FE;\n",
              "      border: none;\n",
              "      border-radius: 50%;\n",
              "      cursor: pointer;\n",
              "      display: none;\n",
              "      fill: #1967D2;\n",
              "      height: 32px;\n",
              "      padding: 0 0 0 0;\n",
              "      width: 32px;\n",
              "    }\n",
              "\n",
              "    .colab-df-convert:hover {\n",
              "      background-color: #E2EBFA;\n",
              "      box-shadow: 0px 1px 2px rgba(60, 64, 67, 0.3), 0px 1px 3px 1px rgba(60, 64, 67, 0.15);\n",
              "      fill: #174EA6;\n",
              "    }\n",
              "\n",
              "    [theme=dark] .colab-df-convert {\n",
              "      background-color: #3B4455;\n",
              "      fill: #D2E3FC;\n",
              "    }\n",
              "\n",
              "    [theme=dark] .colab-df-convert:hover {\n",
              "      background-color: #434B5C;\n",
              "      box-shadow: 0px 1px 3px 1px rgba(0, 0, 0, 0.15);\n",
              "      filter: drop-shadow(0px 1px 2px rgba(0, 0, 0, 0.3));\n",
              "      fill: #FFFFFF;\n",
              "    }\n",
              "  </style>\n",
              "\n",
              "      <script>\n",
              "        const buttonEl =\n",
              "          document.querySelector('#df-4f2ccc41-8403-43e8-bce8-dda5548efac4 button.colab-df-convert');\n",
              "        buttonEl.style.display =\n",
              "          google.colab.kernel.accessAllowed ? 'block' : 'none';\n",
              "\n",
              "        async function convertToInteractive(key) {\n",
              "          const element = document.querySelector('#df-4f2ccc41-8403-43e8-bce8-dda5548efac4');\n",
              "          const dataTable =\n",
              "            await google.colab.kernel.invokeFunction('convertToInteractive',\n",
              "                                                     [key], {});\n",
              "          if (!dataTable) return;\n",
              "\n",
              "          const docLinkHtml = 'Like what you see? Visit the ' +\n",
              "            '<a target=\"_blank\" href=https://colab.research.google.com/notebooks/data_table.ipynb>data table notebook</a>'\n",
              "            + ' to learn more about interactive tables.';\n",
              "          element.innerHTML = '';\n",
              "          dataTable['output_type'] = 'display_data';\n",
              "          await google.colab.output.renderOutput(dataTable, element);\n",
              "          const docLink = document.createElement('div');\n",
              "          docLink.innerHTML = docLinkHtml;\n",
              "          element.appendChild(docLink);\n",
              "        }\n",
              "      </script>\n",
              "    </div>\n",
              "  </div>\n",
              "  "
            ],
            "text/plain": [
              "      peter  kaminski   subject  ...     organ    inform      deli\n",
              "0  0.015993    0.0238 -0.000009  ...  0.000066  0.007683  0.012386\n",
              "1  0.000000    0.0000 -0.000012  ...  0.000413  0.000000  0.000000\n",
              "2  0.000000    0.0000 -0.000002  ...  0.000079  0.000000  0.000000\n",
              "3  0.000000    0.0000 -0.000005  ...  0.000166  0.009688  0.000000\n",
              "4  0.063282    0.0000 -0.000015  ...  0.001040  0.000000  0.000000\n",
              "\n",
              "[5 rows x 10 columns]"
            ]
          },
          "metadata": {},
          "execution_count": 16
        }
      ]
    },
    {
      "cell_type": "markdown",
      "source": [
        "Splitting the data"
      ],
      "metadata": {
        "id": "3hy6bnn173dQ"
      }
    },
    {
      "cell_type": "code",
      "source": [
        "# X_data = vector_tf_idf\n",
        "X_data = vector_O\n",
        "y_data = twenty_train.target.reshape(-1,1)\n",
        "data = np.hstack((X_data,y_data))\n",
        "data_train, data_valid, data_test = np.split(data,[int(len(data)*0.8),int(len(data)*0.9)])"
      ],
      "metadata": {
        "id": "rD7PCc49FfWg"
      },
      "execution_count": null,
      "outputs": []
    },
    {
      "cell_type": "code",
      "source": [
        "X_train = data_train[:,:-1]\n",
        "y_train = data_train[:,-1]\n",
        "X_valid = data_valid[:,:-1]\n",
        "y_valid = data_valid[:,-1]\n",
        "X_test = data_test[:,:-1]\n",
        "y_test = data_test[:,-1]"
      ],
      "metadata": {
        "id": "TDFMpi_F99VZ"
      },
      "execution_count": null,
      "outputs": []
    },
    {
      "cell_type": "code",
      "source": [
        "print('X_train shape:',X_train.shape)\n",
        "print('y_train shape:',y_train.shape)\n",
        "print('X_valid shape:',X_valid.shape)\n",
        "print('y_valid shape:',y_valid.shape)\n",
        "print('X_test shape:',X_test.shape)\n",
        "print('y_test shape:',y_test.shape)"
      ],
      "metadata": {
        "colab": {
          "base_uri": "https://localhost:8080/"
        },
        "id": "_Se3KgcoGnBM",
        "outputId": "003def32-d028-4e81-9f70-7f81f5bcc918"
      },
      "execution_count": null,
      "outputs": [
        {
          "output_type": "stream",
          "name": "stdout",
          "text": [
            "X_train shape: (942, 16448)\n",
            "y_train shape: (942,)\n",
            "X_valid shape: (118, 16448)\n",
            "y_valid shape: (118,)\n",
            "X_test shape: (118, 16448)\n",
            "y_test shape: (118,)\n"
          ]
        }
      ]
    },
    {
      "cell_type": "code",
      "source": [
        "np.hstack((y_train,y_valid)).shape"
      ],
      "metadata": {
        "colab": {
          "base_uri": "https://localhost:8080/"
        },
        "id": "Q4FEDTWRL-9a",
        "outputId": "dbbcf5ed-ce5b-44b9-a645-d039a295509d"
      },
      "execution_count": null,
      "outputs": [
        {
          "output_type": "execute_result",
          "data": {
            "text/plain": [
              "(1060,)"
            ]
          },
          "metadata": {},
          "execution_count": 92
        }
      ]
    },
    {
      "cell_type": "markdown",
      "source": [
        "### Exercise 2: Implementing Naive Bayes Classifier for Text Data"
      ],
      "metadata": {
        "id": "g0UF3MGQ1C0x"
      }
    },
    {
      "cell_type": "markdown",
      "source": [
        "Naive Bayes methods are a set of supervised learning algorithms based on applying Bayes’ theorem with the “naive” assumption of conditional independence between every pair of features given the value of the class variable.\n",
        "\n",
        "Conditional distribution:\n",
        "\\begin{align}\n",
        "p(y|\\mathbf{x}) = \\frac{p(y)p(\\mathbf{x}|y)}{p(\\mathbf{x})}\n",
        "\\end{align}\n",
        "Using the naive conditional independence assumption:\n",
        "\\begin{align}\n",
        "p(\\mathbf{x}|y) = \\prod_{m=1}^{M}p(x_m|y)\n",
        "\\end{align}\n",
        "Finally the predition is:\n",
        "\\begin{align}\n",
        "\\hat{y}_{new} = \\arg \\max_{y} \\left[p(y)\\prod_{m=1}^{M}p(x_{new,m}|y)\\right] = \\arg \\max_{y} \\left[\\log p(y) + \\sum_{m=1}^{M} \\log p(x_{new,m}|y)\\right]\n",
        "\\end{align}\n",
        "The different naive Bayes classifiers differ mainly by the assumptions they make regarding the distribution of $p(x_m|y)$.\n",
        "\n",
        "Since our data is very sparse, with some words present in just one document, Gaussian distribution is not possible. Therefore, **multinomial distribution** is used.\n",
        "\n",
        "The MN distribution is parametrized by vectors for each class $\\theta_{y}=(\\theta_{y1},...,\\theta_{yM})$ where $\\theta_{ym}=p(x_m|y)$ is the probability that word m occurs in class $y$. The parameters $\\theta_y$ is estimated by a smoothed version of maximum likelihood:\n",
        "\\begin{align}\n",
        "\\hat{\\theta}_{ym} = \\frac{N_{ym}+\\alpha}{N_y+\\alpha M}\n",
        "\\end{align}\n",
        "Where $N_{ym}=\\sum_{xϵD} x_m$ is the number of times feature $m$ appears in a sample of class $y$ in the training set $D$, and $N_y=\\sum_{m=1}^{M} N_{ym}$ is the total count of all features for class $y$.\n",
        "\n",
        "If $x_m$ is the number of occurences of feature in the document:\n",
        "\\begin{align}\n",
        "N_{ym}=\\sum_{xϵD} x_m = \\sum_{n=1}^{N} x_{nm}\n",
        "\\end{align}\n",
        "And the conditional probability of the new data point:\n",
        "\\begin{align}\n",
        "p(x_{new,m}|y) = p(x_{m}|y)^{x_{new,m}}\n",
        "\\end{align}\n",
        "Putting all together:\n",
        "\\begin{align}\n",
        "\\hat{y}_{new} = \\arg \\max_{y} \\left[\\log p(y) + \\sum_{m=1}^{M} x_{new,m} \\log \\left(\\frac{N_{ym}+\\alpha}{N_y+\\alpha M}\\right)\\right]\n",
        "\\end{align}\n",
        "To increase the performance of the model we transform the training data as:\n",
        "\n",
        "$x_{new,m} = TD-IDF(m,new)$"
      ],
      "metadata": {
        "id": "CBiwgMMWZDwx"
      }
    },
    {
      "cell_type": "code",
      "source": [
        "#Function to calculate logarithm of prior probability of class\n",
        "def prior(y):\n",
        "  C = np.unique(y)\n",
        "  P = np.zeros(C.shape)\n",
        "  for n,c in enumerate(C):  \n",
        "    prior = np.log((y == c).mean())\n",
        "    P[n] = prior\n",
        "  return P\n",
        "\n",
        "#Function to calculate logarithm of parameters thetas\n",
        "def multinomial_matrix(X,y,alpha):\n",
        "  C = np.unique(y)\n",
        "  M = X.shape[1]\n",
        "  P = np.zeros((len(C),M))\n",
        "  for n,c in enumerate(C):\n",
        "    N_ym = X[y == c].sum(axis=0)\n",
        "    N_y = X[y == c].sum()\n",
        "    p_m_y = (N_ym + alpha)/(N_y + alpha*M)\n",
        "    P[n] = np.log(p_m_y)\n",
        "  return P"
      ],
      "metadata": {
        "id": "pMcKfUKseJH_"
      },
      "execution_count": null,
      "outputs": []
    },
    {
      "cell_type": "code",
      "source": [
        "#Training the multinomial naive bayes \"model\"\n",
        "alpha = 1\n",
        "log_MNmtx = multinomial_matrix(X_train,y_train,alpha)\n",
        "log_prior = prior(y_train)"
      ],
      "metadata": {
        "id": "woO9VV3Xwpxn"
      },
      "execution_count": null,
      "outputs": []
    },
    {
      "cell_type": "code",
      "source": [
        "#Snip of the multinomial matrix\n",
        "pd.DataFrame(data=log_MNmtx, index=None, columns=vocab).iloc[:,:10]"
      ],
      "metadata": {
        "id": "eqYqOUjDwsgC",
        "colab": {
          "base_uri": "https://localhost:8080/",
          "height": 112
        },
        "outputId": "cc4e3449-7756-4374-ed58-4a7c08934ebd"
      },
      "execution_count": null,
      "outputs": [
        {
          "output_type": "execute_result",
          "data": {
            "text/html": [
              "\n",
              "  <div id=\"df-0dfb5057-14cc-4f76-9e38-3a33112d89bf\">\n",
              "    <div class=\"colab-df-container\">\n",
              "      <div>\n",
              "<style scoped>\n",
              "    .dataframe tbody tr th:only-of-type {\n",
              "        vertical-align: middle;\n",
              "    }\n",
              "\n",
              "    .dataframe tbody tr th {\n",
              "        vertical-align: top;\n",
              "    }\n",
              "\n",
              "    .dataframe thead th {\n",
              "        text-align: right;\n",
              "    }\n",
              "</style>\n",
              "<table border=\"1\" class=\"dataframe\">\n",
              "  <thead>\n",
              "    <tr style=\"text-align: right;\">\n",
              "      <th></th>\n",
              "      <th>peter</th>\n",
              "      <th>kaminski</th>\n",
              "      <th>subject</th>\n",
              "      <th>krillean</th>\n",
              "      <th>photographi</th>\n",
              "      <th>line</th>\n",
              "      <th>101</th>\n",
              "      <th>organ</th>\n",
              "      <th>inform</th>\n",
              "      <th>deli</th>\n",
              "    </tr>\n",
              "  </thead>\n",
              "  <tbody>\n",
              "    <tr>\n",
              "      <th>0</th>\n",
              "      <td>-8.053039</td>\n",
              "      <td>-11.348876</td>\n",
              "      <td>-5.128286</td>\n",
              "      <td>-11.348876</td>\n",
              "      <td>-10.655729</td>\n",
              "      <td>-4.895251</td>\n",
              "      <td>-9.962582</td>\n",
              "      <td>-5.194018</td>\n",
              "      <td>-6.305451</td>\n",
              "      <td>-11.348876</td>\n",
              "    </tr>\n",
              "    <tr>\n",
              "      <th>1</th>\n",
              "      <td>-8.592835</td>\n",
              "      <td>-9.816611</td>\n",
              "      <td>-5.151287</td>\n",
              "      <td>-8.058753</td>\n",
              "      <td>-7.641859</td>\n",
              "      <td>-5.201490</td>\n",
              "      <td>-9.480138</td>\n",
              "      <td>-5.127099</td>\n",
              "      <td>-6.284385</td>\n",
              "      <td>-10.327436</td>\n",
              "    </tr>\n",
              "  </tbody>\n",
              "</table>\n",
              "</div>\n",
              "      <button class=\"colab-df-convert\" onclick=\"convertToInteractive('df-0dfb5057-14cc-4f76-9e38-3a33112d89bf')\"\n",
              "              title=\"Convert this dataframe to an interactive table.\"\n",
              "              style=\"display:none;\">\n",
              "        \n",
              "  <svg xmlns=\"http://www.w3.org/2000/svg\" height=\"24px\"viewBox=\"0 0 24 24\"\n",
              "       width=\"24px\">\n",
              "    <path d=\"M0 0h24v24H0V0z\" fill=\"none\"/>\n",
              "    <path d=\"M18.56 5.44l.94 2.06.94-2.06 2.06-.94-2.06-.94-.94-2.06-.94 2.06-2.06.94zm-11 1L8.5 8.5l.94-2.06 2.06-.94-2.06-.94L8.5 2.5l-.94 2.06-2.06.94zm10 10l.94 2.06.94-2.06 2.06-.94-2.06-.94-.94-2.06-.94 2.06-2.06.94z\"/><path d=\"M17.41 7.96l-1.37-1.37c-.4-.4-.92-.59-1.43-.59-.52 0-1.04.2-1.43.59L10.3 9.45l-7.72 7.72c-.78.78-.78 2.05 0 2.83L4 21.41c.39.39.9.59 1.41.59.51 0 1.02-.2 1.41-.59l7.78-7.78 2.81-2.81c.8-.78.8-2.07 0-2.86zM5.41 20L4 18.59l7.72-7.72 1.47 1.35L5.41 20z\"/>\n",
              "  </svg>\n",
              "      </button>\n",
              "      \n",
              "  <style>\n",
              "    .colab-df-container {\n",
              "      display:flex;\n",
              "      flex-wrap:wrap;\n",
              "      gap: 12px;\n",
              "    }\n",
              "\n",
              "    .colab-df-convert {\n",
              "      background-color: #E8F0FE;\n",
              "      border: none;\n",
              "      border-radius: 50%;\n",
              "      cursor: pointer;\n",
              "      display: none;\n",
              "      fill: #1967D2;\n",
              "      height: 32px;\n",
              "      padding: 0 0 0 0;\n",
              "      width: 32px;\n",
              "    }\n",
              "\n",
              "    .colab-df-convert:hover {\n",
              "      background-color: #E2EBFA;\n",
              "      box-shadow: 0px 1px 2px rgba(60, 64, 67, 0.3), 0px 1px 3px 1px rgba(60, 64, 67, 0.15);\n",
              "      fill: #174EA6;\n",
              "    }\n",
              "\n",
              "    [theme=dark] .colab-df-convert {\n",
              "      background-color: #3B4455;\n",
              "      fill: #D2E3FC;\n",
              "    }\n",
              "\n",
              "    [theme=dark] .colab-df-convert:hover {\n",
              "      background-color: #434B5C;\n",
              "      box-shadow: 0px 1px 3px 1px rgba(0, 0, 0, 0.15);\n",
              "      filter: drop-shadow(0px 1px 2px rgba(0, 0, 0, 0.3));\n",
              "      fill: #FFFFFF;\n",
              "    }\n",
              "  </style>\n",
              "\n",
              "      <script>\n",
              "        const buttonEl =\n",
              "          document.querySelector('#df-0dfb5057-14cc-4f76-9e38-3a33112d89bf button.colab-df-convert');\n",
              "        buttonEl.style.display =\n",
              "          google.colab.kernel.accessAllowed ? 'block' : 'none';\n",
              "\n",
              "        async function convertToInteractive(key) {\n",
              "          const element = document.querySelector('#df-0dfb5057-14cc-4f76-9e38-3a33112d89bf');\n",
              "          const dataTable =\n",
              "            await google.colab.kernel.invokeFunction('convertToInteractive',\n",
              "                                                     [key], {});\n",
              "          if (!dataTable) return;\n",
              "\n",
              "          const docLinkHtml = 'Like what you see? Visit the ' +\n",
              "            '<a target=\"_blank\" href=https://colab.research.google.com/notebooks/data_table.ipynb>data table notebook</a>'\n",
              "            + ' to learn more about interactive tables.';\n",
              "          element.innerHTML = '';\n",
              "          dataTable['output_type'] = 'display_data';\n",
              "          await google.colab.output.renderOutput(dataTable, element);\n",
              "          const docLink = document.createElement('div');\n",
              "          docLink.innerHTML = docLinkHtml;\n",
              "          element.appendChild(docLink);\n",
              "        }\n",
              "      </script>\n",
              "    </div>\n",
              "  </div>\n",
              "  "
            ],
            "text/plain": [
              "      peter   kaminski   subject  ...     organ    inform       deli\n",
              "0 -8.053039 -11.348876 -5.128286  ... -5.194018 -6.305451 -11.348876\n",
              "1 -8.592835  -9.816611 -5.151287  ... -5.127099 -6.284385 -10.327436\n",
              "\n",
              "[2 rows x 10 columns]"
            ]
          },
          "metadata": {},
          "execution_count": 131
        }
      ]
    },
    {
      "cell_type": "code",
      "source": [
        "#Logarith of the prior probability\n",
        "log_prior"
      ],
      "metadata": {
        "colab": {
          "base_uri": "https://localhost:8080/"
        },
        "id": "sQFrjgxQOvMf",
        "outputId": "9ade59c2-0537-4d2b-ca8d-003565284fe3"
      },
      "execution_count": null,
      "outputs": [
        {
          "output_type": "execute_result",
          "data": {
            "text/plain": [
              "array([-0.71027822, -0.67630468])"
            ]
          },
          "metadata": {},
          "execution_count": 132
        }
      ]
    },
    {
      "cell_type": "code",
      "source": [
        "#Predictor\n",
        "def prediction(matrix,prior,X):\n",
        "  N = X.shape[0]\n",
        "  pred = np.zeros(N)\n",
        "\n",
        "  X_tf ,X_tf_idf = tf_idf(X) #the ocurrences are converted to tf-idf\n",
        "\n",
        "  for n,x in enumerate(X_tf_idf):\n",
        "    y_hat = np.argmax(log_prior + (x*log_MNmtx).sum(axis=1))\n",
        "    pred[n] = y_hat\n",
        "  return pred\n",
        "\n",
        "#Classification Accuracy value\n",
        "accuracy = lambda y,y_hat: (y == y_hat).mean()"
      ],
      "metadata": {
        "id": "3b2RLdsK3NuW"
      },
      "execution_count": null,
      "outputs": []
    },
    {
      "cell_type": "code",
      "source": [
        "pred_test = prediction(log_MNmtx,log_prior,X_test)"
      ],
      "metadata": {
        "id": "TT-HEYOgPwG3"
      },
      "execution_count": null,
      "outputs": []
    },
    {
      "cell_type": "code",
      "source": [
        "print('Accuracy on test data:',accuracy(y_test,pred_test))"
      ],
      "metadata": {
        "colab": {
          "base_uri": "https://localhost:8080/"
        },
        "id": "LUK82kTNPwRK",
        "outputId": "ff25211e-b6f8-41b1-ef57-fb74555756f9"
      },
      "execution_count": null,
      "outputs": [
        {
          "output_type": "stream",
          "name": "stdout",
          "text": [
            "Accuracy on test data: 0.9745762711864406\n"
          ]
        }
      ]
    },
    {
      "cell_type": "markdown",
      "source": [
        "### Exercise 2: Implementing SVM Classifier via Scikit-Learn"
      ],
      "metadata": {
        "id": "W88QKioy-LxV"
      }
    },
    {
      "cell_type": "code",
      "source": [
        "from sklearn import svm\n",
        "from sklearn.model_selection import GridSearchCV"
      ],
      "metadata": {
        "id": "_l0Spm8A-RfS"
      },
      "execution_count": null,
      "outputs": []
    },
    {
      "cell_type": "code",
      "source": [
        "clf = svm.SVC(kernel='sigmoid', degree=7, C=10, max_iter=1000)\n",
        "clf.fit(np.vstack((X_train,X_valid)), np.hstack((y_train,y_valid)))"
      ],
      "metadata": {
        "colab": {
          "base_uri": "https://localhost:8080/"
        },
        "id": "b9J3DJzR_BcL",
        "outputId": "3845a4bd-75fd-4350-8caa-1303da858bfc"
      },
      "execution_count": null,
      "outputs": [
        {
          "output_type": "stream",
          "name": "stderr",
          "text": [
            "/usr/local/lib/python3.7/dist-packages/sklearn/svm/_base.py:289: ConvergenceWarning: Solver terminated early (max_iter=1000).  Consider pre-processing your data with StandardScaler or MinMaxScaler.\n",
            "  ConvergenceWarning,\n"
          ]
        },
        {
          "output_type": "execute_result",
          "data": {
            "text/plain": [
              "SVC(C=10, degree=7, kernel='sigmoid', max_iter=1000)"
            ]
          },
          "metadata": {},
          "execution_count": 121
        }
      ]
    },
    {
      "cell_type": "code",
      "source": [
        "%%time\n",
        "grid = [\n",
        "    {'kernel': ['linear', 'rbf', 'sigmoid'],\n",
        "    'C': [1,10,100]},\n",
        "    {'kernel': ['poly'],\n",
        "    'degree': [2,3],\n",
        "    'C': [1,10,100]}\n",
        "    ]\n",
        "clf = svm.SVC(max_iter=1000)\n",
        "GS = GridSearchCV(\n",
        "    estimator=clf, #model\n",
        "    param_grid=grid, #dictionary with hyperparameters\n",
        "    cv=5, #K-fold cross validation\n",
        "    return_train_score=True, #training score\n",
        "    verbose=2\n",
        ")\n",
        "GS.fit(np.vstack((X_train,X_valid)), np.hstack((y_train,y_valid)))"
      ],
      "metadata": {
        "id": "HkZyTZnQI3fk"
      },
      "execution_count": null,
      "outputs": []
    },
    {
      "cell_type": "code",
      "source": [
        "print('Best set of hyperparameters: ',GS.best_params_)"
      ],
      "metadata": {
        "colab": {
          "base_uri": "https://localhost:8080/"
        },
        "id": "OS_AwzDdc1g1",
        "outputId": "130e77c0-229b-4f3e-e2b5-590f1d87b209"
      },
      "execution_count": null,
      "outputs": [
        {
          "output_type": "stream",
          "name": "stdout",
          "text": [
            "Best set of hyperparameters:  {'C': 1, 'kernel': 'sigmoid'}\n"
          ]
        }
      ]
    },
    {
      "cell_type": "code",
      "source": [
        "accuracy = GS.best_estimator_.score(X_test,y_test)\n",
        "print('Accuracy on test data:',accuracy)"
      ],
      "metadata": {
        "colab": {
          "base_uri": "https://localhost:8080/"
        },
        "id": "1whh5eMHAMfa",
        "outputId": "2cfa7014-4edd-469b-fd00-ba06f6e99512"
      },
      "execution_count": null,
      "outputs": [
        {
          "output_type": "stream",
          "name": "stdout",
          "text": [
            "Accuracy on test data: 0.9745762711864406\n"
          ]
        }
      ]
    },
    {
      "cell_type": "markdown",
      "source": [
        "We can observe that SVM reached the same accuracy than Naive Bayes. It can mean the models are optimal and there is no possible further improvement."
      ],
      "metadata": {
        "id": "DYU9mGJcpgXm"
      }
    }
  ]
}