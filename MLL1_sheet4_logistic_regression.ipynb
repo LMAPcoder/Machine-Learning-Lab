{
  "nbformat": 4,
  "nbformat_minor": 0,
  "metadata": {
    "colab": {
      "name": "Exercise_sheet4.ipynb",
      "provenance": [],
      "collapsed_sections": [],
      "authorship_tag": "ABX9TyNAXrlQfrCfJPYdF9s82ccd",
      "include_colab_link": true
    },
    "kernelspec": {
      "name": "python3",
      "display_name": "Python 3"
    },
    "language_info": {
      "name": "python"
    }
  },
  "cells": [
    {
      "cell_type": "markdown",
      "metadata": {
        "id": "view-in-github",
        "colab_type": "text"
      },
      "source": [
        "<a href=\"https://colab.research.google.com/github/LMAPcoder/Machine-Learning-Lab/blob/main/Exercise_sheet4.ipynb\" target=\"_parent\"><img src=\"https://colab.research.google.com/assets/colab-badge.svg\" alt=\"Open In Colab\"/></a>"
      ]
    },
    {
      "cell_type": "markdown",
      "metadata": {
        "id": "1LfXxUEGmfmG"
      },
      "source": [
        "# **Lab Programming Machine Learning**"
      ]
    },
    {
      "cell_type": "markdown",
      "metadata": {
        "id": "7crNwAJfmkUi"
      },
      "source": [
        "## Exercise Sheet 4"
      ]
    },
    {
      "cell_type": "markdown",
      "metadata": {
        "id": "akMM4rfqmpnS"
      },
      "source": [
        "### Exercise 0: Dataset preprocessing"
      ]
    },
    {
      "cell_type": "code",
      "metadata": {
        "id": "y9C2rxyJnBSv"
      },
      "source": [
        "#Required libraries\n",
        "import pandas as pd\n",
        "import numpy as np\n"
      ],
      "execution_count": null,
      "outputs": []
    },
    {
      "cell_type": "code",
      "metadata": {
        "id": "RLhnnoV0n1Pd",
        "colab": {
          "base_uri": "https://localhost:8080/"
        },
        "outputId": "3d14a022-03c6-4b1b-f56c-84e653a8b2c9"
      },
      "source": [
        "#Uploading the file from Google drive\n",
        "!wget --no-check-certificate 'https://docs.google.com/uc?export=download&id=1WNEEtNIEksk4xZT1x-u3QjhubXdCwB1n' -O tic-tac-toe.data\n",
        "!wget --no-check-certificate 'https://docs.google.com/uc?export=download&id=1aMvRPtarsM56Y-izmf8lipC6N5RV7ySa' -O tic-tac-toe.names"
      ],
      "execution_count": null,
      "outputs": [
        {
          "output_type": "stream",
          "name": "stdout",
          "text": [
            "--2021-12-10 17:50:54--  https://docs.google.com/uc?export=download&id=1WNEEtNIEksk4xZT1x-u3QjhubXdCwB1n\n",
            "Resolving docs.google.com (docs.google.com)... 74.125.204.101, 74.125.204.138, 74.125.204.100, ...\n",
            "Connecting to docs.google.com (docs.google.com)|74.125.204.101|:443... connected.\n",
            "HTTP request sent, awaiting response... 302 Moved Temporarily\n",
            "Location: https://doc-0o-ao-docs.googleusercontent.com/docs/securesc/ha0ro937gcuc7l7deffksulhg5h7mbp1/eq42b38te2u4pnithd8l4oosf0769kp2/1639158600000/14760575472933726065/*/1WNEEtNIEksk4xZT1x-u3QjhubXdCwB1n?e=download [following]\n",
            "Warning: wildcards not supported in HTTP.\n",
            "--2021-12-10 17:50:55--  https://doc-0o-ao-docs.googleusercontent.com/docs/securesc/ha0ro937gcuc7l7deffksulhg5h7mbp1/eq42b38te2u4pnithd8l4oosf0769kp2/1639158600000/14760575472933726065/*/1WNEEtNIEksk4xZT1x-u3QjhubXdCwB1n?e=download\n",
            "Resolving doc-0o-ao-docs.googleusercontent.com (doc-0o-ao-docs.googleusercontent.com)... 108.177.97.132, 2404:6800:4008:c00::84\n",
            "Connecting to doc-0o-ao-docs.googleusercontent.com (doc-0o-ao-docs.googleusercontent.com)|108.177.97.132|:443... connected.\n",
            "HTTP request sent, awaiting response... 200 OK\n",
            "Length: 25866 (25K) [application/octet-stream]\n",
            "Saving to: ‘tic-tac-toe.data’\n",
            "\n",
            "tic-tac-toe.data    100%[===================>]  25.26K  --.-KB/s    in 0s      \n",
            "\n",
            "2021-12-10 17:50:55 (62.7 MB/s) - ‘tic-tac-toe.data’ saved [25866/25866]\n",
            "\n",
            "--2021-12-10 17:50:55--  https://docs.google.com/uc?export=download&id=1aMvRPtarsM56Y-izmf8lipC6N5RV7ySa\n",
            "Resolving docs.google.com (docs.google.com)... 74.125.204.101, 74.125.204.138, 74.125.204.100, ...\n",
            "Connecting to docs.google.com (docs.google.com)|74.125.204.101|:443... connected.\n",
            "HTTP request sent, awaiting response... 302 Moved Temporarily\n",
            "Location: https://accounts.google.com/ServiceLogin?service=wise&passive=1209600&continue=https://docs.google.com/uc?export%3Ddownload%26id%3D1aMvRPtarsM56Y-izmf8lipC6N5RV7ySa&followup=https://docs.google.com/uc?export%3Ddownload%26id%3D1aMvRPtarsM56Y-izmf8lipC6N5RV7ySa&ltmpl=homepage [following]\n",
            "--2021-12-10 17:50:55--  https://accounts.google.com/ServiceLogin?service=wise&passive=1209600&continue=https://docs.google.com/uc?export%3Ddownload%26id%3D1aMvRPtarsM56Y-izmf8lipC6N5RV7ySa&followup=https://docs.google.com/uc?export%3Ddownload%26id%3D1aMvRPtarsM56Y-izmf8lipC6N5RV7ySa&ltmpl=homepage\n",
            "Resolving accounts.google.com (accounts.google.com)... 74.125.203.84, 2404:6800:4008:c03::54\n",
            "Connecting to accounts.google.com (accounts.google.com)|74.125.203.84|:443... connected.\n",
            "HTTP request sent, awaiting response... 200 OK\n",
            "Length: unspecified [text/html]\n",
            "Saving to: ‘tic-tac-toe.names’\n",
            "\n",
            "tic-tac-toe.names       [ <=>                ]  89.04K  --.-KB/s    in 0.001s  \n",
            "\n",
            "2021-12-10 17:50:56 (94.5 MB/s) - ‘tic-tac-toe.names’ saved [91182]\n",
            "\n"
          ]
        }
      ]
    },
    {
      "cell_type": "code",
      "metadata": {
        "id": "XU7EhK8jozM1",
        "colab": {
          "base_uri": "https://localhost:8080/"
        },
        "outputId": "aafe537b-5074-45b7-97f3-0a30ee83d36a"
      },
      "source": [
        "#Read a csv file into DataFrame\n",
        "columns = ['top-left-square','top-middle-square','top-right-square','middle-left-square','middle-middle-square','middle-right-square',\\\n",
        "           'bottom-left-square','bottom-middle-square','bottom-right-square','Class']\n",
        "tic_tac_toe = pd.read_csv('tic-tac-toe.data',names=columns)\n",
        "print(tic_tac_toe)"
      ],
      "execution_count": null,
      "outputs": [
        {
          "output_type": "stream",
          "name": "stdout",
          "text": [
            "    top-left-square top-middle-square  ... bottom-right-square     Class\n",
            "0                 x                 x  ...                   o  positive\n",
            "1                 x                 x  ...                   o  positive\n",
            "2                 x                 x  ...                   x  positive\n",
            "3                 x                 x  ...                   b  positive\n",
            "4                 x                 x  ...                   b  positive\n",
            "..              ...               ...  ...                 ...       ...\n",
            "953               o                 x  ...                   x  negative\n",
            "954               o                 x  ...                   x  negative\n",
            "955               o                 x  ...                   x  negative\n",
            "956               o                 x  ...                   x  negative\n",
            "957               o                 o  ...                   x  negative\n",
            "\n",
            "[958 rows x 10 columns]\n"
          ]
        }
      ]
    },
    {
      "cell_type": "code",
      "metadata": {
        "colab": {
          "base_uri": "https://localhost:8080/"
        },
        "id": "zODTeQJ1MSwQ",
        "outputId": "69fff191-0cfa-4a71-ad1f-d0b921ed3bdf"
      },
      "source": [
        "tic_tac_toe['Class'].value_counts()"
      ],
      "execution_count": null,
      "outputs": [
        {
          "output_type": "execute_result",
          "data": {
            "text/plain": [
              "positive    626\n",
              "negative    332\n",
              "Name: Class, dtype: int64"
            ]
          },
          "metadata": {},
          "execution_count": 4
        }
      ]
    },
    {
      "cell_type": "markdown",
      "metadata": {
        "id": "m8X9GuoxKcv-"
      },
      "source": [
        "Unbalanced data set\n",
        "\n",
        "An unbalanced dataset is one in which the target variable has more observations in one specific class than the others.\n",
        "The algorithm receives significantly more examples from one class, prompting it to be biased towards that particular class. That is, to overfitting the majority class.\n",
        "\n",
        "The most popular solution is to change the composition of the training dataset, through resampling. There are two main types of data sampling used:\n",
        "\n",
        "*   Undersampling\n",
        "*   Oversampling\n",
        "\n",
        "**Oversampling** methods duplicate examples in the minority class or synthesize new examples from the examples in the minority class.\n",
        "\n",
        "**Undersampling** methods delete or select a subset of examples from the majority class.\n",
        "\n",
        "**Stratified sampling** is a method where the data set is split in subgroups, called strata, and ramdonmly sampling data from each stratum. With this method we can perform either oversampling or undersampling when we disproportionate sample the strata."
      ]
    },
    {
      "cell_type": "code",
      "metadata": {
        "colab": {
          "base_uri": "https://localhost:8080/"
        },
        "id": "VmBbIJnCpq6_",
        "outputId": "29efbd31-180b-4862-b4a4-aac00f234eb4"
      },
      "source": [
        "np.random.seed(3116)\n",
        "negative_stratum_size = 332\n",
        "tic_tac_toe_resampled = tic_tac_toe.groupby('Class', group_keys=False).apply(lambda x: x.sample(negative_stratum_size)) #Undersampling positive class\n",
        "print(tic_tac_toe_resampled)"
      ],
      "execution_count": null,
      "outputs": [
        {
          "output_type": "stream",
          "name": "stdout",
          "text": [
            "    top-left-square top-middle-square  ... bottom-right-square     Class\n",
            "944               x                 x  ...                   x  negative\n",
            "928               b                 b  ...                   o  negative\n",
            "775               o                 x  ...                   o  negative\n",
            "827               o                 o  ...                   b  negative\n",
            "853               o                 b  ...                   o  negative\n",
            "..              ...               ...  ...                 ...       ...\n",
            "562               b                 o  ...                   b  positive\n",
            "124               x                 o  ...                   x  positive\n",
            "351               o                 x  ...                   o  positive\n",
            "622               b                 b  ...                   o  positive\n",
            "389               o                 o  ...                   x  positive\n",
            "\n",
            "[664 rows x 10 columns]\n"
          ]
        }
      ]
    },
    {
      "cell_type": "markdown",
      "metadata": {
        "id": "qe__KZK_KgcB"
      },
      "source": [
        "Convert any non-numeric values to numeric values"
      ]
    },
    {
      "cell_type": "code",
      "metadata": {
        "id": "zZeeggG6exMo",
        "colab": {
          "base_uri": "https://localhost:8080/"
        },
        "outputId": "f0113814-be62-45a7-8338-f1aec3e2061b"
      },
      "source": [
        "#In this cell, we convert from categorical to numeric value only the output variable to prevent it from being affected by get_dummies method\n",
        "tic_tac_toe_resampled['Class'] = tic_tac_toe_resampled['Class'].astype('category')\n",
        "tic_tac_toe_resampled['Class'] = tic_tac_toe_resampled['Class'].cat.codes\n",
        "print(tic_tac_toe_resampled['Class'])"
      ],
      "execution_count": null,
      "outputs": [
        {
          "output_type": "stream",
          "name": "stdout",
          "text": [
            "944    0\n",
            "928    0\n",
            "775    0\n",
            "827    0\n",
            "853    0\n",
            "      ..\n",
            "562    1\n",
            "124    1\n",
            "351    1\n",
            "622    1\n",
            "389    1\n",
            "Name: Class, Length: 664, dtype: int8\n"
          ]
        }
      ]
    },
    {
      "cell_type": "code",
      "metadata": {
        "colab": {
          "base_uri": "https://localhost:8080/"
        },
        "id": "lyhMpGt8Ij1a",
        "outputId": "26b67f88-7dba-4c9b-b565-6d68fe286246"
      },
      "source": [
        "tic_tac_toe_dumm = pd.get_dummies(tic_tac_toe_resampled) #One-Hot Encoding is used\n",
        "print(tic_tac_toe_dumm)"
      ],
      "execution_count": null,
      "outputs": [
        {
          "output_type": "stream",
          "name": "stdout",
          "text": [
            "     Class  top-left-square_b  ...  bottom-right-square_o  bottom-right-square_x\n",
            "944      0                  0  ...                      0                      1\n",
            "928      0                  1  ...                      1                      0\n",
            "775      0                  0  ...                      1                      0\n",
            "827      0                  0  ...                      0                      0\n",
            "853      0                  0  ...                      1                      0\n",
            "..     ...                ...  ...                    ...                    ...\n",
            "562      1                  1  ...                      0                      0\n",
            "124      1                  0  ...                      0                      1\n",
            "351      1                  0  ...                      1                      0\n",
            "622      1                  1  ...                      1                      0\n",
            "389      1                  0  ...                      0                      1\n",
            "\n",
            "[664 rows x 28 columns]\n"
          ]
        }
      ]
    },
    {
      "cell_type": "markdown",
      "metadata": {
        "id": "Vkpp3J-QrYau"
      },
      "source": [
        "Split of the data set"
      ]
    },
    {
      "cell_type": "code",
      "metadata": {
        "colab": {
          "base_uri": "https://localhost:8080/"
        },
        "id": "MUExFTJTrgIB",
        "outputId": "e8c3c58e-58a4-4787-89f7-060ca9be523c"
      },
      "source": [
        "np.random.seed(3116) #to set the pseudo ramdom number generator\n",
        "ratio = 0.8 #percentage of the data used for training the model\n",
        "N, M = tic_tac_toe_dumm.shape\n",
        "ridx = np.random.permutation(N) #to assure a uniform distribution of the instances in both the training and the data sets\n",
        "split = int(N*ratio)\n",
        "data_train = tic_tac_toe_dumm.iloc[ridx[:split]]\n",
        "data_test = tic_tac_toe_dumm.iloc[ridx[split:]]\n",
        "\n",
        "print(data_train['Class'].value_counts())\n",
        "print(data_test['Class'].value_counts())\n",
        "\n",
        "output = 'Class'\n",
        "X_train = data_train.drop(output,axis=1).to_numpy()\n",
        "Y_train = data_train[output].to_numpy().reshape(-1,1)\n",
        "X_test = data_test.drop(output,axis=1).to_numpy()\n",
        "Y_test = data_test[output].to_numpy().reshape(-1,1)\n",
        "print(X_train.shape)\n",
        "print(X_test.shape)"
      ],
      "execution_count": null,
      "outputs": [
        {
          "output_type": "stream",
          "name": "stdout",
          "text": [
            "1    266\n",
            "0    265\n",
            "Name: Class, dtype: int64\n",
            "0    67\n",
            "1    66\n",
            "Name: Class, dtype: int64\n",
            "(531, 27)\n",
            "(133, 27)\n"
          ]
        }
      ]
    },
    {
      "cell_type": "markdown",
      "metadata": {
        "id": "p4Xb0mP8mxip"
      },
      "source": [
        "### Exercise 1: Logistic Regression with Gradient Ascent"
      ]
    },
    {
      "cell_type": "markdown",
      "metadata": {
        "id": "G7ucKDXwu_jR"
      },
      "source": [
        "Logistic regression\n",
        "\n",
        "Logistic regression is a method to solve binary classification problems thorugh linear regression.\n",
        "\n",
        "Predicted output:\n",
        "\\begin{align}\n",
        "p(y=1|\\mathbf{x},\\boldsymbol{\\theta}) = \\sigma (x^T \\theta) = \\frac{e^{x^T \\theta}}{1+e^{x^T \\theta}}\n",
        "\\end{align}\n",
        "Performance function:\n",
        "\\begin{align}\n",
        "L_{cll}(\\theta) = \\log p(y_1,...,y_N|x_1,...,x_N ,\\theta) = \\log \\prod_{n=1}^{N} p(y_n|x_n,\\theta) = \\sum_{n=1}^{N} y_n x_n^T \\theta - \\log (1+e^{x_n^T \\theta})\n",
        "\\end{align}\n",
        "**Gradient ascent**\n",
        "\\begin{align}\n",
        "\\theta^{(k+1)} = \\theta^{(k)} + \\eta \\nabla L_{cll}(\\theta^{(k)})\n",
        "\\end{align}\n",
        "Where:\n",
        "\\begin{align}\n",
        "\\nabla L_{cll} (\\theta) = \\sum_{n=1}^{N} x_n (y_n - \\frac{e^{x_n^T \\theta}}{1+e^{x_n^T \\theta}})\n",
        "\\end{align}"
      ]
    },
    {
      "cell_type": "code",
      "metadata": {
        "id": "wmmi9MKtIa3f"
      },
      "source": [
        "import numpy as np\n",
        "import matplotlib.pyplot as plt"
      ],
      "execution_count": null,
      "outputs": []
    },
    {
      "cell_type": "code",
      "metadata": {
        "id": "8Nzw4587nBzF"
      },
      "source": [
        "#Gradient ascent function\n",
        "def GA(X_tr,Y_tr,X_ts,Y_ts,eta,i_max):\n",
        "  N, M = X_tr.shape\n",
        "  theta = np.zeros(M) #initial theta\n",
        "  L_tr = Lcll(X_tr,Y_tr,theta)\n",
        "  error = np.zeros(i_max)\n",
        "  L_ts = np.zeros(i_max)\n",
        "  lr = np.zeros(i_max+1)\n",
        "  lr[0] = eta\n",
        "  for i in range(i_max):\n",
        "    L_tr_old = L_tr\n",
        "    g = gradient(X_tr,Y_tr,theta) #gradient\n",
        "    sd =  g #search direction\n",
        "    theta += lr[i] * sd\n",
        "    L_tr = Lcll(X_tr,Y_tr,theta) #Log likelihood on train data\n",
        "    error[i] = abs(L_tr - L_tr_old) #Absolute error\n",
        "    lr[i+1] = Bd(lr[i],L_tr,g,X_tr,Y_tr,theta) #new learning rate\n",
        "    L_ts[i] = Lcll(X_ts,Y_ts,theta) #Log likelihood on test data\n",
        "  return [theta,error,L_ts,lr]"
      ],
      "execution_count": null,
      "outputs": []
    },
    {
      "cell_type": "code",
      "metadata": {
        "id": "-ftXRkqz2JTn"
      },
      "source": [
        "#Gradient calculator\n",
        "def gradient(X,Y,theta):\n",
        "  N, M = X.shape\n",
        "  grad = np.zeros(M)\n",
        "  for n in range(N):\n",
        "    grad += X[n] * (Y[n]-σ(X[n],theta))\n",
        "  return grad\n",
        "\n",
        "# gradiente = lambda X,y,theta: X.T@(y-σ(X,theta))"
      ],
      "execution_count": null,
      "outputs": []
    },
    {
      "cell_type": "code",
      "metadata": {
        "id": "iMLie8-TqZWQ"
      },
      "source": [
        "#Sigmoid\n",
        "σ = lambda x,theta: np.exp(x@theta)/(1+np.exp(x@theta))\n",
        "# σ = lambda x,theta: 1/(1+np.exp(-x@theta)) does not work"
      ],
      "execution_count": null,
      "outputs": []
    },
    {
      "cell_type": "code",
      "metadata": {
        "id": "diTBL4AHDN6s"
      },
      "source": [
        "#Conditional likelihood function\n",
        "def Lcll(X,Y,theta):\n",
        "  N = len(X)\n",
        "  L = 0\n",
        "  for n in range(N):\n",
        "    L += Y[n]*X[n]@theta - np.log(1+np.exp(X[n]@theta))\n",
        "  return L"
      ],
      "execution_count": null,
      "outputs": []
    },
    {
      "cell_type": "code",
      "metadata": {
        "id": "kItYDXaIJA0T"
      },
      "source": [
        "#Bolddriver step controller\n",
        "def Bd(lr,L,g,X,Y,theta):\n",
        "  lr = lr * 1.01\n",
        "  i = 0\n",
        "  while L > Lcll(X,Y,theta + lr * g):\n",
        "    lr = lr * 0.5\n",
        "    i += 1\n",
        "    if i > 100:\n",
        "      break\n",
        "  return lr"
      ],
      "execution_count": null,
      "outputs": []
    },
    {
      "cell_type": "code",
      "metadata": {
        "colab": {
          "base_uri": "https://localhost:8080/"
        },
        "id": "uSn90kxF6xzJ",
        "outputId": "f24c026e-c3b6-4c65-8b90-9c0269e89e85"
      },
      "source": [
        "#Parameters of the model\n",
        "result_1 = GA(X_train,Y_train,X_test,Y_test,0.001,1000)\n",
        "print(result_1[0])"
      ],
      "execution_count": null,
      "outputs": [
        {
          "output_type": "stream",
          "name": "stdout",
          "text": [
            "[ 0.3694355  -9.05085902  7.51345786  0.48491159 -8.80200587  7.14912862\n",
            "  0.5604615  -9.21855996  7.4901328   0.53942651 -9.13103669  7.42364451\n",
            "  0.53299247 -9.51086129  7.80990316  0.3665609  -8.69126672  7.15674016\n",
            "  0.47285645 -9.22578787  7.58496576  0.33742394 -8.81859232  7.31320272\n",
            "  0.33583177 -8.98804828  7.48425084]\n"
          ]
        }
      ]
    },
    {
      "cell_type": "markdown",
      "metadata": {
        "id": "dCaoG3yu4S1j"
      },
      "source": [
        "Plots of error and logloss"
      ]
    },
    {
      "cell_type": "code",
      "metadata": {
        "colab": {
          "base_uri": "https://localhost:8080/",
          "height": 383
        },
        "id": "HZqLN0NIIDBZ",
        "outputId": "4f8186f9-260b-4cbc-f19f-9f3e507c9c2d"
      },
      "source": [
        "fig, (ax1,ax2) = plt.subplots(nrows=1,ncols=2)\n",
        "#plot error vs i\n",
        "ax1.set_title(\"Error vs i\")\n",
        "ax1.set_xlabel(\"iteration number\")\n",
        "ax1.set_ylabel(\"Error\")\n",
        "xlist_1 = range(len(result_1[1]))\n",
        "ylist_1 = result_1[1]\n",
        "ax1.plot(xlist_1,ylist_1)\n",
        "\n",
        "#plot logloss on test vs i\n",
        "ax2.set_title(\"Logloss vs i\")\n",
        "ax2.set_xlabel(\"iteration number\")\n",
        "ax2.set_ylabel(\"Logloss on test\")\n",
        "xlist_2 = range(len(result_1[2]))\n",
        "ylist_2 = result_1[2]\n",
        "ax2.plot(xlist_2,ylist_2)\n",
        "\n",
        "fig.set_figheight(6)\n",
        "fig.set_figwidth(12)\n",
        "\n",
        "plt.tight_layout(pad=4)\n",
        "plt.show()"
      ],
      "execution_count": null,
      "outputs": [
        {
          "output_type": "display_data",
          "data": {
            "image/png": "[encoded data removed]",
            "text/plain": [
              "<Figure size 864x432 with 2 Axes>"
            ]
          },
          "metadata": {
            "needs_background": "light"
          }
        }
      ]
    },
    {
      "cell_type": "code",
      "source": [
        "# Classification Accuracy value\n",
        "ca = lambda X,y,theta: 1 - np.mean(abs(y.flatten()-np.rint(σ(X,theta))))\n",
        "ca(X_test,Y_test,result_1[0])"
      ],
      "metadata": {
        "colab": {
          "base_uri": "https://localhost:8080/"
        },
        "id": "QuzF-fvbeawe",
        "outputId": "8b6bd146-ab36-444e-9bcd-1d1eb05025e7"
      },
      "execution_count": null,
      "outputs": [
        {
          "output_type": "execute_result",
          "data": {
            "text/plain": [
              "0.9774436090225564"
            ]
          },
          "metadata": {},
          "execution_count": 30
        }
      ]
    },
    {
      "cell_type": "markdown",
      "metadata": {
        "id": "DJLL1dZ9m5Ls"
      },
      "source": [
        "### Exercise 2: Implement Newton Algorithm for Logistic Regression"
      ]
    },
    {
      "cell_type": "markdown",
      "metadata": {
        "id": "WokGrnjJCXCy"
      },
      "source": [
        "**Newton method**\n",
        "\\begin{align}\n",
        "\\theta^{(k+1)} = \\theta^{(k)} +^? \\eta [\\nabla^2 L_{cll}(\\theta^{(k)})]^{-1} \\nabla L_{cll}(\\theta^{(k)})\n",
        "\\end{align}\n",
        "Where:\n",
        "\\begin{align}\n",
        "\\nabla L_{cll} (\\theta) = \\sum_{n=1}^{N} x_n (y_n - \\frac{e^{x_n^T \\theta}}{1+e^{x_n^T \\theta}})\n",
        "\\end{align}\n",
        "\\begin{align}\n",
        "\\nabla^2 L_{cll} (\\theta) = H = -X^T diag[\\mathbf{p} \\odot (1-\\mathbf{p})] X\n",
        "\\end{align}"
      ]
    },
    {
      "cell_type": "code",
      "metadata": {
        "id": "unRU4ifEmX6b"
      },
      "source": [
        "#Newton function\n",
        "def newton(X_tr,Y_tr,X_ts,Y_ts,eta,i_max):\n",
        "  N, M = X_tr.shape\n",
        "  # theta = np.random.choice(1,M).astype(float) #draft\n",
        "  theta = np.zeros(M) #initial theta\n",
        "  # theta = np.array(result_1[0]) #draft\n",
        "  L_tr = Lcll(X_tr,Y_tr,theta)\n",
        "  error = np.zeros(i_max)\n",
        "  L_ts = np.zeros(i_max)\n",
        "  lr = np.zeros(i_max+1)\n",
        "  lr[0] = eta\n",
        "  for i in range(i_max):\n",
        "    L_tr_old = L_tr\n",
        "    g = gradient(X_tr,Y_tr,theta) #gradient\n",
        "    h = hessian(X_tr,Y_tr,theta) #hessian\n",
        "    # sd =  np.linalg.inv(h) @ g #search direction\n",
        "    sd = g #search direction\n",
        "    theta += lr[i] * sd\n",
        "    L_tr = Lcll(X_tr,Y_tr,theta) #Log likelihood on train data\n",
        "    error[i] = abs(L_tr - L_tr_old) #Absolute error\n",
        "    # lr[i+1] = lr[i]\n",
        "    lr[i+1] = Bd(lr[i],L_tr,g,X_tr,Y_tr,theta) #new learning rate using Bolddriver method\n",
        "    L_ts[i] = Lcll(X_ts,Y_ts,theta) #Log likelihood on test data\n",
        "  return [theta,error,L_ts,lr]"
      ],
      "execution_count": null,
      "outputs": []
    },
    {
      "cell_type": "code",
      "metadata": {
        "id": "b6aFs2-1-ltH"
      },
      "source": [
        "#Hessian calculator\n",
        "def hessian(X,Y,theta):\n",
        "  N = len(X)\n",
        "  p = np.zeros(N)\n",
        "  for n in range(N):\n",
        "    p[n] = σ(X[n],theta)\n",
        "  W = np.diag(p*(1-p))\n",
        "  hess = -X.T @ W @ X\n",
        "  return hess\n",
        "\n",
        "#Draft\n",
        "# def hessian(X,Y,theta):\n",
        "#   M = X.shape[1]\n",
        "#   h = np.zeros((M,M))\n",
        "#   for n in range(N):\n",
        "#     h += -X[n].reshape(-1,1)@X[n].reshape(1,-1) *σ(X[n],theta)*(1-σ(X[n],theta))\n",
        "#   return h"
      ],
      "execution_count": null,
      "outputs": []
    },
    {
      "cell_type": "code",
      "metadata": {
        "colab": {
          "base_uri": "https://localhost:8080/"
        },
        "id": "F4-VnMqdA4xj",
        "outputId": "a78c35d8-0348-4cbe-e77a-d0f6fd8c1431"
      },
      "source": [
        "#Parameters of the model\n",
        "# np.random.seed(3116)\n",
        "result_2 = newton(X_train,Y_train,X_test,Y_test,0.001,500)\n",
        "print(result_2[0])"
      ],
      "execution_count": null,
      "outputs": [
        {
          "output_type": "stream",
          "name": "stdout",
          "text": [
            "[ 0.19742373 -7.09643668  5.95402249  0.29851948 -6.83196698  5.58845705\n",
            "  0.38968826 -7.28919947  5.95452076  0.34609578 -7.11087934  5.81979311\n",
            "  0.35798325 -7.57639063  6.27341693  0.19252128 -6.7543132   5.61680146\n",
            "  0.28984422 -7.25915872  6.02432405  0.16450919 -6.86196025  5.75246061\n",
            "  0.16330107 -7.07368551  5.96539398]\n"
          ]
        }
      ]
    },
    {
      "cell_type": "markdown",
      "metadata": {
        "id": "e_Wyq9TZ4lPS"
      },
      "source": [
        "Plots of error and logloss"
      ]
    },
    {
      "cell_type": "code",
      "metadata": {
        "colab": {
          "base_uri": "https://localhost:8080/",
          "height": 383
        },
        "id": "mic_iL5v9z3t",
        "outputId": "f6e69cce-3d06-4aa5-98a3-b46c27569a85"
      },
      "source": [
        "fig, (ax1,ax2) = plt.subplots(nrows=1,ncols=2)\n",
        "#plot error vs i\n",
        "ax1.set_title(\"Error vs i\")\n",
        "ax1.set_xlabel(\"iteration number\")\n",
        "ax1.set_ylabel(\"Error\")\n",
        "xlist_1 = range(len(result_2[1]))\n",
        "ylist_1 = result_2[1]\n",
        "ax1.plot(xlist_1,ylist_1)\n",
        "\n",
        "#plot logloss on test vs i\n",
        "ax2.set_title(\"Logloss vs i\")\n",
        "ax2.set_xlabel(\"iteration number\")\n",
        "ax2.set_ylabel(\"Logloss on test\")\n",
        "xlist_2 = range(len(result_2[2]))\n",
        "ylist_2 = result_2[2]\n",
        "ax2.plot(xlist_2,ylist_2)\n",
        "\n",
        "fig.set_figheight(6)\n",
        "fig.set_figwidth(12)\n",
        "# plt.autoscale(False)\n",
        "plt.tight_layout(pad=4)\n",
        "plt.show()"
      ],
      "execution_count": null,
      "outputs": [
        {
          "output_type": "display_data",
          "data": {
            "image/png": "[encoded data removed]",
            "text/plain": [
              "<Figure size 864x432 with 2 Axes>"
            ]
          },
          "metadata": {
            "needs_background": "light"
          }
        }
      ]
    },
    {
      "cell_type": "markdown",
      "metadata": {
        "id": "o4PRLXFc5Oxw"
      },
      "source": [
        "The newton method algorithm is slowly converging but I was not able to increase the number of iteration without getting the error Singular matrix"
      ]
    }
  ]
}
