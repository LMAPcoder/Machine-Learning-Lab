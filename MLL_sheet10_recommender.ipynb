{
  "nbformat": 4,
  "nbformat_minor": 0,
  "metadata": {
    "colab": {
      "name": "Exercise_sheet10.ipynb",
      "provenance": [],
      "authorship_tag": "ABX9TyMgUAsBc630V1LVsSjbTle6",
      "include_colab_link": true
    },
    "kernelspec": {
      "name": "python3",
      "display_name": "Python 3"
    },
    "language_info": {
      "name": "python"
    }
  },
  "cells": [
    {
      "cell_type": "markdown",
      "metadata": {
        "id": "view-in-github",
        "colab_type": "text"
      },
      "source": [
        "<a href=\"https://colab.research.google.com/github/LMAPcoder/Machine-Learning-Lab/blob/main/Exercise_sheet10.ipynb\" target=\"_parent\"><img src=\"https://colab.research.google.com/assets/colab-badge.svg\" alt=\"Open In Colab\"/></a>"
      ]
    },
    {
      "cell_type": "markdown",
      "source": [
        "#**Lab Programming Machine Learning**"
      ],
      "metadata": {
        "id": "rRsG8bU-gp5w"
      }
    },
    {
      "cell_type": "markdown",
      "source": [
        "## Exercise Sheet 10"
      ],
      "metadata": {
        "id": "UdbiQAcQ5x7G"
      }
    },
    {
      "cell_type": "markdown",
      "source": [
        "### Exercise 1: Exploring Movie Recommendation Dataset"
      ],
      "metadata": {
        "id": "A0WH4bql52Ea"
      }
    },
    {
      "cell_type": "code",
      "source": [
        "import pandas as pd\n",
        "import numpy as np\n",
        "import zipfile as zpf\n",
        "import matplotlib.pyplot as plt"
      ],
      "metadata": {
        "id": "t_D3JpI58eLb"
      },
      "execution_count": null,
      "outputs": []
    },
    {
      "cell_type": "code",
      "execution_count": null,
      "metadata": {
        "id": "t7kGBWicggAa",
        "colab": {
          "base_uri": "https://localhost:8080/"
        },
        "outputId": "8cb6e577-ea94-4063-d4fe-61548e836df5"
      },
      "outputs": [
        {
          "output_type": "stream",
          "name": "stdout",
          "text": [
            "--2022-01-28 09:26:56--  https://files.grouplens.org/datasets/movielens/ml-100k.zip\n",
            "Resolving files.grouplens.org (files.grouplens.org)... 128.101.65.152\n",
            "Connecting to files.grouplens.org (files.grouplens.org)|128.101.65.152|:443... connected.\n",
            "HTTP request sent, awaiting response... 200 OK\n",
            "Length: 4924029 (4.7M) [application/zip]\n",
            "Saving to: ‘ml-100k.zip’\n",
            "\n",
            "ml-100k.zip         100%[===================>]   4.70M  24.4MB/s    in 0.2s    \n",
            "\n",
            "2022-01-28 09:26:56 (24.4 MB/s) - ‘ml-100k.zip’ saved [4924029/4924029]\n",
            "\n"
          ]
        }
      ],
      "source": [
        "#Uploading the file\n",
        "!wget --no-check-certificate 'https://files.grouplens.org/datasets/movielens/ml-100k.zip' -O ml-100k.zip"
      ]
    },
    {
      "cell_type": "code",
      "source": [
        "#Unzipping files\n",
        "zip_file = zpf.ZipFile('ml-100k.zip')\n",
        "zip_file.extractall(path='/content', pwd=None)\n",
        "zip_file.close()"
      ],
      "metadata": {
        "id": "AMMlNjj78P8k"
      },
      "execution_count": null,
      "outputs": []
    },
    {
      "cell_type": "code",
      "source": [
        "headers = ['user_id', 'item_id', 'rating', 'timestamp']\n",
        "df_data = pd.read_csv('ml-100k/u.data', sep='\\t', names=headers)"
      ],
      "metadata": {
        "id": "Jz6mp1rO8mEO"
      },
      "execution_count": null,
      "outputs": []
    },
    {
      "cell_type": "code",
      "source": [
        "df_data.info()"
      ],
      "metadata": {
        "colab": {
          "base_uri": "https://localhost:8080/"
        },
        "id": "yKErFvx49RoN",
        "outputId": "5856fa97-5ce7-4c12-f953-02dadedfeabe"
      },
      "execution_count": null,
      "outputs": [
        {
          "output_type": "stream",
          "name": "stdout",
          "text": [
            "<class 'pandas.core.frame.DataFrame'>\n",
            "RangeIndex: 100000 entries, 0 to 99999\n",
            "Data columns (total 4 columns):\n",
            " #   Column     Non-Null Count   Dtype\n",
            "---  ------     --------------   -----\n",
            " 0   user_id    100000 non-null  int64\n",
            " 1   item_id    100000 non-null  int64\n",
            " 2   rating     100000 non-null  int64\n",
            " 3   timestamp  100000 non-null  int64\n",
            "dtypes: int64(4)\n",
            "memory usage: 3.1 MB\n"
          ]
        }
      ]
    },
    {
      "cell_type": "code",
      "source": [
        "df_data.head()"
      ],
      "metadata": {
        "colab": {
          "base_uri": "https://localhost:8080/",
          "height": 206
        },
        "id": "yOV72Fsc-7T0",
        "outputId": "623683dc-013f-4aaa-c9f1-8ab668f6cd31"
      },
      "execution_count": null,
      "outputs": [
        {
          "output_type": "execute_result",
          "data": {
            "text/html": [
              "\n",
              "  <div id=\"df-d3438570-f9a2-4e95-a9bb-b28372202a56\">\n",
              "    <div class=\"colab-df-container\">\n",
              "      <div>\n",
              "<style scoped>\n",
              "    .dataframe tbody tr th:only-of-type {\n",
              "        vertical-align: middle;\n",
              "    }\n",
              "\n",
              "    .dataframe tbody tr th {\n",
              "        vertical-align: top;\n",
              "    }\n",
              "\n",
              "    .dataframe thead th {\n",
              "        text-align: right;\n",
              "    }\n",
              "</style>\n",
              "<table border=\"1\" class=\"dataframe\">\n",
              "  <thead>\n",
              "    <tr style=\"text-align: right;\">\n",
              "      <th></th>\n",
              "      <th>user_id</th>\n",
              "      <th>item_id</th>\n",
              "      <th>rating</th>\n",
              "      <th>timestamp</th>\n",
              "    </tr>\n",
              "  </thead>\n",
              "  <tbody>\n",
              "    <tr>\n",
              "      <th>0</th>\n",
              "      <td>196</td>\n",
              "      <td>242</td>\n",
              "      <td>3</td>\n",
              "      <td>881250949</td>\n",
              "    </tr>\n",
              "    <tr>\n",
              "      <th>1</th>\n",
              "      <td>186</td>\n",
              "      <td>302</td>\n",
              "      <td>3</td>\n",
              "      <td>891717742</td>\n",
              "    </tr>\n",
              "    <tr>\n",
              "      <th>2</th>\n",
              "      <td>22</td>\n",
              "      <td>377</td>\n",
              "      <td>1</td>\n",
              "      <td>878887116</td>\n",
              "    </tr>\n",
              "    <tr>\n",
              "      <th>3</th>\n",
              "      <td>244</td>\n",
              "      <td>51</td>\n",
              "      <td>2</td>\n",
              "      <td>880606923</td>\n",
              "    </tr>\n",
              "    <tr>\n",
              "      <th>4</th>\n",
              "      <td>166</td>\n",
              "      <td>346</td>\n",
              "      <td>1</td>\n",
              "      <td>886397596</td>\n",
              "    </tr>\n",
              "  </tbody>\n",
              "</table>\n",
              "</div>\n",
              "      <button class=\"colab-df-convert\" onclick=\"convertToInteractive('df-d3438570-f9a2-4e95-a9bb-b28372202a56')\"\n",
              "              title=\"Convert this dataframe to an interactive table.\"\n",
              "              style=\"display:none;\">\n",
              "        \n",
              "  <svg xmlns=\"http://www.w3.org/2000/svg\" height=\"24px\"viewBox=\"0 0 24 24\"\n",
              "       width=\"24px\">\n",
              "    <path d=\"M0 0h24v24H0V0z\" fill=\"none\"/>\n",
              "    <path d=\"M18.56 5.44l.94 2.06.94-2.06 2.06-.94-2.06-.94-.94-2.06-.94 2.06-2.06.94zm-11 1L8.5 8.5l.94-2.06 2.06-.94-2.06-.94L8.5 2.5l-.94 2.06-2.06.94zm10 10l.94 2.06.94-2.06 2.06-.94-2.06-.94-.94-2.06-.94 2.06-2.06.94z\"/><path d=\"M17.41 7.96l-1.37-1.37c-.4-.4-.92-.59-1.43-.59-.52 0-1.04.2-1.43.59L10.3 9.45l-7.72 7.72c-.78.78-.78 2.05 0 2.83L4 21.41c.39.39.9.59 1.41.59.51 0 1.02-.2 1.41-.59l7.78-7.78 2.81-2.81c.8-.78.8-2.07 0-2.86zM5.41 20L4 18.59l7.72-7.72 1.47 1.35L5.41 20z\"/>\n",
              "  </svg>\n",
              "      </button>\n",
              "      \n",
              "  <style>\n",
              "    .colab-df-container {\n",
              "      display:flex;\n",
              "      flex-wrap:wrap;\n",
              "      gap: 12px;\n",
              "    }\n",
              "\n",
              "    .colab-df-convert {\n",
              "      background-color: #E8F0FE;\n",
              "      border: none;\n",
              "      border-radius: 50%;\n",
              "      cursor: pointer;\n",
              "      display: none;\n",
              "      fill: #1967D2;\n",
              "      height: 32px;\n",
              "      padding: 0 0 0 0;\n",
              "      width: 32px;\n",
              "    }\n",
              "\n",
              "    .colab-df-convert:hover {\n",
              "      background-color: #E2EBFA;\n",
              "      box-shadow: 0px 1px 2px rgba(60, 64, 67, 0.3), 0px 1px 3px 1px rgba(60, 64, 67, 0.15);\n",
              "      fill: #174EA6;\n",
              "    }\n",
              "\n",
              "    [theme=dark] .colab-df-convert {\n",
              "      background-color: #3B4455;\n",
              "      fill: #D2E3FC;\n",
              "    }\n",
              "\n",
              "    [theme=dark] .colab-df-convert:hover {\n",
              "      background-color: #434B5C;\n",
              "      box-shadow: 0px 1px 3px 1px rgba(0, 0, 0, 0.15);\n",
              "      filter: drop-shadow(0px 1px 2px rgba(0, 0, 0, 0.3));\n",
              "      fill: #FFFFFF;\n",
              "    }\n",
              "  </style>\n",
              "\n",
              "      <script>\n",
              "        const buttonEl =\n",
              "          document.querySelector('#df-d3438570-f9a2-4e95-a9bb-b28372202a56 button.colab-df-convert');\n",
              "        buttonEl.style.display =\n",
              "          google.colab.kernel.accessAllowed ? 'block' : 'none';\n",
              "\n",
              "        async function convertToInteractive(key) {\n",
              "          const element = document.querySelector('#df-d3438570-f9a2-4e95-a9bb-b28372202a56');\n",
              "          const dataTable =\n",
              "            await google.colab.kernel.invokeFunction('convertToInteractive',\n",
              "                                                     [key], {});\n",
              "          if (!dataTable) return;\n",
              "\n",
              "          const docLinkHtml = 'Like what you see? Visit the ' +\n",
              "            '<a target=\"_blank\" href=https://colab.research.google.com/notebooks/data_table.ipynb>data table notebook</a>'\n",
              "            + ' to learn more about interactive tables.';\n",
              "          element.innerHTML = '';\n",
              "          dataTable['output_type'] = 'display_data';\n",
              "          await google.colab.output.renderOutput(dataTable, element);\n",
              "          const docLink = document.createElement('div');\n",
              "          docLink.innerHTML = docLinkHtml;\n",
              "          element.appendChild(docLink);\n",
              "        }\n",
              "      </script>\n",
              "    </div>\n",
              "  </div>\n",
              "  "
            ],
            "text/plain": [
              "   user_id  item_id  rating  timestamp\n",
              "0      196      242       3  881250949\n",
              "1      186      302       3  891717742\n",
              "2       22      377       1  878887116\n",
              "3      244       51       2  880606923\n",
              "4      166      346       1  886397596"
            ]
          },
          "metadata": {},
          "execution_count": 260
        }
      ]
    },
    {
      "cell_type": "code",
      "source": [
        "print('Number of users:',df_data['user_id'].nunique())"
      ],
      "metadata": {
        "colab": {
          "base_uri": "https://localhost:8080/"
        },
        "id": "IS6fWa1tn3aV",
        "outputId": "1fac3b23-23d4-4818-a975-69d9d6c0844a"
      },
      "execution_count": null,
      "outputs": [
        {
          "output_type": "stream",
          "name": "stdout",
          "text": [
            "Number of users: 943\n"
          ]
        }
      ]
    },
    {
      "cell_type": "code",
      "source": [
        "print('Number of items:',df_data['item_id'].nunique())"
      ],
      "metadata": {
        "colab": {
          "base_uri": "https://localhost:8080/"
        },
        "id": "PBKGeE3FoqLk",
        "outputId": "ad154aac-43fe-45b4-a238-040c1d367586"
      },
      "execution_count": null,
      "outputs": [
        {
          "output_type": "stream",
          "name": "stdout",
          "text": [
            "Number of items: 1682\n"
          ]
        }
      ]
    },
    {
      "cell_type": "code",
      "source": [
        "headers = ['user_id', 'age', 'gender', 'occupation', 'zip_code']\n",
        "df_user = pd.read_csv('ml-100k/u.user', sep='|', names=headers)"
      ],
      "metadata": {
        "id": "WHwLIsbr_QXJ"
      },
      "execution_count": null,
      "outputs": []
    },
    {
      "cell_type": "code",
      "source": [
        "df_user.head()"
      ],
      "metadata": {
        "colab": {
          "base_uri": "https://localhost:8080/",
          "height": 206
        },
        "id": "n2ZCjYpR_VkS",
        "outputId": "4625cfb7-998d-44c3-a263-ce6079f06b5e"
      },
      "execution_count": null,
      "outputs": [
        {
          "output_type": "execute_result",
          "data": {
            "text/html": [
              "\n",
              "  <div id=\"df-ac58c777-7c9d-4502-a4bc-68ac30aec598\">\n",
              "    <div class=\"colab-df-container\">\n",
              "      <div>\n",
              "<style scoped>\n",
              "    .dataframe tbody tr th:only-of-type {\n",
              "        vertical-align: middle;\n",
              "    }\n",
              "\n",
              "    .dataframe tbody tr th {\n",
              "        vertical-align: top;\n",
              "    }\n",
              "\n",
              "    .dataframe thead th {\n",
              "        text-align: right;\n",
              "    }\n",
              "</style>\n",
              "<table border=\"1\" class=\"dataframe\">\n",
              "  <thead>\n",
              "    <tr style=\"text-align: right;\">\n",
              "      <th></th>\n",
              "      <th>user_id</th>\n",
              "      <th>age</th>\n",
              "      <th>gender</th>\n",
              "      <th>occupation</th>\n",
              "      <th>zip_code</th>\n",
              "    </tr>\n",
              "  </thead>\n",
              "  <tbody>\n",
              "    <tr>\n",
              "      <th>0</th>\n",
              "      <td>1</td>\n",
              "      <td>24</td>\n",
              "      <td>M</td>\n",
              "      <td>technician</td>\n",
              "      <td>85711</td>\n",
              "    </tr>\n",
              "    <tr>\n",
              "      <th>1</th>\n",
              "      <td>2</td>\n",
              "      <td>53</td>\n",
              "      <td>F</td>\n",
              "      <td>other</td>\n",
              "      <td>94043</td>\n",
              "    </tr>\n",
              "    <tr>\n",
              "      <th>2</th>\n",
              "      <td>3</td>\n",
              "      <td>23</td>\n",
              "      <td>M</td>\n",
              "      <td>writer</td>\n",
              "      <td>32067</td>\n",
              "    </tr>\n",
              "    <tr>\n",
              "      <th>3</th>\n",
              "      <td>4</td>\n",
              "      <td>24</td>\n",
              "      <td>M</td>\n",
              "      <td>technician</td>\n",
              "      <td>43537</td>\n",
              "    </tr>\n",
              "    <tr>\n",
              "      <th>4</th>\n",
              "      <td>5</td>\n",
              "      <td>33</td>\n",
              "      <td>F</td>\n",
              "      <td>other</td>\n",
              "      <td>15213</td>\n",
              "    </tr>\n",
              "  </tbody>\n",
              "</table>\n",
              "</div>\n",
              "      <button class=\"colab-df-convert\" onclick=\"convertToInteractive('df-ac58c777-7c9d-4502-a4bc-68ac30aec598')\"\n",
              "              title=\"Convert this dataframe to an interactive table.\"\n",
              "              style=\"display:none;\">\n",
              "        \n",
              "  <svg xmlns=\"http://www.w3.org/2000/svg\" height=\"24px\"viewBox=\"0 0 24 24\"\n",
              "       width=\"24px\">\n",
              "    <path d=\"M0 0h24v24H0V0z\" fill=\"none\"/>\n",
              "    <path d=\"M18.56 5.44l.94 2.06.94-2.06 2.06-.94-2.06-.94-.94-2.06-.94 2.06-2.06.94zm-11 1L8.5 8.5l.94-2.06 2.06-.94-2.06-.94L8.5 2.5l-.94 2.06-2.06.94zm10 10l.94 2.06.94-2.06 2.06-.94-2.06-.94-.94-2.06-.94 2.06-2.06.94z\"/><path d=\"M17.41 7.96l-1.37-1.37c-.4-.4-.92-.59-1.43-.59-.52 0-1.04.2-1.43.59L10.3 9.45l-7.72 7.72c-.78.78-.78 2.05 0 2.83L4 21.41c.39.39.9.59 1.41.59.51 0 1.02-.2 1.41-.59l7.78-7.78 2.81-2.81c.8-.78.8-2.07 0-2.86zM5.41 20L4 18.59l7.72-7.72 1.47 1.35L5.41 20z\"/>\n",
              "  </svg>\n",
              "      </button>\n",
              "      \n",
              "  <style>\n",
              "    .colab-df-container {\n",
              "      display:flex;\n",
              "      flex-wrap:wrap;\n",
              "      gap: 12px;\n",
              "    }\n",
              "\n",
              "    .colab-df-convert {\n",
              "      background-color: #E8F0FE;\n",
              "      border: none;\n",
              "      border-radius: 50%;\n",
              "      cursor: pointer;\n",
              "      display: none;\n",
              "      fill: #1967D2;\n",
              "      height: 32px;\n",
              "      padding: 0 0 0 0;\n",
              "      width: 32px;\n",
              "    }\n",
              "\n",
              "    .colab-df-convert:hover {\n",
              "      background-color: #E2EBFA;\n",
              "      box-shadow: 0px 1px 2px rgba(60, 64, 67, 0.3), 0px 1px 3px 1px rgba(60, 64, 67, 0.15);\n",
              "      fill: #174EA6;\n",
              "    }\n",
              "\n",
              "    [theme=dark] .colab-df-convert {\n",
              "      background-color: #3B4455;\n",
              "      fill: #D2E3FC;\n",
              "    }\n",
              "\n",
              "    [theme=dark] .colab-df-convert:hover {\n",
              "      background-color: #434B5C;\n",
              "      box-shadow: 0px 1px 3px 1px rgba(0, 0, 0, 0.15);\n",
              "      filter: drop-shadow(0px 1px 2px rgba(0, 0, 0, 0.3));\n",
              "      fill: #FFFFFF;\n",
              "    }\n",
              "  </style>\n",
              "\n",
              "      <script>\n",
              "        const buttonEl =\n",
              "          document.querySelector('#df-ac58c777-7c9d-4502-a4bc-68ac30aec598 button.colab-df-convert');\n",
              "        buttonEl.style.display =\n",
              "          google.colab.kernel.accessAllowed ? 'block' : 'none';\n",
              "\n",
              "        async function convertToInteractive(key) {\n",
              "          const element = document.querySelector('#df-ac58c777-7c9d-4502-a4bc-68ac30aec598');\n",
              "          const dataTable =\n",
              "            await google.colab.kernel.invokeFunction('convertToInteractive',\n",
              "                                                     [key], {});\n",
              "          if (!dataTable) return;\n",
              "\n",
              "          const docLinkHtml = 'Like what you see? Visit the ' +\n",
              "            '<a target=\"_blank\" href=https://colab.research.google.com/notebooks/data_table.ipynb>data table notebook</a>'\n",
              "            + ' to learn more about interactive tables.';\n",
              "          element.innerHTML = '';\n",
              "          dataTable['output_type'] = 'display_data';\n",
              "          await google.colab.output.renderOutput(dataTable, element);\n",
              "          const docLink = document.createElement('div');\n",
              "          docLink.innerHTML = docLinkHtml;\n",
              "          element.appendChild(docLink);\n",
              "        }\n",
              "      </script>\n",
              "    </div>\n",
              "  </div>\n",
              "  "
            ],
            "text/plain": [
              "   user_id  age gender  occupation zip_code\n",
              "0        1   24      M  technician    85711\n",
              "1        2   53      F       other    94043\n",
              "2        3   23      M      writer    32067\n",
              "3        4   24      M  technician    43537\n",
              "4        5   33      F       other    15213"
            ]
          },
          "metadata": {},
          "execution_count": 8
        }
      ]
    },
    {
      "cell_type": "code",
      "source": [
        "headers = ['movie_id', 'movie_title', 'release_date', 'video_release_date', \\\n",
        "          'IMDb_URL', 'unknown', 'Action', 'Adventure', 'Animation', \\\n",
        "          'Children\\'s', 'Comedy', 'Crime', 'Documentary', 'Drama', 'Fantasy', \\\n",
        "          'Film-Noir', 'Horror', 'Musical', 'Mystery', 'Romance', 'Sci-Fi', \\\n",
        "          'Thriller', 'War', 'Western']\n",
        "df_item = pd.read_csv('ml-100k/u.item', sep='|', names=headers, encoding=\"ISO-8859-1\")"
      ],
      "metadata": {
        "id": "lBO71NqtDXfy"
      },
      "execution_count": null,
      "outputs": []
    },
    {
      "cell_type": "code",
      "source": [
        "df_item.info()"
      ],
      "metadata": {
        "colab": {
          "base_uri": "https://localhost:8080/"
        },
        "id": "yG-Jmt_7FKF1",
        "outputId": "98660ee3-6dc5-4e6d-f8bc-c0dfca35581a"
      },
      "execution_count": null,
      "outputs": [
        {
          "output_type": "stream",
          "name": "stdout",
          "text": [
            "<class 'pandas.core.frame.DataFrame'>\n",
            "RangeIndex: 1682 entries, 0 to 1681\n",
            "Data columns (total 24 columns):\n",
            " #   Column              Non-Null Count  Dtype  \n",
            "---  ------              --------------  -----  \n",
            " 0   movie_id            1682 non-null   int64  \n",
            " 1   movie_title         1682 non-null   object \n",
            " 2   release_date        1681 non-null   object \n",
            " 3   video_release_date  0 non-null      float64\n",
            " 4   IMDb_URL            1679 non-null   object \n",
            " 5   unknown             1682 non-null   int64  \n",
            " 6   Action              1682 non-null   int64  \n",
            " 7   Adventure           1682 non-null   int64  \n",
            " 8   Animation           1682 non-null   int64  \n",
            " 9   Children's          1682 non-null   int64  \n",
            " 10  Comedy              1682 non-null   int64  \n",
            " 11  Crime               1682 non-null   int64  \n",
            " 12  Documentary         1682 non-null   int64  \n",
            " 13  Drama               1682 non-null   int64  \n",
            " 14  Fantasy             1682 non-null   int64  \n",
            " 15  Film-Noir           1682 non-null   int64  \n",
            " 16  Horror              1682 non-null   int64  \n",
            " 17  Musical             1682 non-null   int64  \n",
            " 18  Mystery             1682 non-null   int64  \n",
            " 19  Romance             1682 non-null   int64  \n",
            " 20  Sci-Fi              1682 non-null   int64  \n",
            " 21  Thriller            1682 non-null   int64  \n",
            " 22  War                 1682 non-null   int64  \n",
            " 23  Western             1682 non-null   int64  \n",
            "dtypes: float64(1), int64(20), object(3)\n",
            "memory usage: 315.5+ KB\n"
          ]
        }
      ]
    },
    {
      "cell_type": "code",
      "source": [
        "df_item.head()"
      ],
      "metadata": {
        "colab": {
          "base_uri": "https://localhost:8080/",
          "height": 409
        },
        "id": "FH3WGIANE4D3",
        "outputId": "ff03e418-ddd6-4fad-fef9-720ba8e977ad"
      },
      "execution_count": null,
      "outputs": [
        {
          "output_type": "execute_result",
          "data": {
            "text/html": [
              "\n",
              "  <div id=\"df-a435a5f0-5b27-42f9-bff5-44ef64d449d0\">\n",
              "    <div class=\"colab-df-container\">\n",
              "      <div>\n",
              "<style scoped>\n",
              "    .dataframe tbody tr th:only-of-type {\n",
              "        vertical-align: middle;\n",
              "    }\n",
              "\n",
              "    .dataframe tbody tr th {\n",
              "        vertical-align: top;\n",
              "    }\n",
              "\n",
              "    .dataframe thead th {\n",
              "        text-align: right;\n",
              "    }\n",
              "</style>\n",
              "<table border=\"1\" class=\"dataframe\">\n",
              "  <thead>\n",
              "    <tr style=\"text-align: right;\">\n",
              "      <th></th>\n",
              "      <th>movie_id</th>\n",
              "      <th>movie_title</th>\n",
              "      <th>release_date</th>\n",
              "      <th>video_release_date</th>\n",
              "      <th>IMDb_URL</th>\n",
              "      <th>unknown</th>\n",
              "      <th>Action</th>\n",
              "      <th>Adventure</th>\n",
              "      <th>Animation</th>\n",
              "      <th>Children's</th>\n",
              "      <th>Comedy</th>\n",
              "      <th>Crime</th>\n",
              "      <th>Documentary</th>\n",
              "      <th>Drama</th>\n",
              "      <th>Fantasy</th>\n",
              "      <th>Film-Noir</th>\n",
              "      <th>Horror</th>\n",
              "      <th>Musical</th>\n",
              "      <th>Mystery</th>\n",
              "      <th>Romance</th>\n",
              "      <th>Sci-Fi</th>\n",
              "      <th>Thriller</th>\n",
              "      <th>War</th>\n",
              "      <th>Western</th>\n",
              "    </tr>\n",
              "  </thead>\n",
              "  <tbody>\n",
              "    <tr>\n",
              "      <th>0</th>\n",
              "      <td>1</td>\n",
              "      <td>Toy Story (1995)</td>\n",
              "      <td>01-Jan-1995</td>\n",
              "      <td>NaN</td>\n",
              "      <td>http://us.imdb.com/M/title-exact?Toy%20Story%2...</td>\n",
              "      <td>0</td>\n",
              "      <td>0</td>\n",
              "      <td>0</td>\n",
              "      <td>1</td>\n",
              "      <td>1</td>\n",
              "      <td>1</td>\n",
              "      <td>0</td>\n",
              "      <td>0</td>\n",
              "      <td>0</td>\n",
              "      <td>0</td>\n",
              "      <td>0</td>\n",
              "      <td>0</td>\n",
              "      <td>0</td>\n",
              "      <td>0</td>\n",
              "      <td>0</td>\n",
              "      <td>0</td>\n",
              "      <td>0</td>\n",
              "      <td>0</td>\n",
              "      <td>0</td>\n",
              "    </tr>\n",
              "    <tr>\n",
              "      <th>1</th>\n",
              "      <td>2</td>\n",
              "      <td>GoldenEye (1995)</td>\n",
              "      <td>01-Jan-1995</td>\n",
              "      <td>NaN</td>\n",
              "      <td>http://us.imdb.com/M/title-exact?GoldenEye%20(...</td>\n",
              "      <td>0</td>\n",
              "      <td>1</td>\n",
              "      <td>1</td>\n",
              "      <td>0</td>\n",
              "      <td>0</td>\n",
              "      <td>0</td>\n",
              "      <td>0</td>\n",
              "      <td>0</td>\n",
              "      <td>0</td>\n",
              "      <td>0</td>\n",
              "      <td>0</td>\n",
              "      <td>0</td>\n",
              "      <td>0</td>\n",
              "      <td>0</td>\n",
              "      <td>0</td>\n",
              "      <td>0</td>\n",
              "      <td>1</td>\n",
              "      <td>0</td>\n",
              "      <td>0</td>\n",
              "    </tr>\n",
              "    <tr>\n",
              "      <th>2</th>\n",
              "      <td>3</td>\n",
              "      <td>Four Rooms (1995)</td>\n",
              "      <td>01-Jan-1995</td>\n",
              "      <td>NaN</td>\n",
              "      <td>http://us.imdb.com/M/title-exact?Four%20Rooms%...</td>\n",
              "      <td>0</td>\n",
              "      <td>0</td>\n",
              "      <td>0</td>\n",
              "      <td>0</td>\n",
              "      <td>0</td>\n",
              "      <td>0</td>\n",
              "      <td>0</td>\n",
              "      <td>0</td>\n",
              "      <td>0</td>\n",
              "      <td>0</td>\n",
              "      <td>0</td>\n",
              "      <td>0</td>\n",
              "      <td>0</td>\n",
              "      <td>0</td>\n",
              "      <td>0</td>\n",
              "      <td>0</td>\n",
              "      <td>1</td>\n",
              "      <td>0</td>\n",
              "      <td>0</td>\n",
              "    </tr>\n",
              "    <tr>\n",
              "      <th>3</th>\n",
              "      <td>4</td>\n",
              "      <td>Get Shorty (1995)</td>\n",
              "      <td>01-Jan-1995</td>\n",
              "      <td>NaN</td>\n",
              "      <td>http://us.imdb.com/M/title-exact?Get%20Shorty%...</td>\n",
              "      <td>0</td>\n",
              "      <td>1</td>\n",
              "      <td>0</td>\n",
              "      <td>0</td>\n",
              "      <td>0</td>\n",
              "      <td>1</td>\n",
              "      <td>0</td>\n",
              "      <td>0</td>\n",
              "      <td>1</td>\n",
              "      <td>0</td>\n",
              "      <td>0</td>\n",
              "      <td>0</td>\n",
              "      <td>0</td>\n",
              "      <td>0</td>\n",
              "      <td>0</td>\n",
              "      <td>0</td>\n",
              "      <td>0</td>\n",
              "      <td>0</td>\n",
              "      <td>0</td>\n",
              "    </tr>\n",
              "    <tr>\n",
              "      <th>4</th>\n",
              "      <td>5</td>\n",
              "      <td>Copycat (1995)</td>\n",
              "      <td>01-Jan-1995</td>\n",
              "      <td>NaN</td>\n",
              "      <td>http://us.imdb.com/M/title-exact?Copycat%20(1995)</td>\n",
              "      <td>0</td>\n",
              "      <td>0</td>\n",
              "      <td>0</td>\n",
              "      <td>0</td>\n",
              "      <td>0</td>\n",
              "      <td>0</td>\n",
              "      <td>1</td>\n",
              "      <td>0</td>\n",
              "      <td>1</td>\n",
              "      <td>0</td>\n",
              "      <td>0</td>\n",
              "      <td>0</td>\n",
              "      <td>0</td>\n",
              "      <td>0</td>\n",
              "      <td>0</td>\n",
              "      <td>0</td>\n",
              "      <td>1</td>\n",
              "      <td>0</td>\n",
              "      <td>0</td>\n",
              "    </tr>\n",
              "  </tbody>\n",
              "</table>\n",
              "</div>\n",
              "      <button class=\"colab-df-convert\" onclick=\"convertToInteractive('df-a435a5f0-5b27-42f9-bff5-44ef64d449d0')\"\n",
              "              title=\"Convert this dataframe to an interactive table.\"\n",
              "              style=\"display:none;\">\n",
              "        \n",
              "  <svg xmlns=\"http://www.w3.org/2000/svg\" height=\"24px\"viewBox=\"0 0 24 24\"\n",
              "       width=\"24px\">\n",
              "    <path d=\"M0 0h24v24H0V0z\" fill=\"none\"/>\n",
              "    <path d=\"M18.56 5.44l.94 2.06.94-2.06 2.06-.94-2.06-.94-.94-2.06-.94 2.06-2.06.94zm-11 1L8.5 8.5l.94-2.06 2.06-.94-2.06-.94L8.5 2.5l-.94 2.06-2.06.94zm10 10l.94 2.06.94-2.06 2.06-.94-2.06-.94-.94-2.06-.94 2.06-2.06.94z\"/><path d=\"M17.41 7.96l-1.37-1.37c-.4-.4-.92-.59-1.43-.59-.52 0-1.04.2-1.43.59L10.3 9.45l-7.72 7.72c-.78.78-.78 2.05 0 2.83L4 21.41c.39.39.9.59 1.41.59.51 0 1.02-.2 1.41-.59l7.78-7.78 2.81-2.81c.8-.78.8-2.07 0-2.86zM5.41 20L4 18.59l7.72-7.72 1.47 1.35L5.41 20z\"/>\n",
              "  </svg>\n",
              "      </button>\n",
              "      \n",
              "  <style>\n",
              "    .colab-df-container {\n",
              "      display:flex;\n",
              "      flex-wrap:wrap;\n",
              "      gap: 12px;\n",
              "    }\n",
              "\n",
              "    .colab-df-convert {\n",
              "      background-color: #E8F0FE;\n",
              "      border: none;\n",
              "      border-radius: 50%;\n",
              "      cursor: pointer;\n",
              "      display: none;\n",
              "      fill: #1967D2;\n",
              "      height: 32px;\n",
              "      padding: 0 0 0 0;\n",
              "      width: 32px;\n",
              "    }\n",
              "\n",
              "    .colab-df-convert:hover {\n",
              "      background-color: #E2EBFA;\n",
              "      box-shadow: 0px 1px 2px rgba(60, 64, 67, 0.3), 0px 1px 3px 1px rgba(60, 64, 67, 0.15);\n",
              "      fill: #174EA6;\n",
              "    }\n",
              "\n",
              "    [theme=dark] .colab-df-convert {\n",
              "      background-color: #3B4455;\n",
              "      fill: #D2E3FC;\n",
              "    }\n",
              "\n",
              "    [theme=dark] .colab-df-convert:hover {\n",
              "      background-color: #434B5C;\n",
              "      box-shadow: 0px 1px 3px 1px rgba(0, 0, 0, 0.15);\n",
              "      filter: drop-shadow(0px 1px 2px rgba(0, 0, 0, 0.3));\n",
              "      fill: #FFFFFF;\n",
              "    }\n",
              "  </style>\n",
              "\n",
              "      <script>\n",
              "        const buttonEl =\n",
              "          document.querySelector('#df-a435a5f0-5b27-42f9-bff5-44ef64d449d0 button.colab-df-convert');\n",
              "        buttonEl.style.display =\n",
              "          google.colab.kernel.accessAllowed ? 'block' : 'none';\n",
              "\n",
              "        async function convertToInteractive(key) {\n",
              "          const element = document.querySelector('#df-a435a5f0-5b27-42f9-bff5-44ef64d449d0');\n",
              "          const dataTable =\n",
              "            await google.colab.kernel.invokeFunction('convertToInteractive',\n",
              "                                                     [key], {});\n",
              "          if (!dataTable) return;\n",
              "\n",
              "          const docLinkHtml = 'Like what you see? Visit the ' +\n",
              "            '<a target=\"_blank\" href=https://colab.research.google.com/notebooks/data_table.ipynb>data table notebook</a>'\n",
              "            + ' to learn more about interactive tables.';\n",
              "          element.innerHTML = '';\n",
              "          dataTable['output_type'] = 'display_data';\n",
              "          await google.colab.output.renderOutput(dataTable, element);\n",
              "          const docLink = document.createElement('div');\n",
              "          docLink.innerHTML = docLinkHtml;\n",
              "          element.appendChild(docLink);\n",
              "        }\n",
              "      </script>\n",
              "    </div>\n",
              "  </div>\n",
              "  "
            ],
            "text/plain": [
              "   movie_id        movie_title release_date  ...  Thriller War  Western\n",
              "0         1   Toy Story (1995)  01-Jan-1995  ...         0   0        0\n",
              "1         2   GoldenEye (1995)  01-Jan-1995  ...         1   0        0\n",
              "2         3  Four Rooms (1995)  01-Jan-1995  ...         1   0        0\n",
              "3         4  Get Shorty (1995)  01-Jan-1995  ...         0   0        0\n",
              "4         5     Copycat (1995)  01-Jan-1995  ...         1   0        0\n",
              "\n",
              "[5 rows x 24 columns]"
            ]
          },
          "metadata": {},
          "execution_count": 11
        }
      ]
    },
    {
      "cell_type": "code",
      "source": [
        "user_contribution = df_data.groupby('user_id').size().sort_values(ascending=False)\n",
        "ax = user_contribution.plot(kind='bar',figsize=(20,8),title='Number of items rated by each user')\n",
        "# ax.get_xaxis().set_visible(False)\n",
        "ax.set_xlabel('Users')\n",
        "ax.set_xticks([])\n",
        "ax.set_ylabel('Number of items')\n",
        "plt.show()"
      ],
      "metadata": {
        "colab": {
          "base_uri": "https://localhost:8080/",
          "height": 491
        },
        "id": "vnywKDMkJpcR",
        "outputId": "d2c1bece-9874-4696-98df-074ed708ca6c"
      },
      "execution_count": null,
      "outputs": [
        {
          "output_type": "display_data",
          "data": {
            "image/png": "[encoded data removed]",
            "text/plain": [
              "<Figure size 1440x576 with 1 Axes>"
            ]
          },
          "metadata": {
            "needs_background": "light"
          }
        }
      ]
    },
    {
      "cell_type": "markdown",
      "source": [
        "This chart basically that there are users that have contributed more to the dataset, and therefore, their prefereces are overrepresented."
      ],
      "metadata": {
        "id": "lMQnhdVbPm4-"
      }
    },
    {
      "cell_type": "code",
      "source": [
        "item_contribution = df_data.groupby('item_id').size().sort_values(ascending=False)\n",
        "ax = user_contribution.plot(kind='bar',figsize=(20,8),title='Number of rates received by each item',color='g')\n",
        "# ax.get_xaxis().set_visible(False)\n",
        "ax.set_xlabel('Items')\n",
        "ax.set_xticks([])\n",
        "ax.set_ylabel('Number of rates')\n",
        "plt.show()"
      ],
      "metadata": {
        "colab": {
          "base_uri": "https://localhost:8080/",
          "height": 491
        },
        "id": "qiR3couDQKNQ",
        "outputId": "f9a1f3df-9fcf-472d-9900-a1e523435ec2"
      },
      "execution_count": null,
      "outputs": [
        {
          "output_type": "display_data",
          "data": {
            "image/png": "[encoded data removed]",
            "text/plain": [
              "<Figure size 1440x576 with 1 Axes>"
            ]
          },
          "metadata": {
            "needs_background": "light"
          }
        }
      ]
    },
    {
      "cell_type": "code",
      "source": [
        "merged_df = pd.merge(left=df_data, right=df_item, left_on='item_id',right_on='movie_id', how='left')\n",
        "merged_df = pd.merge(left=merged_df, right=df_user, left_on='user_id',right_on='user_id', how='left')\n",
        "merged_df[:5]"
      ],
      "metadata": {
        "colab": {
          "base_uri": "https://localhost:8080/",
          "height": 409
        },
        "id": "VAQJOa5_d9AF",
        "outputId": "3f6b5d6e-5067-4f95-9fa6-1293cb2614ae"
      },
      "execution_count": null,
      "outputs": [
        {
          "output_type": "execute_result",
          "data": {
            "text/html": [
              "\n",
              "  <div id=\"df-43b3231f-ef06-4471-91bf-3bc564d5e6fa\">\n",
              "    <div class=\"colab-df-container\">\n",
              "      <div>\n",
              "<style scoped>\n",
              "    .dataframe tbody tr th:only-of-type {\n",
              "        vertical-align: middle;\n",
              "    }\n",
              "\n",
              "    .dataframe tbody tr th {\n",
              "        vertical-align: top;\n",
              "    }\n",
              "\n",
              "    .dataframe thead th {\n",
              "        text-align: right;\n",
              "    }\n",
              "</style>\n",
              "<table border=\"1\" class=\"dataframe\">\n",
              "  <thead>\n",
              "    <tr style=\"text-align: right;\">\n",
              "      <th></th>\n",
              "      <th>user_id</th>\n",
              "      <th>item_id</th>\n",
              "      <th>rating</th>\n",
              "      <th>timestamp</th>\n",
              "      <th>movie_id</th>\n",
              "      <th>movie_title</th>\n",
              "      <th>release_date</th>\n",
              "      <th>video_release_date</th>\n",
              "      <th>IMDb_URL</th>\n",
              "      <th>unknown</th>\n",
              "      <th>Action</th>\n",
              "      <th>Adventure</th>\n",
              "      <th>Animation</th>\n",
              "      <th>Children's</th>\n",
              "      <th>Comedy</th>\n",
              "      <th>Crime</th>\n",
              "      <th>Documentary</th>\n",
              "      <th>Drama</th>\n",
              "      <th>Fantasy</th>\n",
              "      <th>Film-Noir</th>\n",
              "      <th>Horror</th>\n",
              "      <th>Musical</th>\n",
              "      <th>Mystery</th>\n",
              "      <th>Romance</th>\n",
              "      <th>Sci-Fi</th>\n",
              "      <th>Thriller</th>\n",
              "      <th>War</th>\n",
              "      <th>Western</th>\n",
              "      <th>age</th>\n",
              "      <th>gender</th>\n",
              "      <th>occupation</th>\n",
              "      <th>zip_code</th>\n",
              "    </tr>\n",
              "  </thead>\n",
              "  <tbody>\n",
              "    <tr>\n",
              "      <th>0</th>\n",
              "      <td>196</td>\n",
              "      <td>242</td>\n",
              "      <td>3</td>\n",
              "      <td>881250949</td>\n",
              "      <td>242</td>\n",
              "      <td>Kolya (1996)</td>\n",
              "      <td>24-Jan-1997</td>\n",
              "      <td>NaN</td>\n",
              "      <td>http://us.imdb.com/M/title-exact?Kolya%20(1996)</td>\n",
              "      <td>0</td>\n",
              "      <td>0</td>\n",
              "      <td>0</td>\n",
              "      <td>0</td>\n",
              "      <td>0</td>\n",
              "      <td>1</td>\n",
              "      <td>0</td>\n",
              "      <td>0</td>\n",
              "      <td>0</td>\n",
              "      <td>0</td>\n",
              "      <td>0</td>\n",
              "      <td>0</td>\n",
              "      <td>0</td>\n",
              "      <td>0</td>\n",
              "      <td>0</td>\n",
              "      <td>0</td>\n",
              "      <td>0</td>\n",
              "      <td>0</td>\n",
              "      <td>0</td>\n",
              "      <td>49</td>\n",
              "      <td>M</td>\n",
              "      <td>writer</td>\n",
              "      <td>55105</td>\n",
              "    </tr>\n",
              "    <tr>\n",
              "      <th>1</th>\n",
              "      <td>186</td>\n",
              "      <td>302</td>\n",
              "      <td>3</td>\n",
              "      <td>891717742</td>\n",
              "      <td>302</td>\n",
              "      <td>L.A. Confidential (1997)</td>\n",
              "      <td>01-Jan-1997</td>\n",
              "      <td>NaN</td>\n",
              "      <td>http://us.imdb.com/M/title-exact?L%2EA%2E+Conf...</td>\n",
              "      <td>0</td>\n",
              "      <td>0</td>\n",
              "      <td>0</td>\n",
              "      <td>0</td>\n",
              "      <td>0</td>\n",
              "      <td>0</td>\n",
              "      <td>1</td>\n",
              "      <td>0</td>\n",
              "      <td>0</td>\n",
              "      <td>0</td>\n",
              "      <td>1</td>\n",
              "      <td>0</td>\n",
              "      <td>0</td>\n",
              "      <td>1</td>\n",
              "      <td>0</td>\n",
              "      <td>0</td>\n",
              "      <td>1</td>\n",
              "      <td>0</td>\n",
              "      <td>0</td>\n",
              "      <td>39</td>\n",
              "      <td>F</td>\n",
              "      <td>executive</td>\n",
              "      <td>00000</td>\n",
              "    </tr>\n",
              "    <tr>\n",
              "      <th>2</th>\n",
              "      <td>22</td>\n",
              "      <td>377</td>\n",
              "      <td>1</td>\n",
              "      <td>878887116</td>\n",
              "      <td>377</td>\n",
              "      <td>Heavyweights (1994)</td>\n",
              "      <td>01-Jan-1994</td>\n",
              "      <td>NaN</td>\n",
              "      <td>http://us.imdb.com/M/title-exact?Heavyweights%...</td>\n",
              "      <td>0</td>\n",
              "      <td>0</td>\n",
              "      <td>0</td>\n",
              "      <td>0</td>\n",
              "      <td>1</td>\n",
              "      <td>1</td>\n",
              "      <td>0</td>\n",
              "      <td>0</td>\n",
              "      <td>0</td>\n",
              "      <td>0</td>\n",
              "      <td>0</td>\n",
              "      <td>0</td>\n",
              "      <td>0</td>\n",
              "      <td>0</td>\n",
              "      <td>0</td>\n",
              "      <td>0</td>\n",
              "      <td>0</td>\n",
              "      <td>0</td>\n",
              "      <td>0</td>\n",
              "      <td>25</td>\n",
              "      <td>M</td>\n",
              "      <td>writer</td>\n",
              "      <td>40206</td>\n",
              "    </tr>\n",
              "    <tr>\n",
              "      <th>3</th>\n",
              "      <td>244</td>\n",
              "      <td>51</td>\n",
              "      <td>2</td>\n",
              "      <td>880606923</td>\n",
              "      <td>51</td>\n",
              "      <td>Legends of the Fall (1994)</td>\n",
              "      <td>01-Jan-1994</td>\n",
              "      <td>NaN</td>\n",
              "      <td>http://us.imdb.com/M/title-exact?Legends%20of%...</td>\n",
              "      <td>0</td>\n",
              "      <td>0</td>\n",
              "      <td>0</td>\n",
              "      <td>0</td>\n",
              "      <td>0</td>\n",
              "      <td>0</td>\n",
              "      <td>0</td>\n",
              "      <td>0</td>\n",
              "      <td>1</td>\n",
              "      <td>0</td>\n",
              "      <td>0</td>\n",
              "      <td>0</td>\n",
              "      <td>0</td>\n",
              "      <td>0</td>\n",
              "      <td>1</td>\n",
              "      <td>0</td>\n",
              "      <td>0</td>\n",
              "      <td>1</td>\n",
              "      <td>1</td>\n",
              "      <td>28</td>\n",
              "      <td>M</td>\n",
              "      <td>technician</td>\n",
              "      <td>80525</td>\n",
              "    </tr>\n",
              "    <tr>\n",
              "      <th>4</th>\n",
              "      <td>166</td>\n",
              "      <td>346</td>\n",
              "      <td>1</td>\n",
              "      <td>886397596</td>\n",
              "      <td>346</td>\n",
              "      <td>Jackie Brown (1997)</td>\n",
              "      <td>01-Jan-1997</td>\n",
              "      <td>NaN</td>\n",
              "      <td>http://us.imdb.com/M/title-exact?imdb-title-11...</td>\n",
              "      <td>0</td>\n",
              "      <td>0</td>\n",
              "      <td>0</td>\n",
              "      <td>0</td>\n",
              "      <td>0</td>\n",
              "      <td>0</td>\n",
              "      <td>1</td>\n",
              "      <td>0</td>\n",
              "      <td>1</td>\n",
              "      <td>0</td>\n",
              "      <td>0</td>\n",
              "      <td>0</td>\n",
              "      <td>0</td>\n",
              "      <td>0</td>\n",
              "      <td>0</td>\n",
              "      <td>0</td>\n",
              "      <td>0</td>\n",
              "      <td>0</td>\n",
              "      <td>0</td>\n",
              "      <td>47</td>\n",
              "      <td>M</td>\n",
              "      <td>educator</td>\n",
              "      <td>55113</td>\n",
              "    </tr>\n",
              "  </tbody>\n",
              "</table>\n",
              "</div>\n",
              "      <button class=\"colab-df-convert\" onclick=\"convertToInteractive('df-43b3231f-ef06-4471-91bf-3bc564d5e6fa')\"\n",
              "              title=\"Convert this dataframe to an interactive table.\"\n",
              "              style=\"display:none;\">\n",
              "        \n",
              "  <svg xmlns=\"http://www.w3.org/2000/svg\" height=\"24px\"viewBox=\"0 0 24 24\"\n",
              "       width=\"24px\">\n",
              "    <path d=\"M0 0h24v24H0V0z\" fill=\"none\"/>\n",
              "    <path d=\"M18.56 5.44l.94 2.06.94-2.06 2.06-.94-2.06-.94-.94-2.06-.94 2.06-2.06.94zm-11 1L8.5 8.5l.94-2.06 2.06-.94-2.06-.94L8.5 2.5l-.94 2.06-2.06.94zm10 10l.94 2.06.94-2.06 2.06-.94-2.06-.94-.94-2.06-.94 2.06-2.06.94z\"/><path d=\"M17.41 7.96l-1.37-1.37c-.4-.4-.92-.59-1.43-.59-.52 0-1.04.2-1.43.59L10.3 9.45l-7.72 7.72c-.78.78-.78 2.05 0 2.83L4 21.41c.39.39.9.59 1.41.59.51 0 1.02-.2 1.41-.59l7.78-7.78 2.81-2.81c.8-.78.8-2.07 0-2.86zM5.41 20L4 18.59l7.72-7.72 1.47 1.35L5.41 20z\"/>\n",
              "  </svg>\n",
              "      </button>\n",
              "      \n",
              "  <style>\n",
              "    .colab-df-container {\n",
              "      display:flex;\n",
              "      flex-wrap:wrap;\n",
              "      gap: 12px;\n",
              "    }\n",
              "\n",
              "    .colab-df-convert {\n",
              "      background-color: #E8F0FE;\n",
              "      border: none;\n",
              "      border-radius: 50%;\n",
              "      cursor: pointer;\n",
              "      display: none;\n",
              "      fill: #1967D2;\n",
              "      height: 32px;\n",
              "      padding: 0 0 0 0;\n",
              "      width: 32px;\n",
              "    }\n",
              "\n",
              "    .colab-df-convert:hover {\n",
              "      background-color: #E2EBFA;\n",
              "      box-shadow: 0px 1px 2px rgba(60, 64, 67, 0.3), 0px 1px 3px 1px rgba(60, 64, 67, 0.15);\n",
              "      fill: #174EA6;\n",
              "    }\n",
              "\n",
              "    [theme=dark] .colab-df-convert {\n",
              "      background-color: #3B4455;\n",
              "      fill: #D2E3FC;\n",
              "    }\n",
              "\n",
              "    [theme=dark] .colab-df-convert:hover {\n",
              "      background-color: #434B5C;\n",
              "      box-shadow: 0px 1px 3px 1px rgba(0, 0, 0, 0.15);\n",
              "      filter: drop-shadow(0px 1px 2px rgba(0, 0, 0, 0.3));\n",
              "      fill: #FFFFFF;\n",
              "    }\n",
              "  </style>\n",
              "\n",
              "      <script>\n",
              "        const buttonEl =\n",
              "          document.querySelector('#df-43b3231f-ef06-4471-91bf-3bc564d5e6fa button.colab-df-convert');\n",
              "        buttonEl.style.display =\n",
              "          google.colab.kernel.accessAllowed ? 'block' : 'none';\n",
              "\n",
              "        async function convertToInteractive(key) {\n",
              "          const element = document.querySelector('#df-43b3231f-ef06-4471-91bf-3bc564d5e6fa');\n",
              "          const dataTable =\n",
              "            await google.colab.kernel.invokeFunction('convertToInteractive',\n",
              "                                                     [key], {});\n",
              "          if (!dataTable) return;\n",
              "\n",
              "          const docLinkHtml = 'Like what you see? Visit the ' +\n",
              "            '<a target=\"_blank\" href=https://colab.research.google.com/notebooks/data_table.ipynb>data table notebook</a>'\n",
              "            + ' to learn more about interactive tables.';\n",
              "          element.innerHTML = '';\n",
              "          dataTable['output_type'] = 'display_data';\n",
              "          await google.colab.output.renderOutput(dataTable, element);\n",
              "          const docLink = document.createElement('div');\n",
              "          docLink.innerHTML = docLinkHtml;\n",
              "          element.appendChild(docLink);\n",
              "        }\n",
              "      </script>\n",
              "    </div>\n",
              "  </div>\n",
              "  "
            ],
            "text/plain": [
              "   user_id  item_id  rating  timestamp  ...  age gender  occupation  zip_code\n",
              "0      196      242       3  881250949  ...   49      M      writer     55105\n",
              "1      186      302       3  891717742  ...   39      F   executive     00000\n",
              "2       22      377       1  878887116  ...   25      M      writer     40206\n",
              "3      244       51       2  880606923  ...   28      M  technician     80525\n",
              "4      166      346       1  886397596  ...   47      M    educator     55113\n",
              "\n",
              "[5 rows x 32 columns]"
            ]
          },
          "metadata": {},
          "execution_count": 39
        }
      ]
    },
    {
      "cell_type": "code",
      "source": [
        "merged_df.groupby('item_id').agg({'rating':'mean'})[:5]"
      ],
      "metadata": {
        "colab": {
          "base_uri": "https://localhost:8080/",
          "height": 237
        },
        "id": "jBfBoO0wJR2i",
        "outputId": "a6b33957-aee8-4fa9-b3ba-73fc12fd7e7a"
      },
      "execution_count": null,
      "outputs": [
        {
          "output_type": "execute_result",
          "data": {
            "text/html": [
              "\n",
              "  <div id=\"df-0a95cf1b-6db7-44a6-ac15-c7c6f82cc4a6\">\n",
              "    <div class=\"colab-df-container\">\n",
              "      <div>\n",
              "<style scoped>\n",
              "    .dataframe tbody tr th:only-of-type {\n",
              "        vertical-align: middle;\n",
              "    }\n",
              "\n",
              "    .dataframe tbody tr th {\n",
              "        vertical-align: top;\n",
              "    }\n",
              "\n",
              "    .dataframe thead th {\n",
              "        text-align: right;\n",
              "    }\n",
              "</style>\n",
              "<table border=\"1\" class=\"dataframe\">\n",
              "  <thead>\n",
              "    <tr style=\"text-align: right;\">\n",
              "      <th></th>\n",
              "      <th>rating</th>\n",
              "    </tr>\n",
              "    <tr>\n",
              "      <th>item_id</th>\n",
              "      <th></th>\n",
              "    </tr>\n",
              "  </thead>\n",
              "  <tbody>\n",
              "    <tr>\n",
              "      <th>1</th>\n",
              "      <td>3.878319</td>\n",
              "    </tr>\n",
              "    <tr>\n",
              "      <th>2</th>\n",
              "      <td>3.206107</td>\n",
              "    </tr>\n",
              "    <tr>\n",
              "      <th>3</th>\n",
              "      <td>3.033333</td>\n",
              "    </tr>\n",
              "    <tr>\n",
              "      <th>4</th>\n",
              "      <td>3.550239</td>\n",
              "    </tr>\n",
              "    <tr>\n",
              "      <th>5</th>\n",
              "      <td>3.302326</td>\n",
              "    </tr>\n",
              "  </tbody>\n",
              "</table>\n",
              "</div>\n",
              "      <button class=\"colab-df-convert\" onclick=\"convertToInteractive('df-0a95cf1b-6db7-44a6-ac15-c7c6f82cc4a6')\"\n",
              "              title=\"Convert this dataframe to an interactive table.\"\n",
              "              style=\"display:none;\">\n",
              "        \n",
              "  <svg xmlns=\"http://www.w3.org/2000/svg\" height=\"24px\"viewBox=\"0 0 24 24\"\n",
              "       width=\"24px\">\n",
              "    <path d=\"M0 0h24v24H0V0z\" fill=\"none\"/>\n",
              "    <path d=\"M18.56 5.44l.94 2.06.94-2.06 2.06-.94-2.06-.94-.94-2.06-.94 2.06-2.06.94zm-11 1L8.5 8.5l.94-2.06 2.06-.94-2.06-.94L8.5 2.5l-.94 2.06-2.06.94zm10 10l.94 2.06.94-2.06 2.06-.94-2.06-.94-.94-2.06-.94 2.06-2.06.94z\"/><path d=\"M17.41 7.96l-1.37-1.37c-.4-.4-.92-.59-1.43-.59-.52 0-1.04.2-1.43.59L10.3 9.45l-7.72 7.72c-.78.78-.78 2.05 0 2.83L4 21.41c.39.39.9.59 1.41.59.51 0 1.02-.2 1.41-.59l7.78-7.78 2.81-2.81c.8-.78.8-2.07 0-2.86zM5.41 20L4 18.59l7.72-7.72 1.47 1.35L5.41 20z\"/>\n",
              "  </svg>\n",
              "      </button>\n",
              "      \n",
              "  <style>\n",
              "    .colab-df-container {\n",
              "      display:flex;\n",
              "      flex-wrap:wrap;\n",
              "      gap: 12px;\n",
              "    }\n",
              "\n",
              "    .colab-df-convert {\n",
              "      background-color: #E8F0FE;\n",
              "      border: none;\n",
              "      border-radius: 50%;\n",
              "      cursor: pointer;\n",
              "      display: none;\n",
              "      fill: #1967D2;\n",
              "      height: 32px;\n",
              "      padding: 0 0 0 0;\n",
              "      width: 32px;\n",
              "    }\n",
              "\n",
              "    .colab-df-convert:hover {\n",
              "      background-color: #E2EBFA;\n",
              "      box-shadow: 0px 1px 2px rgba(60, 64, 67, 0.3), 0px 1px 3px 1px rgba(60, 64, 67, 0.15);\n",
              "      fill: #174EA6;\n",
              "    }\n",
              "\n",
              "    [theme=dark] .colab-df-convert {\n",
              "      background-color: #3B4455;\n",
              "      fill: #D2E3FC;\n",
              "    }\n",
              "\n",
              "    [theme=dark] .colab-df-convert:hover {\n",
              "      background-color: #434B5C;\n",
              "      box-shadow: 0px 1px 3px 1px rgba(0, 0, 0, 0.15);\n",
              "      filter: drop-shadow(0px 1px 2px rgba(0, 0, 0, 0.3));\n",
              "      fill: #FFFFFF;\n",
              "    }\n",
              "  </style>\n",
              "\n",
              "      <script>\n",
              "        const buttonEl =\n",
              "          document.querySelector('#df-0a95cf1b-6db7-44a6-ac15-c7c6f82cc4a6 button.colab-df-convert');\n",
              "        buttonEl.style.display =\n",
              "          google.colab.kernel.accessAllowed ? 'block' : 'none';\n",
              "\n",
              "        async function convertToInteractive(key) {\n",
              "          const element = document.querySelector('#df-0a95cf1b-6db7-44a6-ac15-c7c6f82cc4a6');\n",
              "          const dataTable =\n",
              "            await google.colab.kernel.invokeFunction('convertToInteractive',\n",
              "                                                     [key], {});\n",
              "          if (!dataTable) return;\n",
              "\n",
              "          const docLinkHtml = 'Like what you see? Visit the ' +\n",
              "            '<a target=\"_blank\" href=https://colab.research.google.com/notebooks/data_table.ipynb>data table notebook</a>'\n",
              "            + ' to learn more about interactive tables.';\n",
              "          element.innerHTML = '';\n",
              "          dataTable['output_type'] = 'display_data';\n",
              "          await google.colab.output.renderOutput(dataTable, element);\n",
              "          const docLink = document.createElement('div');\n",
              "          docLink.innerHTML = docLinkHtml;\n",
              "          element.appendChild(docLink);\n",
              "        }\n",
              "      </script>\n",
              "    </div>\n",
              "  </div>\n",
              "  "
            ],
            "text/plain": [
              "           rating\n",
              "item_id          \n",
              "1        3.878319\n",
              "2        3.206107\n",
              "3        3.033333\n",
              "4        3.550239\n",
              "5        3.302326"
            ]
          },
          "metadata": {},
          "execution_count": 40
        }
      ]
    },
    {
      "cell_type": "code",
      "source": [
        "ax = df_data.groupby('rating').size().plot(kind='pie',figsize=(20,8),title='Proportions of the ratings in the dataset')\n",
        "ax.get_yaxis().set_visible(False)\n",
        "plt.show()"
      ],
      "metadata": {
        "colab": {
          "base_uri": "https://localhost:8080/",
          "height": 482
        },
        "id": "_Cj_48RncO7B",
        "outputId": "569422fe-8ec8-49d2-ccca-57f2713a009d"
      },
      "execution_count": null,
      "outputs": [
        {
          "output_type": "display_data",
          "data": {
            "image/png": "[encoded data removed]",
            "text/plain": [
              "<Figure size 1440x576 with 1 Axes>"
            ]
          },
          "metadata": {}
        }
      ]
    },
    {
      "cell_type": "code",
      "source": [
        "genres = ['unknown', 'Action', 'Adventure', 'Animation', 'Children\\'s', 'Comedy', 'Crime', 'Documentary', 'Drama', 'Fantasy', \\\n",
        "          'Film-Noir', 'Horror', 'Musical', 'Mystery', 'Romance', 'Sci-Fi', 'Thriller', 'War', 'Western']\n",
        "df_melted = pd.melt(merged_df,id_vars=['rating','age'],value_vars=genres,var_name='genre')\n",
        "df_melted[:5]"
      ],
      "metadata": {
        "colab": {
          "base_uri": "https://localhost:8080/",
          "height": 206
        },
        "id": "UlP2GlFIcneM",
        "outputId": "ec7b06fd-d216-4f3c-aee0-4a02fac2d5a0"
      },
      "execution_count": null,
      "outputs": [
        {
          "output_type": "execute_result",
          "data": {
            "text/html": [
              "\n",
              "  <div id=\"df-ac978e1c-4f03-47b6-91b8-a6563982384f\">\n",
              "    <div class=\"colab-df-container\">\n",
              "      <div>\n",
              "<style scoped>\n",
              "    .dataframe tbody tr th:only-of-type {\n",
              "        vertical-align: middle;\n",
              "    }\n",
              "\n",
              "    .dataframe tbody tr th {\n",
              "        vertical-align: top;\n",
              "    }\n",
              "\n",
              "    .dataframe thead th {\n",
              "        text-align: right;\n",
              "    }\n",
              "</style>\n",
              "<table border=\"1\" class=\"dataframe\">\n",
              "  <thead>\n",
              "    <tr style=\"text-align: right;\">\n",
              "      <th></th>\n",
              "      <th>rating</th>\n",
              "      <th>age</th>\n",
              "      <th>genre</th>\n",
              "      <th>value</th>\n",
              "    </tr>\n",
              "  </thead>\n",
              "  <tbody>\n",
              "    <tr>\n",
              "      <th>0</th>\n",
              "      <td>3</td>\n",
              "      <td>49</td>\n",
              "      <td>unknown</td>\n",
              "      <td>0</td>\n",
              "    </tr>\n",
              "    <tr>\n",
              "      <th>1</th>\n",
              "      <td>3</td>\n",
              "      <td>39</td>\n",
              "      <td>unknown</td>\n",
              "      <td>0</td>\n",
              "    </tr>\n",
              "    <tr>\n",
              "      <th>2</th>\n",
              "      <td>1</td>\n",
              "      <td>25</td>\n",
              "      <td>unknown</td>\n",
              "      <td>0</td>\n",
              "    </tr>\n",
              "    <tr>\n",
              "      <th>3</th>\n",
              "      <td>2</td>\n",
              "      <td>28</td>\n",
              "      <td>unknown</td>\n",
              "      <td>0</td>\n",
              "    </tr>\n",
              "    <tr>\n",
              "      <th>4</th>\n",
              "      <td>1</td>\n",
              "      <td>47</td>\n",
              "      <td>unknown</td>\n",
              "      <td>0</td>\n",
              "    </tr>\n",
              "  </tbody>\n",
              "</table>\n",
              "</div>\n",
              "      <button class=\"colab-df-convert\" onclick=\"convertToInteractive('df-ac978e1c-4f03-47b6-91b8-a6563982384f')\"\n",
              "              title=\"Convert this dataframe to an interactive table.\"\n",
              "              style=\"display:none;\">\n",
              "        \n",
              "  <svg xmlns=\"http://www.w3.org/2000/svg\" height=\"24px\"viewBox=\"0 0 24 24\"\n",
              "       width=\"24px\">\n",
              "    <path d=\"M0 0h24v24H0V0z\" fill=\"none\"/>\n",
              "    <path d=\"M18.56 5.44l.94 2.06.94-2.06 2.06-.94-2.06-.94-.94-2.06-.94 2.06-2.06.94zm-11 1L8.5 8.5l.94-2.06 2.06-.94-2.06-.94L8.5 2.5l-.94 2.06-2.06.94zm10 10l.94 2.06.94-2.06 2.06-.94-2.06-.94-.94-2.06-.94 2.06-2.06.94z\"/><path d=\"M17.41 7.96l-1.37-1.37c-.4-.4-.92-.59-1.43-.59-.52 0-1.04.2-1.43.59L10.3 9.45l-7.72 7.72c-.78.78-.78 2.05 0 2.83L4 21.41c.39.39.9.59 1.41.59.51 0 1.02-.2 1.41-.59l7.78-7.78 2.81-2.81c.8-.78.8-2.07 0-2.86zM5.41 20L4 18.59l7.72-7.72 1.47 1.35L5.41 20z\"/>\n",
              "  </svg>\n",
              "      </button>\n",
              "      \n",
              "  <style>\n",
              "    .colab-df-container {\n",
              "      display:flex;\n",
              "      flex-wrap:wrap;\n",
              "      gap: 12px;\n",
              "    }\n",
              "\n",
              "    .colab-df-convert {\n",
              "      background-color: #E8F0FE;\n",
              "      border: none;\n",
              "      border-radius: 50%;\n",
              "      cursor: pointer;\n",
              "      display: none;\n",
              "      fill: #1967D2;\n",
              "      height: 32px;\n",
              "      padding: 0 0 0 0;\n",
              "      width: 32px;\n",
              "    }\n",
              "\n",
              "    .colab-df-convert:hover {\n",
              "      background-color: #E2EBFA;\n",
              "      box-shadow: 0px 1px 2px rgba(60, 64, 67, 0.3), 0px 1px 3px 1px rgba(60, 64, 67, 0.15);\n",
              "      fill: #174EA6;\n",
              "    }\n",
              "\n",
              "    [theme=dark] .colab-df-convert {\n",
              "      background-color: #3B4455;\n",
              "      fill: #D2E3FC;\n",
              "    }\n",
              "\n",
              "    [theme=dark] .colab-df-convert:hover {\n",
              "      background-color: #434B5C;\n",
              "      box-shadow: 0px 1px 3px 1px rgba(0, 0, 0, 0.15);\n",
              "      filter: drop-shadow(0px 1px 2px rgba(0, 0, 0, 0.3));\n",
              "      fill: #FFFFFF;\n",
              "    }\n",
              "  </style>\n",
              "\n",
              "      <script>\n",
              "        const buttonEl =\n",
              "          document.querySelector('#df-ac978e1c-4f03-47b6-91b8-a6563982384f button.colab-df-convert');\n",
              "        buttonEl.style.display =\n",
              "          google.colab.kernel.accessAllowed ? 'block' : 'none';\n",
              "\n",
              "        async function convertToInteractive(key) {\n",
              "          const element = document.querySelector('#df-ac978e1c-4f03-47b6-91b8-a6563982384f');\n",
              "          const dataTable =\n",
              "            await google.colab.kernel.invokeFunction('convertToInteractive',\n",
              "                                                     [key], {});\n",
              "          if (!dataTable) return;\n",
              "\n",
              "          const docLinkHtml = 'Like what you see? Visit the ' +\n",
              "            '<a target=\"_blank\" href=https://colab.research.google.com/notebooks/data_table.ipynb>data table notebook</a>'\n",
              "            + ' to learn more about interactive tables.';\n",
              "          element.innerHTML = '';\n",
              "          dataTable['output_type'] = 'display_data';\n",
              "          await google.colab.output.renderOutput(dataTable, element);\n",
              "          const docLink = document.createElement('div');\n",
              "          docLink.innerHTML = docLinkHtml;\n",
              "          element.appendChild(docLink);\n",
              "        }\n",
              "      </script>\n",
              "    </div>\n",
              "  </div>\n",
              "  "
            ],
            "text/plain": [
              "   rating  age    genre  value\n",
              "0       3   49  unknown      0\n",
              "1       3   39  unknown      0\n",
              "2       1   25  unknown      0\n",
              "3       2   28  unknown      0\n",
              "4       1   47  unknown      0"
            ]
          },
          "metadata": {},
          "execution_count": 42
        }
      ]
    },
    {
      "cell_type": "code",
      "source": [
        "df_genres_rating = df_melted[df_melted['value'] == 1].groupby('genre').agg({'rating':'mean'})\n",
        "ax = df_genres_rating.sort_values(by='rating',ascending=False).plot(kind='bar',title='Average ratings across genres')\n",
        "ax.set_ylabel('Average rating')\n",
        "plt.show()"
      ],
      "metadata": {
        "colab": {
          "base_uri": "https://localhost:8080/",
          "height": 353
        },
        "id": "AodXrvuZJZ88",
        "outputId": "5f8fa7ec-1ef8-4234-95fb-661d14f67ce2"
      },
      "execution_count": null,
      "outputs": [
        {
          "output_type": "display_data",
          "data": {
            "image/png": "[encoded data removed]",
            "text/plain": [
              "<Figure size 432x288 with 1 Axes>"
            ]
          },
          "metadata": {
            "needs_background": "light"
          }
        }
      ]
    },
    {
      "cell_type": "code",
      "source": [
        "df_genres_age = df_melted[df_melted['value'] == 1]\n",
        "df_genres_age[:5]"
      ],
      "metadata": {
        "colab": {
          "base_uri": "https://localhost:8080/",
          "height": 206
        },
        "id": "CPgdWdM5JulD",
        "outputId": "70537090-f5de-45f7-ac7b-45717ab2a599"
      },
      "execution_count": null,
      "outputs": [
        {
          "output_type": "execute_result",
          "data": {
            "text/html": [
              "\n",
              "  <div id=\"df-5809cef4-cb0b-443e-a81c-ad2959eacd23\">\n",
              "    <div class=\"colab-df-container\">\n",
              "      <div>\n",
              "<style scoped>\n",
              "    .dataframe tbody tr th:only-of-type {\n",
              "        vertical-align: middle;\n",
              "    }\n",
              "\n",
              "    .dataframe tbody tr th {\n",
              "        vertical-align: top;\n",
              "    }\n",
              "\n",
              "    .dataframe thead th {\n",
              "        text-align: right;\n",
              "    }\n",
              "</style>\n",
              "<table border=\"1\" class=\"dataframe\">\n",
              "  <thead>\n",
              "    <tr style=\"text-align: right;\">\n",
              "      <th></th>\n",
              "      <th>rating</th>\n",
              "      <th>age</th>\n",
              "      <th>genre</th>\n",
              "      <th>value</th>\n",
              "    </tr>\n",
              "  </thead>\n",
              "  <tbody>\n",
              "    <tr>\n",
              "      <th>2172</th>\n",
              "      <td>5</td>\n",
              "      <td>20</td>\n",
              "      <td>unknown</td>\n",
              "      <td>1</td>\n",
              "    </tr>\n",
              "    <tr>\n",
              "      <th>3781</th>\n",
              "      <td>4</td>\n",
              "      <td>33</td>\n",
              "      <td>unknown</td>\n",
              "      <td>1</td>\n",
              "    </tr>\n",
              "    <tr>\n",
              "      <th>7245</th>\n",
              "      <td>3</td>\n",
              "      <td>24</td>\n",
              "      <td>unknown</td>\n",
              "      <td>1</td>\n",
              "    </tr>\n",
              "    <tr>\n",
              "      <th>8567</th>\n",
              "      <td>1</td>\n",
              "      <td>26</td>\n",
              "      <td>unknown</td>\n",
              "      <td>1</td>\n",
              "    </tr>\n",
              "    <tr>\n",
              "      <th>12475</th>\n",
              "      <td>3</td>\n",
              "      <td>29</td>\n",
              "      <td>unknown</td>\n",
              "      <td>1</td>\n",
              "    </tr>\n",
              "  </tbody>\n",
              "</table>\n",
              "</div>\n",
              "      <button class=\"colab-df-convert\" onclick=\"convertToInteractive('df-5809cef4-cb0b-443e-a81c-ad2959eacd23')\"\n",
              "              title=\"Convert this dataframe to an interactive table.\"\n",
              "              style=\"display:none;\">\n",
              "        \n",
              "  <svg xmlns=\"http://www.w3.org/2000/svg\" height=\"24px\"viewBox=\"0 0 24 24\"\n",
              "       width=\"24px\">\n",
              "    <path d=\"M0 0h24v24H0V0z\" fill=\"none\"/>\n",
              "    <path d=\"M18.56 5.44l.94 2.06.94-2.06 2.06-.94-2.06-.94-.94-2.06-.94 2.06-2.06.94zm-11 1L8.5 8.5l.94-2.06 2.06-.94-2.06-.94L8.5 2.5l-.94 2.06-2.06.94zm10 10l.94 2.06.94-2.06 2.06-.94-2.06-.94-.94-2.06-.94 2.06-2.06.94z\"/><path d=\"M17.41 7.96l-1.37-1.37c-.4-.4-.92-.59-1.43-.59-.52 0-1.04.2-1.43.59L10.3 9.45l-7.72 7.72c-.78.78-.78 2.05 0 2.83L4 21.41c.39.39.9.59 1.41.59.51 0 1.02-.2 1.41-.59l7.78-7.78 2.81-2.81c.8-.78.8-2.07 0-2.86zM5.41 20L4 18.59l7.72-7.72 1.47 1.35L5.41 20z\"/>\n",
              "  </svg>\n",
              "      </button>\n",
              "      \n",
              "  <style>\n",
              "    .colab-df-container {\n",
              "      display:flex;\n",
              "      flex-wrap:wrap;\n",
              "      gap: 12px;\n",
              "    }\n",
              "\n",
              "    .colab-df-convert {\n",
              "      background-color: #E8F0FE;\n",
              "      border: none;\n",
              "      border-radius: 50%;\n",
              "      cursor: pointer;\n",
              "      display: none;\n",
              "      fill: #1967D2;\n",
              "      height: 32px;\n",
              "      padding: 0 0 0 0;\n",
              "      width: 32px;\n",
              "    }\n",
              "\n",
              "    .colab-df-convert:hover {\n",
              "      background-color: #E2EBFA;\n",
              "      box-shadow: 0px 1px 2px rgba(60, 64, 67, 0.3), 0px 1px 3px 1px rgba(60, 64, 67, 0.15);\n",
              "      fill: #174EA6;\n",
              "    }\n",
              "\n",
              "    [theme=dark] .colab-df-convert {\n",
              "      background-color: #3B4455;\n",
              "      fill: #D2E3FC;\n",
              "    }\n",
              "\n",
              "    [theme=dark] .colab-df-convert:hover {\n",
              "      background-color: #434B5C;\n",
              "      box-shadow: 0px 1px 3px 1px rgba(0, 0, 0, 0.15);\n",
              "      filter: drop-shadow(0px 1px 2px rgba(0, 0, 0, 0.3));\n",
              "      fill: #FFFFFF;\n",
              "    }\n",
              "  </style>\n",
              "\n",
              "      <script>\n",
              "        const buttonEl =\n",
              "          document.querySelector('#df-5809cef4-cb0b-443e-a81c-ad2959eacd23 button.colab-df-convert');\n",
              "        buttonEl.style.display =\n",
              "          google.colab.kernel.accessAllowed ? 'block' : 'none';\n",
              "\n",
              "        async function convertToInteractive(key) {\n",
              "          const element = document.querySelector('#df-5809cef4-cb0b-443e-a81c-ad2959eacd23');\n",
              "          const dataTable =\n",
              "            await google.colab.kernel.invokeFunction('convertToInteractive',\n",
              "                                                     [key], {});\n",
              "          if (!dataTable) return;\n",
              "\n",
              "          const docLinkHtml = 'Like what you see? Visit the ' +\n",
              "            '<a target=\"_blank\" href=https://colab.research.google.com/notebooks/data_table.ipynb>data table notebook</a>'\n",
              "            + ' to learn more about interactive tables.';\n",
              "          element.innerHTML = '';\n",
              "          dataTable['output_type'] = 'display_data';\n",
              "          await google.colab.output.renderOutput(dataTable, element);\n",
              "          const docLink = document.createElement('div');\n",
              "          docLink.innerHTML = docLinkHtml;\n",
              "          element.appendChild(docLink);\n",
              "        }\n",
              "      </script>\n",
              "    </div>\n",
              "  </div>\n",
              "  "
            ],
            "text/plain": [
              "       rating  age    genre  value\n",
              "2172        5   20  unknown      1\n",
              "3781        4   33  unknown      1\n",
              "7245        3   24  unknown      1\n",
              "8567        1   26  unknown      1\n",
              "12475       3   29  unknown      1"
            ]
          },
          "metadata": {},
          "execution_count": 104
        }
      ]
    },
    {
      "cell_type": "code",
      "source": [
        "df_genres_age['age_group'] = pd.cut(df_genres_age['age'].values, bins=[0,20,40,60,100],labels=[\"0-20\",\"20-40\",\"40-60\",'60-100'])\n",
        "ax = df_genres_age.groupby(['genre','age_group'],group_keys=False).agg({'rating':'mean'}).fillna(0).reset_index().pivot(index='genre', columns='age_group', values='rating').plot(kind='bar',figsize=(20,8))\n",
        "ax.set_ylabel('Average rating')\n",
        "ax.set_title('Ratings across genres and age groups')\n",
        "plt.show()"
      ],
      "metadata": {
        "colab": {
          "base_uri": "https://localhost:8080/",
          "height": 671
        },
        "id": "Rntl7I1jRWJr",
        "outputId": "3fbb8c50-057d-4d9f-f70b-ef076b424e7b"
      },
      "execution_count": null,
      "outputs": [
        {
          "output_type": "stream",
          "name": "stderr",
          "text": [
            "/usr/local/lib/python3.7/dist-packages/ipykernel_launcher.py:1: SettingWithCopyWarning: \n",
            "A value is trying to be set on a copy of a slice from a DataFrame.\n",
            "Try using .loc[row_indexer,col_indexer] = value instead\n",
            "\n",
            "See the caveats in the documentation: https://pandas.pydata.org/pandas-docs/stable/user_guide/indexing.html#returning-a-view-versus-a-copy\n",
            "  \"\"\"Entry point for launching an IPython kernel.\n"
          ]
        },
        {
          "output_type": "display_data",
          "data": {
            "image/png": "[encoded data removed]",
            "text/plain": [
              "<Figure size 1440x576 with 1 Axes>"
            ]
          },
          "metadata": {
            "needs_background": "light"
          }
        }
      ]
    },
    {
      "cell_type": "markdown",
      "source": [
        "### Exercise 2: Implementing basic matrix factorization (MF) technique for recommender systems"
      ],
      "metadata": {
        "id": "yV5v3cntKlWB"
      }
    },
    {
      "cell_type": "markdown",
      "source": [
        "![image.png](data:image/png;base64,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)"
      ],
      "metadata": {
        "id": "D5bFRjWt21jd"
      }
    },
    {
      "cell_type": "markdown",
      "source": [
        "Latent factors represent categories that are present in the data. Matrix P represents the preferences or affinity of the users toward all of the latent factors. Matrix Q represents the affinity of the items toward all of the latent factors"
      ],
      "metadata": {
        "id": "V0JNRHQH3auM"
      }
    },
    {
      "cell_type": "markdown",
      "source": [
        "Dataset preprocessing"
      ],
      "metadata": {
        "id": "koTCR7WDGTsE"
      }
    },
    {
      "cell_type": "code",
      "source": [
        "rating = df_data['rating']\n",
        "df_data_normalized = df_data[['user_id','item_id','rating']]\n",
        "normalized_rating = (rating-rating.mean())/rating.std() #normalization of the ratings\n",
        "df_data_normalized['rating'] = normalized_rating\n",
        "df_data_normalized[:5]"
      ],
      "metadata": {
        "colab": {
          "base_uri": "https://localhost:8080/",
          "height": 310
        },
        "id": "AmdR5Sa2MEZU",
        "outputId": "395e37ea-6403-413f-e02d-be50afa7a26f"
      },
      "execution_count": null,
      "outputs": [
        {
          "output_type": "stream",
          "name": "stderr",
          "text": [
            "/usr/local/lib/python3.7/dist-packages/ipykernel_launcher.py:4: SettingWithCopyWarning: \n",
            "A value is trying to be set on a copy of a slice from a DataFrame.\n",
            "Try using .loc[row_indexer,col_indexer] = value instead\n",
            "\n",
            "See the caveats in the documentation: https://pandas.pydata.org/pandas-docs/stable/user_guide/indexing.html#returning-a-view-versus-a-copy\n",
            "  after removing the cwd from sys.path.\n"
          ]
        },
        {
          "output_type": "execute_result",
          "data": {
            "text/html": [
              "\n",
              "  <div id=\"df-181e5599-0733-41d8-9a23-2b9a5bc0ef45\">\n",
              "    <div class=\"colab-df-container\">\n",
              "      <div>\n",
              "<style scoped>\n",
              "    .dataframe tbody tr th:only-of-type {\n",
              "        vertical-align: middle;\n",
              "    }\n",
              "\n",
              "    .dataframe tbody tr th {\n",
              "        vertical-align: top;\n",
              "    }\n",
              "\n",
              "    .dataframe thead th {\n",
              "        text-align: right;\n",
              "    }\n",
              "</style>\n",
              "<table border=\"1\" class=\"dataframe\">\n",
              "  <thead>\n",
              "    <tr style=\"text-align: right;\">\n",
              "      <th></th>\n",
              "      <th>user_id</th>\n",
              "      <th>item_id</th>\n",
              "      <th>rating</th>\n",
              "    </tr>\n",
              "  </thead>\n",
              "  <tbody>\n",
              "    <tr>\n",
              "      <th>0</th>\n",
              "      <td>196</td>\n",
              "      <td>242</td>\n",
              "      <td>-0.470705</td>\n",
              "    </tr>\n",
              "    <tr>\n",
              "      <th>1</th>\n",
              "      <td>186</td>\n",
              "      <td>302</td>\n",
              "      <td>-0.470705</td>\n",
              "    </tr>\n",
              "    <tr>\n",
              "      <th>2</th>\n",
              "      <td>22</td>\n",
              "      <td>377</td>\n",
              "      <td>-2.247419</td>\n",
              "    </tr>\n",
              "    <tr>\n",
              "      <th>3</th>\n",
              "      <td>244</td>\n",
              "      <td>51</td>\n",
              "      <td>-1.359062</td>\n",
              "    </tr>\n",
              "    <tr>\n",
              "      <th>4</th>\n",
              "      <td>166</td>\n",
              "      <td>346</td>\n",
              "      <td>-2.247419</td>\n",
              "    </tr>\n",
              "  </tbody>\n",
              "</table>\n",
              "</div>\n",
              "      <button class=\"colab-df-convert\" onclick=\"convertToInteractive('df-181e5599-0733-41d8-9a23-2b9a5bc0ef45')\"\n",
              "              title=\"Convert this dataframe to an interactive table.\"\n",
              "              style=\"display:none;\">\n",
              "        \n",
              "  <svg xmlns=\"http://www.w3.org/2000/svg\" height=\"24px\"viewBox=\"0 0 24 24\"\n",
              "       width=\"24px\">\n",
              "    <path d=\"M0 0h24v24H0V0z\" fill=\"none\"/>\n",
              "    <path d=\"M18.56 5.44l.94 2.06.94-2.06 2.06-.94-2.06-.94-.94-2.06-.94 2.06-2.06.94zm-11 1L8.5 8.5l.94-2.06 2.06-.94-2.06-.94L8.5 2.5l-.94 2.06-2.06.94zm10 10l.94 2.06.94-2.06 2.06-.94-2.06-.94-.94-2.06-.94 2.06-2.06.94z\"/><path d=\"M17.41 7.96l-1.37-1.37c-.4-.4-.92-.59-1.43-.59-.52 0-1.04.2-1.43.59L10.3 9.45l-7.72 7.72c-.78.78-.78 2.05 0 2.83L4 21.41c.39.39.9.59 1.41.59.51 0 1.02-.2 1.41-.59l7.78-7.78 2.81-2.81c.8-.78.8-2.07 0-2.86zM5.41 20L4 18.59l7.72-7.72 1.47 1.35L5.41 20z\"/>\n",
              "  </svg>\n",
              "      </button>\n",
              "      \n",
              "  <style>\n",
              "    .colab-df-container {\n",
              "      display:flex;\n",
              "      flex-wrap:wrap;\n",
              "      gap: 12px;\n",
              "    }\n",
              "\n",
              "    .colab-df-convert {\n",
              "      background-color: #E8F0FE;\n",
              "      border: none;\n",
              "      border-radius: 50%;\n",
              "      cursor: pointer;\n",
              "      display: none;\n",
              "      fill: #1967D2;\n",
              "      height: 32px;\n",
              "      padding: 0 0 0 0;\n",
              "      width: 32px;\n",
              "    }\n",
              "\n",
              "    .colab-df-convert:hover {\n",
              "      background-color: #E2EBFA;\n",
              "      box-shadow: 0px 1px 2px rgba(60, 64, 67, 0.3), 0px 1px 3px 1px rgba(60, 64, 67, 0.15);\n",
              "      fill: #174EA6;\n",
              "    }\n",
              "\n",
              "    [theme=dark] .colab-df-convert {\n",
              "      background-color: #3B4455;\n",
              "      fill: #D2E3FC;\n",
              "    }\n",
              "\n",
              "    [theme=dark] .colab-df-convert:hover {\n",
              "      background-color: #434B5C;\n",
              "      box-shadow: 0px 1px 3px 1px rgba(0, 0, 0, 0.15);\n",
              "      filter: drop-shadow(0px 1px 2px rgba(0, 0, 0, 0.3));\n",
              "      fill: #FFFFFF;\n",
              "    }\n",
              "  </style>\n",
              "\n",
              "      <script>\n",
              "        const buttonEl =\n",
              "          document.querySelector('#df-181e5599-0733-41d8-9a23-2b9a5bc0ef45 button.colab-df-convert');\n",
              "        buttonEl.style.display =\n",
              "          google.colab.kernel.accessAllowed ? 'block' : 'none';\n",
              "\n",
              "        async function convertToInteractive(key) {\n",
              "          const element = document.querySelector('#df-181e5599-0733-41d8-9a23-2b9a5bc0ef45');\n",
              "          const dataTable =\n",
              "            await google.colab.kernel.invokeFunction('convertToInteractive',\n",
              "                                                     [key], {});\n",
              "          if (!dataTable) return;\n",
              "\n",
              "          const docLinkHtml = 'Like what you see? Visit the ' +\n",
              "            '<a target=\"_blank\" href=https://colab.research.google.com/notebooks/data_table.ipynb>data table notebook</a>'\n",
              "            + ' to learn more about interactive tables.';\n",
              "          element.innerHTML = '';\n",
              "          dataTable['output_type'] = 'display_data';\n",
              "          await google.colab.output.renderOutput(dataTable, element);\n",
              "          const docLink = document.createElement('div');\n",
              "          docLink.innerHTML = docLinkHtml;\n",
              "          element.appendChild(docLink);\n",
              "        }\n",
              "      </script>\n",
              "    </div>\n",
              "  </div>\n",
              "  "
            ],
            "text/plain": [
              "   user_id  item_id    rating\n",
              "0      196      242 -0.470705\n",
              "1      186      302 -0.470705\n",
              "2       22      377 -2.247419\n",
              "3      244       51 -1.359062\n",
              "4      166      346 -2.247419"
            ]
          },
          "metadata": {},
          "execution_count": 371
        }
      ]
    },
    {
      "cell_type": "markdown",
      "source": [
        "Getting matrix R"
      ],
      "metadata": {
        "id": "WX6besNQ5jAU"
      }
    },
    {
      "cell_type": "code",
      "source": [
        "pivot_df = pd.pivot_table(df_data_normalized,index='user_id', columns='item_id', values='rating',aggfunc=np.mean)\n",
        "pivot_df.iloc[:5,:5]"
      ],
      "metadata": {
        "colab": {
          "base_uri": "https://localhost:8080/",
          "height": 237
        },
        "id": "NqfLDcYXKkwv",
        "outputId": "5f210cd6-8ad5-45ef-8e2e-844c5ec60301"
      },
      "execution_count": null,
      "outputs": [
        {
          "output_type": "execute_result",
          "data": {
            "text/html": [
              "\n",
              "  <div id=\"df-02cb2541-f6b2-47bd-99a3-039de60665b5\">\n",
              "    <div class=\"colab-df-container\">\n",
              "      <div>\n",
              "<style scoped>\n",
              "    .dataframe tbody tr th:only-of-type {\n",
              "        vertical-align: middle;\n",
              "    }\n",
              "\n",
              "    .dataframe tbody tr th {\n",
              "        vertical-align: top;\n",
              "    }\n",
              "\n",
              "    .dataframe thead th {\n",
              "        text-align: right;\n",
              "    }\n",
              "</style>\n",
              "<table border=\"1\" class=\"dataframe\">\n",
              "  <thead>\n",
              "    <tr style=\"text-align: right;\">\n",
              "      <th>item_id</th>\n",
              "      <th>1</th>\n",
              "      <th>2</th>\n",
              "      <th>3</th>\n",
              "      <th>4</th>\n",
              "      <th>5</th>\n",
              "    </tr>\n",
              "    <tr>\n",
              "      <th>user_id</th>\n",
              "      <th></th>\n",
              "      <th></th>\n",
              "      <th></th>\n",
              "      <th></th>\n",
              "      <th></th>\n",
              "    </tr>\n",
              "  </thead>\n",
              "  <tbody>\n",
              "    <tr>\n",
              "      <th>1</th>\n",
              "      <td>1.306009</td>\n",
              "      <td>-0.470705</td>\n",
              "      <td>0.417652</td>\n",
              "      <td>-0.470705</td>\n",
              "      <td>-0.470705</td>\n",
              "    </tr>\n",
              "    <tr>\n",
              "      <th>2</th>\n",
              "      <td>0.417652</td>\n",
              "      <td>NaN</td>\n",
              "      <td>NaN</td>\n",
              "      <td>NaN</td>\n",
              "      <td>NaN</td>\n",
              "    </tr>\n",
              "    <tr>\n",
              "      <th>3</th>\n",
              "      <td>NaN</td>\n",
              "      <td>NaN</td>\n",
              "      <td>NaN</td>\n",
              "      <td>NaN</td>\n",
              "      <td>NaN</td>\n",
              "    </tr>\n",
              "    <tr>\n",
              "      <th>4</th>\n",
              "      <td>NaN</td>\n",
              "      <td>NaN</td>\n",
              "      <td>NaN</td>\n",
              "      <td>NaN</td>\n",
              "      <td>NaN</td>\n",
              "    </tr>\n",
              "    <tr>\n",
              "      <th>5</th>\n",
              "      <td>0.417652</td>\n",
              "      <td>-0.470705</td>\n",
              "      <td>NaN</td>\n",
              "      <td>NaN</td>\n",
              "      <td>NaN</td>\n",
              "    </tr>\n",
              "  </tbody>\n",
              "</table>\n",
              "</div>\n",
              "      <button class=\"colab-df-convert\" onclick=\"convertToInteractive('df-02cb2541-f6b2-47bd-99a3-039de60665b5')\"\n",
              "              title=\"Convert this dataframe to an interactive table.\"\n",
              "              style=\"display:none;\">\n",
              "        \n",
              "  <svg xmlns=\"http://www.w3.org/2000/svg\" height=\"24px\"viewBox=\"0 0 24 24\"\n",
              "       width=\"24px\">\n",
              "    <path d=\"M0 0h24v24H0V0z\" fill=\"none\"/>\n",
              "    <path d=\"M18.56 5.44l.94 2.06.94-2.06 2.06-.94-2.06-.94-.94-2.06-.94 2.06-2.06.94zm-11 1L8.5 8.5l.94-2.06 2.06-.94-2.06-.94L8.5 2.5l-.94 2.06-2.06.94zm10 10l.94 2.06.94-2.06 2.06-.94-2.06-.94-.94-2.06-.94 2.06-2.06.94z\"/><path d=\"M17.41 7.96l-1.37-1.37c-.4-.4-.92-.59-1.43-.59-.52 0-1.04.2-1.43.59L10.3 9.45l-7.72 7.72c-.78.78-.78 2.05 0 2.83L4 21.41c.39.39.9.59 1.41.59.51 0 1.02-.2 1.41-.59l7.78-7.78 2.81-2.81c.8-.78.8-2.07 0-2.86zM5.41 20L4 18.59l7.72-7.72 1.47 1.35L5.41 20z\"/>\n",
              "  </svg>\n",
              "      </button>\n",
              "      \n",
              "  <style>\n",
              "    .colab-df-container {\n",
              "      display:flex;\n",
              "      flex-wrap:wrap;\n",
              "      gap: 12px;\n",
              "    }\n",
              "\n",
              "    .colab-df-convert {\n",
              "      background-color: #E8F0FE;\n",
              "      border: none;\n",
              "      border-radius: 50%;\n",
              "      cursor: pointer;\n",
              "      display: none;\n",
              "      fill: #1967D2;\n",
              "      height: 32px;\n",
              "      padding: 0 0 0 0;\n",
              "      width: 32px;\n",
              "    }\n",
              "\n",
              "    .colab-df-convert:hover {\n",
              "      background-color: #E2EBFA;\n",
              "      box-shadow: 0px 1px 2px rgba(60, 64, 67, 0.3), 0px 1px 3px 1px rgba(60, 64, 67, 0.15);\n",
              "      fill: #174EA6;\n",
              "    }\n",
              "\n",
              "    [theme=dark] .colab-df-convert {\n",
              "      background-color: #3B4455;\n",
              "      fill: #D2E3FC;\n",
              "    }\n",
              "\n",
              "    [theme=dark] .colab-df-convert:hover {\n",
              "      background-color: #434B5C;\n",
              "      box-shadow: 0px 1px 3px 1px rgba(0, 0, 0, 0.15);\n",
              "      filter: drop-shadow(0px 1px 2px rgba(0, 0, 0, 0.3));\n",
              "      fill: #FFFFFF;\n",
              "    }\n",
              "  </style>\n",
              "\n",
              "      <script>\n",
              "        const buttonEl =\n",
              "          document.querySelector('#df-02cb2541-f6b2-47bd-99a3-039de60665b5 button.colab-df-convert');\n",
              "        buttonEl.style.display =\n",
              "          google.colab.kernel.accessAllowed ? 'block' : 'none';\n",
              "\n",
              "        async function convertToInteractive(key) {\n",
              "          const element = document.querySelector('#df-02cb2541-f6b2-47bd-99a3-039de60665b5');\n",
              "          const dataTable =\n",
              "            await google.colab.kernel.invokeFunction('convertToInteractive',\n",
              "                                                     [key], {});\n",
              "          if (!dataTable) return;\n",
              "\n",
              "          const docLinkHtml = 'Like what you see? Visit the ' +\n",
              "            '<a target=\"_blank\" href=https://colab.research.google.com/notebooks/data_table.ipynb>data table notebook</a>'\n",
              "            + ' to learn more about interactive tables.';\n",
              "          element.innerHTML = '';\n",
              "          dataTable['output_type'] = 'display_data';\n",
              "          await google.colab.output.renderOutput(dataTable, element);\n",
              "          const docLink = document.createElement('div');\n",
              "          docLink.innerHTML = docLinkHtml;\n",
              "          element.appendChild(docLink);\n",
              "        }\n",
              "      </script>\n",
              "    </div>\n",
              "  </div>\n",
              "  "
            ],
            "text/plain": [
              "item_id         1         2         3         4         5\n",
              "user_id                                                  \n",
              "1        1.306009 -0.470705  0.417652 -0.470705 -0.470705\n",
              "2        0.417652       NaN       NaN       NaN       NaN\n",
              "3             NaN       NaN       NaN       NaN       NaN\n",
              "4             NaN       NaN       NaN       NaN       NaN\n",
              "5        0.417652 -0.470705       NaN       NaN       NaN"
            ]
          },
          "metadata": {},
          "execution_count": 372
        }
      ]
    },
    {
      "cell_type": "code",
      "source": [
        "pivot_df.info()"
      ],
      "metadata": {
        "colab": {
          "base_uri": "https://localhost:8080/"
        },
        "id": "mLJsV8J_b4LH",
        "outputId": "32c101ea-391c-4368-d336-52cbc8051181"
      },
      "execution_count": null,
      "outputs": [
        {
          "output_type": "stream",
          "name": "stdout",
          "text": [
            "<class 'pandas.core.frame.DataFrame'>\n",
            "Int64Index: 943 entries, 1 to 943\n",
            "Columns: 1682 entries, 1 to 1682\n",
            "dtypes: float64(1682)\n",
            "memory usage: 12.1 MB\n"
          ]
        }
      ]
    },
    {
      "cell_type": "code",
      "source": [
        "#To check there are no duplicated records in the dataset\n",
        "pivot_df.duplicated().sum()"
      ],
      "metadata": {
        "colab": {
          "base_uri": "https://localhost:8080/"
        },
        "id": "3J8UGj89WO1S",
        "outputId": "cc4bf082-9690-4947-9eb6-fd85b6c8df61"
      },
      "execution_count": null,
      "outputs": [
        {
          "output_type": "execute_result",
          "data": {
            "text/plain": [
              "0"
            ]
          },
          "metadata": {},
          "execution_count": 374
        }
      ]
    },
    {
      "cell_type": "code",
      "source": [
        "NaNs = pivot_df.isna().sum().sum()\n",
        "# nNaNs = pivot_df.notna().sum().sum()\n",
        "pNaN = NaNs/pivot_df.size\n",
        "print('Proportion of NaN in the dataset:',pNaN)"
      ],
      "metadata": {
        "colab": {
          "base_uri": "https://localhost:8080/"
        },
        "id": "oPid_PDm3aO3",
        "outputId": "7da35e20-b239-4ecf-aad6-4b00df2cfbc4"
      },
      "execution_count": null,
      "outputs": [
        {
          "output_type": "stream",
          "name": "stdout",
          "text": [
            "Proportion of NaN in the dataset: 0.9369533063577546\n"
          ]
        }
      ]
    },
    {
      "cell_type": "markdown",
      "source": [
        "Dataset splitting"
      ],
      "metadata": {
        "id": "BkjNKsuDG3Lz"
      }
    },
    {
      "cell_type": "code",
      "source": [
        "# Input: dataframe, ratio of training data, ratio od validation data\n",
        "# Output: 2-3 dataframes split accordingly\n",
        "def data_partition(df,train_ratio,valid_ratio=None):\n",
        "  N, M = df.shape\n",
        "  df_sample = df.sample(frac=1,random_state=3116) #Return a random sample of items from an axis of object\n",
        "  split1 = int(N*train_ratio)\n",
        "  data_Train = df_sample[:split1]\n",
        "\n",
        "  if valid_ratio is None:\n",
        "    data_Test = df_sample[split1:]\n",
        "    return data_Train,data_Test\n",
        "  else:\n",
        "    split2 = int(N*(train_ratio+valid_ratio))\n",
        "    data_Valid = df_sample[split1:split2]\n",
        "    data_Test = df_sample[split2:]\n",
        "    return data_Train,data_Test,data_Valid"
      ],
      "metadata": {
        "id": "89arMJIBTJtJ"
      },
      "execution_count": null,
      "outputs": []
    },
    {
      "cell_type": "code",
      "source": [
        "data_Train,data_Test,data_Valid = data_partition(pivot_df,0.8,0.1)\n",
        "data_Train.shape\n",
        "r_df = pd.DataFrame(data=data_Train, index=pivot_df.index, columns=pivot_df.columns, dtype='float64')\n",
        "r_df.iloc[:5,:5]"
      ],
      "metadata": {
        "colab": {
          "base_uri": "https://localhost:8080/",
          "height": 237
        },
        "id": "eCAD4Y6mTYeJ",
        "outputId": "756aad09-5987-44cb-f926-762c6f2f65a9"
      },
      "execution_count": null,
      "outputs": [
        {
          "output_type": "execute_result",
          "data": {
            "text/html": [
              "\n",
              "  <div id=\"df-d2b8e9e9-f2ac-428b-9419-824de6b14f00\">\n",
              "    <div class=\"colab-df-container\">\n",
              "      <div>\n",
              "<style scoped>\n",
              "    .dataframe tbody tr th:only-of-type {\n",
              "        vertical-align: middle;\n",
              "    }\n",
              "\n",
              "    .dataframe tbody tr th {\n",
              "        vertical-align: top;\n",
              "    }\n",
              "\n",
              "    .dataframe thead th {\n",
              "        text-align: right;\n",
              "    }\n",
              "</style>\n",
              "<table border=\"1\" class=\"dataframe\">\n",
              "  <thead>\n",
              "    <tr style=\"text-align: right;\">\n",
              "      <th>item_id</th>\n",
              "      <th>1</th>\n",
              "      <th>2</th>\n",
              "      <th>3</th>\n",
              "      <th>4</th>\n",
              "      <th>5</th>\n",
              "    </tr>\n",
              "    <tr>\n",
              "      <th>user_id</th>\n",
              "      <th></th>\n",
              "      <th></th>\n",
              "      <th></th>\n",
              "      <th></th>\n",
              "      <th></th>\n",
              "    </tr>\n",
              "  </thead>\n",
              "  <tbody>\n",
              "    <tr>\n",
              "      <th>1</th>\n",
              "      <td>1.306009</td>\n",
              "      <td>-0.470705</td>\n",
              "      <td>0.417652</td>\n",
              "      <td>-0.470705</td>\n",
              "      <td>-0.470705</td>\n",
              "    </tr>\n",
              "    <tr>\n",
              "      <th>2</th>\n",
              "      <td>0.417652</td>\n",
              "      <td>NaN</td>\n",
              "      <td>NaN</td>\n",
              "      <td>NaN</td>\n",
              "      <td>NaN</td>\n",
              "    </tr>\n",
              "    <tr>\n",
              "      <th>3</th>\n",
              "      <td>NaN</td>\n",
              "      <td>NaN</td>\n",
              "      <td>NaN</td>\n",
              "      <td>NaN</td>\n",
              "      <td>NaN</td>\n",
              "    </tr>\n",
              "    <tr>\n",
              "      <th>4</th>\n",
              "      <td>NaN</td>\n",
              "      <td>NaN</td>\n",
              "      <td>NaN</td>\n",
              "      <td>NaN</td>\n",
              "      <td>NaN</td>\n",
              "    </tr>\n",
              "    <tr>\n",
              "      <th>5</th>\n",
              "      <td>0.417652</td>\n",
              "      <td>-0.470705</td>\n",
              "      <td>NaN</td>\n",
              "      <td>NaN</td>\n",
              "      <td>NaN</td>\n",
              "    </tr>\n",
              "  </tbody>\n",
              "</table>\n",
              "</div>\n",
              "      <button class=\"colab-df-convert\" onclick=\"convertToInteractive('df-d2b8e9e9-f2ac-428b-9419-824de6b14f00')\"\n",
              "              title=\"Convert this dataframe to an interactive table.\"\n",
              "              style=\"display:none;\">\n",
              "        \n",
              "  <svg xmlns=\"http://www.w3.org/2000/svg\" height=\"24px\"viewBox=\"0 0 24 24\"\n",
              "       width=\"24px\">\n",
              "    <path d=\"M0 0h24v24H0V0z\" fill=\"none\"/>\n",
              "    <path d=\"M18.56 5.44l.94 2.06.94-2.06 2.06-.94-2.06-.94-.94-2.06-.94 2.06-2.06.94zm-11 1L8.5 8.5l.94-2.06 2.06-.94-2.06-.94L8.5 2.5l-.94 2.06-2.06.94zm10 10l.94 2.06.94-2.06 2.06-.94-2.06-.94-.94-2.06-.94 2.06-2.06.94z\"/><path d=\"M17.41 7.96l-1.37-1.37c-.4-.4-.92-.59-1.43-.59-.52 0-1.04.2-1.43.59L10.3 9.45l-7.72 7.72c-.78.78-.78 2.05 0 2.83L4 21.41c.39.39.9.59 1.41.59.51 0 1.02-.2 1.41-.59l7.78-7.78 2.81-2.81c.8-.78.8-2.07 0-2.86zM5.41 20L4 18.59l7.72-7.72 1.47 1.35L5.41 20z\"/>\n",
              "  </svg>\n",
              "      </button>\n",
              "      \n",
              "  <style>\n",
              "    .colab-df-container {\n",
              "      display:flex;\n",
              "      flex-wrap:wrap;\n",
              "      gap: 12px;\n",
              "    }\n",
              "\n",
              "    .colab-df-convert {\n",
              "      background-color: #E8F0FE;\n",
              "      border: none;\n",
              "      border-radius: 50%;\n",
              "      cursor: pointer;\n",
              "      display: none;\n",
              "      fill: #1967D2;\n",
              "      height: 32px;\n",
              "      padding: 0 0 0 0;\n",
              "      width: 32px;\n",
              "    }\n",
              "\n",
              "    .colab-df-convert:hover {\n",
              "      background-color: #E2EBFA;\n",
              "      box-shadow: 0px 1px 2px rgba(60, 64, 67, 0.3), 0px 1px 3px 1px rgba(60, 64, 67, 0.15);\n",
              "      fill: #174EA6;\n",
              "    }\n",
              "\n",
              "    [theme=dark] .colab-df-convert {\n",
              "      background-color: #3B4455;\n",
              "      fill: #D2E3FC;\n",
              "    }\n",
              "\n",
              "    [theme=dark] .colab-df-convert:hover {\n",
              "      background-color: #434B5C;\n",
              "      box-shadow: 0px 1px 3px 1px rgba(0, 0, 0, 0.15);\n",
              "      filter: drop-shadow(0px 1px 2px rgba(0, 0, 0, 0.3));\n",
              "      fill: #FFFFFF;\n",
              "    }\n",
              "  </style>\n",
              "\n",
              "      <script>\n",
              "        const buttonEl =\n",
              "          document.querySelector('#df-d2b8e9e9-f2ac-428b-9419-824de6b14f00 button.colab-df-convert');\n",
              "        buttonEl.style.display =\n",
              "          google.colab.kernel.accessAllowed ? 'block' : 'none';\n",
              "\n",
              "        async function convertToInteractive(key) {\n",
              "          const element = document.querySelector('#df-d2b8e9e9-f2ac-428b-9419-824de6b14f00');\n",
              "          const dataTable =\n",
              "            await google.colab.kernel.invokeFunction('convertToInteractive',\n",
              "                                                     [key], {});\n",
              "          if (!dataTable) return;\n",
              "\n",
              "          const docLinkHtml = 'Like what you see? Visit the ' +\n",
              "            '<a target=\"_blank\" href=https://colab.research.google.com/notebooks/data_table.ipynb>data table notebook</a>'\n",
              "            + ' to learn more about interactive tables.';\n",
              "          element.innerHTML = '';\n",
              "          dataTable['output_type'] = 'display_data';\n",
              "          await google.colab.output.renderOutput(dataTable, element);\n",
              "          const docLink = document.createElement('div');\n",
              "          docLink.innerHTML = docLinkHtml;\n",
              "          element.appendChild(docLink);\n",
              "        }\n",
              "      </script>\n",
              "    </div>\n",
              "  </div>\n",
              "  "
            ],
            "text/plain": [
              "item_id         1         2         3         4         5\n",
              "user_id                                                  \n",
              "1        1.306009 -0.470705  0.417652 -0.470705 -0.470705\n",
              "2        0.417652       NaN       NaN       NaN       NaN\n",
              "3             NaN       NaN       NaN       NaN       NaN\n",
              "4             NaN       NaN       NaN       NaN       NaN\n",
              "5        0.417652 -0.470705       NaN       NaN       NaN"
            ]
          },
          "metadata": {},
          "execution_count": 376
        }
      ]
    },
    {
      "cell_type": "markdown",
      "source": [
        "Main functions"
      ],
      "metadata": {
        "id": "aDijAD-PG7lW"
      }
    },
    {
      "cell_type": "code",
      "source": [
        "def matrixFactorization(df, K, lr,lamda, epoch_max,verbose=False):\n",
        "  M,N = df.shape\n",
        "  np.random.seed(3116)\n",
        "  P = np.random.standard_normal((M,K)) #initialization with vector drawn from normal distribution with mean 0 and standard deviation 1\n",
        "  Q = np.random.standard_normal((N,K))\n",
        "  r = df.to_numpy()\n",
        "  nNaNs = df.notna().sum().sum()\n",
        "  for epoch in range(epoch_max):\n",
        "    for u in np.random.permutation(M):\n",
        "      for i in np.random.permutation(N):\n",
        "        if not np.isnan(r[u,i]):\n",
        "          e = r[u,i] - P[u].T@Q[i]\n",
        "          for k in range(K):\n",
        "            P[u,k] += lr*(e*Q[i,k]-lamda*P[u,k])\n",
        "            Q[i,k] += lr*(e*P[u,k]-lamda*Q[i,k])\n",
        "    if verbose: print('epoch:',epoch,'RMSE on dataset:',RMSE(P,Q,df))\n",
        "  return P,Q"
      ],
      "metadata": {
        "id": "Lr8ZjeQb7JVF"
      },
      "execution_count": null,
      "outputs": []
    },
    {
      "cell_type": "code",
      "source": [
        "def RMSE(P,Q,df):\n",
        "  P = P[df.index-1]\n",
        "  R = P@Q.T\n",
        "  r = df.to_numpy()\n",
        "  nNaNs = df.notna().sum().sum()\n",
        "  return np.sqrt(np.sum(np.nan_to_num(np.square(r-R),nan=0.0))/nNaNs)"
      ],
      "metadata": {
        "id": "BaytvrPgUmv0"
      },
      "execution_count": null,
      "outputs": []
    },
    {
      "cell_type": "code",
      "source": [
        "%%time\n",
        "P,Q = matrixFactorization(r_df,20,0.01,1,3,verbose=True)"
      ],
      "metadata": {
        "colab": {
          "base_uri": "https://localhost:8080/"
        },
        "id": "X-144aJz_IB8",
        "outputId": "356d5f83-c345-4b07-9667-c34644622d84"
      },
      "execution_count": null,
      "outputs": [
        {
          "output_type": "stream",
          "name": "stdout",
          "text": [
            "epoch: 0 RMSE on dataset: 1.030621721523054\n",
            "epoch: 1 RMSE on dataset: 0.9927401455580714\n",
            "epoch: 2 RMSE on dataset: 0.9932820370627209\n",
            "CPU times: user 27.7 s, sys: 330 ms, total: 28.1 s\n",
            "Wall time: 27.8 s\n"
          ]
        }
      ]
    },
    {
      "cell_type": "code",
      "source": [
        "print('Shape of matrix P:',P.shape)\n",
        "print('Shape of matrix Q:',Q.shape)"
      ],
      "metadata": {
        "colab": {
          "base_uri": "https://localhost:8080/"
        },
        "id": "Eb9DHVYtdakz",
        "outputId": "adc44156-9686-41d6-8543-b324da6c1833"
      },
      "execution_count": null,
      "outputs": [
        {
          "output_type": "stream",
          "name": "stdout",
          "text": [
            "Shape of matrix P: (943, 20)\n",
            "Shape of matrix Q: (1682, 20)\n"
          ]
        }
      ]
    },
    {
      "cell_type": "code",
      "source": [
        "print('RMSE on validation dataset:',RMSE(P,Q,data_Valid))"
      ],
      "metadata": {
        "colab": {
          "base_uri": "https://localhost:8080/"
        },
        "id": "LGwOB9OACU0A",
        "outputId": "36a5a1fd-e5ad-4bf5-fc03-183f9f5ed8f7"
      },
      "execution_count": null,
      "outputs": [
        {
          "output_type": "stream",
          "name": "stdout",
          "text": [
            "RMSE on validation dataset: 1.4215413174131097\n"
          ]
        }
      ]
    },
    {
      "cell_type": "markdown",
      "source": [
        "Hyperparameter tuning"
      ],
      "metadata": {
        "id": "dZgLdnkBroj0"
      }
    },
    {
      "cell_type": "code",
      "source": [
        "#Grid generator\n",
        "np.random.seed(3116)\n",
        "Ks = np.array([10,20,50])\n",
        "lrs = np.array([0.01,0.001])\n",
        "regularizations = np.array([0.1,0.5,1])\n",
        "grid = np.array(np.meshgrid(Ks,lrs,regularizations),dtype='O').T.reshape(-1,3)\n",
        "np.random.shuffle(grid)\n",
        "grid = grid.tolist()\n",
        "print('Samples of the grid:',grid[:5],sep='\\n')"
      ],
      "metadata": {
        "colab": {
          "base_uri": "https://localhost:8080/"
        },
        "id": "PU-RsnEDazzs",
        "outputId": "2dca85c3-573e-4e4c-e463-1613efc93b45"
      },
      "execution_count": null,
      "outputs": [
        {
          "output_type": "stream",
          "name": "stdout",
          "text": [
            "Samples of the grid:\n",
            "[[50, 0.01, 0.1], [10, 0.01, 0.1], [50, 0.001, 1.0], [10, 0.01, 0.5], [20, 0.001, 0.1]]\n"
          ]
        }
      ]
    },
    {
      "cell_type": "code",
      "source": [
        "#Tuning function\n",
        "def tuning(data_train,data_valid,grid):\n",
        "  grid_rmse = list()\n",
        "  for hps in grid:\n",
        "    P,Q = matrixFactorization(data_train,hps[0],hps[1],hps[2],3)\n",
        "    rmse = RMSE(P,Q,data_valid)\n",
        "    grid_rmse.append([hps[0],hps[1],hps[2],rmse])\n",
        "  return min(grid_rmse, key=lambda hp: hp[3])"
      ],
      "metadata": {
        "id": "w2BCjCLWpTga"
      },
      "execution_count": null,
      "outputs": []
    },
    {
      "cell_type": "code",
      "source": [
        "%%time\n",
        "#Hyperpameter tunning\n",
        "best_params = tuning(r_df,data_Valid,grid)\n",
        "print('Best set of hyperparameters:',best_params)"
      ],
      "metadata": {
        "colab": {
          "base_uri": "https://localhost:8080/"
        },
        "id": "GX09GnE7BMxK",
        "outputId": "f40188a1-b963-444a-e4eb-b0ee12011217"
      },
      "execution_count": null,
      "outputs": [
        {
          "output_type": "stream",
          "name": "stdout",
          "text": [
            "Best set of hyperparameters: [10, 0.01, 1.0, 1.2439363976359226]\n",
            "CPU times: user 9min 26s, sys: 3.23 s, total: 9min 29s\n",
            "Wall time: 9min 39s\n"
          ]
        }
      ]
    },
    {
      "cell_type": "code",
      "source": [
        "%%time\n",
        "P_best, Q_best = matrixFactorization(r_df, K=best_params[0], lr=best_params[1],lamda=best_params[2], epoch_max=3,verbose=True)"
      ],
      "metadata": {
        "colab": {
          "base_uri": "https://localhost:8080/"
        },
        "id": "rZtkRtzU7Pyg",
        "outputId": "07953ac0-82b3-4578-d5da-e83d85c71fbf"
      },
      "execution_count": null,
      "outputs": [
        {
          "output_type": "stream",
          "name": "stdout",
          "text": [
            "epoch: 0 RMSE on dataset: 1.0245963027570515\n",
            "epoch: 1 RMSE on dataset: 1.0003259893816996\n",
            "epoch: 2 RMSE on dataset: 0.9993151000293014\n",
            "CPU times: user 20.4 s, sys: 374 ms, total: 20.8 s\n",
            "Wall time: 20.7 s\n"
          ]
        }
      ]
    },
    {
      "cell_type": "code",
      "source": [
        "#Validation RMSE\n",
        "RMSE_valid = RMSE(P_best,Q_best,data_Valid)\n",
        "print('RMSE on validation dataset:',RMSE_valid)"
      ],
      "metadata": {
        "colab": {
          "base_uri": "https://localhost:8080/"
        },
        "id": "ql27YEum8kXR",
        "outputId": "af2fb81f-92e8-4139-cdc7-b15333e3a272"
      },
      "execution_count": null,
      "outputs": [
        {
          "output_type": "stream",
          "name": "stdout",
          "text": [
            "RMSE on validation dataset: 1.2439363976359226\n"
          ]
        }
      ]
    },
    {
      "cell_type": "code",
      "source": [
        "#Test RMSE\n",
        "RMSE_test = RMSE(P_best,Q_best,data_Test)\n",
        "print('RMSE on test dataset:',RMSE_test)"
      ],
      "metadata": {
        "colab": {
          "base_uri": "https://localhost:8080/"
        },
        "id": "B2r1gUKZ8BOr",
        "outputId": "15f681e8-3388-44c0-960d-cf5a297d9292"
      },
      "execution_count": null,
      "outputs": [
        {
          "output_type": "stream",
          "name": "stdout",
          "text": [
            "RMSE on test dataset: 1.2097494079470745\n"
          ]
        }
      ]
    },
    {
      "cell_type": "markdown",
      "source": [
        "### Exercise 3: Recommender Systems using matrix factorization sckitlearn"
      ],
      "metadata": {
        "id": "2Bf0AybUEjnN"
      }
    },
    {
      "cell_type": "markdown",
      "source": [
        "Using surprise"
      ],
      "metadata": {
        "id": "F4ITeXxAjk3m"
      }
    },
    {
      "cell_type": "markdown",
      "source": [
        "Surprise is an easy-to-use Python scikit for recommender systems.\n",
        "\n",
        "This library was selected over others because its simplicity and great documentation."
      ],
      "metadata": {
        "id": "7I3ka7zpuYkc"
      }
    },
    {
      "cell_type": "code",
      "source": [
        "!pip install surprise"
      ],
      "metadata": {
        "id": "wy6OccVKjsJ1"
      },
      "execution_count": null,
      "outputs": []
    },
    {
      "cell_type": "code",
      "source": [
        "from surprise import SVD\n",
        "from surprise import Dataset\n",
        "from surprise import Reader\n",
        "from surprise import accuracy\n",
        "from surprise.model_selection import train_test_split #to split the data\n",
        "from surprise.model_selection import GridSearchCV"
      ],
      "metadata": {
        "id": "h7PsBYfVjoQk"
      },
      "execution_count": null,
      "outputs": []
    },
    {
      "cell_type": "code",
      "source": [
        "df_data_crop = df_data[['user_id', 'item_id', 'rating']] #original dataset"
      ],
      "metadata": {
        "id": "RMaliWgh_qHr"
      },
      "execution_count": null,
      "outputs": []
    },
    {
      "cell_type": "code",
      "source": [
        "reader = Reader(rating_scale=(1, 5)) #Reader class is used to parse a file containing ratings\n",
        "dataset = Dataset.load_from_df(df_data_crop, reader) #the df must have three columns, corresponding to the user (raw) ids, the item (raw) ids, and the ratings, in this order\n",
        "#dataframe cannot have missing values"
      ],
      "metadata": {
        "id": "PhfPSqznkpuN"
      },
      "execution_count": null,
      "outputs": []
    },
    {
      "cell_type": "code",
      "source": [
        "#To perfom cross validation with custom grid\n",
        "param_grid = {\n",
        "              'n_factors':[10, 20, 50, 100], #number of factors\n",
        "              'n_epochs':[3], #number of iteration\n",
        "              'lr_all':[0.01, 0.001], #learning rate for all parameters\n",
        "              'reg_all':[0.1, 0.5, 1], #regularization term for all parameters\n",
        "              'biased':[False], #to performe basic Probabilistic Matrix Factorization\n",
        "              'random_state':[3116], #determines the RNG that will be used for initialization\n",
        "              'init_mean':[0], #mean of the normal distribution for factor vectors initialization\n",
        "              'init_std_dev':[1] #standard deviation of the normal distribution for factor vectors initialization\n",
        "              }            \n",
        "gs = GridSearchCV( #computes accuracy metrics for an algorithm on various combinations of parameters, over a cross-validation procedure\n",
        "    SVD, #class of the algorithm to evaluate\n",
        "    param_grid, #Dictionary with algorithm parameters as keys and list of values as values\n",
        "    measures=['rmse'], #performance measures to compute\n",
        "    cv=3 #cross-validation iterator\n",
        "    )\n",
        "\n",
        "#this method used the whole dataset for hyperparameter tuning\n",
        "gs.fit(dataset) #runs the fit() method of the algorithm for all parameter combinations\n",
        "print('Best RMSE found:',gs.best_score['rmse'])\n",
        "params = gs.best_params['rmse'] #get the parameters combination that gave the best RMSE results\n",
        "print('Best set of hyperparameters:',params) # combination of parameters that gave the best RMSE score"
      ],
      "metadata": {
        "colab": {
          "base_uri": "https://localhost:8080/"
        },
        "id": "1XAgFsxHySZJ",
        "outputId": "545411ac-cd6a-40b4-d33c-7931463dae86"
      },
      "execution_count": null,
      "outputs": [
        {
          "output_type": "stream",
          "name": "stdout",
          "text": [
            "1.1867830480838197\n",
            "{'n_factors': 10, 'n_epochs': 3, 'lr_all': 0.01, 'reg_all': 0.1, 'biased': False, 'random_state': 3116, 'init_mean': 0, 'init_std_dev': 1}\n"
          ]
        }
      ]
    },
    {
      "cell_type": "code",
      "source": [
        "svdtuned = gs.best_estimator['rmse'] #get the algorithm that gave the best RMSE results"
      ],
      "metadata": {
        "id": "DPj7em2-5kcu"
      },
      "execution_count": null,
      "outputs": []
    },
    {
      "cell_type": "code",
      "source": [
        "trainset, testset = train_test_split(dataset, test_size=.1)\n",
        "svdtuned.fit(trainset) #train an algorithm on a given training set\n",
        "predictions = svdtuned.test(testset) #Test the algorithm on given testset. Return a list of Prediction objects that contains all the estimated ratings\n",
        "accuracy.rmse(predictions)"
      ],
      "metadata": {
        "colab": {
          "base_uri": "https://localhost:8080/"
        },
        "id": "MzCHsrlnZnsr",
        "outputId": "dfe6bad4-4102-474d-b0e3-4c8432e50c9e"
      },
      "execution_count": null,
      "outputs": [
        {
          "output_type": "stream",
          "name": "stdout",
          "text": [
            "RMSE: 1.0957\n"
          ]
        },
        {
          "output_type": "execute_result",
          "data": {
            "text/plain": [
              "1.0956737010717283"
            ]
          },
          "metadata": {},
          "execution_count": 312
        }
      ]
    },
    {
      "cell_type": "code",
      "source": [
        "Pu = svdtuned.pu #user factors. Matrix P\n",
        "print('Shape of matrix P:', Pu.shape)"
      ],
      "metadata": {
        "colab": {
          "base_uri": "https://localhost:8080/"
        },
        "id": "Wu-l9bXwbBJ3",
        "outputId": "8efe011b-a0af-467c-ab30-974f93cfeca3"
      },
      "execution_count": null,
      "outputs": [
        {
          "output_type": "stream",
          "name": "stdout",
          "text": [
            "Shape of matrix P: (943, 10)\n"
          ]
        }
      ]
    },
    {
      "cell_type": "code",
      "source": [
        "Qi = svdtuned.qi #item factors. Matrix Q\n",
        "print('Shape of matrix Q:',Qi.shape)"
      ],
      "metadata": {
        "colab": {
          "base_uri": "https://localhost:8080/"
        },
        "id": "mat4nVjTbU6S",
        "outputId": "4fae3286-734d-4dd0-eeb0-47a2e44e64e7"
      },
      "execution_count": null,
      "outputs": [
        {
          "output_type": "stream",
          "name": "stdout",
          "text": [
            "Shape of matrix Q: (1666, 10)\n"
          ]
        }
      ]
    },
    {
      "cell_type": "markdown",
      "source": [
        "Conclusion: the hyperparameter tuning with surprise library returned almost the same hyperparameters than my own implementation. The only difference was in the regularization coefficient and it could be caused by the cross-validation method. For the same reason, the RMSE on test data is not the same but similar."
      ],
      "metadata": {
        "id": "wGeoMtDeTMp0"
      }
    }
  ]
}
